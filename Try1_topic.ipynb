{
  "nbformat": 4,
  "nbformat_minor": 0,
  "metadata": {
    "colab": {
      "name": "Try1-topic",
      "provenance": []
    },
    "kernelspec": {
      "name": "python3",
      "display_name": "Python 3"
    }
  },
  "cells": [
    {
      "cell_type": "code",
      "metadata": {
        "id": "g1cNJeFxHe5_",
        "colab_type": "code",
        "colab": {
          "base_uri": "https://localhost:8080/",
          "height": 34
        },
        "outputId": "0d769243-b1ec-4887-f496-c72a45e0c387"
      },
      "source": [
        "import numpy as np\n",
        "import pandas as pd\n",
        "\n",
        "# Set seed for reproducibility\n",
        "np.random.seed(5)\n",
        "\n",
        "from google.colab import drive\n",
        "drive.mount('/content/drive')\n"
      ],
      "execution_count": 1,
      "outputs": [
        {
          "output_type": "stream",
          "text": [
            "Drive already mounted at /content/drive; to attempt to forcibly remount, call drive.mount(\"/content/drive\", force_remount=True).\n"
          ],
          "name": "stdout"
        }
      ]
    },
    {
      "cell_type": "code",
      "metadata": {
        "id": "A8gvcQE-I_A1",
        "colab_type": "code",
        "colab": {
          "base_uri": "https://localhost:8080/",
          "height": 586
        },
        "outputId": "c0d49df7-6679-4380-b435-b92d21bdd84c"
      },
      "source": [
        "articles_df = pd.read_csv('/content/drive/My Drive/result.csv')\n",
        "\n",
        "print(\"Number of articles loaded: %s \" % (len(articles_df)))\n",
        "articles_df.dropna(subset = [\"topic\"], inplace=True)\n",
        "articles_df"
      ],
      "execution_count": 40,
      "outputs": [
        {
          "output_type": "stream",
          "text": [
            "Number of articles loaded: 114 \n"
          ],
          "name": "stdout"
        },
        {
          "output_type": "execute_result",
          "data": {
            "text/html": [
              "<div>\n",
              "<style scoped>\n",
              "    .dataframe tbody tr th:only-of-type {\n",
              "        vertical-align: middle;\n",
              "    }\n",
              "\n",
              "    .dataframe tbody tr th {\n",
              "        vertical-align: top;\n",
              "    }\n",
              "\n",
              "    .dataframe thead th {\n",
              "        text-align: right;\n",
              "    }\n",
              "</style>\n",
              "<table border=\"1\" class=\"dataframe\">\n",
              "  <thead>\n",
              "    <tr style=\"text-align: right;\">\n",
              "      <th></th>\n",
              "      <th>_id</th>\n",
              "      <th>topic</th>\n",
              "      <th>heading</th>\n",
              "      <th>summary</th>\n",
              "      <th>date_published</th>\n",
              "      <th>content</th>\n",
              "      <th>tags</th>\n",
              "    </tr>\n",
              "  </thead>\n",
              "  <tbody>\n",
              "    <tr>\n",
              "      <th>0</th>\n",
              "      <td>5ef0d2b4d83b3587cb500ec9</td>\n",
              "      <td>[\"analysis\"]</td>\n",
              "      <td>[\"Don’t discriminate against non-resident migr...</td>\n",
              "      <td>[\"Create a legal regime that allows them to ac...</td>\n",
              "      <td>[\"Updated: Jun 22, 2020 19:30 IST\"]</td>\n",
              "      <td>[\"Prime Minister (PM) Narendra Modi recently a...</td>\n",
              "      <td>[\"India\",\"Narendra Modi\",\"BIHAR\",\"Haryana\",\"Mi...</td>\n",
              "    </tr>\n",
              "    <tr>\n",
              "      <th>2</th>\n",
              "      <td>5ef0d2b8d83b3587cb500ecb</td>\n",
              "      <td>[\"opinion\"]</td>\n",
              "      <td>[\"India has closed military gap with China alo...</td>\n",
              "      <td>[\"Over the past dozen years India has not only...</td>\n",
              "      <td>[\"Updated: Jun 22, 2020 16:01 IST\"]</td>\n",
              "      <td>[\"India has the \",\", says a recent Harvard Uni...</td>\n",
              "      <td>[\"Indian Army\",\"Galwan Valley\",\"India China bo...</td>\n",
              "    </tr>\n",
              "    <tr>\n",
              "      <th>3</th>\n",
              "      <td>5ef0d2bad83b3587cb500ecc</td>\n",
              "      <td>[\"opinion\"]</td>\n",
              "      <td>[\"Ladakh faceoff: Looking back for a way forwa...</td>\n",
              "      <td>[\"DRAW THE LINE Policing the borders and preve...</td>\n",
              "      <td>[\"Updated: Jun 22, 2020 18:06 IST\"]</td>\n",
              "      <td>[\"On December 11, 1917, General Edmund Allenby...</td>\n",
              "      <td>NaN</td>\n",
              "    </tr>\n",
              "    <tr>\n",
              "      <th>4</th>\n",
              "      <td>5ef0d2bdd83b3587cb500ecd</td>\n",
              "      <td>[\"editorials\"]</td>\n",
              "      <td>[\"Redesign the model village scheme | HT Edito...</td>\n",
              "      <td>[\"For MPs to take it up, expand its ambit to a...</td>\n",
              "      <td>[\"Updated: Jun 22, 2020 18:56 IST\"]</td>\n",
              "      <td>[\"A study commissioned by the Union ministry o...</td>\n",
              "      <td>NaN</td>\n",
              "    </tr>\n",
              "    <tr>\n",
              "      <th>5</th>\n",
              "      <td>5ef0d2bed83b3587cb500ece</td>\n",
              "      <td>[\"columns\"]</td>\n",
              "      <td>[\"How China has overplayed its hand, writes Ba...</td>\n",
              "      <td>[\"Beijing’s belligerence reflects a familiar h...</td>\n",
              "      <td>[\"Updated: Jun 22, 2020 19:31 IST\"]</td>\n",
              "      <td>[\"Almost 2,500 years ago, Greek historian, Thu...</td>\n",
              "      <td>[\"CHINA\",\"India\"]</td>\n",
              "    </tr>\n",
              "    <tr>\n",
              "      <th>...</th>\n",
              "      <td>...</td>\n",
              "      <td>...</td>\n",
              "      <td>...</td>\n",
              "      <td>...</td>\n",
              "      <td>...</td>\n",
              "      <td>...</td>\n",
              "      <td>...</td>\n",
              "    </tr>\n",
              "    <tr>\n",
              "      <th>109</th>\n",
              "      <td>5efe0c6b5eecd3719d741c41</td>\n",
              "      <td>[\"other-sports\"]</td>\n",
              "      <td>[\"Govt to constitute National Compliance Platf...</td>\n",
              "      <td>[\"The panel will have Indian Olympic Associati...</td>\n",
              "      <td>[\"Updated: Jul 02, 2020 19:02 IST\"]</td>\n",
              "      <td>[\"The government is set to constitute a ‘Natio...</td>\n",
              "      <td>[\"Doping in sport\",\"Govt\",\"UNESCO\"]</td>\n",
              "    </tr>\n",
              "    <tr>\n",
              "      <th>110</th>\n",
              "      <td>5efe0c6c5eecd3719d741c42</td>\n",
              "      <td>[\"cricket\"]</td>\n",
              "      <td>[\"WI head coach Phil Simmons rejoins team afte...</td>\n",
              "      <td>[\"Simmons had found himself in a soup after bo...</td>\n",
              "      <td>[\"Updated: Jul 02, 2020 19:26 IST\"]</td>\n",
              "      <td>[\"West Indies head coach Phil Simmons has rejo...</td>\n",
              "      <td>[\"Phil Simmons\",\"West Indies\",\"England\",\"Crick...</td>\n",
              "    </tr>\n",
              "    <tr>\n",
              "      <th>111</th>\n",
              "      <td>5efe0c6f5eecd3719d741c43</td>\n",
              "      <td>[\"tennis\"]</td>\n",
              "      <td>[\"Up to 20,000 fans to be allowed to attend 20...</td>\n",
              "      <td>[\"French federation president Bernard Giudicel...</td>\n",
              "      <td>[\"Updated: Jul 02, 2020 19:50 IST\"]</td>\n",
              "      <td>[\" Up to 60% of the usual capacity will be all...</td>\n",
              "      <td>[\"Roland Garros\",\"Bernard Giudicelli\"]</td>\n",
              "    </tr>\n",
              "    <tr>\n",
              "      <th>112</th>\n",
              "      <td>5efe0c715eecd3719d741c44</td>\n",
              "      <td>[\"it-s-viral\"]</td>\n",
              "      <td>[\"Kanye West posts picture with Elon Musk, peo...</td>\n",
              "      <td>[\"“When you go to your boy’s house and you’re ...</td>\n",
              "      <td>[\"Updated: Jul 02, 2020 20:27 IST\"]</td>\n",
              "      <td>[\"Kanye West recently shared a photograph of h...</td>\n",
              "      <td>[\"Elon musk\",\"Kanye West\",\"Twitter\"]</td>\n",
              "    </tr>\n",
              "    <tr>\n",
              "      <th>113</th>\n",
              "      <td>5efe0c735eecd3719d741c45</td>\n",
              "      <td>[\"it-s-viral\"]</td>\n",
              "      <td>[\"Man tweets image of little niece playing law...</td>\n",
              "      <td>[\"It all started with a post by a Twitter user...</td>\n",
              "      <td>[\"Updated: Jul 02, 2020 20:05 IST\"]</td>\n",
              "      <td>[\"A recent tweet by Sania Mirza is making many...</td>\n",
              "      <td>[\"Sania Mirza\",\"Twitter\"]</td>\n",
              "    </tr>\n",
              "  </tbody>\n",
              "</table>\n",
              "<p>104 rows × 7 columns</p>\n",
              "</div>"
            ],
            "text/plain": [
              "                          _id  ...                                               tags\n",
              "0    5ef0d2b4d83b3587cb500ec9  ...  [\"India\",\"Narendra Modi\",\"BIHAR\",\"Haryana\",\"Mi...\n",
              "2    5ef0d2b8d83b3587cb500ecb  ...  [\"Indian Army\",\"Galwan Valley\",\"India China bo...\n",
              "3    5ef0d2bad83b3587cb500ecc  ...                                                NaN\n",
              "4    5ef0d2bdd83b3587cb500ecd  ...                                                NaN\n",
              "5    5ef0d2bed83b3587cb500ece  ...                                  [\"CHINA\",\"India\"]\n",
              "..                        ...  ...                                                ...\n",
              "109  5efe0c6b5eecd3719d741c41  ...                [\"Doping in sport\",\"Govt\",\"UNESCO\"]\n",
              "110  5efe0c6c5eecd3719d741c42  ...  [\"Phil Simmons\",\"West Indies\",\"England\",\"Crick...\n",
              "111  5efe0c6f5eecd3719d741c43  ...             [\"Roland Garros\",\"Bernard Giudicelli\"]\n",
              "112  5efe0c715eecd3719d741c44  ...               [\"Elon musk\",\"Kanye West\",\"Twitter\"]\n",
              "113  5efe0c735eecd3719d741c45  ...                          [\"Sania Mirza\",\"Twitter\"]\n",
              "\n",
              "[104 rows x 7 columns]"
            ]
          },
          "metadata": {
            "tags": []
          },
          "execution_count": 40
        }
      ]
    },
    {
      "cell_type": "code",
      "metadata": {
        "id": "znIw85E9Jr-3",
        "colab_type": "code",
        "colab": {
          "base_uri": "https://localhost:8080/",
          "height": 34
        },
        "outputId": "4cef8a38-db32-4853-ddec-85f203274602"
      },
      "source": [
        "len(articles_df[\"topic\"])"
      ],
      "execution_count": 53,
      "outputs": [
        {
          "output_type": "execute_result",
          "data": {
            "text/plain": [
              "104"
            ]
          },
          "metadata": {
            "tags": []
          },
          "execution_count": 53
        }
      ]
    },
    {
      "cell_type": "code",
      "metadata": {
        "id": "pL5nWWZNJvEQ",
        "colab_type": "code",
        "colab": {}
      },
      "source": [
        "import nltk\n",
        "from nltk.stem.snowball import SnowballStemmer\n",
        "import re"
      ],
      "execution_count": 9,
      "outputs": []
    },
    {
      "cell_type": "code",
      "metadata": {
        "id": "qGYVbm9VTadG",
        "colab_type": "code",
        "colab": {
          "base_uri": "https://localhost:8080/",
          "height": 34
        },
        "outputId": "8333ff4e-fe47-4c0a-c5b9-6c8daa252491"
      },
      "source": [
        "sent_tokenized = [sent for sent in nltk.sent_tokenize('[\"analysis\"]')]\n",
        "\n",
        "# Word Tokenize first sentence from sent_tokenized, save as words_tokenized\n",
        "word_tokenized = [word for word in nltk.word_tokenize(sent_tokenized[0])]\n",
        "\n",
        "# Remove tokens that do not contain any letters from words_tokenized\n",
        "\n",
        "filtered = [word for word in word_tokenized if re.search('[a-zA-Z]', word)]\n",
        "\n",
        "# Display filtered words to observe words after tokenization\n",
        "filtered"
      ],
      "execution_count": 54,
      "outputs": [
        {
          "output_type": "execute_result",
          "data": {
            "text/plain": [
              "['analysis']"
            ]
          },
          "metadata": {
            "tags": []
          },
          "execution_count": 54
        }
      ]
    },
    {
      "cell_type": "code",
      "metadata": {
        "id": "doE8GBcSTjkB",
        "colab_type": "code",
        "colab": {}
      },
      "source": [
        ""
      ],
      "execution_count": 54,
      "outputs": []
    },
    {
      "cell_type": "code",
      "metadata": {
        "id": "rFlt8ISWKq3g",
        "colab_type": "code",
        "colab": {
          "base_uri": "https://localhost:8080/",
          "height": 34
        },
        "outputId": "cb617c3f-cb5e-4947-c744-e0af79078245"
      },
      "source": [
        "def tokenize_and_stem(text):\n",
        "    \n",
        "    # Tokenize by sentence, then by word\n",
        "    word_tokenized = [y for x in nltk.sent_tokenize(text) for y in nltk.word_tokenize(x)]\n",
        "\n",
        "    \n",
        "    # Filter out raw tokens to remove noise\n",
        "    filtered_tokens = [token for token in word_tokenized if re.search('[a-zA-Z]', token)]\n",
        "    \n",
        "    return filtered_tokens\n",
        "\n",
        "words_stemmed = tokenize_and_stem('[\"analysis\"]')\n",
        "print(words_stemmed)"
      ],
      "execution_count": 55,
      "outputs": [
        {
          "output_type": "stream",
          "text": [
            "['analysis']\n"
          ],
          "name": "stdout"
        }
      ]
    },
    {
      "cell_type": "code",
      "metadata": {
        "id": "1O_2UnoGKvuj",
        "colab_type": "code",
        "colab": {}
      },
      "source": [
        "# ... YOUR CODE FOR TASK 6 ...\n",
        "from sklearn.feature_extraction.text import TfidfVectorizer\n",
        "\n",
        "# Instantiate TfidfVectorizer object with stopwords and tokenizer\n",
        "# parameters for efficient processing of text\n",
        "tfidf_vectorizer = TfidfVectorizer(tokenizer=tokenize_and_stem, stop_words = 'english')"
      ],
      "execution_count": 77,
      "outputs": []
    },
    {
      "cell_type": "code",
      "metadata": {
        "id": "ElV0alEYKzkg",
        "colab_type": "code",
        "colab": {
          "base_uri": "https://localhost:8080/",
          "height": 34
        },
        "outputId": "d1334a49-f682-4384-a2ba-765cc6acc958"
      },
      "source": [
        "tfidf_matrix = tfidf_vectorizer.fit_transform([x for x in articles_df[\"topic\"]])\n",
        "\n",
        "print(tfidf_matrix.shape)"
      ],
      "execution_count": 78,
      "outputs": [
        {
          "output_type": "stream",
          "text": [
            "(104, 24)\n"
          ],
          "name": "stdout"
        }
      ]
    },
    {
      "cell_type": "code",
      "metadata": {
        "id": "wLSeZkMELBqp",
        "colab_type": "code",
        "colab": {}
      },
      "source": [
        "from sklearn.cluster import KMeans\n",
        "\n",
        "# Create a KMeans object with 5 clusters and save as km\n",
        "km = KMeans(n_clusters=5)\n",
        "\n",
        "# Fit the k-means object with tfidf_matrix\n",
        "km.fit(tfidf_matrix)\n",
        "order_centroids = km.cluster_centers_.argsort()[:, ::-1]\n",
        "terms = tfidf_vectorizer.get_feature_names()"
      ],
      "execution_count": 79,
      "outputs": []
    },
    {
      "cell_type": "code",
      "metadata": {
        "id": "pjyYEDiAa-I3",
        "colab_type": "code",
        "colab": {
          "base_uri": "https://localhost:8080/",
          "height": 941
        },
        "outputId": "75374149-5f61-4e24-9b00-9d593c504aad"
      },
      "source": [
        "#from sklearn.metrics.pairwise import cosine_similarity\n",
        "\n",
        "# Calculate the similarity distance\n",
        "#similarity_distance = 1 - cosine_similarity(tfidf_matrix)\n",
        "\n",
        "for i in range(5):\n",
        "    print(\"Cluster %d:\" % i),\n",
        "    for ind in order_centroids[i, :10]:\n",
        "        print(' %s' % terms[ind])"
      ],
      "execution_count": 81,
      "outputs": [
        {
          "output_type": "stream",
          "text": [
            "Cluster 0:\n",
            " education\n",
            " world\n",
            " mumbai\n",
            " business\n",
            " editorials\n",
            " bollywood\n",
            " fashion-and-trends\n",
            " delhi\n",
            " columns\n",
            " cricket\n",
            "Cluster 1:\n",
            " it-s-viral\n",
            " world\n",
            " fitness\n",
            " art-and-culture\n",
            " bollywood\n",
            " business\n",
            " columns\n",
            " cricket\n",
            " delhi\n",
            " editorials\n",
            "Cluster 2:\n",
            " tv\n",
            " world\n",
            " art-and-culture\n",
            " bollywood\n",
            " business\n",
            " columns\n",
            " cricket\n",
            " delhi\n",
            " editorials\n",
            " education\n",
            "Cluster 3:\n",
            " india\n",
            " world\n",
            " fitness\n",
            " art-and-culture\n",
            " bollywood\n",
            " business\n",
            " columns\n",
            " cricket\n",
            " delhi\n",
            " editorials\n",
            "Cluster 4:\n",
            " analysis\n",
            " tv\n",
            " art-and-culture\n",
            " bollywood\n",
            " business\n",
            " columns\n",
            " cricket\n",
            " delhi\n",
            " editorials\n",
            " education\n"
          ],
          "name": "stdout"
        }
      ]
    },
    {
      "cell_type": "code",
      "metadata": {
        "id": "mETF19qqbGI4",
        "colab_type": "code",
        "colab": {
          "base_uri": "https://localhost:8080/",
          "height": 384
        },
        "outputId": "de56ae32-8dad-4b27-d8f5-4b8dfd5d7fc0"
      },
      "source": [
        "import matplotlib.pyplot as plt\n",
        "# Configure matplotlib to display the output inline\n",
        "%matplotlib inline\n",
        "\n",
        "# Import modules necessary to plot dendrogram\n",
        "# ... YOUR CODE FOR TASK 10 ...\n",
        "\n",
        "from scipy.cluster.hierarchy import linkage, dendrogram\n",
        "\n",
        "\n",
        "# Create mergings matrix \n",
        "mergings = linkage(similarity_distance, method='complete')\n",
        "\n",
        "# Plot the dendrogram, using title as label column\n",
        "dendrogram_ = dendrogram(mergings,\n",
        "               labels=[x for x in articles_df[\"topic\"]],\n",
        "               leaf_rotation=90,\n",
        "               leaf_font_size=16,\n",
        ")\n",
        "\n",
        "# Adjust the plot\n",
        "fig = plt.gcf()\n",
        "_ = [lbl.set_color('r') for lbl in plt.gca().get_xmajorticklabels()]\n",
        "fig.set_size_inches(108, 21)\n",
        "\n",
        "# Show the plotted dendrogram\n",
        "plt.show()"
      ],
      "execution_count": 76,
      "outputs": [
        {
          "output_type": "stream",
          "text": [
            "/usr/local/lib/python3.6/dist-packages/ipykernel_launcher.py:12: ClusterWarning: scipy.cluster: The symmetric non-negative hollow observation matrix looks suspiciously like an uncondensed distance matrix\n",
            "  if sys.path[0] == '':\n"
          ],
          "name": "stderr"
        },
        {
          "output_type": "display_data",
          "data": {
            "image/png": "[encoded data removed]",
            "text/plain": [
              "<Figure size 7776x1512 with 1 Axes>"
            ]
          },
          "metadata": {
            "tags": [],
            "needs_background": "light"
          }
        }
      ]
    },
    {
      "cell_type": "code",
      "metadata": {
        "id": "QYONWHuJg_b8",
        "colab_type": "code",
        "colab": {}
      },
      "source": [
        ""
      ],
      "execution_count": null,
      "outputs": []
    }
  ]
}