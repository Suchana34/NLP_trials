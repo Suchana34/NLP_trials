{
  "nbformat": 4,
  "nbformat_minor": 0,
  "metadata": {
    "colab": {
      "name": "Try3_ sanjaya_blog_content_all_with_class.ipynb",
      "provenance": []
    },
    "kernelspec": {
      "name": "python3",
      "display_name": "Python 3"
    }
  },
  "cells": [
    {
      "cell_type": "code",
      "metadata": {
        "id": "KiqQ49Hglyyv",
        "colab_type": "code",
        "colab": {}
      },
      "source": [
        "#text clustering\n",
        "import pandas as pd\n",
        "import numpy as np\n",
        "from sklearn.cluster import MiniBatchKMeans\n",
        "from sklearn.feature_extraction.text import TfidfVectorizer\n",
        "from sklearn.decomposition import PCA\n",
        "import matplotlib.pyplot as plt"
      ],
      "execution_count": 1,
      "outputs": []
    },
    {
      "cell_type": "code",
      "metadata": {
        "id": "0Vsb2cG5OZKd",
        "colab_type": "code",
        "colab": {}
      },
      "source": [
        "#from google.colab import drive\n",
        "#drive.mount('/content/drive')"
      ],
      "execution_count": 3,
      "outputs": []
    },
    {
      "cell_type": "code",
      "metadata": {
        "id": "463XZ48mMahK",
        "colab_type": "code",
        "colab": {
          "base_uri": "https://localhost:8080/",
          "height": 296
        },
        "outputId": "e4febe91-61c6-4d9a-f2c6-0ad4c19c907d"
      },
      "source": [
        "df = pd.read_csv('/content/drive/My Drive/edited_all_news.csv')\n",
        "df.head()"
      ],
      "execution_count": 2,
      "outputs": [
        {
          "output_type": "execute_result",
          "data": {
            "text/html": [
              "<div>\n",
              "<style scoped>\n",
              "    .dataframe tbody tr th:only-of-type {\n",
              "        vertical-align: middle;\n",
              "    }\n",
              "\n",
              "    .dataframe tbody tr th {\n",
              "        vertical-align: top;\n",
              "    }\n",
              "\n",
              "    .dataframe thead th {\n",
              "        text-align: right;\n",
              "    }\n",
              "</style>\n",
              "<table border=\"1\" class=\"dataframe\">\n",
              "  <thead>\n",
              "    <tr style=\"text-align: right;\">\n",
              "      <th></th>\n",
              "      <th>Unnamed: 0</th>\n",
              "      <th>_id</th>\n",
              "      <th>topic</th>\n",
              "      <th>heading</th>\n",
              "      <th>content</th>\n",
              "      <th>tags</th>\n",
              "      <th>processed_content</th>\n",
              "      <th>processed_topic</th>\n",
              "    </tr>\n",
              "  </thead>\n",
              "  <tbody>\n",
              "    <tr>\n",
              "      <th>0</th>\n",
              "      <td>0</td>\n",
              "      <td>5f04d2481f35ed6864839349</td>\n",
              "      <td>[\"West-bengal\"]</td>\n",
              "      <td>[\"\\n                        \",\"\\n             ...</td>\n",
              "      <td>[\"Garbage-lined streets and overflowing drains...</td>\n",
              "      <td>[\"Garbage\",\"Salt-lake\",\"Bidhannagar-municipal-...</td>\n",
              "      <td>garbag line street overflow drain salt lake sp...</td>\n",
              "      <td>west bengal</td>\n",
              "    </tr>\n",
              "    <tr>\n",
              "      <th>1</th>\n",
              "      <td>1</td>\n",
              "      <td>5f04d24b1f35ed686483934a</td>\n",
              "      <td>[\"West-bengal\"]</td>\n",
              "      <td>[\"\\n                        \",\"\\n             ...</td>\n",
              "      <td>[\"The Bengal government will set up a plasma b...</td>\n",
              "      <td>[\"Calcutta-medical-college-and-hospital\",\"Coro...</td>\n",
              "      <td>bengal govern plasma bank calcutta medic colle...</td>\n",
              "      <td>west bengal</td>\n",
              "    </tr>\n",
              "    <tr>\n",
              "      <th>2</th>\n",
              "      <td>2</td>\n",
              "      <td>5f04d24d1f35ed686483934b</td>\n",
              "      <td>[\"West-bengal\"]</td>\n",
              "      <td>[\"\\n                        \",\"\\n             ...</td>\n",
              "      <td>[\"Bengal set another 24-hour record on Monday ...</td>\n",
              "      <td>[\"Lockdown\",\"Coronavirus\",\"Quarantine\"]</td>\n",
              "      <td>bengal hour record monday highest number covid...</td>\n",
              "      <td>west bengal</td>\n",
              "    </tr>\n",
              "    <tr>\n",
              "      <th>3</th>\n",
              "      <td>3</td>\n",
              "      <td>5f04d2501f35ed686483934c</td>\n",
              "      <td>[\"West-bengal\"]</td>\n",
              "      <td>[\"\\n                        \",\"\\n             ...</td>\n",
              "      <td>[\"Chief minister Mamata Banerjee on Monday sai...</td>\n",
              "      <td>[\"Mamata-banerjee\",\"Cyclone-amphan\"]</td>\n",
              "      <td>chief minist mamata banerje monday say problem...</td>\n",
              "      <td>west bengal</td>\n",
              "    </tr>\n",
              "    <tr>\n",
              "      <th>4</th>\n",
              "      <td>4</td>\n",
              "      <td>5f04d2531f35ed686483934d</td>\n",
              "      <td>[\"West-bengal\"]</td>\n",
              "      <td>[\"\\n                        \",\"\\n             ...</td>\n",
              "      <td>[\"Some senior historians have raised questions...</td>\n",
              "      <td>[\"Jagat-prakash-nadda\",\"Bharatiya-janata-party...</td>\n",
              "      <td>senior historian rais question attempt pitch b...</td>\n",
              "      <td>west bengal</td>\n",
              "    </tr>\n",
              "  </tbody>\n",
              "</table>\n",
              "</div>"
            ],
            "text/plain": [
              "   Unnamed: 0  ... processed_topic\n",
              "0           0  ...     west bengal\n",
              "1           1  ...     west bengal\n",
              "2           2  ...     west bengal\n",
              "3           3  ...     west bengal\n",
              "4           4  ...     west bengal\n",
              "\n",
              "[5 rows x 8 columns]"
            ]
          },
          "metadata": {
            "tags": []
          },
          "execution_count": 2
        }
      ]
    },
    {
      "cell_type": "code",
      "metadata": {
        "id": "NOdATRevPHIV",
        "colab_type": "code",
        "colab": {
          "base_uri": "https://localhost:8080/",
          "height": 34
        },
        "outputId": "ce7e5eba-da3b-48da-e7fc-2f41ad3c6c32"
      },
      "source": [
        "df.shape"
      ],
      "execution_count": 5,
      "outputs": [
        {
          "output_type": "execute_result",
          "data": {
            "text/plain": [
              "(1274, 8)"
            ]
          },
          "metadata": {
            "tags": []
          },
          "execution_count": 5
        }
      ]
    },
    {
      "cell_type": "code",
      "metadata": {
        "id": "xVqZWYeP4eyW",
        "colab_type": "code",
        "colab": {
          "base_uri": "https://localhost:8080/",
          "height": 34
        },
        "outputId": "2ab1ccf4-75ae-4cdf-82f4-e36ff87fa759"
      },
      "source": [
        "df.processed_topic.nunique()"
      ],
      "execution_count": 30,
      "outputs": [
        {
          "output_type": "execute_result",
          "data": {
            "text/plain": [
              "50"
            ]
          },
          "metadata": {
            "tags": []
          },
          "execution_count": 30
        }
      ]
    },
    {
      "cell_type": "code",
      "metadata": {
        "id": "O0OyOp544pJe",
        "colab_type": "code",
        "colab": {
          "base_uri": "https://localhost:8080/",
          "height": 168
        },
        "outputId": "05102d49-72ec-41f1-b992-7fe06a42da19"
      },
      "source": [
        "df.isnull().sum()"
      ],
      "execution_count": 3,
      "outputs": [
        {
          "output_type": "execute_result",
          "data": {
            "text/plain": [
              "Unnamed: 0             0\n",
              "_id                    0\n",
              "topic                  0\n",
              "heading              383\n",
              "content                0\n",
              "tags                  68\n",
              "processed_content      0\n",
              "processed_topic       30\n",
              "dtype: int64"
            ]
          },
          "metadata": {
            "tags": []
          },
          "execution_count": 3
        }
      ]
    },
    {
      "cell_type": "code",
      "metadata": {
        "id": "VBIQum_94xjs",
        "colab_type": "code",
        "colab": {}
      },
      "source": [
        "df.dropna(subset = ['processed_topic'], inplace = True)"
      ],
      "execution_count": 4,
      "outputs": []
    },
    {
      "cell_type": "code",
      "metadata": {
        "id": "BEDnz_oqMads",
        "colab_type": "code",
        "colab": {}
      },
      "source": [
        "#feature extraction\n",
        "vec = TfidfVectorizer(stop_words=\"english\")\n",
        "vec.fit(df.processed_content.values)\n",
        "features = vec.transform(df.processed_content.values)"
      ],
      "execution_count": 6,
      "outputs": []
    },
    {
      "cell_type": "code",
      "metadata": {
        "id": "DZ8Ijoc6Mach",
        "colab_type": "code",
        "colab": {
          "base_uri": "https://localhost:8080/",
          "height": 84
        },
        "outputId": "0e5878d5-f0e4-4fc0-c47e-579903ce726b"
      },
      "source": [
        "#model training\n",
        "random_state = 0\n",
        "cls = MiniBatchKMeans(n_clusters=32, random_state=random_state)\n",
        "cls.fit(features)"
      ],
      "execution_count": 34,
      "outputs": [
        {
          "output_type": "execute_result",
          "data": {
            "text/plain": [
              "MiniBatchKMeans(batch_size=100, compute_labels=True, init='k-means++',\n",
              "                init_size=None, max_iter=100, max_no_improvement=10,\n",
              "                n_clusters=32, n_init=3, random_state=0,\n",
              "                reassignment_ratio=0.01, tol=0.0, verbose=0)"
            ]
          },
          "metadata": {
            "tags": []
          },
          "execution_count": 34
        }
      ]
    },
    {
      "cell_type": "code",
      "metadata": {
        "id": "zzRA7o1WMaZZ",
        "colab_type": "code",
        "colab": {
          "base_uri": "https://localhost:8080/",
          "height": 34
        },
        "outputId": "b5f27b52-8a68-4b67-90fe-77fee657371e"
      },
      "source": [
        "#predict on new data\n",
        "cls.predict(features)"
      ],
      "execution_count": 35,
      "outputs": [
        {
          "output_type": "execute_result",
          "data": {
            "text/plain": [
              "array([ 2, 13, 17, ...,  2,  2,  2], dtype=int32)"
            ]
          },
          "metadata": {
            "tags": []
          },
          "execution_count": 35
        }
      ]
    },
    {
      "cell_type": "code",
      "metadata": {
        "id": "-jPANtwPMaXY",
        "colab_type": "code",
        "colab": {
          "base_uri": "https://localhost:8080/",
          "height": 282
        },
        "outputId": "7fb614aa-5436-4f1b-d305-2b565512203f"
      },
      "source": [
        "#visualization\n",
        "# reduce the features to 2D\n",
        "pca = PCA(n_components=2, random_state=random_state)\n",
        "reduced_features = pca.fit_transform(features.toarray())\n",
        "\n",
        "# reduce the cluster centers to 2D\n",
        "reduced_cluster_centers = pca.transform(cls.cluster_centers_)\n",
        "\n",
        "plt.scatter(reduced_features[:,0], reduced_features[:,1], c=cls.predict(features))\n",
        "plt.scatter(reduced_cluster_centers[:, 0], reduced_cluster_centers[:,1], marker='x', s=150, c='b')"
      ],
      "execution_count": 36,
      "outputs": [
        {
          "output_type": "execute_result",
          "data": {
            "text/plain": [
              "<matplotlib.collections.PathCollection at 0x7fee7a5e85c0>"
            ]
          },
          "metadata": {
            "tags": []
          },
          "execution_count": 36
        },
        {
          "output_type": "display_data",
          "data": {
            "image/png": "[encoded data removed]",
            "text/plain": [
              "<Figure size 432x288 with 1 Axes>"
            ]
          },
          "metadata": {
            "tags": [],
            "needs_background": "light"
          }
        }
      ]
    },
    {
      "cell_type": "code",
      "metadata": {
        "id": "ZOA58_8RMaUp",
        "colab_type": "code",
        "colab": {
          "base_uri": "https://localhost:8080/",
          "height": 34
        },
        "outputId": "17db7451-3c77-4849-a3e8-746404644621"
      },
      "source": [
        "#evaluation with labelled dataset\n",
        "from sklearn.metrics import homogeneity_score\n",
        "homogeneity_score(df.processed_content, cls.predict(features))"
      ],
      "execution_count": 37,
      "outputs": [
        {
          "output_type": "execute_result",
          "data": {
            "text/plain": [
              "0.31693759400994326"
            ]
          },
          "metadata": {
            "tags": []
          },
          "execution_count": 37
        }
      ]
    },
    {
      "cell_type": "code",
      "metadata": {
        "id": "ZbA76dkdTjbR",
        "colab_type": "code",
        "colab": {
          "base_uri": "https://localhost:8080/",
          "height": 34
        },
        "outputId": "b60578e2-6aa4-4c33-92b1-f06b3eff55bc"
      },
      "source": [
        "#evaluation with unlabelled dataset\n",
        "from sklearn.metrics import silhouette_score\n",
        "silhouette_score(features, labels=cls.predict(features))"
      ],
      "execution_count": 38,
      "outputs": [
        {
          "output_type": "execute_result",
          "data": {
            "text/plain": [
              "0.02109898188841042"
            ]
          },
          "metadata": {
            "tags": []
          },
          "execution_count": 38
        }
      ]
    },
    {
      "cell_type": "code",
      "metadata": {
        "id": "rwSOLWCYxFR_",
        "colab_type": "code",
        "colab": {}
      },
      "source": [
        "#more on accuracy scores\n",
        "\n",
        "#actual labels\n",
        "actual_labels = np.unique(df.processed_topic, return_inverse=True)[1]\n",
        "#pd.factorize(df.processed_topic)[0]"
      ],
      "execution_count": 39,
      "outputs": []
    },
    {
      "cell_type": "code",
      "metadata": {
        "id": "uCbz-40H6DIR",
        "colab_type": "code",
        "colab": {
          "base_uri": "https://localhost:8080/",
          "height": 34
        },
        "outputId": "ab191cc5-2430-4c8f-afae-c93fa9605dc0"
      },
      "source": [
        "cls.labels_"
      ],
      "execution_count": 40,
      "outputs": [
        {
          "output_type": "execute_result",
          "data": {
            "text/plain": [
              "array([ 2, 13, 17, ...,  2,  2,  2], dtype=int32)"
            ]
          },
          "metadata": {
            "tags": []
          },
          "execution_count": 40
        }
      ]
    },
    {
      "cell_type": "code",
      "metadata": {
        "id": "frqDd8uU6DNK",
        "colab_type": "code",
        "colab": {
          "base_uri": "https://localhost:8080/",
          "height": 34
        },
        "outputId": "6e55a9ec-ce3a-438c-9dcd-1a8054296415"
      },
      "source": [
        "actual_labels"
      ],
      "execution_count": 41,
      "outputs": [
        {
          "output_type": "execute_result",
          "data": {
            "text/plain": [
              "array([48, 48, 48, ..., 29, 29, 29])"
            ]
          },
          "metadata": {
            "tags": []
          },
          "execution_count": 41
        }
      ]
    },
    {
      "cell_type": "code",
      "metadata": {
        "id": "exOqFonBxFeF",
        "colab_type": "code",
        "colab": {
          "base_uri": "https://localhost:8080/",
          "height": 34
        },
        "outputId": "e2fdb3e8-147e-420c-e05b-47164a8da4fd"
      },
      "source": [
        "from sklearn.metrics import accuracy_score\n",
        "accuracy_score(cls.labels_, actual_labels)"
      ],
      "execution_count": 42,
      "outputs": [
        {
          "output_type": "execute_result",
          "data": {
            "text/plain": [
              "0.05337519623233909"
            ]
          },
          "metadata": {
            "tags": []
          },
          "execution_count": 42
        }
      ]
    },
    {
      "cell_type": "code",
      "metadata": {
        "id": "ApFiB53MxFa2",
        "colab_type": "code",
        "colab": {}
      },
      "source": [
        "#import seaborn as sns\n",
        "#sns.set()\n",
        "#from sklearn.metrics import confusion_matrix\n",
        "#mat = confusion_matrix(cls.labels_, actual_labels)\n",
        "#sns.heatmap(mat.T, annot=True, fmt='d', cmap = 'Blues')\n",
        "#plt.xlabel('true label')\n",
        "#plt.ylabel('predicted label')"
      ],
      "execution_count": 46,
      "outputs": []
    },
    {
      "cell_type": "code",
      "metadata": {
        "id": "j4GvgZYrxFY_",
        "colab_type": "code",
        "colab": {}
      },
      "source": [
        "#from sklearn.metrics import classification_report\n",
        "#classification_report(actual_labels, cls.labels_) "
      ],
      "execution_count": 47,
      "outputs": []
    },
    {
      "cell_type": "code",
      "metadata": {
        "id": "b4iZaZswxFVx",
        "colab_type": "code",
        "colab": {
          "base_uri": "https://localhost:8080/",
          "height": 34
        },
        "outputId": "12a8e1e0-3f97-449c-e4f2-e882a63d05b7"
      },
      "source": [
        "from sklearn.metrics import precision_score\n",
        "precision_score(actual_labels, cls.labels_,  average='micro')"
      ],
      "execution_count": 43,
      "outputs": [
        {
          "output_type": "execute_result",
          "data": {
            "text/plain": [
              "0.05337519623233909"
            ]
          },
          "metadata": {
            "tags": []
          },
          "execution_count": 43
        }
      ]
    },
    {
      "cell_type": "code",
      "metadata": {
        "id": "aYJaUWdLxFPu",
        "colab_type": "code",
        "colab": {
          "base_uri": "https://localhost:8080/",
          "height": 34
        },
        "outputId": "91f43805-1204-4eea-8656-d4c51f3c8f5c"
      },
      "source": [
        "from sklearn.metrics import recall_score\n",
        "recall_score(actual_labels, cls.labels_, average='micro')"
      ],
      "execution_count": 44,
      "outputs": [
        {
          "output_type": "execute_result",
          "data": {
            "text/plain": [
              "0.05337519623233909"
            ]
          },
          "metadata": {
            "tags": []
          },
          "execution_count": 44
        }
      ]
    },
    {
      "cell_type": "code",
      "metadata": {
        "id": "P8TxX5SnyIUd",
        "colab_type": "code",
        "colab": {}
      },
      "source": [
        ""
      ],
      "execution_count": null,
      "outputs": []
    },
    {
      "cell_type": "code",
      "metadata": {
        "id": "uGwvOlNWMaSk",
        "colab_type": "code",
        "colab": {
          "base_uri": "https://localhost:8080/",
          "height": 380
        },
        "outputId": "ecdbeb7d-d56c-474d-dbd3-b2390119da8d"
      },
      "source": [
        "#topic modelling\n",
        "import spacy\n",
        "nlp = spacy.load(\"en_core_web_sm\", disable=['parser', 'ner'])\n",
        "\n",
        "random_state = 0\n",
        "\n",
        "def only_nouns(texts):\n",
        "    output = []\n",
        "    for doc in nlp.pipe(texts):\n",
        "        noun_text = \" \".join(token.lemma_ for token in doc if token.pos_ == 'NOUN')\n",
        "        output.append(noun_text)\n",
        "    return output\n",
        "\n",
        "\n",
        "df['noun_content'] = only_nouns(df['content'])\n",
        "\n",
        "df.head()"
      ],
      "execution_count": 45,
      "outputs": [
        {
          "output_type": "execute_result",
          "data": {
            "text/html": [
              "<div>\n",
              "<style scoped>\n",
              "    .dataframe tbody tr th:only-of-type {\n",
              "        vertical-align: middle;\n",
              "    }\n",
              "\n",
              "    .dataframe tbody tr th {\n",
              "        vertical-align: top;\n",
              "    }\n",
              "\n",
              "    .dataframe thead th {\n",
              "        text-align: right;\n",
              "    }\n",
              "</style>\n",
              "<table border=\"1\" class=\"dataframe\">\n",
              "  <thead>\n",
              "    <tr style=\"text-align: right;\">\n",
              "      <th></th>\n",
              "      <th>Unnamed: 0</th>\n",
              "      <th>_id</th>\n",
              "      <th>topic</th>\n",
              "      <th>heading</th>\n",
              "      <th>content</th>\n",
              "      <th>tags</th>\n",
              "      <th>processed_content</th>\n",
              "      <th>processed_topic</th>\n",
              "      <th>noun_content</th>\n",
              "    </tr>\n",
              "  </thead>\n",
              "  <tbody>\n",
              "    <tr>\n",
              "      <th>0</th>\n",
              "      <td>0</td>\n",
              "      <td>5f04d2481f35ed6864839349</td>\n",
              "      <td>[\"West-bengal\"]</td>\n",
              "      <td>[\"\\n                        \",\"\\n             ...</td>\n",
              "      <td>[\"Garbage-lined streets and overflowing drains...</td>\n",
              "      <td>[\"Garbage\",\"Salt-lake\",\"Bidhannagar-municipal-...</td>\n",
              "      <td>garbag line street overflow drain salt lake sp...</td>\n",
              "      <td>west bengal</td>\n",
              "      <td>garbage street drain fear outbreak disease res...</td>\n",
              "    </tr>\n",
              "    <tr>\n",
              "      <th>1</th>\n",
              "      <td>1</td>\n",
              "      <td>5f04d24b1f35ed686483934a</td>\n",
              "      <td>[\"West-bengal\"]</td>\n",
              "      <td>[\"\\n                        \",\"\\n             ...</td>\n",
              "      <td>[\"The Bengal government will set up a plasma b...</td>\n",
              "      <td>[\"Calcutta-medical-college-and-hospital\",\"Coro...</td>\n",
              "      <td>bengal govern plasma bank calcutta medic colle...</td>\n",
              "      <td>west bengal</td>\n",
              "      <td>government plasma bank trial plasma therapy co...</td>\n",
              "    </tr>\n",
              "    <tr>\n",
              "      <th>2</th>\n",
              "      <td>2</td>\n",
              "      <td>5f04d24d1f35ed686483934b</td>\n",
              "      <td>[\"West-bengal\"]</td>\n",
              "      <td>[\"\\n                        \",\"\\n             ...</td>\n",
              "      <td>[\"Bengal set another 24-hour record on Monday ...</td>\n",
              "      <td>[\"Lockdown\",\"Coronavirus\",\"Quarantine\"]</td>\n",
              "      <td>bengal hour record monday highest number covid...</td>\n",
              "      <td>west bengal</td>\n",
              "      <td>record number toll people toll state infection...</td>\n",
              "    </tr>\n",
              "    <tr>\n",
              "      <th>3</th>\n",
              "      <td>3</td>\n",
              "      <td>5f04d2501f35ed686483934c</td>\n",
              "      <td>[\"West-bengal\"]</td>\n",
              "      <td>[\"\\n                        \",\"\\n             ...</td>\n",
              "      <td>[\"Chief minister Mamata Banerjee on Monday sai...</td>\n",
              "      <td>[\"Mamata-banerjee\",\"Cyclone-amphan\"]</td>\n",
              "      <td>chief minist mamata banerje monday say problem...</td>\n",
              "      <td>west bengal</td>\n",
              "      <td>minister problem mistake aid government victim...</td>\n",
              "    </tr>\n",
              "    <tr>\n",
              "      <th>4</th>\n",
              "      <td>4</td>\n",
              "      <td>5f04d2531f35ed686483934d</td>\n",
              "      <td>[\"West-bengal\"]</td>\n",
              "      <td>[\"\\n                        \",\"\\n             ...</td>\n",
              "      <td>[\"Some senior historians have raised questions...</td>\n",
              "      <td>[\"Jagat-prakash-nadda\",\"Bharatiya-janata-party...</td>\n",
              "      <td>senior historian rais question attempt pitch b...</td>\n",
              "      <td>west bengal</td>\n",
              "      <td>historian question attempt founder creator pro...</td>\n",
              "    </tr>\n",
              "  </tbody>\n",
              "</table>\n",
              "</div>"
            ],
            "text/plain": [
              "   Unnamed: 0  ...                                       noun_content\n",
              "0           0  ...  garbage street drain fear outbreak disease res...\n",
              "1           1  ...  government plasma bank trial plasma therapy co...\n",
              "2           2  ...  record number toll people toll state infection...\n",
              "3           3  ...  minister problem mistake aid government victim...\n",
              "4           4  ...  historian question attempt founder creator pro...\n",
              "\n",
              "[5 rows x 9 columns]"
            ]
          },
          "metadata": {
            "tags": []
          },
          "execution_count": 45
        }
      ]
    },
    {
      "cell_type": "code",
      "metadata": {
        "id": "Dx42Hcw1TAwj",
        "colab_type": "code",
        "colab": {
          "base_uri": "https://localhost:8080/",
          "height": 67
        },
        "outputId": "147ae622-1421-493c-9e67-cacb015da895"
      },
      "source": [
        "# change this to see different results using the components_ attribute\n",
        "n_topics = 32\n",
        "\n",
        "#for extracting features\n",
        "from sklearn.feature_extraction.text import CountVectorizer, TfidfVectorizer\n",
        "vec = TfidfVectorizer(max_features=5000, stop_words=\"english\", max_df=0.95, min_df=2)\n",
        "features = vec.fit_transform(df.noun_content)\n",
        "\n",
        "#for topic modelling\n",
        "\n",
        "from sklearn.decomposition import NMF\n",
        "cls = NMF(n_components=n_topics, random_state=random_state)\n",
        "cls.fit(features)"
      ],
      "execution_count": 48,
      "outputs": [
        {
          "output_type": "execute_result",
          "data": {
            "text/plain": [
              "NMF(alpha=0.0, beta_loss='frobenius', init=None, l1_ratio=0.0, max_iter=200,\n",
              "    n_components=32, random_state=0, shuffle=False, solver='cd', tol=0.0001,\n",
              "    verbose=0)"
            ]
          },
          "metadata": {
            "tags": []
          },
          "execution_count": 48
        }
      ]
    },
    {
      "cell_type": "code",
      "metadata": {
        "id": "Z_TnbdVuTAtg",
        "colab_type": "code",
        "colab": {
          "base_uri": "https://localhost:8080/",
          "height": 554
        },
        "outputId": "3de8b96b-fba8-470a-984f-271169818d88"
      },
      "source": [
        "# list of unique words found by the vectorizer\n",
        "feature_names = vec.get_feature_names()\n",
        "\n",
        "# number of most influencing words to display per topic\n",
        "n_top_words = 15\n",
        "\n",
        "for i, topic_vec in enumerate(cls.components_):\n",
        "    print(i, end=' ')\n",
        "    # topic_vec.argsort() produces a new array\n",
        "    # in which word_index with the least score is the\n",
        "    # first array element and word_index with highest\n",
        "    # score is the last array element. Then using a\n",
        "    # fancy indexing [-1: -n_top_words-1:-1], we are\n",
        "    # slicing the array from its end in such a way that\n",
        "    # top `n_top_words` word_index with highest scores\n",
        "    # are returned in desceding order\n",
        "    for fid in topic_vec.argsort()[-1:-n_top_words-1:-1]:\n",
        "        print(feature_names[fid], end=' ')\n",
        "    print()"
      ],
      "execution_count": 49,
      "outputs": [
        {
          "output_type": "stream",
          "text": [
            "0 case death number state tally day toll rate sample infection fatality recovery people country hour \n",
            "1 film actress director story role release character script shoot scene movie award work actor action \n",
            "2 student exam university class semester course college curriculum visa syllabus immigration country decision assessment examination \n",
            "3 police encounter policeman murder station gangster officer personnel investigation house killing militant violence inspector car \n",
            "4 company employee flight service investment firm revenue business stake family market technology share executive client \n",
            "5 team player match game club season captain title league win cricket year football tournament goal \n",
            "6 app user platform application phone feature device security technology datum video news camera content review \n",
            "7 cent price oil sector market lakh crore barrel recovery datum gdp dollar rate point currency \n",
            "8 patient hospital doctor treatment plasma bed oxygen facility drug health ward isolation management care symptom \n",
            "9 troop disengagement area border talk army soldier source force commander peace buffer territory standoff clash \n",
            "10 party leader meeting mla leadership pilot election legislator crisis support power state chief government assembly \n",
            "11 court petition plea order bench bail advocate apex petitioner right family law quota hearing verdict \n",
            "12 researcher study datum research antibody virus device journal risk scientist health death disease access blood \n",
            "13 lockdown spread people city vehicle infection testing reason day home case time capacity citizen report \n",
            "14 result examination exam 2nd website student 10th board link percentage class year pass 12th mark \n",
            "15 statue slave century slavery protester city monument removal protest trader memorial figure debate schoelcher country \n",
            "16 actor family statement suicide demise residence report death father filmmaker room fan member post role \n",
            "17 video post exercise comment clip caption doggo fitness user brother push player picture cat fly \n",
            "18 test testing cricket spinner captain result antigen opener sample kit lab international series day wicket \n",
            "19 vaccine trial drug dose country company people efficacy year phase antibody permission production patient disease \n",
            "20 school teacher class child learning student education parent fee classroom government admission salary teaching principal \n",
            "21 race flag driver racism car act sport noose series ban cycling stall track native weekend \n",
            "22 mask country virus outbreak health world pandemic measure people 19 covid public economy coronavirus president \n",
            "23 bird dog tractor water suv lawn farming creature bike lover love skipper eye daughter farm \n",
            "24 land ordinance farmer site acre amendment government crore agriculturist mining year organisation scam application layout \n",
            "25 government state people worker sector minister industry job crisis decision statement law leader letter department \n",
            "26 district administration official containment area zone case town state rainfall mm survey shop person winter \n",
            "27 minister treasurer poll chief khaki state short president leader son portfolio tiger supporter seat visit \n",
            "28 ingredient baker baking cake home customer taste onion allergy food product powder tip water owner \n",
            "29 woman man sex victim harassment marriage rape girl verdict killer chain court work home equality \n",
            "30 plant gas incident leak styrene alarm company warning cause green committee safety finding polymer toxic \n",
            "31 people time song life thing today world character way story work friend book day music \n"
          ],
          "name": "stdout"
        }
      ]
    },
    {
      "cell_type": "code",
      "metadata": {
        "id": "GITww_5GTAqe",
        "colab_type": "code",
        "colab": {
          "base_uri": "https://localhost:8080/",
          "height": 34
        },
        "outputId": "e4a18224-5b47-4c52-eacb-806b9749bf7b"
      },
      "source": [
        "# to identify topic of a new document\n",
        "new_articles = [\n",
        "    '''The Chhattisgarh Board of Secondary Education (CGBSE) will announce the high school (Class 10), higher secondary (Class 12) and higher secondary vocational exam results on Tuesday, June 23. The Chhattisgarh Board results will be declared at 11am by school education minister.\",\"In a press release issued on Monday, the Chhattisgarh Board said that keeping in mind the Covid-19 situation, the CGBSE 10th, 12th results will be declared through video conferencing at state data centre in Raipur. \",\"Students who have appeared for the Chhattisgarh Board Class 10 and Class 12 exams can their results at cgbse.nic.in, http://results.gov.in/cgresults and results.cg.nic.in after it is announced.\",\"Around 6 lakh students have registered for CGBSE class 10th board exams this year, while over 2.5 lakh students have registered for CGBSE class 12th board exams 2020.\",\"Due to the coronavirus disease outbreak, CGBSE could not conduct examinations for all the subjects of Class 10 and 12. The exams for some minor subjects of Class 10 and Geography and a few optional papers of Class 12 had to be delayed.\",\"The students have been awarded marks in these subjects on the basis of internal assessment. Those failing to pass the assessment and skip the procedures will be given the minimum passing marks. Nobody will fail during the assessment of the remaining subjects ''',\n",
        "    '''Jose Mourinho launched an impassioned defence of Harry Kaneâ€™s form under his playing style at Tottenham Hotspur after television pundit Paul Merson suggested the England striker would struggle in the Portuguese managerâ€™s system.\",\"Merson, a pundit with Sky Sports, said 26-year-old Kane would consider switching clubs if Mourinho continued adopting a conservative style in the Premier League, like they did in their 1-1 draw with Manchester United last week.\",\"Kane has scored seven goals in 10 games under Mourinho but struggled to make an impact against United -- his first match since returning from a hamstring surgery in January -- and Mourinho said Merson was wrong to judge him based on one game.\",\"â€œThe record of goals that Harry has with me (in charge) is easy for you to see ... I can say I had a few strikers who played for me and they are not bad,â€ Mourinho told reporters in a virtual news conference on Monday.\",\"In a five-minute-long response, Mourinho then went on to mention the likes of Didier Drogba, Cristiano Ronaldo, Karim Benzema, Diego Milito and Zlatan Ibrahimovic, reeling off their goal scoring stats under his tenures at various clubs.\",\"â€œSo dear Paul, I have lots of respect for you,â€ Mourinho added. â€œI think Harry Kane has no problems at all to score goals in my teams, especially when heâ€™s fit, when heâ€™s fresh and he has routines of playing.â€\",\"There was good news on the injury front for Mourinho who confirmed forward Lucas Moura was available after recovering from an injury while Dele Alli is also in contention after serving his one-match suspension.\",\"â€œFor the first time since I arrived, all six attacking players are available for the game,â€ Mourinho said.\",\"â€œIâ€™ve had matches with only one and now finally I have six so I can have people playing and on the bench to rotate players. Our attacking options for this match are really good.'''\n",
        "]\n",
        "# first transform the text into features using vec\n",
        "# then pass it to transform of cls\n",
        "# the result will be a matrix of shape [2, 10]\n",
        "# then we sort the topic id based on the score using argsort\n",
        "# and take the last one (with the highest score) for each row using `[:,-1]` indexing\n",
        "cls.transform(vec.transform(new_articles)).argsort(axis=1)[:,-1]"
      ],
      "execution_count": 50,
      "outputs": [
        {
          "output_type": "execute_result",
          "data": {
            "text/plain": [
              "array([14,  5])"
            ]
          },
          "metadata": {
            "tags": []
          },
          "execution_count": 50
        }
      ]
    },
    {
      "cell_type": "code",
      "metadata": {
        "id": "dm7KlwnGTApC",
        "colab_type": "code",
        "colab": {}
      },
      "source": [
        ""
      ],
      "execution_count": null,
      "outputs": []
    }
  ]
}