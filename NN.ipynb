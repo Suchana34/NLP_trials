{
  "nbformat": 4,
  "nbformat_minor": 0,
  "metadata": {
    "colab": {
      "name": "NN.ipynb",
      "provenance": []
    },
    "kernelspec": {
      "name": "python3",
      "display_name": "Python 3"
    }
  },
  "cells": [
    {
      "cell_type": "code",
      "metadata": {
        "id": "ndnwyFq_cT62",
        "colab_type": "code",
        "colab": {}
      },
      "source": [
        "#load data"
      ],
      "execution_count": null,
      "outputs": []
    },
    {
      "cell_type": "code",
      "metadata": {
        "id": "Vx0muFo5g5N3",
        "colab_type": "code",
        "colab": {}
      },
      "source": [
        "# feature extraction\n",
        "from sklearn.feature_extraction.text import TfidfVectorizer\n",
        "vec = TfidfVectorizer(max_features=10_000)\n",
        "features = vec.fit_transform(bunch.data)\n",
        "print(features.shape) "
      ],
      "execution_count": null,
      "outputs": []
    },
    {
      "cell_type": "code",
      "metadata": {
        "id": "zdm4JAJpg5K-",
        "colab_type": "code",
        "colab": {}
      },
      "source": [
        "# model training\n",
        "\n",
        "from sklearn.neighbors import NearestNeighbors\n",
        "knn = NearestNeighbors(n_neighbors=10, metric='cosine')\n",
        "knn.fit(features)"
      ],
      "execution_count": null,
      "outputs": []
    },
    {
      "cell_type": "code",
      "metadata": {
        "id": "rq4RcFK0g5IN",
        "colab_type": "code",
        "colab": {}
      },
      "source": [
        "# Now that we have a KNN model, how to find similar items for a given input text?\n",
        "# We first need to convert the text into feature vector using vec.transform function and then give this vector as input to the knn model.\n",
        "knn.kneighbors(features[0:1], return_distance=False)\n",
        "\n",
        "knn.kneighbors(features[0:1], return_distance=True)"
      ],
      "execution_count": null,
      "outputs": []
    },
    {
      "cell_type": "code",
      "metadata": {
        "id": "3ipN-LOJg5GY",
        "colab_type": "code",
        "colab": {}
      },
      "source": [
        "input_texts = [\"any recommendations for good ftp sites?\", \"i need to clean my car\"]\n",
        "input_features = vec.transform(input_texts)\n",
        "\n",
        "D, N = knn.kneighbors(input_features, n_neighbors=2, return_distance=True)\n",
        "\n",
        "for input_text, distances, neighbors in zip(input_texts, D, N):\n",
        "    print(\"Input text = \", input_text[:200], \"\\n\")\n",
        "    for dist, neighbor_idx in zip(distances, neighbors):\n",
        "        print(\"Distance = \", dist, \"Neighbor idx = \", neighbor_idx)\n",
        "        print(bunch.data[neighbor_idx][:200])\n",
        "        print(\"-\"*200)\n",
        "    print(\"=\"*200)\n",
        "    print()"
      ],
      "execution_count": null,
      "outputs": []
    }
  ]
}