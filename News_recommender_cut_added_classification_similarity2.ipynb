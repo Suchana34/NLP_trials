{
  "nbformat": 4,
  "nbformat_minor": 0,
  "metadata": {
    "colab": {
      "name": "News_recommender_cut_added_classification_similarity2.ipynb",
      "provenance": []
    },
    "kernelspec": {
      "name": "python3",
      "display_name": "Python 3"
    }
  },
  "cells": [
    {
      "cell_type": "code",
      "metadata": {
        "id": "vpbl37JxvWC2",
        "colab_type": "code",
        "colab": {}
      },
      "source": [
        "import numpy as np\n",
        "import pandas as pd\n",
        "import pickle\n",
        "from sklearn.utils import shuffle\n",
        "from sklearn.metrics.pairwise import cosine_similarity\n",
        "from sklearn.feature_extraction.text import TfidfVectorizer\n",
        "from collections import Counter"
      ],
      "execution_count": 66,
      "outputs": []
    },
    {
      "cell_type": "code",
      "metadata": {
        "id": "hSsnR_uIvlME",
        "colab_type": "code",
        "colab": {}
      },
      "source": [
        "#from google.colab import drive\n",
        "#drive.mount('/content/drive')"
      ],
      "execution_count": 4,
      "outputs": []
    },
    {
      "cell_type": "code",
      "metadata": {
        "id": "lo3MQ0dPv1MO",
        "colab_type": "code",
        "colab": {
          "base_uri": "https://localhost:8080/",
          "height": 296
        },
        "outputId": "1a58aafe-940d-4a52-a328-e3614d1bd8c9"
      },
      "source": [
        "df = pd.read_csv('/content/drive/My Drive/cut.csv')\n",
        "df.head()"
      ],
      "execution_count": 67,
      "outputs": [
        {
          "output_type": "execute_result",
          "data": {
            "text/html": [
              "<div>\n",
              "<style scoped>\n",
              "    .dataframe tbody tr th:only-of-type {\n",
              "        vertical-align: middle;\n",
              "    }\n",
              "\n",
              "    .dataframe tbody tr th {\n",
              "        vertical-align: top;\n",
              "    }\n",
              "\n",
              "    .dataframe thead th {\n",
              "        text-align: right;\n",
              "    }\n",
              "</style>\n",
              "<table border=\"1\" class=\"dataframe\">\n",
              "  <thead>\n",
              "    <tr style=\"text-align: right;\">\n",
              "      <th></th>\n",
              "      <th>id</th>\n",
              "      <th>topic</th>\n",
              "      <th>heading</th>\n",
              "      <th>summary</th>\n",
              "      <th>date</th>\n",
              "      <th>sub-heading</th>\n",
              "      <th>content</th>\n",
              "      <th>tags</th>\n",
              "    </tr>\n",
              "  </thead>\n",
              "  <tbody>\n",
              "    <tr>\n",
              "      <th>0</th>\n",
              "      <td>5ef0d321d83b3587cb500efc</td>\n",
              "      <td>[\"football\"]</td>\n",
              "      <td>[\"VAR not being used correctly: Barcelona coac...</td>\n",
              "      <td>[\"Barcelona had a goal ruled out by VAR for of...</td>\n",
              "      <td>[\"Updated: Jun 22, 2020 20:03 IST\"]</td>\n",
              "      <td>[\"Reuters\"]</td>\n",
              "      <td>[\"The Video Assistant Referee (VAR) system is ...</td>\n",
              "      <td>[\"Quique Setien\",\"Barcelona\"]</td>\n",
              "    </tr>\n",
              "    <tr>\n",
              "      <th>1</th>\n",
              "      <td>5ef0d324d83b3587cb500efd</td>\n",
              "      <td>[\"football\"]</td>\n",
              "      <td>[\"Mourinho hits back at Merson’s criticism of ...</td>\n",
              "      <td>[\"Merson, a pundit with Sky Sports, said 26-ye...</td>\n",
              "      <td>[\"Updated: Jun 22, 2020 20:30 IST\"]</td>\n",
              "      <td>[\"Reuters\"]</td>\n",
              "      <td>[\"Jose Mourinho launched an impassioned defenc...</td>\n",
              "      <td>[\"Jose Mourinho\",\"Harry Kane\",\"Manchester unit...</td>\n",
              "    </tr>\n",
              "    <tr>\n",
              "      <th>2</th>\n",
              "      <td>5efff14f86936ae10d2be3c8</td>\n",
              "      <td>[\"football\"]</td>\n",
              "      <td>[\"Morata double leads Atletico to 3-0 win over...</td>\n",
              "      <td>[\"Morata earned a penalty when he was pulled d...</td>\n",
              "      <td>[\"Updated: Jul 04, 2020 07:12 IST\"]</td>\n",
              "      <td>[\"Associated Press\"]</td>\n",
              "      <td>[\"Alvaro Morata scored twice to lead Atletico ...</td>\n",
              "      <td>[\"Alvaro Morata\",\"Mallorca\",\"Diego Simeone\",\"R...</td>\n",
              "    </tr>\n",
              "    <tr>\n",
              "      <th>3</th>\n",
              "      <td>5efff10a86936ae10d2be3aa</td>\n",
              "      <td>[\"cricket\"]</td>\n",
              "      <td>[\"Sourav Ganguly made Sehwag open, brought in ...</td>\n",
              "      <td>[\"Former India opener Wasim Jaffer, who made h...</td>\n",
              "      <td>[\"Updated: Jul 04, 2020 08:03 IST\"]</td>\n",
              "      <td>[\"hindustantimes.com\"]</td>\n",
              "      <td>[\"Despite not being able to lead India to an I...</td>\n",
              "      <td>[\"Sourav Ganguly\",\"Wasim Jaffer\",\"India\",\"Zahe...</td>\n",
              "    </tr>\n",
              "    <tr>\n",
              "      <th>4</th>\n",
              "      <td>5ef0d2e5d83b3587cb500edf</td>\n",
              "      <td>[\"cricket\"]</td>\n",
              "      <td>[\"Jasprit Bumrah is ‘a different beast’ when h...</td>\n",
              "      <td>[\"The man in charge of the team currently is h...</td>\n",
              "      <td>[\"Updated: Jun 22, 2020 20:57 IST\"]</td>\n",
              "      <td>[\"hindustantimes.com\"]</td>\n",
              "      <td>[\"Mumbai Indians are the most successful team ...</td>\n",
              "      <td>[\"Mumbai Indians\",\"Jasprit Bumrah\",\"Mahela Jay...</td>\n",
              "    </tr>\n",
              "  </tbody>\n",
              "</table>\n",
              "</div>"
            ],
            "text/plain": [
              "                         id  ...                                               tags\n",
              "0  5ef0d321d83b3587cb500efc  ...                      [\"Quique Setien\",\"Barcelona\"]\n",
              "1  5ef0d324d83b3587cb500efd  ...  [\"Jose Mourinho\",\"Harry Kane\",\"Manchester unit...\n",
              "2  5efff14f86936ae10d2be3c8  ...  [\"Alvaro Morata\",\"Mallorca\",\"Diego Simeone\",\"R...\n",
              "3  5efff10a86936ae10d2be3aa  ...  [\"Sourav Ganguly\",\"Wasim Jaffer\",\"India\",\"Zahe...\n",
              "4  5ef0d2e5d83b3587cb500edf  ...  [\"Mumbai Indians\",\"Jasprit Bumrah\",\"Mahela Jay...\n",
              "\n",
              "[5 rows x 8 columns]"
            ]
          },
          "metadata": {
            "tags": []
          },
          "execution_count": 67
        }
      ]
    },
    {
      "cell_type": "code",
      "metadata": {
        "id": "qUMfcaWpwBAB",
        "colab_type": "code",
        "colab": {
          "base_uri": "https://localhost:8080/",
          "height": 34
        },
        "outputId": "efd2aca5-77b4-4533-9bb9-96c46f56a875"
      },
      "source": [
        "len(df.content.unique()),  len(df.content)"
      ],
      "execution_count": null,
      "outputs": [
        {
          "output_type": "execute_result",
          "data": {
            "text/plain": [
              "(18, 18)"
            ]
          },
          "metadata": {
            "tags": []
          },
          "execution_count": 5
        }
      ]
    },
    {
      "cell_type": "code",
      "metadata": {
        "id": "8u_b-cE3wA8i",
        "colab_type": "code",
        "colab": {
          "base_uri": "https://localhost:8080/",
          "height": 120
        },
        "outputId": "80cb27fe-4ecf-468c-fed6-081673c9817d"
      },
      "source": [
        "df.content[0]"
      ],
      "execution_count": null,
      "outputs": [
        {
          "output_type": "execute_result",
          "data": {
            "application/vnd.google.colaboratory.intrinsic": {
              "type": "string"
            },
            "text/plain": [
              "'[\"The Video Assistant Referee (VAR) system is not being used correctly in La Liga, Barcelona manager Quique Setien said on Monday following Real Madrid’s controversial win at Real Sociedad.\",\"Madrid beat Sociedad 2-1 to climb above Barcelona at the top of La Liga but the home side were aggrieved because they had a goal ruled out by VAR for offside and Karim Benzema’s winner stood after he appeared to control the ball with his arm.\",\"“There are things that we cannot control and that do not depend on us. Everybody saw what happened in Anoeta and everyone will draw their own conclusions,” Setien told reporters ahead of Tuesday’s match against Athletic Bilbao.\",\"“It’s understandable that we think why there are some actions that are reviewed, the referee himself reviews them and they don’t do the same in other plays. They do it on some matches and in some others (they don’t). So you could really think that (VAR) is not being used correctly.”\",\"Setien said controversies were part of football. “We’ve been here for many years and this doesn’t change. It’s always the same, the controversy will always be there,” he added. “VAR is a tool that can make us better, but we have to use it to have a clearer view of reality.”\",\"With 65 points each, Real top the standings due to a superior head-to-head record but Setien is convinced the title race is still in Barcelona’s hands. “Now the margin of error is smaller, but it’s also smaller for them,” he said. “Madrid cannot make any mistakes. Many leagues are decided in the end, there are eight games left. Madrid still have to play difficult games like us.”\"]'"
            ]
          },
          "metadata": {
            "tags": []
          },
          "execution_count": 6
        }
      ]
    },
    {
      "cell_type": "code",
      "metadata": {
        "id": "Ka_Q5FUuwA57",
        "colab_type": "code",
        "colab": {}
      },
      "source": [
        "# time range for which these articles are published\n",
        "#min(df.date_published).split(\"T\")[0], max(df.date_published).split(\"T\")[0]"
      ],
      "execution_count": null,
      "outputs": []
    },
    {
      "cell_type": "code",
      "metadata": {
        "id": "rdi2d3PEwA4C",
        "colab_type": "code",
        "colab": {
          "base_uri": "https://localhost:8080/",
          "height": 34
        },
        "outputId": "ce1051b5-0932-4e08-ce0d-4769dbb8e28c"
      },
      "source": [
        "# the number of articles in each section\n",
        "Counter(df.topic)"
      ],
      "execution_count": null,
      "outputs": [
        {
          "output_type": "execute_result",
          "data": {
            "text/plain": [
              "Counter({'[\"cricket\"]': 4, '[\"education\"]': 11, '[\"football\"]': 3})"
            ]
          },
          "metadata": {
            "tags": []
          },
          "execution_count": 7
        }
      ]
    },
    {
      "cell_type": "code",
      "metadata": {
        "id": "HZO_yoVk56_O",
        "colab_type": "code",
        "colab": {
          "base_uri": "https://localhost:8080/",
          "height": 168
        },
        "outputId": "dec80a57-66bb-46f6-a8fd-dfe519955925"
      },
      "source": [
        "df.isnull().sum()"
      ],
      "execution_count": null,
      "outputs": [
        {
          "output_type": "execute_result",
          "data": {
            "text/plain": [
              "id             0\n",
              "topic          0\n",
              "heading        0\n",
              "summary        0\n",
              "date           0\n",
              "sub-heading    0\n",
              "content        0\n",
              "tags           2\n",
              "dtype: int64"
            ]
          },
          "metadata": {
            "tags": []
          },
          "execution_count": 8
        }
      ]
    },
    {
      "cell_type": "code",
      "metadata": {
        "id": "480VWPHB568Z",
        "colab_type": "code",
        "colab": {}
      },
      "source": [
        "df.dropna(subset=['content'], inplace = True)\n",
        "df.dropna(subset = ['topic'], inplace = True)"
      ],
      "execution_count": 68,
      "outputs": []
    },
    {
      "cell_type": "code",
      "metadata": {
        "id": "DBvtc8fU6DMW",
        "colab_type": "code",
        "colab": {
          "base_uri": "https://localhost:8080/",
          "height": 34
        },
        "outputId": "7a76ef0c-9272-46b5-a934-5c39b5c22c24"
      },
      "source": [
        "#df.shape"
      ],
      "execution_count": null,
      "outputs": [
        {
          "output_type": "execute_result",
          "data": {
            "text/plain": [
              "(148, 10)"
            ]
          },
          "metadata": {
            "tags": []
          },
          "execution_count": 30
        }
      ]
    },
    {
      "cell_type": "code",
      "metadata": {
        "id": "IvmtKjIk3KVo",
        "colab_type": "code",
        "colab": {}
      },
      "source": [
        "import pandas as pd\n",
        "import numpy as np\n",
        "import re\n",
        "\n",
        "import gensim\n",
        "from gensim import corpora,models\n",
        "from gensim.utils import simple_preprocess\n",
        "from gensim.models import CoherenceModel\n",
        "from gensim.parsing.preprocessing import STOPWORDS\n",
        "from nltk.stem import WordNetLemmatizer, SnowballStemmer\n",
        "from nltk.stem.porter import *\n",
        "import numpy as np\n",
        "np.random.seed(2018)\n",
        "\n",
        "import nltk\n",
        "#nltk.download('wordnet')\n",
        "#nltk.download('stopwords')"
      ],
      "execution_count": 69,
      "outputs": []
    },
    {
      "cell_type": "code",
      "metadata": {
        "id": "9DhJedHN3KHO",
        "colab_type": "code",
        "colab": {}
      },
      "source": [
        "# data preprocessing\n",
        "stemmer = SnowballStemmer(language='english',ignore_stopwords=True)\n",
        "def lemmatize_stemming(text):\n",
        "    return stemmer.stem(WordNetLemmatizer().lemmatize(text, pos='v'))\n",
        "def preprocess(text):\n",
        "    result = []\n",
        "    for token in gensim.utils.simple_preprocess(text):\n",
        "        if token not in gensim.parsing.preprocessing.STOPWORDS and len(token) > 3:\n",
        "            result.append(lemmatize_stemming(token))\n",
        "    return result"
      ],
      "execution_count": 70,
      "outputs": []
    },
    {
      "cell_type": "code",
      "metadata": {
        "id": "a6V-hvgJ3J8h",
        "colab_type": "code",
        "colab": {
          "base_uri": "https://localhost:8080/",
          "height": 138
        },
        "outputId": "d0629d5a-5e19-4726-a785-959d1742c9eb"
      },
      "source": [
        "# preview after preprocessing\n",
        "doc_sample = df['content'][0]\n",
        "print('original document: ')\n",
        "words = []\n",
        "for word in doc_sample.split(' '):\n",
        "    words.append(word)\n",
        "print(words)\n",
        "print('\\n\\n tokenized and lemmatized document: ')\n",
        "print(preprocess(doc_sample))"
      ],
      "execution_count": 71,
      "outputs": [
        {
          "output_type": "stream",
          "text": [
            "original document: \n",
            "['[\"The', 'Video', 'Assistant', 'Referee', '(VAR)', 'system', 'is', 'not', 'being', 'used', 'correctly', 'in', 'La', 'Liga,', 'Barcelona', 'manager', 'Quique', 'Setien', 'said', 'on', 'Monday', 'following', 'Real', 'Madrid’s', 'controversial', 'win', 'at', 'Real', 'Sociedad.\",\"Madrid', 'beat', 'Sociedad', '2-1', 'to', 'climb', 'above', 'Barcelona', 'at', 'the', 'top', 'of', 'La', 'Liga', 'but', 'the', 'home', 'side', 'were', 'aggrieved', 'because', 'they', 'had', 'a', 'goal', 'ruled', 'out', 'by', 'VAR', 'for', 'offside', 'and', 'Karim', 'Benzema’s', 'winner', 'stood', 'after', 'he', 'appeared', 'to', 'control', 'the', 'ball', 'with', 'his', 'arm.\",\"“There', 'are', 'things', 'that', 'we', 'cannot', 'control', 'and', 'that', 'do', 'not', 'depend', 'on', 'us.', 'Everybody', 'saw', 'what', 'happened', 'in', 'Anoeta', 'and', 'everyone', 'will', 'draw', 'their', 'own', 'conclusions,”', 'Setien', 'told', 'reporters', 'ahead', 'of', 'Tuesday’s', 'match', 'against', 'Athletic', 'Bilbao.\",\"“It’s', 'understandable', 'that', 'we', 'think', 'why', 'there', 'are', 'some', 'actions', 'that', 'are', 'reviewed,', 'the', 'referee', 'himself', 'reviews', 'them', 'and', 'they', 'don’t', 'do', 'the', 'same', 'in', 'other', 'plays.', 'They', 'do', 'it', 'on', 'some', 'matches', 'and', 'in', 'some', 'others', '(they', 'don’t).', 'So', 'you', 'could', 'really', 'think', 'that', '(VAR)', 'is', 'not', 'being', 'used', 'correctly.”\",\"Setien', 'said', 'controversies', 'were', 'part', 'of', 'football.', '“We’ve', 'been', 'here', 'for', 'many', 'years', 'and', 'this', 'doesn’t', 'change.', 'It’s', 'always', 'the', 'same,', 'the', 'controversy', 'will', 'always', 'be', 'there,”', 'he', 'added.', '“VAR', 'is', 'a', 'tool', 'that', 'can', 'make', 'us', 'better,', 'but', 'we', 'have', 'to', 'use', 'it', 'to', 'have', 'a', 'clearer', 'view', 'of', 'reality.”\",\"With', '65', 'points', 'each,', 'Real', 'top', 'the', 'standings', 'due', 'to', 'a', 'superior', 'head-to-head', 'record', 'but', 'Setien', 'is', 'convinced', 'the', 'title', 'race', 'is', 'still', 'in', 'Barcelona’s', 'hands.', '“Now', 'the', 'margin', 'of', 'error', 'is', 'smaller,', 'but', 'it’s', 'also', 'smaller', 'for', 'them,”', 'he', 'said.', '“Madrid', 'cannot', 'make', 'any', 'mistakes.', 'Many', 'leagues', 'are', 'decided', 'in', 'the', 'end,', 'there', 'are', 'eight', 'games', 'left.', 'Madrid', 'still', 'have', 'to', 'play', 'difficult', 'games', 'like', 'us.”\"]']\n",
            "\n",
            "\n",
            " tokenized and lemmatized document: \n",
            "['video', 'assist', 'refere', 'correct', 'liga', 'barcelona', 'manag', 'quiqu', 'setien', 'say', 'monday', 'follow', 'real', 'madrid', 'controversi', 'real', 'sociedad', 'madrid', 'beat', 'sociedad', 'climb', 'barcelona', 'liga', 'home', 'aggriev', 'goal', 'rule', 'offsid', 'karim', 'benzema', 'winner', 'stand', 'appear', 'control', 'ball', 'thing', 'control', 'depend', 'everybodi', 'happen', 'anoeta', 'draw', 'conclus', 'setien', 'tell', 'report', 'ahead', 'tuesday', 'match', 'athlet', 'bilbao', 'understand', 'think', 'action', 'review', 'refere', 'review', 'play', 'match', 'think', 'correct', 'setien', 'say', 'controversi', 'footbal', 'year', 'chang', 'controversi', 'add', 'tool', 'better', 'clearer', 'view', 'realiti', 'point', 'real', 'stand', 'superior', 'head', 'head', 'record', 'setien', 'convinc', 'titl', 'race', 'barcelona', 'hand', 'margin', 'error', 'smaller', 'smaller', 'say', 'madrid', 'mistak', 'leagu', 'decid', 'game', 'leav', 'madrid', 'play', 'difficult', 'game', 'like']\n"
          ],
          "name": "stdout"
        }
      ]
    },
    {
      "cell_type": "code",
      "metadata": {
        "id": "rYARocMH3kNy",
        "colab_type": "code",
        "colab": {
          "base_uri": "https://localhost:8080/",
          "height": 582
        },
        "outputId": "ab59f6f5-7b87-4a15-8b5b-edf3ee2a3021"
      },
      "source": [
        "# Preprocess the headline text, saving the results as ‘processed_docs’\n",
        "df['processed_heading'] = df['heading'].map(preprocess)\n",
        "df['processed_content'] = df['content'].map(preprocess)\n",
        "df['processed_topic'] = df['topic'].map(preprocess)\n",
        "df['processed_heading'] = df['processed_heading'].apply(lambda x: ' '.join(x))\n",
        "df['processed_content'] = df['processed_content'].apply(lambda x: ' '.join(x))\n",
        "df['processed_topic'] = df['processed_topic'].apply(lambda x: ' '.join(x))\n",
        "df.head() "
      ],
      "execution_count": 72,
      "outputs": [
        {
          "output_type": "execute_result",
          "data": {
            "text/html": [
              "<div>\n",
              "<style scoped>\n",
              "    .dataframe tbody tr th:only-of-type {\n",
              "        vertical-align: middle;\n",
              "    }\n",
              "\n",
              "    .dataframe tbody tr th {\n",
              "        vertical-align: top;\n",
              "    }\n",
              "\n",
              "    .dataframe thead th {\n",
              "        text-align: right;\n",
              "    }\n",
              "</style>\n",
              "<table border=\"1\" class=\"dataframe\">\n",
              "  <thead>\n",
              "    <tr style=\"text-align: right;\">\n",
              "      <th></th>\n",
              "      <th>id</th>\n",
              "      <th>topic</th>\n",
              "      <th>heading</th>\n",
              "      <th>summary</th>\n",
              "      <th>date</th>\n",
              "      <th>sub-heading</th>\n",
              "      <th>content</th>\n",
              "      <th>tags</th>\n",
              "      <th>processed_heading</th>\n",
              "      <th>processed_content</th>\n",
              "      <th>processed_topic</th>\n",
              "    </tr>\n",
              "  </thead>\n",
              "  <tbody>\n",
              "    <tr>\n",
              "      <th>0</th>\n",
              "      <td>5ef0d321d83b3587cb500efc</td>\n",
              "      <td>[\"football\"]</td>\n",
              "      <td>[\"VAR not being used correctly: Barcelona coac...</td>\n",
              "      <td>[\"Barcelona had a goal ruled out by VAR for of...</td>\n",
              "      <td>[\"Updated: Jun 22, 2020 20:03 IST\"]</td>\n",
              "      <td>[\"Reuters\"]</td>\n",
              "      <td>[\"The Video Assistant Referee (VAR) system is ...</td>\n",
              "      <td>[\"Quique Setien\",\"Barcelona\"]</td>\n",
              "      <td>correct barcelona coach setien</td>\n",
              "      <td>video assist refere correct liga barcelona man...</td>\n",
              "      <td>footbal</td>\n",
              "    </tr>\n",
              "    <tr>\n",
              "      <th>1</th>\n",
              "      <td>5ef0d324d83b3587cb500efd</td>\n",
              "      <td>[\"football\"]</td>\n",
              "      <td>[\"Mourinho hits back at Merson’s criticism of ...</td>\n",
              "      <td>[\"Merson, a pundit with Sky Sports, said 26-ye...</td>\n",
              "      <td>[\"Updated: Jun 22, 2020 20:30 IST\"]</td>\n",
              "      <td>[\"Reuters\"]</td>\n",
              "      <td>[\"Jose Mourinho launched an impassioned defenc...</td>\n",
              "      <td>[\"Jose Mourinho\",\"Harry Kane\",\"Manchester unit...</td>\n",
              "      <td>mourinho hit merson critic play style kane record</td>\n",
              "      <td>jose mourinho launch impass defenc harri kane ...</td>\n",
              "      <td>footbal</td>\n",
              "    </tr>\n",
              "    <tr>\n",
              "      <th>2</th>\n",
              "      <td>5efff14f86936ae10d2be3c8</td>\n",
              "      <td>[\"football\"]</td>\n",
              "      <td>[\"Morata double leads Atletico to 3-0 win over...</td>\n",
              "      <td>[\"Morata earned a penalty when he was pulled d...</td>\n",
              "      <td>[\"Updated: Jul 04, 2020 07:12 IST\"]</td>\n",
              "      <td>[\"Associated Press\"]</td>\n",
              "      <td>[\"Alvaro Morata scored twice to lead Atletico ...</td>\n",
              "      <td>[\"Alvaro Morata\",\"Mallorca\",\"Diego Simeone\",\"R...</td>\n",
              "      <td>morata doubl lead atletico mallorca liga</td>\n",
              "      <td>alvaro morata score twice lead atletico madrid...</td>\n",
              "      <td>footbal</td>\n",
              "    </tr>\n",
              "    <tr>\n",
              "      <th>3</th>\n",
              "      <td>5efff10a86936ae10d2be3aa</td>\n",
              "      <td>[\"cricket\"]</td>\n",
              "      <td>[\"Sourav Ganguly made Sehwag open, brought in ...</td>\n",
              "      <td>[\"Former India opener Wasim Jaffer, who made h...</td>\n",
              "      <td>[\"Updated: Jul 04, 2020 08:03 IST\"]</td>\n",
              "      <td>[\"hindustantimes.com\"]</td>\n",
              "      <td>[\"Despite not being able to lead India to an I...</td>\n",
              "      <td>[\"Sourav Ganguly\",\"Wasim Jaffer\",\"India\",\"Zahe...</td>\n",
              "      <td>sourav ganguli sehwag open bring yuvraj zaheer...</td>\n",
              "      <td>despit abl lead india trophi sole india joint ...</td>\n",
              "      <td>cricket</td>\n",
              "    </tr>\n",
              "    <tr>\n",
              "      <th>4</th>\n",
              "      <td>5ef0d2e5d83b3587cb500edf</td>\n",
              "      <td>[\"cricket\"]</td>\n",
              "      <td>[\"Jasprit Bumrah is ‘a different beast’ when h...</td>\n",
              "      <td>[\"The man in charge of the team currently is h...</td>\n",
              "      <td>[\"Updated: Jun 22, 2020 20:57 IST\"]</td>\n",
              "      <td>[\"hindustantimes.com\"]</td>\n",
              "      <td>[\"Mumbai Indians are the most successful team ...</td>\n",
              "      <td>[\"Mumbai Indians\",\"Jasprit Bumrah\",\"Mahela Jay...</td>\n",
              "      <td>jasprit bumrah differ beast go middl mumbai in...</td>\n",
              "      <td>mumbai indian success team histori indian prem...</td>\n",
              "      <td>cricket</td>\n",
              "    </tr>\n",
              "  </tbody>\n",
              "</table>\n",
              "</div>"
            ],
            "text/plain": [
              "                         id  ... processed_topic\n",
              "0  5ef0d321d83b3587cb500efc  ...         footbal\n",
              "1  5ef0d324d83b3587cb500efd  ...         footbal\n",
              "2  5efff14f86936ae10d2be3c8  ...         footbal\n",
              "3  5efff10a86936ae10d2be3aa  ...         cricket\n",
              "4  5ef0d2e5d83b3587cb500edf  ...         cricket\n",
              "\n",
              "[5 rows x 11 columns]"
            ]
          },
          "metadata": {
            "tags": []
          },
          "execution_count": 72
        }
      ]
    },
    {
      "cell_type": "code",
      "metadata": {
        "id": "0CgJFxDqPu9D",
        "colab_type": "code",
        "colab": {}
      },
      "source": [
        ""
      ],
      "execution_count": null,
      "outputs": []
    },
    {
      "cell_type": "code",
      "metadata": {
        "id": "yfjZ-CMvwA0x",
        "colab_type": "code",
        "colab": {}
      },
      "source": [
        "#Split the data into a \"train\" and \"test\". As well as select a metric in which to measure the similarity between articles. Think of the \"train\" set as the corpus.\n",
        "# Think of the \"test\" set as the NYT articles that users are currently reading.\n",
        "\n",
        "# move articles to an array\n",
        "articles = df.processed_content.values\n",
        "\n",
        "# move article section names to an array\n",
        "sections = df.processed_topic.values\n",
        "\n",
        "# move article web_urls to an array\n",
        "headings = df.processed_heading.values\n",
        "\n",
        "# shuffle these three arrays \n",
        "articles, sections, headings = shuffle(articles, sections, headings, random_state=4)"
      ],
      "execution_count": 73,
      "outputs": []
    },
    {
      "cell_type": "code",
      "metadata": {
        "id": "Pd_rSrrXwAzR",
        "colab_type": "code",
        "colab": {}
      },
      "source": [
        "# split the shuffled articles into two arrays\n",
        "n = 3\n",
        "\n",
        "# one will have all but the last 10 articles -- think of this as your training set/corpus \n",
        "X_train = articles[:-n]\n",
        "X_train_headings = headings[:-n]\n",
        "X_train_sections = sections[:-n]\n",
        "\n",
        "# the other will have those last 10 articles -- think of this as your test set/corpus \n",
        "X_test = articles[-n:]\n",
        "X_test_headings = headings[-n:]\n",
        "X_test_sections = sections[-n:]"
      ],
      "execution_count": 74,
      "outputs": []
    },
    {
      "cell_type": "code",
      "metadata": {
        "id": "GDhVVqeW008F",
        "colab_type": "code",
        "colab": {}
      },
      "source": [
        "# instantiate your vectorizor \n",
        "tfidf_vectorizer = TfidfVectorizer(stop_words='english')"
      ],
      "execution_count": 31,
      "outputs": []
    },
    {
      "cell_type": "code",
      "metadata": {
        "id": "FQbjmaNVQiIu",
        "colab_type": "code",
        "colab": {}
      },
      "source": [
        "# predicting document similarity\n",
        "tfidf_matrix = tfidf_vectorizer.fit_transform(df.processed_heading[0:2])"
      ],
      "execution_count": 45,
      "outputs": []
    },
    {
      "cell_type": "code",
      "metadata": {
        "id": "fBx0IaCRQiFt",
        "colab_type": "code",
        "colab": {}
      },
      "source": [
        "from sklearn.metrics.pairwise import cosine_similarity\n",
        "\n",
        "#Calculate the similarity distance\n",
        "similarity_distance = 1 - cosine_similarity(tfidf_matrix)"
      ],
      "execution_count": 46,
      "outputs": []
    },
    {
      "cell_type": "code",
      "metadata": {
        "id": "f29gCd12QiD3",
        "colab_type": "code",
        "colab": {
          "base_uri": "https://localhost:8080/",
          "height": 50
        },
        "outputId": "84cb622d-4cd7-4ca3-e7ce-addafd82ec4a"
      },
      "source": [
        "similarity_distance"
      ],
      "execution_count": 47,
      "outputs": [
        {
          "output_type": "execute_result",
          "data": {
            "text/plain": [
              "array([[ 0.00000000e+00,  1.00000000e+00],\n",
              "       [ 1.00000000e+00, -2.22044605e-16]])"
            ]
          },
          "metadata": {
            "tags": []
          },
          "execution_count": 47
        }
      ]
    },
    {
      "cell_type": "code",
      "metadata": {
        "id": "z6FX7SERThe6",
        "colab_type": "code",
        "colab": {}
      },
      "source": [
        ""
      ],
      "execution_count": null,
      "outputs": []
    },
    {
      "cell_type": "code",
      "metadata": {
        "id": "_ippJiLX1Eev",
        "colab_type": "code",
        "colab": {
          "base_uri": "https://localhost:8080/",
          "height": 134
        },
        "outputId": "49ef7b77-f73b-479e-f398-ec08a1cfc5fa"
      },
      "source": [
        "# fit the vectorizer \n",
        "tfidf_vectorizer.fit(X_train)"
      ],
      "execution_count": 32,
      "outputs": [
        {
          "output_type": "execute_result",
          "data": {
            "text/plain": [
              "TfidfVectorizer(analyzer='word', binary=False, decode_error='strict',\n",
              "                dtype=<class 'numpy.float64'>, encoding='utf-8',\n",
              "                input='content', lowercase=True, max_df=1.0, max_features=None,\n",
              "                min_df=1, ngram_range=(1, 1), norm='l2', preprocessor=None,\n",
              "                smooth_idf=True, stop_words='english', strip_accents=None,\n",
              "                sublinear_tf=False, token_pattern='(?u)\\\\b\\\\w\\\\w+\\\\b',\n",
              "                tokenizer=None, use_idf=True, vocabulary=None)"
            ]
          },
          "metadata": {
            "tags": []
          },
          "execution_count": 32
        }
      ]
    },
    {
      "cell_type": "code",
      "metadata": {
        "id": "zKlIVRJA1Eb3",
        "colab_type": "code",
        "colab": {}
      },
      "source": [
        "# transform both article splits \n",
        "X_train_tfidf = tfidf_vectorizer.transform(X_train)\n",
        "X_test_tfidf = tfidf_vectorizer.transform(X_test)"
      ],
      "execution_count": null,
      "outputs": []
    },
    {
      "cell_type": "code",
      "metadata": {
        "id": "xjxV0RfF1IUv",
        "colab_type": "code",
        "colab": {}
      },
      "source": [
        "#Builidng a Content Based Recommender\n",
        "def get_top_n_rec_articles(X_train_tfidf, X_train, test_article, X_train_sections, X_train_headings, n = 5):\n",
        "    '''This function calculates similarity scores bewteen a document and a corpus\n",
        "    \n",
        "       INPUT: vectorized document corpus, 2D array\n",
        "              text document corpus, 1D array\n",
        "              user article, 1D array\n",
        "              article section names, 1D array\n",
        "              article URLs, 1D array\n",
        "              number of articles to recommend, int\n",
        "              \n",
        "       OUTPUT: top n recommendations, 1D array\n",
        "               top n corresponding section names, 1D array\n",
        "               top n corresponding URLs, 1D array\n",
        "               similarity scores bewteen user article and entire corpus, 1D array\n",
        "              '''\n",
        "    # calculate similarity between the corpus (i.e. the \"test\" data) and the user's article\n",
        "    similarity_scores = X_train_tfidf.dot(test_article.toarray().T)\n",
        "\n",
        "    # get sorted similairty score indicies \n",
        "    sorted_indicies = np.argsort(similarity_scores, axis = 0)[::-1]\n",
        "\n",
        "    # get sorted similarity socres\n",
        "    sorted_sim_scores = similarity_scores[sorted_indicies]\n",
        "\n",
        "    # get top n most similar documents\n",
        "    top_n_recs = X_train[sorted_indicies[:n]]\n",
        "\n",
        "    # get top n corresponding document section names\n",
        "    rec_sections = X_train_sections[sorted_indicies[:n]]\n",
        "\n",
        "    # get top n corresponding urls\n",
        "    rec_headings = X_train_headings[sorted_indicies[:n]]\n",
        "    \n",
        "    # return recommendations and corresponding article meta-data\n",
        "    return top_n_recs, rec_sections, rec_headings, sorted_sim_scores"
      ],
      "execution_count": null,
      "outputs": []
    },
    {
      "cell_type": "code",
      "metadata": {
        "id": "tWIG7sQn1IR3",
        "colab_type": "code",
        "colab": {}
      },
      "source": [
        "# pick an article from the \"test\" set\n",
        "# treat this as the article that the user is currently reading\n",
        "k = 0\n",
        "test_article = X_test_tfidf[k]"
      ],
      "execution_count": null,
      "outputs": []
    },
    {
      "cell_type": "code",
      "metadata": {
        "id": "Y0qwFRV_1a-M",
        "colab_type": "code",
        "colab": {}
      },
      "source": [
        "# return the top n most similar articles as recommendations \n",
        "top_n_recs, rec_sections, rec_headings, sorted_sim_scores = \\\n",
        "get_top_n_rec_articles(X_train_tfidf, X_train,  test_article,X_train_sections, X_train_headings, n = 5 )"
      ],
      "execution_count": null,
      "outputs": []
    },
    {
      "cell_type": "code",
      "metadata": {
        "id": "yyWqT59o1a6p",
        "colab_type": "code",
        "colab": {
          "base_uri": "https://localhost:8080/",
          "height": 168
        },
        "outputId": "d949f4b5-5ec1-435d-c065-1afabe1fbdf9"
      },
      "source": [
        "#validate the results\n",
        "#Compare the user's article and corresponding section name with the recommended articles and corresponding section names\n",
        "\n",
        "# similarity scores\n",
        "sorted_sim_scores[:5]"
      ],
      "execution_count": null,
      "outputs": [
        {
          "output_type": "execute_result",
          "data": {
            "text/plain": [
              "array([[[0.2246952 ]],\n",
              "\n",
              "       [[0.22285593]],\n",
              "\n",
              "       [[0.12201387]],\n",
              "\n",
              "       [[0.09892844]],\n",
              "\n",
              "       [[0.09773023]]])"
            ]
          },
          "metadata": {
            "tags": []
          },
          "execution_count": 22
        }
      ]
    },
    {
      "cell_type": "code",
      "metadata": {
        "id": "NJKLpViF1a5G",
        "colab_type": "code",
        "colab": {
          "base_uri": "https://localhost:8080/",
          "height": 119
        },
        "outputId": "b12ab630-77bd-43c7-fb7d-6c116634cb82"
      },
      "source": [
        "# user's article\n",
        "X_test[k]"
      ],
      "execution_count": null,
      "outputs": [
        {
          "output_type": "execute_result",
          "data": {
            "application/vnd.google.colaboratory.intrinsic": {
              "type": "string"
            },
            "text/plain": [
              "'jose mourinho launch impass defenc harri kane form play style tottenham hotspur televis pundit paul merson suggest england striker struggl portugues manag merson pundit sport say year kane consid switch club mourinho continu adopt conserv style premier leagu like draw manchest unit week kane score seven goal game mourinho struggl impact unit match return hamstr surgeri januari mourinho say merson wrong judg base game record goal harri charg easi striker play mourinho tell report virtual news confer monday minut long respons mourinho go mention like didier drogba cristiano ronaldo karim benzema diego milito zlatan ibrahimov reel goal score stat tenur club dear paul lot respect mourinho add think harri kane problem score goal team especi fresh routin play good news injuri mourinho confirm forward luca moura avail recov injuri dele alli content serv match suspens time arriv attack player avail game mourinho say match final peopl play bench rotat player attack option match good'"
            ]
          },
          "metadata": {
            "tags": []
          },
          "execution_count": 23
        }
      ]
    },
    {
      "cell_type": "code",
      "metadata": {
        "id": "oovuyl_G1xP8",
        "colab_type": "code",
        "colab": {
          "base_uri": "https://localhost:8080/",
          "height": 35
        },
        "outputId": "1734b116-61bc-48f1-cebf-4a3f314876f8"
      },
      "source": [
        "# user's article's section name\n",
        "X_test_sections[k]"
      ],
      "execution_count": null,
      "outputs": [
        {
          "output_type": "execute_result",
          "data": {
            "application/vnd.google.colaboratory.intrinsic": {
              "type": "string"
            },
            "text/plain": [
              "'footbal'"
            ]
          },
          "metadata": {
            "tags": []
          },
          "execution_count": 24
        }
      ]
    },
    {
      "cell_type": "code",
      "metadata": {
        "id": "b1jq5NUj1xMM",
        "colab_type": "code",
        "colab": {
          "base_uri": "https://localhost:8080/",
          "height": 101
        },
        "outputId": "26591d74-3a19-49f0-8e13-f9ac34783794"
      },
      "source": [
        "# corresponding section names for top n recs \n",
        "rec_sections"
      ],
      "execution_count": null,
      "outputs": [
        {
          "output_type": "execute_result",
          "data": {
            "text/plain": [
              "array([['footbal'],\n",
              "       ['footbal'],\n",
              "       ['cricket'],\n",
              "       ['cricket'],\n",
              "       ['cricket']], dtype=object)"
            ]
          },
          "metadata": {
            "tags": []
          },
          "execution_count": 25
        }
      ]
    },
    {
      "cell_type": "code",
      "metadata": {
        "id": "JrPQHd291xKv",
        "colab_type": "code",
        "colab": {
          "base_uri": "https://localhost:8080/",
          "height": 138
        },
        "outputId": "0246ffd5-9ae5-4e35-855a-2f493629a3a2"
      },
      "source": [
        "# top n article recs\n",
        "top_n_recs"
      ],
      "execution_count": null,
      "outputs": [
        {
          "output_type": "execute_result",
          "data": {
            "text/plain": [
              "array([['alvaro morata score twice lead atletico madrid mallorca extend strong finish spanish leagu friday diego simeon team long titl race disput leader real madrid second place barcelona trail point atlético hottest team liga tick shift focus champion leagu final play portug month march leagu halt atlético struggl secur champion leagu berth season cours finish atlético remain undef seven match spanish leagu resum follow month stoppag covid pandem complic situat stoppag play play play great attitud morata say simeon domin releg threaten mallorca kickoff morata earn penalti pull aleksandar sedlar area goalkeep manuel reina block strike video review help refere order redo spot kick sedlar enter area earli morata step second rifl ball corner minut miss get tri footbal morata say penalti chelsea real madrid striker scoreboard half injuri time jorg koke resurrección steal ball play marco llorent clear reach line morata post home goal morata season leagu play mallorca muster comeback renan lodi crossbar atlético koke score shoot deflect defend reina chanc save mallorca leav point safeti game leav soccer https apnew soccer https twitter ap_sport'],\n",
              "       ['video assist refere correct liga barcelona manag quiqu setien say monday follow real madrid controversi real sociedad madrid beat sociedad climb barcelona liga home aggriev goal rule offsid karim benzema winner stand appear control ball thing control depend everybodi happen anoeta draw conclus setien tell report ahead tuesday match athlet bilbao understand think action review refere review play match think correct setien say controversi footbal year chang controversi add tool better clearer view realiti point real stand superior head head record setien convinc titl race barcelona hand margin error smaller smaller say madrid mistak leagu decid game leav madrid play difficult game like'],\n",
              "       ['mumbai indian success team histori indian premier leagu team rohit sharma titl cliffhang final chennai super king season victori margin mumbai tournament word reach final chennai super king reach final time come team lose final win tournament altern year read charg team current head coach mahela jayawarden speak soni pitstop lanka skipper say manag differ player dress room order best guy differ characterist need allow express need creat environ charact come perform manag need manag player add read go player field bum jasprit bumrah quiet go middl differ beast hardik pandya loud field loud field enjoy dress room amaz guy talent pleasur manag guy franchis jayawarden team titl'],\n",
              "       ['west indi head coach phil simmon rejoin team ahead open test england mandatori quarantin clear covid test follow decis attend famili funer phil simmon west indi head coach return field player thursday mandatori quarantin covid test cricket west indi say thursday warm match prepar west indi continu warm match trafford state simmon soup board member cond riley seek immedi remov move team secur locat attend father funer ahead test seri england begin juli year simmon receiv back board presid ricki skerritt insist take permiss ventur simmon second stint west indi coach self isol team site hotel trafford grant request compassion leav squad leav britain west indi current play second final intra squad game prepar test seri mark resumpt intern cricket'],\n",
              "       ['despit abl lead india trophi sole india joint winner champion trophi lanka sourav ganguli rat best indian captain number captain especi test cricket strong case ganguli fieri charact persona look opposit back young talent build foundat team futur stand india open wasim jaffer debut sachin tendulkar indian captain play cricket test rahul dravid rat ganguli best captain play read inzamam give verdict virat koh babar azam debat jaffer play test ganguli captainci say current bcci presid indian sourav ganguli team tempera back player give longer rope jaffer tell crictrack notabl jaffer debut seri india south africa seri februari mar match fix controversi complet overhaul indian ganguli appoint captain build scratch india open immedi look youth bring player like virend sehwag yuvraj singh zaheer khan harbhajan singh indian read dhoni keep wicket pay attent field placement jaffer say ganguli sehwag open middl order batsman career back zaheer yuvraj harbhajan sehwag open bat bring player like zaheer khan yuvraj singh harbhajan singh jaffer say ganguli captain india odi india lose result test cricket ganguli better record captain test captain ganguli india victori occas lose end draw ganguli hang boot play test odi score run respect ganguli hundr fourth indian sachin tendulkar virat koh rohit sharma']],\n",
              "      dtype=object)"
            ]
          },
          "metadata": {
            "tags": []
          },
          "execution_count": 26
        }
      ]
    },
    {
      "cell_type": "code",
      "metadata": {
        "id": "ZviLHaV01-Hx",
        "colab_type": "code",
        "colab": {
          "base_uri": "https://localhost:8080/",
          "height": 118
        },
        "outputId": "1a4f9d3e-8ba9-4bc8-8468-4a237dbad778"
      },
      "source": [
        "# corresonding URLs for top n recs \n",
        "rec_headings"
      ],
      "execution_count": null,
      "outputs": [
        {
          "output_type": "execute_result",
          "data": {
            "text/plain": [
              "array([['morata doubl lead atletico mallorca liga'],\n",
              "       ['correct barcelona coach setien'],\n",
              "       ['jasprit bumrah differ beast go middl mumbai indian head coach mahela jayawarden'],\n",
              "       ['head coach phil simmon rejoin team mandatori quarantin covid test'],\n",
              "       ['sourav ganguli sehwag open bring yuvraj zaheer harbhajan india open wasim jaffer name best captain play']],\n",
              "      dtype=object)"
            ]
          },
          "metadata": {
            "tags": []
          },
          "execution_count": 27
        }
      ]
    },
    {
      "cell_type": "code",
      "metadata": {
        "id": "I6nO6jKSgQsk",
        "colab_type": "code",
        "colab": {}
      },
      "source": [
        ""
      ],
      "execution_count": null,
      "outputs": []
    },
    {
      "cell_type": "code",
      "metadata": {
        "id": "aN40mpmEgQn_",
        "colab_type": "code",
        "colab": {}
      },
      "source": [
        ""
      ],
      "execution_count": null,
      "outputs": []
    },
    {
      "cell_type": "code",
      "metadata": {
        "id": "caUCQaXlgQmb",
        "colab_type": "code",
        "colab": {}
      },
      "source": [
        ""
      ],
      "execution_count": null,
      "outputs": []
    },
    {
      "cell_type": "code",
      "metadata": {
        "id": "BoFjwNlqLHfS",
        "colab_type": "code",
        "colab": {
          "base_uri": "https://localhost:8080/",
          "height": 34
        },
        "outputId": "28ca1701-86b3-4ac4-8e88-b14cf7732282"
      },
      "source": [
        "unique_topics = set(X_test_sections)\n",
        "unique_topics"
      ],
      "execution_count": 60,
      "outputs": [
        {
          "output_type": "execute_result",
          "data": {
            "text/plain": [
              "{'cricket', 'educ', 'footbal'}"
            ]
          },
          "metadata": {
            "tags": []
          },
          "execution_count": 60
        }
      ]
    },
    {
      "cell_type": "code",
      "metadata": {
        "id": "FH8s4KHvLHSM",
        "colab_type": "code",
        "colab": {}
      },
      "source": [
        ""
      ],
      "execution_count": null,
      "outputs": []
    },
    {
      "cell_type": "code",
      "metadata": {
        "id": "HFmQaxXc7lYC",
        "colab_type": "code",
        "colab": {}
      },
      "source": [
        "# text classification\n",
        "from sklearn.decomposition import TruncatedSVD\n",
        "from sklearn.feature_extraction.text import TfidfVectorizer\n",
        "from sklearn.feature_extraction.text import HashingVectorizer\n",
        "from sklearn.feature_extraction.text import TfidfTransformer\n",
        "from sklearn.feature_extraction.text import CountVectorizer\n",
        "\n",
        "from sklearn.pipeline import Pipeline\n",
        "from sklearn.pipeline import make_pipeline\n",
        "from sklearn.preprocessing import Normalizer"
      ],
      "execution_count": 64,
      "outputs": []
    },
    {
      "cell_type": "code",
      "metadata": {
        "id": "Ba6HU-f4Leca",
        "colab_type": "code",
        "colab": {
          "base_uri": "https://localhost:8080/",
          "height": 34
        },
        "outputId": "c77a661e-c08f-43ea-d64d-0e9d6a15f11a"
      },
      "source": [
        "categories = [str(x) for x in unique_topics]\n",
        "categories"
      ],
      "execution_count": 16,
      "outputs": [
        {
          "output_type": "execute_result",
          "data": {
            "text/plain": [
              "['cricket', 'educ', 'footbal']"
            ]
          },
          "metadata": {
            "tags": []
          },
          "execution_count": 16
        }
      ]
    },
    {
      "cell_type": "code",
      "metadata": {
        "id": "F_OIZjxtJd9Z",
        "colab_type": "code",
        "colab": {}
      },
      "source": [
        "n_components = 3\n",
        "#labels = data_train.target\n",
        "#true_k = np.unique(labels).shape[0]\n",
        "data_train = X_train\n",
        "topic_train = X_train_sections\n",
        "\n",
        "data_test = X_test\n",
        "topic_test = X_test_sections\n",
        "\n",
        "#true_k = len(categories)\n",
        "# convert to TF-IDF format\n",
        "vectorizer = TfidfVectorizer(stop_words='english')\n",
        "X_train_vec = vectorizer.fit_transform(data_train)\n",
        "\n",
        "# Reduce dimensions\n",
        "svd = TruncatedSVD(n_components)\n",
        "normalizer = Normalizer(copy=False)\n",
        "lsa = make_pipeline(svd, normalizer)\n",
        "\n",
        "X_train_vec = lsa.fit_transform(X_train_vec)"
      ],
      "execution_count": 96,
      "outputs": []
    },
    {
      "cell_type": "code",
      "metadata": {
        "id": "IkbIKrY2eNok",
        "colab_type": "code",
        "colab": {
          "base_uri": "https://localhost:8080/",
          "height": 104
        },
        "outputId": "1280319b-111a-4b1e-ed72-399459789096"
      },
      "source": [
        "data_test"
      ],
      "execution_count": 85,
      "outputs": [
        {
          "output_type": "execute_result",
          "data": {
            "text/plain": [
              "array(['jose mourinho launch impass defenc harri kane form play style tottenham hotspur televis pundit paul merson suggest england striker struggl portugues manag merson pundit sport say year kane consid switch club mourinho continu adopt conserv style premier leagu like draw manchest unit week kane score seven goal game mourinho struggl impact unit match return hamstr surgeri januari mourinho say merson wrong judg base game record goal harri charg easi striker play mourinho tell report virtual news confer monday minut long respons mourinho go mention like didier drogba cristiano ronaldo karim benzema diego milito zlatan ibrahimov reel goal score stat tenur club dear paul lot respect mourinho add think harri kane problem score goal team especi fresh routin play good news injuri mourinho confirm forward luca moura avail recov injuri dele alli content serv match suspens time arriv attack player avail game mourinho say match final peopl play bench rotat player attack option match good',\n",
              "       'seven peopl cricket south africa test posit novel coronavirus cricket organis reveal monday conduct mass test employe countri includ affili staff contract profession player personnel test includ franchis train squad assembl govern announc contact sport resum level nationwid lockdown definit go peopl test posit have conduct test seven actual act jacqu faul quot say sport faul reveal peopl test posit south africa player medic ethic protocol allow share info peopl test posit faul say million peopl test posit coronavirus cricket world bangladesh captain mashraf mortaza pakistan skipper shahid afridi recent test posit virus south africa solo nqweni class cricket battl guillan barr syndrom year health issu test posit novel coronavirus month govern world eas lockdown restrict south africa look resum cricket announc launch innov competit titl tcricket competit solidar team play singl match supersport park centurion indefinit postpon tournament schedul june start say work need stage',\n",
              "       'delhi deputi chief minist manish sisodia thursday say school state close learn continu student learn human feel mantra delhi govern teach learn approach sisodia say add digit technolog complement effort teacher reach child assist learn explain method follow teach educ minist say teacher reach student whatsapp regular phone call light assign regular feedback school close learn continu learn human feel mantra delhi govern teach learn approach digit technolog complement effort teacher reach child assist learn student class receiv daili exercis feedback class teacher whatsapp student class attend live onlin class conduct delhi govt teacher subject say minist follow teacher phone whatsapp clear doubt minist add say govern follow principl digit divid come children access learn opportun earlier june sisodia say school delhi continu remain close till juli view coronavirus situat'],\n",
              "      dtype=object)"
            ]
          },
          "metadata": {
            "tags": []
          },
          "execution_count": 85
        }
      ]
    },
    {
      "cell_type": "code",
      "metadata": {
        "id": "M8MqS6K6Jd6z",
        "colab_type": "code",
        "colab": {
          "base_uri": "https://localhost:8080/",
          "height": 34
        },
        "outputId": "3ddf986d-2474-436c-8c9d-59de9501730c"
      },
      "source": [
        "# order of labels in `target_names` can be different from `categories`\n",
        "#target_names = data_train.target_names\n",
        "# split a training set and a test set\n",
        "y_train_vec, y_test_vec = topic_train, topic_test\n",
        "\n",
        "print(\"Extracting features from the test data using the same vectorizer\")\n",
        "X_test_vec = vectorizer.transform(data_test)\n",
        "X_test_vec = lsa.fit_transform(X_test_vec)"
      ],
      "execution_count": 97,
      "outputs": [
        {
          "output_type": "stream",
          "text": [
            "Extracting features from the test data using the same vectorizer\n"
          ],
          "name": "stdout"
        }
      ]
    },
    {
      "cell_type": "code",
      "metadata": {
        "id": "86wMQogIJd3f",
        "colab_type": "code",
        "colab": {}
      },
      "source": [
        "from sklearn.naive_bayes import GaussianNB"
      ],
      "execution_count": 92,
      "outputs": []
    },
    {
      "cell_type": "code",
      "metadata": {
        "id": "QfrL81GlJd2S",
        "colab_type": "code",
        "colab": {}
      },
      "source": [
        "gnb = GaussianNB()\n",
        "y_pred_NB = gnb.fit(X_train_vec, y_train_vec).predict(X_test_vec)"
      ],
      "execution_count": 98,
      "outputs": []
    },
    {
      "cell_type": "code",
      "metadata": {
        "id": "B5V3UWWAJsOC",
        "colab_type": "code",
        "colab": {
          "base_uri": "https://localhost:8080/",
          "height": 34
        },
        "outputId": "7f6c7f27-8ee6-4de5-d640-5f8328a268e3"
      },
      "source": [
        "y_pred_NB"
      ],
      "execution_count": 99,
      "outputs": [
        {
          "output_type": "execute_result",
          "data": {
            "text/plain": [
              "array(['educ', 'educ', 'educ'], dtype='<U7')"
            ]
          },
          "metadata": {
            "tags": []
          },
          "execution_count": 99
        }
      ]
    },
    {
      "cell_type": "code",
      "metadata": {
        "id": "YlvvYOGhkxjy",
        "colab_type": "code",
        "colab": {
          "base_uri": "https://localhost:8080/",
          "height": 289
        },
        "outputId": "82701c79-bfc2-4c05-fd8e-a1e26912faf6"
      },
      "source": [
        "from sklearn import metrics\n",
        "print(metrics.classification_report(y_test, y_pred_NB))\n",
        "print(metrics.confusion_matrix(y_test, y_pred_NB))"
      ],
      "execution_count": 100,
      "outputs": [
        {
          "output_type": "stream",
          "text": [
            "              precision    recall  f1-score   support\n",
            "\n",
            "     cricket       0.00      0.00      0.00         1\n",
            "        educ       0.33      1.00      0.50         1\n",
            "     footbal       0.00      0.00      0.00         1\n",
            "\n",
            "    accuracy                           0.33         3\n",
            "   macro avg       0.11      0.33      0.17         3\n",
            "weighted avg       0.11      0.33      0.17         3\n",
            "\n",
            "[[0 1 0]\n",
            " [0 1 0]\n",
            " [0 1 0]]\n"
          ],
          "name": "stdout"
        },
        {
          "output_type": "stream",
          "text": [
            "/usr/local/lib/python3.6/dist-packages/sklearn/metrics/_classification.py:1272: UndefinedMetricWarning: Precision and F-score are ill-defined and being set to 0.0 in labels with no predicted samples. Use `zero_division` parameter to control this behavior.\n",
            "  _warn_prf(average, modifier, msg_start, len(result))\n"
          ],
          "name": "stderr"
        }
      ]
    },
    {
      "cell_type": "code",
      "metadata": {
        "id": "M_-D64TBkxgn",
        "colab_type": "code",
        "colab": {}
      },
      "source": [
        ""
      ],
      "execution_count": null,
      "outputs": []
    },
    {
      "cell_type": "code",
      "metadata": {
        "id": "V2O8ie8UJsKs",
        "colab_type": "code",
        "colab": {}
      },
      "source": [
        "from sklearn.svm import SVC"
      ],
      "execution_count": 81,
      "outputs": []
    },
    {
      "cell_type": "code",
      "metadata": {
        "id": "HLu3uIKTJsHb",
        "colab_type": "code",
        "colab": {}
      },
      "source": [
        "svm = SVC()\n",
        "y_pred_SVM = svm.fit(X_train_vec, y_train_vec).predict(X_test_vec)"
      ],
      "execution_count": 82,
      "outputs": []
    },
    {
      "cell_type": "code",
      "metadata": {
        "id": "mRnkZYsuJsGR",
        "colab_type": "code",
        "colab": {
          "base_uri": "https://localhost:8080/",
          "height": 34
        },
        "outputId": "7dba2740-207d-4596-e789-ef500805af30"
      },
      "source": [
        "y_pred_SVM"
      ],
      "execution_count": 83,
      "outputs": [
        {
          "output_type": "execute_result",
          "data": {
            "text/plain": [
              "array(['educ', 'educ', 'cricket'], dtype=object)"
            ]
          },
          "metadata": {
            "tags": []
          },
          "execution_count": 83
        }
      ]
    },
    {
      "cell_type": "code",
      "metadata": {
        "id": "IT04U-fRYZdU",
        "colab_type": "code",
        "colab": {
          "base_uri": "https://localhost:8080/",
          "height": 289
        },
        "outputId": "2e3c6ef4-3615-4bfb-f2ab-a60dbaabbe9f"
      },
      "source": [
        "\n",
        "print(metrics.classification_report(y_test, y_pred_SVM))\n",
        "print(metrics.confusion_matrix(y_test, y_pred_SVM))"
      ],
      "execution_count": 101,
      "outputs": [
        {
          "output_type": "stream",
          "text": [
            "              precision    recall  f1-score   support\n",
            "\n",
            "     cricket       0.00      0.00      0.00         1\n",
            "        educ       0.50      1.00      0.67         1\n",
            "     footbal       0.00      0.00      0.00         1\n",
            "\n",
            "    accuracy                           0.33         3\n",
            "   macro avg       0.17      0.33      0.22         3\n",
            "weighted avg       0.17      0.33      0.22         3\n",
            "\n",
            "[[0 1 0]\n",
            " [0 1 0]\n",
            " [1 0 0]]\n"
          ],
          "name": "stdout"
        },
        {
          "output_type": "stream",
          "text": [
            "/usr/local/lib/python3.6/dist-packages/sklearn/metrics/_classification.py:1272: UndefinedMetricWarning: Precision and F-score are ill-defined and being set to 0.0 in labels with no predicted samples. Use `zero_division` parameter to control this behavior.\n",
            "  _warn_prf(average, modifier, msg_start, len(result))\n"
          ],
          "name": "stderr"
        }
      ]
    },
    {
      "cell_type": "code",
      "metadata": {
        "id": "SimhOt7osOug",
        "colab_type": "code",
        "colab": {}
      },
      "source": [
        ""
      ],
      "execution_count": null,
      "outputs": []
    }
  ]
}