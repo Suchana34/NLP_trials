{
  "nbformat": 4,
  "nbformat_minor": 0,
  "metadata": {
    "colab": {
      "name": "Try3_ sanjaya_blog_content_17.ipynb",
      "provenance": []
    },
    "kernelspec": {
      "name": "python3",
      "display_name": "Python 3"
    }
  },
  "cells": [
    {
      "cell_type": "code",
      "metadata": {
        "id": "KiqQ49Hglyyv",
        "colab_type": "code",
        "colab": {}
      },
      "source": [
        "#text clustering\n",
        "import pandas as pd\n",
        "import numpy as np\n",
        "from sklearn.cluster import MiniBatchKMeans\n",
        "from sklearn.feature_extraction.text import TfidfVectorizer\n",
        "from sklearn.decomposition import PCA\n",
        "import matplotlib.pyplot as plt"
      ],
      "execution_count": 1,
      "outputs": []
    },
    {
      "cell_type": "code",
      "metadata": {
        "id": "0Vsb2cG5OZKd",
        "colab_type": "code",
        "colab": {
          "base_uri": "https://localhost:8080/",
          "height": 121
        },
        "outputId": "956f6d38-cf62-4c83-d595-2653fc4ae273"
      },
      "source": [
        "from google.colab import drive\n",
        "drive.mount('/content/drive')\n"
      ],
      "execution_count": 3,
      "outputs": [
        {
          "output_type": "stream",
          "text": [
            "Go to this URL in a browser: https://accounts.google.com/o/oauth2/auth?client_id=947318989803-6bn6qk8qdgf4n4g3pfee6491hc0brc4i.apps.googleusercontent.com&redirect_uri=urn%3aietf%3awg%3aoauth%3a2.0%3aoob&response_type=code&scope=email%20https%3a%2f%2fwww.googleapis.com%2fauth%2fdocs.test%20https%3a%2f%2fwww.googleapis.com%2fauth%2fdrive%20https%3a%2f%2fwww.googleapis.com%2fauth%2fdrive.photos.readonly%20https%3a%2f%2fwww.googleapis.com%2fauth%2fpeopleapi.readonly\n",
            "\n",
            "Enter your authorization code:\n",
            "··········\n",
            "Mounted at /content/drive\n"
          ],
          "name": "stdout"
        }
      ]
    },
    {
      "cell_type": "code",
      "metadata": {
        "id": "463XZ48mMahK",
        "colab_type": "code",
        "colab": {
          "base_uri": "https://localhost:8080/",
          "height": 279
        },
        "outputId": "1e14b2f1-cef2-4697-ffb3-36d6f146cf6a"
      },
      "source": [
        "df = pd.read_csv('/content/drive/My Drive/result1.csv')\n",
        "df.head()"
      ],
      "execution_count": 4,
      "outputs": [
        {
          "output_type": "execute_result",
          "data": {
            "text/html": [
              "<div>\n",
              "<style scoped>\n",
              "    .dataframe tbody tr th:only-of-type {\n",
              "        vertical-align: middle;\n",
              "    }\n",
              "\n",
              "    .dataframe tbody tr th {\n",
              "        vertical-align: top;\n",
              "    }\n",
              "\n",
              "    .dataframe thead th {\n",
              "        text-align: right;\n",
              "    }\n",
              "</style>\n",
              "<table border=\"1\" class=\"dataframe\">\n",
              "  <thead>\n",
              "    <tr style=\"text-align: right;\">\n",
              "      <th></th>\n",
              "      <th>_id</th>\n",
              "      <th>topic</th>\n",
              "      <th>heading</th>\n",
              "      <th>summary</th>\n",
              "      <th>date_published</th>\n",
              "      <th>author</th>\n",
              "      <th>content</th>\n",
              "      <th>tags</th>\n",
              "    </tr>\n",
              "  </thead>\n",
              "  <tbody>\n",
              "    <tr>\n",
              "      <th>0</th>\n",
              "      <td>5ef0d2b4d83b3587cb500ec9</td>\n",
              "      <td>[\"analysis\"]</td>\n",
              "      <td>[\"Don’t discriminate against non-resident migr...</td>\n",
              "      <td>[\"Create a legal regime that allows them to ac...</td>\n",
              "      <td>[\"Updated: Jun 22, 2020 19:30 IST\"]</td>\n",
              "      <td>[\"KP Krishnan and Anirudh Burman\"]</td>\n",
              "      <td>[\"Prime Minister (PM) Narendra Modi recently a...</td>\n",
              "      <td>[\"India\",\"Narendra Modi\",\"BIHAR\",\"Haryana\",\"Mi...</td>\n",
              "    </tr>\n",
              "    <tr>\n",
              "      <th>1</th>\n",
              "      <td>5ef0d2b8d83b3587cb500ecb</td>\n",
              "      <td>[\"opinion\"]</td>\n",
              "      <td>[\"India has closed military gap with China alo...</td>\n",
              "      <td>[\"Over the past dozen years India has not only...</td>\n",
              "      <td>[\"Updated: Jun 22, 2020 16:01 IST\"]</td>\n",
              "      <td>[\"Pramit Pal Chaudhuri\"]</td>\n",
              "      <td>[\"India has the \",\", says a recent Harvard Uni...</td>\n",
              "      <td>[\"Indian Army\",\"Galwan Valley\",\"India China bo...</td>\n",
              "    </tr>\n",
              "    <tr>\n",
              "      <th>2</th>\n",
              "      <td>5ef0d2bad83b3587cb500ecc</td>\n",
              "      <td>[\"opinion\"]</td>\n",
              "      <td>[\"Ladakh faceoff: Looking back for a way forwa...</td>\n",
              "      <td>[\"DRAW THE LINE Policing the borders and preve...</td>\n",
              "      <td>[\"Updated: Jun 22, 2020 18:06 IST\"]</td>\n",
              "      <td>[\"Lt Gen GS Sihota (retd)\"]</td>\n",
              "      <td>[\"On December 11, 1917, General Edmund Allenby...</td>\n",
              "      <td>NaN</td>\n",
              "    </tr>\n",
              "    <tr>\n",
              "      <th>3</th>\n",
              "      <td>5ef0d2bdd83b3587cb500ecd</td>\n",
              "      <td>[\"editorials\"]</td>\n",
              "      <td>[\"Redesign the model village scheme | HT Edito...</td>\n",
              "      <td>[\"For MPs to take it up, expand its ambit to a...</td>\n",
              "      <td>[\"Updated: Jun 22, 2020 18:56 IST\"]</td>\n",
              "      <td>NaN</td>\n",
              "      <td>[\"A study commissioned by the Union ministry o...</td>\n",
              "      <td>NaN</td>\n",
              "    </tr>\n",
              "    <tr>\n",
              "      <th>4</th>\n",
              "      <td>5ef0d2bed83b3587cb500ece</td>\n",
              "      <td>[\"columns\"]</td>\n",
              "      <td>[\"How China has overplayed its hand, writes Ba...</td>\n",
              "      <td>[\"Beijing’s belligerence reflects a familiar h...</td>\n",
              "      <td>[\"Updated: Jun 22, 2020 19:31 IST\"]</td>\n",
              "      <td>[\"Baijayant “Jay” Panda\"]</td>\n",
              "      <td>[\"Almost 2,500 years ago, Greek historian, Thu...</td>\n",
              "      <td>[\"CHINA\",\"India\"]</td>\n",
              "    </tr>\n",
              "  </tbody>\n",
              "</table>\n",
              "</div>"
            ],
            "text/plain": [
              "                        _id  ...                                               tags\n",
              "0  5ef0d2b4d83b3587cb500ec9  ...  [\"India\",\"Narendra Modi\",\"BIHAR\",\"Haryana\",\"Mi...\n",
              "1  5ef0d2b8d83b3587cb500ecb  ...  [\"Indian Army\",\"Galwan Valley\",\"India China bo...\n",
              "2  5ef0d2bad83b3587cb500ecc  ...                                                NaN\n",
              "3  5ef0d2bdd83b3587cb500ecd  ...                                                NaN\n",
              "4  5ef0d2bed83b3587cb500ece  ...                                  [\"CHINA\",\"India\"]\n",
              "\n",
              "[5 rows x 8 columns]"
            ]
          },
          "metadata": {
            "tags": []
          },
          "execution_count": 4
        }
      ]
    },
    {
      "cell_type": "code",
      "metadata": {
        "id": "NOdATRevPHIV",
        "colab_type": "code",
        "colab": {
          "base_uri": "https://localhost:8080/",
          "height": 34
        },
        "outputId": "1cd584c9-8977-463f-8104-d18e008c2ec5"
      },
      "source": [
        "df.shape"
      ],
      "execution_count": 10,
      "outputs": [
        {
          "output_type": "execute_result",
          "data": {
            "text/plain": [
              "(148, 8)"
            ]
          },
          "metadata": {
            "tags": []
          },
          "execution_count": 10
        }
      ]
    },
    {
      "cell_type": "code",
      "metadata": {
        "id": "BGnTBP5wz2Fr",
        "colab_type": "code",
        "colab": {}
      },
      "source": [
        "df.dropna(subset = ['content'], inplace= True)\n",
        "df.dropna(subset = ['topic'], inplace = True)"
      ],
      "execution_count": 6,
      "outputs": []
    },
    {
      "cell_type": "code",
      "metadata": {
        "id": "_L_Uxzpsz2Ct",
        "colab_type": "code",
        "colab": {
          "base_uri": "https://localhost:8080/",
          "height": 34
        },
        "outputId": "d7b74fe6-3e74-4337-9a66-c93ddaa17f84"
      },
      "source": [
        "df.topic.nunique()"
      ],
      "execution_count": 8,
      "outputs": [
        {
          "output_type": "execute_result",
          "data": {
            "text/plain": [
              "27"
            ]
          },
          "metadata": {
            "tags": []
          },
          "execution_count": 8
        }
      ]
    },
    {
      "cell_type": "code",
      "metadata": {
        "id": "T9OeZabJP8AK",
        "colab_type": "code",
        "colab": {
          "base_uri": "https://localhost:8080/",
          "height": 84
        },
        "outputId": "e6e3890e-7192-4714-fa7b-49eb5fcfe1a1"
      },
      "source": [
        "import nltk\n",
        "nltk.download('wordnet')\n",
        "nltk.download('stopwords')\n",
        "import gensim\n",
        "from gensim.utils import simple_preprocess\n",
        "from gensim.models import CoherenceModel\n",
        "from gensim.parsing.preprocessing import STOPWORDS\n",
        "from nltk.stem import WordNetLemmatizer, SnowballStemmer\n",
        "from nltk.stem.porter import *\n",
        "import numpy as np\n",
        "import re"
      ],
      "execution_count": 9,
      "outputs": [
        {
          "output_type": "stream",
          "text": [
            "[nltk_data] Downloading package wordnet to /root/nltk_data...\n",
            "[nltk_data]   Unzipping corpora/wordnet.zip.\n",
            "[nltk_data] Downloading package stopwords to /root/nltk_data...\n",
            "[nltk_data]   Unzipping corpora/stopwords.zip.\n"
          ],
          "name": "stdout"
        }
      ]
    },
    {
      "cell_type": "code",
      "metadata": {
        "id": "gB7bRz4NP77F",
        "colab_type": "code",
        "colab": {}
      },
      "source": [
        "# data preprocessing\n",
        "stemmer = SnowballStemmer(language='english',ignore_stopwords=True)\n",
        "def lemmatize_stemming(text):\n",
        "    return stemmer.stem(WordNetLemmatizer().lemmatize(text, pos='v'))\n",
        "def preprocess(text):\n",
        "    result = []\n",
        "    for token in gensim.utils.simple_preprocess(text):\n",
        "        if token not in gensim.parsing.preprocessing.STOPWORDS and len(token) > 3:\n",
        "            result.append(lemmatize_stemming(token))\n",
        "    return result"
      ],
      "execution_count": 11,
      "outputs": []
    },
    {
      "cell_type": "code",
      "metadata": {
        "id": "MB2SeQCtQ0-s",
        "colab_type": "code",
        "colab": {
          "base_uri": "https://localhost:8080/",
          "height": 138
        },
        "outputId": "911cc5fc-5778-43ab-d876-bb662daa7894"
      },
      "source": [
        "# preview after preprocessing\n",
        "doc_sample = df.content[0]\n",
        "print('original document: ')\n",
        "words = []\n",
        "for word in doc_sample.split(' '):\n",
        "    words.append(word)\n",
        "print(words)\n",
        "print('\\n\\n tokenized and lemmatized document: ')\n",
        "print(preprocess(doc_sample))"
      ],
      "execution_count": 12,
      "outputs": [
        {
          "output_type": "stream",
          "text": [
            "original document: \n",
            "['[\"Prime', 'Minister', '(PM)', 'Narendra', 'Modi', 'recently', 'announced', 'that', 'India', 'must', 'become', '\",\"(self-reliant).', 'One', 'aspect', 'of', 'this', 'could', 'be', 'that', 'India', 'will', 'remove', 'barriers', 'within', 'its', 'internal', 'markets', 'to', 'truly', 'become', 'a', 'single', 'market.', 'It', 'will', 'remove', 'the', 'hurdles', 'to', 'efficiency', 'improvements', 'and', 'become', 'more', 'competitive.', 'The', 'Goods', 'and', 'Services', 'Tax', '(GST)', 'was', 'a', 'step', 'in', 'this', 'direction.', 'Recent', 'decisions', 'to', 'remove', 'hurdles', 'in', 'inter-state', 'agricultural', 'trade', 'are', 'also', 'similar.', 'For', 'agricultural', 'and', 'industrial', 'products,', 'as', 'well', 'as', 'capital,', 'India', 'is', 'increasingly', 'becoming', 'a', 'single', 'market.', 'The', 'creation', 'of', 'a', 'barrier-free', 'domestic', 'market', 'is', 'also', 'an', 'intent', 'reflected', 'in', 'Article', '301', 'of', 'the', 'Constitution.\",\"However,', 'there', 'is', 'one', 'market', 'where', 'frictions', 'are', 'being', 'added', 'rather', 'than', 'reduced.', 'This', 'is', 'the', 'labour', 'market.', 'For', 'different', 'reasons,', 'leaders', 'from', 'out-migration', 'and', 'in-migration', 'states', 'have', 'made', 'statements', 'suggesting', 'that', 'there', 'may', 'be', 'more', 'impediments', 'to', 'the', 'inter-state', 'migration', 'of', 'workers.', 'Some', 'states', 'have', 'announced', 'preferential', 'treatment', 'for', 'workers', 'from', 'within', 'the', 'state.', 'Others', 'have', 'spoken', 'of', 'instituting', 'an', 'approval', 'system', 'before', 'allowing', 'their', 'workers', 'to', 'move', 'to', 'other', 'states,', 'in', 'the', 'backdrop', 'of', 'how', 'they', 'were', 'treated.\",\"There', 'are', 'compelling', 'reasons', 'for', 'internal', 'migration', 'in', 'India.\",\"First,', 'India', 'has', 'much', 'higher', 'economic', 'differences', 'across', 'states', 'than', 'comparable', 'countries', '—', 'with', 'the', 'per', 'capita', 'income', 'of', 'the', 'richest', 'large', 'state', '(Haryana)', 'being', 'more', 'than', 'six', 'times', 'that', 'of', 'the', 'poorest', 'state', '(Bihar).', 'The', 'wage', 'gap', 'between', 'states', 'is', 'as', 'high', 'as', '100%', 'for', 'regular', 'workers', 'and', '250%', 'for', 'casual', 'workers.', 'It', 'is,', 'therefore,', 'no', 'wonder', 'that', 'workers', 'from', 'the', 'poorer', 'states', 'migrate', 'to', 'richer', 'states', 'for', 'work.', 'As', 'of', 'now,', 'the', 'best', 'option', 'for', 'many', 'poor', 'people', 'looking', 'to', 'escape', 'poverty', 'is', 'to', 'leave', 'the', 'states', 'they', 'live', 'in,', 'because', 'of', 'economic', 'opportunities', 'in', 'richer', 'states.', 'This', 'movement', 'is', 'difficult', 'since', 'the', 'cost', 'of', 'living', 'is', 'also', 'higher', 'in', 'richer', 'states.', 'However,', 'millions', 'still', 'migrate', 'and', 'brave', 'squalid', 'conditions', 'in', 'in-migration', 'states', 'because', 'they', 'need', 'livelihoods.\",\"Second,', 'some', 'of', 'the', 'poorer', 'states', 'such', 'as', 'Uttar', 'Pradesh', 'and', 'Bihar', 'have', 'younger', 'and', 'larger', 'populations,', 'with', 'many', 'more', 'workers', 'than', 'work', 'opportunities.', 'While', 'these', 'states', 'must', 'develop', 'their', 'economies,', 'in', 'the', 'short-term,', 'migration', 'is', 'an', 'essential', 'component', 'of', 'development', 'for', 'them.\",\"Third,', 'India’s', 'growth', 'has', 'been', 'largely', 'services-led.', 'For', 'most', 'services,', 'the', 'availability', 'of', 'physical', 'labour', 'is', 'essential.', 'For', 'services', 'such', 'as', 'cooking,', 'driving,', 'hairdressing', 'and', 'security,', 'there', 'is', 'a', 'need', 'for', 'workers', 'to', 'be', 'physically', 'present', 'to', 'provide', 'the', 'service.\",\"While', 'beneficial', 'for', 'migrants,', 'migration', 'also', 'has', 'negative', 'implications.', 'Migration', 'can', 'put', 'downward', 'pressure', 'on', 'wages', 'in', 'richer', 'states,', 'with', 'the', 'increase', 'in', 'the', 'supply', 'of', 'workers.', 'This', 'creates', 'an', 'incentive', 'for', 'regional', 'and', 'local', 'leaders', 'to', 'generate', 'anti-migrant', 'sentiments,', 'and', 'to', 'promote', 'policies', 'that', 'favour', 'local', 'workers.', 'This', 'dynamic', 'is', 'not', 'very', 'different', 'from', 'the', 'one', 'seen', 'in', 'international', 'migration', '—', 'after', 'a', 'point,', 'a', 'political', 'economy', 'develops', 'to', 'oppose', 'migration.\",\"Throughout', 'India’s', 'history,', 'states', 'have', 'enacted', 'laws', 'and', 'measures', 'that', 'are', 'discriminatory', 'vis-à-vis', 'non-resident', 'migrants.', 'Many', 'state', 'laws', 'discourage', 'or', 'prevent', 'non-residents', 'from', 'applying', 'for', 'government', 'jobs', 'or', 'other', 'professions', 'that', 'require', 'government', 'licensing', '(auto,', 'taxi', 'licences),', 'or', 'deny', 'them', 'the', 'benefits', 'of', 'educational', 'reservations.', 'Other', 'laws,', 'prevalent', 'in', 'some', 'states', 'of', 'the', 'Northeast,', 'regulate', 'the', 'entry', 'of', 'non-residents', 'within', 'the', 'state.', 'Yet', 'another', 'category', 'of', 'laws', 'prevents', 'non-residents', 'from', 'owning', 'property', '(such', 'as', 'in', 'Himachal', 'Pradesh,', 'Uttarakhand', 'and', 'others).', 'The', 'Union', 'government', 'has', 'recently', 'announced', '“One', 'Nation', 'One', 'Ration', 'Card”', 'because', 'non-resident', 'migrants', 'are', 'currently', 'ineligible', 'for', 'many', 'state', 'welfare', 'schemes.\",\"Even', 'though', 'Article', '19(1)(d)', 'of', 'the', 'Constitution', 'guarantees', 'free', 'movement', 'and', 'residence,', 'states', 'have', 'enacted', '“reasonable', 'restrictions”', 'to', 'disfavour', 'non-resident', 'migrants.', 'Article', '16', 'outlaws', 'discrimination', 'in', 'employment', 'on', 'the', 'grounds', 'of', 'residence,', 'but', 'the', 'criteria', 'for', 'determining', 'reservations', 'is', 'usually', 'linked', 'to', 'local', 'demographic', 'characteristics.', 'The', 'courts', 'have', 'also', 'largely', 'upheld', 'positive', 'discrimination', 'in', 'employment', 'and', 'education', 'that', 'nonetheless', 'discriminates', 'against', 'non-residents.', 'They', 'have', 'upheld', 'not', 'just', 'residency', 'as', 'a', 'ground', 'for', 'eligibility', 'for', 'jobs', 'and', 'educational', 'seats,', 'but', 'also', 'the', 'charging', 'of', 'differential', 'capitation', 'fees', 'based', 'on', 'residency.', 'In', 'doing', 'so,', 'courts', 'have', 'generally', 'privileged', 'the', 'equality', 'interests', 'in', 'the', 'Constitution', 'at', 'the', 'cost', 'of', 'free', 'movement', 'and', 'residence.\",\"While', 'such', 'measures', 'ostensibly', 'serve', 'to', 'protect', 'local', 'constituents,', 'they', 'inhibit', 'migration', 'and', 'thus', 'the', 'law', 'of', 'comparative', 'advantage', 'from', 'operating', 'to', 'the', 'benefit', 'of', 'in-migration', 'states.', 'Bengaluru', 'could', 'not', 'have', 'become', 'a', 'hub', 'for', 'information', 'technology', 'if', 'it', 'had', 'imposed', 'restrictions', 'on', 'the', 'movement', 'of', 'skilled', 'professional', 'migrants', 'who', 'eventually', 'settled', 'in', 'the', 'city.', 'Contrary', 'to', 'nativist', 'sentiments,', 'Karnataka’s', 'population', 'has', 'been', 'a', 'net', 'beneficiary', 'of', 'this', 'in-migration', 'because', 'of', 'the', 'increased', 'contribution', 'of', 'Bengaluru', 'to', 'Karnataka’s', 'Gross', 'Domestic', 'Product', '(GDP)', 'besides', 'the', 'value', 'of', 'diversity.\",\"This', 'benefit', 'is', 'not', 'limited', 'to', 'skilled', 'or', 'high-end', 'services.', 'To', 'the', 'extent', 'that', 'Bengaluru’s', 'economy', 'powers', 'Karnataka’s', 'growth,', 'a', 'migrant', 'hairdresser', 'working', 'in', 'Bangalore', 'is', 'also', 'important', 'for', 'the', 'state’s', 'economy.', 'This', 'was', 'evident', 'recently', 'when', 'the', 'Karnataka', 'government', 'wanted', 'to', 'prevent', 'migrants', 'from', 'leaving', 'for', 'their', 'home', 'states', 'because', 'of', 'their', 'importance', 'to', 'the', 'construction', 'industry.', 'It', 'is,', 'therefore,', 'time', 'to', 'seriously', 're-examine', 'the', 'legal', 'framework', 'that', 'inhibits', 'the', 'movement', 'of', 'migrants', 'across', 'the', 'country,', 'and', 'prevents', 'them', 'from', 'accessing', 'safety,', 'shelter', 'and', 'welfare', 'services', 'on', 'equal', 'terms', 'as', 'residents.\"]']\n",
            "\n",
            "\n",
            " tokenized and lemmatized document: \n",
            "['prime', 'minist', 'narendra', 'modi', 'recent', 'announc', 'india', 'self', 'reliant', 'aspect', 'india', 'remov', 'barrier', 'intern', 'market', 'truli', 'singl', 'market', 'remov', 'hurdl', 'effici', 'improv', 'competit', 'good', 'servic', 'step', 'direct', 'recent', 'decis', 'remov', 'hurdl', 'inter', 'state', 'agricultur', 'trade', 'similar', 'agricultur', 'industri', 'product', 'capit', 'india', 'increas', 'singl', 'market', 'creation', 'barrier', 'free', 'domest', 'market', 'intent', 'reflect', 'articl', 'constitut', 'market', 'friction', 'add', 'reduc', 'labour', 'market', 'differ', 'reason', 'leader', 'migrat', 'migrat', 'state', 'statement', 'suggest', 'impedi', 'inter', 'state', 'migrat', 'worker', 'state', 'announc', 'preferenti', 'treatment', 'worker', 'state', 'speak', 'institut', 'approv', 'allow', 'worker', 'state', 'backdrop', 'treat', 'compel', 'reason', 'intern', 'migrat', 'india', 'india', 'higher', 'econom', 'differ', 'state', 'compar', 'countri', 'capita', 'incom', 'richest', 'larg', 'state', 'haryana', 'time', 'poorest', 'state', 'bihar', 'wage', 'state', 'high', 'regular', 'worker', 'casual', 'worker', 'wonder', 'worker', 'poorer', 'state', 'migrat', 'richer', 'state', 'work', 'best', 'option', 'poor', 'peopl', 'look', 'escap', 'poverti', 'leav', 'state', 'live', 'econom', 'opportun', 'richer', 'state', 'movement', 'difficult', 'cost', 'live', 'higher', 'richer', 'state', 'million', 'migrat', 'brave', 'squalid', 'condit', 'migrat', 'state', 'need', 'livelihood', 'second', 'poorer', 'state', 'uttar', 'pradesh', 'bihar', 'younger', 'larger', 'popul', 'worker', 'work', 'opportun', 'state', 'develop', 'economi', 'short', 'term', 'migrat', 'essenti', 'compon', 'develop', 'india', 'growth', 'larg', 'servic', 'servic', 'avail', 'physic', 'labour', 'essenti', 'servic', 'cook', 'drive', 'hairdress', 'secur', 'need', 'worker', 'physic', 'present', 'provid', 'servic', 'benefici', 'migrant', 'migrat', 'negat', 'implic', 'migrat', 'downward', 'pressur', 'wag', 'richer', 'state', 'increas', 'suppli', 'worker', 'creat', 'incent', 'region', 'local', 'leader', 'generat', 'anti', 'migrant', 'sentiment', 'promot', 'polici', 'favour', 'local', 'worker', 'dynam', 'differ', 'see', 'intern', 'migrat', 'point', 'polit', 'economi', 'develop', 'oppos', 'migrat', 'india', 'histori', 'state', 'enact', 'law', 'measur', 'discriminatori', 'resid', 'migrant', 'state', 'law', 'discourag', 'prevent', 'resid', 'appli', 'govern', 'job', 'profess', 'requir', 'govern', 'licens', 'auto', 'taxi', 'licenc', 'deni', 'benefit', 'educ', 'reserv', 'law', 'preval', 'state', 'northeast', 'regul', 'entri', 'resid', 'state', 'categori', 'law', 'prevent', 'resid', 'own', 'properti', 'himach', 'pradesh', 'uttarakhand', 'union', 'govern', 'recent', 'announc', 'nation', 'ration', 'card', 'resid', 'migrant', 'current', 'inelig', 'state', 'welfar', 'scheme', 'articl', 'constitut', 'guarante', 'free', 'movement', 'resid', 'state', 'enact', 'reason', 'restrict', 'disfavour', 'resid', 'migrant', 'articl', 'outlaw', 'discrimin', 'employ', 'ground', 'resid', 'criteria', 'determin', 'reserv', 'usual', 'link', 'local', 'demograph', 'characterist', 'court', 'larg', 'uphold', 'posit', 'discrimin', 'employ', 'educ', 'nonetheless', 'discrimin', 'resid', 'uphold', 'resid', 'grind', 'elig', 'job', 'educ', 'seat', 'charg', 'differenti', 'capit', 'fee', 'base', 'resid', 'court', 'general', 'privileg', 'equal', 'interest', 'constitut', 'cost', 'free', 'movement', 'resid', 'measur', 'ostens', 'serv', 'protect', 'local', 'constitu', 'inhibit', 'migrat', 'compar', 'advantag', 'oper', 'benefit', 'migrat', 'state', 'bengaluru', 'inform', 'technolog', 'impos', 'restrict', 'movement', 'skill', 'profession', 'migrant', 'eventu', 'settl', 'citi', 'contrari', 'nativist', 'sentiment', 'karnataka', 'popul', 'beneficiari', 'migrat', 'increas', 'contribut', 'bengaluru', 'karnataka', 'gross', 'domest', 'product', 'valu', 'divers', 'benefit', 'limit', 'skill', 'high', 'servic', 'extent', 'bengaluru', 'economi', 'power', 'karnataka', 'growth', 'migrant', 'hairdress', 'work', 'bangalor', 'import', 'state', 'economi', 'evid', 'recent', 'karnataka', 'govern', 'want', 'prevent', 'migrant', 'leav', 'home', 'state', 'import', 'construct', 'industri', 'time', 'serious', 'examin', 'legal', 'framework', 'inhibit', 'movement', 'migrant', 'countri', 'prevent', 'access', 'safeti', 'shelter', 'welfar', 'servic', 'equal', 'term', 'resid']\n"
          ],
          "name": "stdout"
        }
      ]
    },
    {
      "cell_type": "code",
      "metadata": {
        "id": "28wiupn6Q070",
        "colab_type": "code",
        "colab": {
          "base_uri": "https://localhost:8080/",
          "height": 380
        },
        "outputId": "0e772466-2cde-4c99-9c50-38a8b8cddaec"
      },
      "source": [
        "# Preprocess the headline text, saving the results as ‘processed_docs’\n",
        "processed_docs = df['content'].map(preprocess)\n",
        "#processed_docs.head(5)\n",
        "df['processed_content'] = processed_docs\n",
        "#df.head()\n",
        "df['processed_content'] = df['processed_content'].apply(lambda x: ' '.join(x))\n",
        "\n",
        "df.head()"
      ],
      "execution_count": 13,
      "outputs": [
        {
          "output_type": "execute_result",
          "data": {
            "text/html": [
              "<div>\n",
              "<style scoped>\n",
              "    .dataframe tbody tr th:only-of-type {\n",
              "        vertical-align: middle;\n",
              "    }\n",
              "\n",
              "    .dataframe tbody tr th {\n",
              "        vertical-align: top;\n",
              "    }\n",
              "\n",
              "    .dataframe thead th {\n",
              "        text-align: right;\n",
              "    }\n",
              "</style>\n",
              "<table border=\"1\" class=\"dataframe\">\n",
              "  <thead>\n",
              "    <tr style=\"text-align: right;\">\n",
              "      <th></th>\n",
              "      <th>_id</th>\n",
              "      <th>topic</th>\n",
              "      <th>heading</th>\n",
              "      <th>summary</th>\n",
              "      <th>date_published</th>\n",
              "      <th>author</th>\n",
              "      <th>content</th>\n",
              "      <th>tags</th>\n",
              "      <th>processed_content</th>\n",
              "    </tr>\n",
              "  </thead>\n",
              "  <tbody>\n",
              "    <tr>\n",
              "      <th>0</th>\n",
              "      <td>5ef0d2b4d83b3587cb500ec9</td>\n",
              "      <td>[\"analysis\"]</td>\n",
              "      <td>[\"Don’t discriminate against non-resident migr...</td>\n",
              "      <td>[\"Create a legal regime that allows them to ac...</td>\n",
              "      <td>[\"Updated: Jun 22, 2020 19:30 IST\"]</td>\n",
              "      <td>[\"KP Krishnan and Anirudh Burman\"]</td>\n",
              "      <td>[\"Prime Minister (PM) Narendra Modi recently a...</td>\n",
              "      <td>[\"India\",\"Narendra Modi\",\"BIHAR\",\"Haryana\",\"Mi...</td>\n",
              "      <td>prime minist narendra modi recent announc indi...</td>\n",
              "    </tr>\n",
              "    <tr>\n",
              "      <th>1</th>\n",
              "      <td>5ef0d2b8d83b3587cb500ecb</td>\n",
              "      <td>[\"opinion\"]</td>\n",
              "      <td>[\"India has closed military gap with China alo...</td>\n",
              "      <td>[\"Over the past dozen years India has not only...</td>\n",
              "      <td>[\"Updated: Jun 22, 2020 16:01 IST\"]</td>\n",
              "      <td>[\"Pramit Pal Chaudhuri\"]</td>\n",
              "      <td>[\"India has the \",\", says a recent Harvard Uni...</td>\n",
              "      <td>[\"Indian Army\",\"Galwan Valley\",\"India China bo...</td>\n",
              "      <td>india say recent harvard univers assess chines...</td>\n",
              "    </tr>\n",
              "    <tr>\n",
              "      <th>2</th>\n",
              "      <td>5ef0d2bad83b3587cb500ecc</td>\n",
              "      <td>[\"opinion\"]</td>\n",
              "      <td>[\"Ladakh faceoff: Looking back for a way forwa...</td>\n",
              "      <td>[\"DRAW THE LINE Policing the borders and preve...</td>\n",
              "      <td>[\"Updated: Jun 22, 2020 18:06 IST\"]</td>\n",
              "      <td>[\"Lt Gen GS Sihota (retd)\"]</td>\n",
              "      <td>[\"On December 11, 1917, General Edmund Allenby...</td>\n",
              "      <td>NaN</td>\n",
              "      <td>decemb general edmund allenbi enter holi citi ...</td>\n",
              "    </tr>\n",
              "    <tr>\n",
              "      <th>3</th>\n",
              "      <td>5ef0d2bdd83b3587cb500ecd</td>\n",
              "      <td>[\"editorials\"]</td>\n",
              "      <td>[\"Redesign the model village scheme | HT Edito...</td>\n",
              "      <td>[\"For MPs to take it up, expand its ambit to a...</td>\n",
              "      <td>[\"Updated: Jun 22, 2020 18:56 IST\"]</td>\n",
              "      <td>NaN</td>\n",
              "      <td>[\"A study commissioned by the Union ministry o...</td>\n",
              "      <td>NaN</td>\n",
              "      <td>studi commiss union ministri rural develop saa...</td>\n",
              "    </tr>\n",
              "    <tr>\n",
              "      <th>4</th>\n",
              "      <td>5ef0d2bed83b3587cb500ece</td>\n",
              "      <td>[\"columns\"]</td>\n",
              "      <td>[\"How China has overplayed its hand, writes Ba...</td>\n",
              "      <td>[\"Beijing’s belligerence reflects a familiar h...</td>\n",
              "      <td>[\"Updated: Jun 22, 2020 19:31 IST\"]</td>\n",
              "      <td>[\"Baijayant “Jay” Panda\"]</td>\n",
              "      <td>[\"Almost 2,500 years ago, Greek historian, Thu...</td>\n",
              "      <td>[\"CHINA\",\"India\"]</td>\n",
              "      <td>year greek historian thucydid write devast pel...</td>\n",
              "    </tr>\n",
              "  </tbody>\n",
              "</table>\n",
              "</div>"
            ],
            "text/plain": [
              "                        _id  ...                                  processed_content\n",
              "0  5ef0d2b4d83b3587cb500ec9  ...  prime minist narendra modi recent announc indi...\n",
              "1  5ef0d2b8d83b3587cb500ecb  ...  india say recent harvard univers assess chines...\n",
              "2  5ef0d2bad83b3587cb500ecc  ...  decemb general edmund allenbi enter holi citi ...\n",
              "3  5ef0d2bdd83b3587cb500ecd  ...  studi commiss union ministri rural develop saa...\n",
              "4  5ef0d2bed83b3587cb500ece  ...  year greek historian thucydid write devast pel...\n",
              "\n",
              "[5 rows x 9 columns]"
            ]
          },
          "metadata": {
            "tags": []
          },
          "execution_count": 13
        }
      ]
    },
    {
      "cell_type": "code",
      "metadata": {
        "id": "BEDnz_oqMads",
        "colab_type": "code",
        "colab": {}
      },
      "source": [
        "#feature extraction\n",
        "vec = TfidfVectorizer(stop_words=\"english\")\n",
        "vec.fit(df.processed_content.values)\n",
        "features = vec.transform(df.processed_content.values)"
      ],
      "execution_count": 14,
      "outputs": []
    },
    {
      "cell_type": "code",
      "metadata": {
        "id": "DZ8Ijoc6Mach",
        "colab_type": "code",
        "colab": {
          "base_uri": "https://localhost:8080/",
          "height": 84
        },
        "outputId": "f5d94fc2-7fd0-4502-ae64-3ca34a6c666f"
      },
      "source": [
        "#model training\n",
        "random_state = 0\n",
        "cls = MiniBatchKMeans(n_clusters=17, random_state=random_state)\n",
        "cls.fit(features)"
      ],
      "execution_count": 57,
      "outputs": [
        {
          "output_type": "execute_result",
          "data": {
            "text/plain": [
              "MiniBatchKMeans(batch_size=100, compute_labels=True, init='k-means++',\n",
              "                init_size=None, max_iter=100, max_no_improvement=10,\n",
              "                n_clusters=17, n_init=3, random_state=0,\n",
              "                reassignment_ratio=0.01, tol=0.0, verbose=0)"
            ]
          },
          "metadata": {
            "tags": []
          },
          "execution_count": 57
        }
      ]
    },
    {
      "cell_type": "code",
      "metadata": {
        "id": "zzRA7o1WMaZZ",
        "colab_type": "code",
        "colab": {
          "base_uri": "https://localhost:8080/",
          "height": 168
        },
        "outputId": "2a65adf2-332f-4a61-dfc0-8a79d0121c8e"
      },
      "source": [
        "#predict on new data\n",
        "cls.predict(features)"
      ],
      "execution_count": 58,
      "outputs": [
        {
          "output_type": "execute_result",
          "data": {
            "text/plain": [
              "array([ 1, 12, 12,  7, 16, 12, 12, 12,  1, 10, 10, 11,  2,  2,  3,  7,  0,\n",
              "        3,  2, 11,  2, 10, 10,  5,  7, 10,  7,  7,  7, 10, 10, 12, 14,  0,\n",
              "        0, 15, 15, 15, 12,  9,  5,  7,  6, 11,  7,  7,  2,  6, 16, 12, 12,\n",
              "       14, 12,  1,  1, 10, 10,  0, 10,  2, 10, 10,  7,  7, 12, 10,  4,  9,\n",
              "        7, 10,  2,  1, 14,  7,  7, 11, 10,  7,  7, 10, 10, 12,  0,  3,  3,\n",
              "        4,  4,  3, 13, 12,  1,  7,  7,  7,  8, 11, 10,  2,  2,  1,  1,  7,\n",
              "       16,  1, 16,  3, 10, 13, 10,  0,  2, 10, 10,  6,  3,  1, 15, 12,  5,\n",
              "       11,  2, 16, 10,  1,  7,  5,  7,  5,  7, 10, 14, 14, 11,  0, 10, 15,\n",
              "       15, 10,  8, 13,  7,  7,  7,  6,  6,  7,  2,  2], dtype=int32)"
            ]
          },
          "metadata": {
            "tags": []
          },
          "execution_count": 58
        }
      ]
    },
    {
      "cell_type": "code",
      "metadata": {
        "id": "-jPANtwPMaXY",
        "colab_type": "code",
        "colab": {
          "base_uri": "https://localhost:8080/",
          "height": 282
        },
        "outputId": "3896a4fc-f47d-4039-e9f6-b5dd0a9ee9af"
      },
      "source": [
        "#visualization\n",
        "# reduce the features to 2D\n",
        "pca = PCA(n_components=2, random_state=random_state)\n",
        "reduced_features = pca.fit_transform(features.toarray())\n",
        "\n",
        "# reduce the cluster centers to 2D\n",
        "reduced_cluster_centers = pca.transform(cls.cluster_centers_)\n",
        "\n",
        "plt.scatter(reduced_features[:,0], reduced_features[:,1], c=cls.predict(features))\n",
        "plt.scatter(reduced_cluster_centers[:, 0], reduced_cluster_centers[:,1], marker='x', s=150, c='b')"
      ],
      "execution_count": 59,
      "outputs": [
        {
          "output_type": "execute_result",
          "data": {
            "text/plain": [
              "<matplotlib.collections.PathCollection at 0x7f6c49757128>"
            ]
          },
          "metadata": {
            "tags": []
          },
          "execution_count": 59
        },
        {
          "output_type": "display_data",
          "data": {
            "image/png": "[encoded data removed]",
            "text/plain": [
              "<Figure size 432x288 with 1 Axes>"
            ]
          },
          "metadata": {
            "tags": [],
            "needs_background": "light"
          }
        }
      ]
    },
    {
      "cell_type": "code",
      "metadata": {
        "id": "ZOA58_8RMaUp",
        "colab_type": "code",
        "colab": {
          "base_uri": "https://localhost:8080/",
          "height": 34
        },
        "outputId": "d9b9b04d-b4aa-4e78-c2f4-35d939d277fc"
      },
      "source": [
        "#evaluation with labelled dataset\n",
        "from sklearn.metrics import homogeneity_score\n",
        "homogeneity_score(df.processed_content, cls.predict(features))"
      ],
      "execution_count": 60,
      "outputs": [
        {
          "output_type": "execute_result",
          "data": {
            "text/plain": [
              "0.5103773893381282"
            ]
          },
          "metadata": {
            "tags": []
          },
          "execution_count": 60
        }
      ]
    },
    {
      "cell_type": "code",
      "metadata": {
        "id": "ZbA76dkdTjbR",
        "colab_type": "code",
        "colab": {
          "base_uri": "https://localhost:8080/",
          "height": 34
        },
        "outputId": "84f469c4-4c0b-4533-d114-1dd8b5915584"
      },
      "source": [
        "\n",
        "#evaluation with unlabelled dataset\n",
        "from sklearn.metrics import silhouette_score\n",
        "silhouette_score(features, labels=cls.predict(features))"
      ],
      "execution_count": 61,
      "outputs": [
        {
          "output_type": "execute_result",
          "data": {
            "text/plain": [
              "0.033542765900674856"
            ]
          },
          "metadata": {
            "tags": []
          },
          "execution_count": 61
        }
      ]
    },
    {
      "cell_type": "code",
      "metadata": {
        "id": "uGwvOlNWMaSk",
        "colab_type": "code",
        "colab": {
          "base_uri": "https://localhost:8080/",
          "height": 481
        },
        "outputId": "a401e8f9-19ba-4a84-af8e-4acc3e24872c"
      },
      "source": [
        "#topic modelling\n",
        "import spacy\n",
        "nlp = spacy.load(\"en_core_web_sm\", disable=['parser', 'ner'])\n",
        "\n",
        "random_state = 0\n",
        "\n",
        "def only_nouns(texts):\n",
        "    output = []\n",
        "    for doc in nlp.pipe(texts):\n",
        "        noun_text = \" \".join(token.lemma_ for token in doc if token.pos_ == 'NOUN')\n",
        "        output.append(noun_text)\n",
        "    return output\n",
        "\n",
        "\n",
        "df['noun_content'] = only_nouns(df['content'])\n",
        "\n",
        "df.head()"
      ],
      "execution_count": 38,
      "outputs": [
        {
          "output_type": "execute_result",
          "data": {
            "text/html": [
              "<div>\n",
              "<style scoped>\n",
              "    .dataframe tbody tr th:only-of-type {\n",
              "        vertical-align: middle;\n",
              "    }\n",
              "\n",
              "    .dataframe tbody tr th {\n",
              "        vertical-align: top;\n",
              "    }\n",
              "\n",
              "    .dataframe thead th {\n",
              "        text-align: right;\n",
              "    }\n",
              "</style>\n",
              "<table border=\"1\" class=\"dataframe\">\n",
              "  <thead>\n",
              "    <tr style=\"text-align: right;\">\n",
              "      <th></th>\n",
              "      <th>_id</th>\n",
              "      <th>topic</th>\n",
              "      <th>heading</th>\n",
              "      <th>summary</th>\n",
              "      <th>date_published</th>\n",
              "      <th>author</th>\n",
              "      <th>content</th>\n",
              "      <th>tags</th>\n",
              "      <th>processed_content</th>\n",
              "      <th>noun_content</th>\n",
              "    </tr>\n",
              "  </thead>\n",
              "  <tbody>\n",
              "    <tr>\n",
              "      <th>0</th>\n",
              "      <td>5ef0d2b4d83b3587cb500ec9</td>\n",
              "      <td>[\"analysis\"]</td>\n",
              "      <td>[\"Don’t discriminate against non-resident migr...</td>\n",
              "      <td>[\"Create a legal regime that allows them to ac...</td>\n",
              "      <td>[\"Updated: Jun 22, 2020 19:30 IST\"]</td>\n",
              "      <td>[\"KP Krishnan and Anirudh Burman\"]</td>\n",
              "      <td>[\"Prime Minister (PM) Narendra Modi recently a...</td>\n",
              "      <td>[\"India\",\"Narendra Modi\",\"BIHAR\",\"Haryana\",\"Mi...</td>\n",
              "      <td>prime minist narendra modi recent announc indi...</td>\n",
              "      <td>self aspect barrier market market hurdle impro...</td>\n",
              "    </tr>\n",
              "    <tr>\n",
              "      <th>1</th>\n",
              "      <td>5ef0d2b8d83b3587cb500ecb</td>\n",
              "      <td>[\"opinion\"]</td>\n",
              "      <td>[\"India has closed military gap with China alo...</td>\n",
              "      <td>[\"Over the past dozen years India has not only...</td>\n",
              "      <td>[\"Updated: Jun 22, 2020 16:01 IST\"]</td>\n",
              "      <td>[\"Pramit Pal Chaudhuri\"]</td>\n",
              "      <td>[\"India has the \",\", says a recent Harvard Uni...</td>\n",
              "      <td>[\"Indian Army\",\"Galwan Valley\",\"India China bo...</td>\n",
              "      <td>india say recent harvard univers assess chines...</td>\n",
              "      <td>assessment co - author o’donnell presence forc...</td>\n",
              "    </tr>\n",
              "    <tr>\n",
              "      <th>2</th>\n",
              "      <td>5ef0d2bad83b3587cb500ecc</td>\n",
              "      <td>[\"opinion\"]</td>\n",
              "      <td>[\"Ladakh faceoff: Looking back for a way forwa...</td>\n",
              "      <td>[\"DRAW THE LINE Policing the borders and preve...</td>\n",
              "      <td>[\"Updated: Jun 22, 2020 18:06 IST\"]</td>\n",
              "      <td>[\"Lt Gen GS Sihota (retd)\"]</td>\n",
              "      <td>[\"On December 11, 1917, General Edmund Allenby...</td>\n",
              "      <td>NaN</td>\n",
              "      <td>decemb general edmund allenbi enter holi citi ...</td>\n",
              "      <td>city foot feat warrior street city centre sold...</td>\n",
              "    </tr>\n",
              "    <tr>\n",
              "      <th>3</th>\n",
              "      <td>5ef0d2bdd83b3587cb500ecd</td>\n",
              "      <td>[\"editorials\"]</td>\n",
              "      <td>[\"Redesign the model village scheme | HT Edito...</td>\n",
              "      <td>[\"For MPs to take it up, expand its ambit to a...</td>\n",
              "      <td>[\"Updated: Jun 22, 2020 18:56 IST\"]</td>\n",
              "      <td>NaN</td>\n",
              "      <td>[\"A study commissioned by the Union ministry o...</td>\n",
              "      <td>NaN</td>\n",
              "      <td>studi commiss union ministri rural develop saa...</td>\n",
              "      <td>study ministry development scheme impact purpo...</td>\n",
              "    </tr>\n",
              "    <tr>\n",
              "      <th>4</th>\n",
              "      <td>5ef0d2bed83b3587cb500ece</td>\n",
              "      <td>[\"columns\"]</td>\n",
              "      <td>[\"How China has overplayed its hand, writes Ba...</td>\n",
              "      <td>[\"Beijing’s belligerence reflects a familiar h...</td>\n",
              "      <td>[\"Updated: Jun 22, 2020 19:31 IST\"]</td>\n",
              "      <td>[\"Baijayant “Jay” Panda\"]</td>\n",
              "      <td>[\"Almost 2,500 years ago, Greek historian, Thu...</td>\n",
              "      <td>[\"CHINA\",\"India\"]</td>\n",
              "      <td>year greek historian thucydid write devast pel...</td>\n",
              "      <td>year historian war growth power fear conflict ...</td>\n",
              "    </tr>\n",
              "  </tbody>\n",
              "</table>\n",
              "</div>"
            ],
            "text/plain": [
              "                        _id  ...                                       noun_content\n",
              "0  5ef0d2b4d83b3587cb500ec9  ...  self aspect barrier market market hurdle impro...\n",
              "1  5ef0d2b8d83b3587cb500ecb  ...  assessment co - author o’donnell presence forc...\n",
              "2  5ef0d2bad83b3587cb500ecc  ...  city foot feat warrior street city centre sold...\n",
              "3  5ef0d2bdd83b3587cb500ecd  ...  study ministry development scheme impact purpo...\n",
              "4  5ef0d2bed83b3587cb500ece  ...  year historian war growth power fear conflict ...\n",
              "\n",
              "[5 rows x 10 columns]"
            ]
          },
          "metadata": {
            "tags": []
          },
          "execution_count": 38
        }
      ]
    },
    {
      "cell_type": "code",
      "metadata": {
        "id": "Dx42Hcw1TAwj",
        "colab_type": "code",
        "colab": {
          "base_uri": "https://localhost:8080/",
          "height": 67
        },
        "outputId": "420cae4e-8795-4efb-dc08-ce847614bc6a"
      },
      "source": [
        "# change this to see different results using the components_ attribute\n",
        "n_topics = 17\n",
        "\n",
        "#for extracting features\n",
        "from sklearn.feature_extraction.text import CountVectorizer, TfidfVectorizer\n",
        "vec = TfidfVectorizer(max_features=5000, stop_words=\"english\", max_df=0.95, min_df=2)\n",
        "features = vec.fit_transform(df.noun_content)\n",
        "\n",
        "#for topic modelling\n",
        "\n",
        "from sklearn.decomposition import NMF\n",
        "cls = NMF(n_components=n_topics, random_state=random_state)\n",
        "cls.fit(features)"
      ],
      "execution_count": 62,
      "outputs": [
        {
          "output_type": "execute_result",
          "data": {
            "text/plain": [
              "NMF(alpha=0.0, beta_loss='frobenius', init=None, l1_ratio=0.0, max_iter=200,\n",
              "    n_components=17, random_state=0, shuffle=False, solver='cd', tol=0.0001,\n",
              "    verbose=0)"
            ]
          },
          "metadata": {
            "tags": []
          },
          "execution_count": 62
        }
      ]
    },
    {
      "cell_type": "code",
      "metadata": {
        "id": "Z_TnbdVuTAtg",
        "colab_type": "code",
        "colab": {
          "base_uri": "https://localhost:8080/",
          "height": 302
        },
        "outputId": "c4cc7a53-8972-42bc-fe62-ee87d91ce951"
      },
      "source": [
        "# list of unique words found by the vectorizer\n",
        "feature_names = vec.get_feature_names()\n",
        "\n",
        "# number of most influencing words to display per topic\n",
        "n_top_words = 15\n",
        "\n",
        "for i, topic_vec in enumerate(cls.components_):\n",
        "    print(i, end=' ')\n",
        "    # topic_vec.argsort() produces a new array\n",
        "    # in which word_index with the least score is the\n",
        "    # first array element and word_index with highest\n",
        "    # score is the last array element. Then using a\n",
        "    # fancy indexing [-1: -n_top_words-1:-1], we are\n",
        "    # slicing the array from its end in such a way that\n",
        "    # top `n_top_words` word_index with highest scores\n",
        "    # are returned in desceding order\n",
        "    for fid in topic_vec.argsort()[-1:-n_top_words-1:-1]:\n",
        "        print(feature_names[fid], end=' ')\n",
        "    print()"
      ],
      "execution_count": 63,
      "outputs": [
        {
          "output_type": "stream",
          "text": [
            "0 patient oxygen home plasma minister isolation oximeter hospital test government pulse day health level capital \n",
            "1 school teacher class learning student child education government parent fee feel teaching state minister college \n",
            "2 film actor love family life role father outsider book picture heart thing time people release \n",
            "3 border power line force war conflict economy option country leadership term infrastructure time cost engagement \n",
            "4 video post comment doggo user clip hooman thought person recording pooch picture account soul dog \n",
            "5 police terrorist village policeman official attack murder crime car criminal officer house personnel professor cop \n",
            "6 exam result class 10th student board website examination subject assessment lakh link council mark credential \n",
            "7 race game season league team match title point goal ball win year practice time football \n",
            "8 scheme election welfare festival party ration provision employment end vote year time elite coincidence leverage \n",
            "9 case death infection tally lockdown country number state toll day hour week disease city virus \n",
            "10 app editorial user security ban intelligence threat party economy datum troop business key application attack \n",
            "11 dollar cent currency rupee market equity point benchmark exchange paise stock oil exporter deal vaccine \n",
            "12 court body hearing crematorium government petition counsel fir offence victim disposal guideline justice hospital state \n",
            "13 test captain coach player team cricket field series preparation match tournament testing people quarantine head \n",
            "14 company government board firm member state crore statement tax ballot area service contract fashion minister \n",
            "15 tie proximity power aggression view choice link decade question trade position result capability autonomy value \n",
            "16 tweet animal rescue stray post rhino mud garden confusion pet inspector water user nepotism outsider \n"
          ],
          "name": "stdout"
        }
      ]
    },
    {
      "cell_type": "code",
      "metadata": {
        "id": "GITww_5GTAqe",
        "colab_type": "code",
        "colab": {
          "base_uri": "https://localhost:8080/",
          "height": 34
        },
        "outputId": "07ea5cac-8e76-46f0-ec34-c0f2bd913eb2"
      },
      "source": [
        "# to identify topic of a new document\n",
        "new_articles = [\n",
        "    '''The Chhattisgarh Board of Secondary Education (CGBSE) will announce the high school (Class 10), higher secondary (Class 12) and higher secondary vocational exam results on Tuesday, June 23. The Chhattisgarh Board results will be declared at 11am by school education minister.\",\"In a press release issued on Monday, the Chhattisgarh Board said that keeping in mind the Covid-19 situation, the CGBSE 10th, 12th results will be declared through video conferencing at state data centre in Raipur. \",\"Students who have appeared for the Chhattisgarh Board Class 10 and Class 12 exams can their results at cgbse.nic.in, http://results.gov.in/cgresults and results.cg.nic.in after it is announced.\",\"Around 6 lakh students have registered for CGBSE class 10th board exams this year, while over 2.5 lakh students have registered for CGBSE class 12th board exams 2020.\",\"Due to the coronavirus disease outbreak, CGBSE could not conduct examinations for all the subjects of Class 10 and 12. The exams for some minor subjects of Class 10 and Geography and a few optional papers of Class 12 had to be delayed.\",\"The students have been awarded marks in these subjects on the basis of internal assessment. Those failing to pass the assessment and skip the procedures will be given the minimum passing marks. Nobody will fail during the assessment of the remaining subjects ''',\n",
        "    '''Jose Mourinho launched an impassioned defence of Harry Kaneâ€™s form under his playing style at Tottenham Hotspur after television pundit Paul Merson suggested the England striker would struggle in the Portuguese managerâ€™s system.\",\"Merson, a pundit with Sky Sports, said 26-year-old Kane would consider switching clubs if Mourinho continued adopting a conservative style in the Premier League, like they did in their 1-1 draw with Manchester United last week.\",\"Kane has scored seven goals in 10 games under Mourinho but struggled to make an impact against United -- his first match since returning from a hamstring surgery in January -- and Mourinho said Merson was wrong to judge him based on one game.\",\"â€œThe record of goals that Harry has with me (in charge) is easy for you to see ... I can say I had a few strikers who played for me and they are not bad,â€ Mourinho told reporters in a virtual news conference on Monday.\",\"In a five-minute-long response, Mourinho then went on to mention the likes of Didier Drogba, Cristiano Ronaldo, Karim Benzema, Diego Milito and Zlatan Ibrahimovic, reeling off their goal scoring stats under his tenures at various clubs.\",\"â€œSo dear Paul, I have lots of respect for you,â€ Mourinho added. â€œI think Harry Kane has no problems at all to score goals in my teams, especially when heâ€™s fit, when heâ€™s fresh and he has routines of playing.â€\",\"There was good news on the injury front for Mourinho who confirmed forward Lucas Moura was available after recovering from an injury while Dele Alli is also in contention after serving his one-match suspension.\",\"â€œFor the first time since I arrived, all six attacking players are available for the game,â€ Mourinho said.\",\"â€œIâ€™ve had matches with only one and now finally I have six so I can have people playing and on the bench to rotate players. Our attacking options for this match are really good.'''\n",
        "]\n",
        "# first transform the text into features using vec\n",
        "# then pass it to transform of cls\n",
        "# the result will be a matrix of shape [2, 10]\n",
        "# then we sort the topic id based on the score using argsort\n",
        "# and take the last one (with the highest score) for each row using `[:,-1]` indexing\n",
        "cls.transform(vec.transform(new_articles)).argsort(axis=1)[:,-1]"
      ],
      "execution_count": 64,
      "outputs": [
        {
          "output_type": "execute_result",
          "data": {
            "text/plain": [
              "array([6, 7])"
            ]
          },
          "metadata": {
            "tags": []
          },
          "execution_count": 64
        }
      ]
    },
    {
      "cell_type": "code",
      "metadata": {
        "id": "dm7KlwnGTApC",
        "colab_type": "code",
        "colab": {}
      },
      "source": [
        ""
      ],
      "execution_count": null,
      "outputs": []
    }
  ]
}