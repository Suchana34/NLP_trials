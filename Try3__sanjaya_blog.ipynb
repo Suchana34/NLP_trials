{
  "nbformat": 4,
  "nbformat_minor": 0,
  "metadata": {
    "colab": {
      "name": "Try3_ sanjaya_blog.ipynb",
      "provenance": []
    },
    "kernelspec": {
      "name": "python3",
      "display_name": "Python 3"
    }
  },
  "cells": [
    {
      "cell_type": "code",
      "metadata": {
        "id": "KiqQ49Hglyyv",
        "colab_type": "code",
        "colab": {}
      },
      "source": [
        "#text clustering\n",
        "import pandas as pd\n",
        "import numpy as np\n",
        "from sklearn.cluster import MiniBatchKMeans\n",
        "from sklearn.feature_extraction.text import TfidfVectorizer\n",
        "from sklearn.decomposition import PCA\n",
        "import matplotlib.pyplot as plt"
      ],
      "execution_count": 1,
      "outputs": []
    },
    {
      "cell_type": "code",
      "metadata": {
        "id": "0Vsb2cG5OZKd",
        "colab_type": "code",
        "colab": {
          "base_uri": "https://localhost:8080/",
          "height": 34
        },
        "outputId": "cd54ff9e-1ef0-407a-bc09-6e660c546ded"
      },
      "source": [
        "from google.colab import drive\n",
        "drive.mount('/content/drive')\n"
      ],
      "execution_count": 2,
      "outputs": [
        {
          "output_type": "stream",
          "text": [
            "Drive already mounted at /content/drive; to attempt to forcibly remount, call drive.mount(\"/content/drive\", force_remount=True).\n"
          ],
          "name": "stdout"
        }
      ]
    },
    {
      "cell_type": "code",
      "metadata": {
        "id": "463XZ48mMahK",
        "colab_type": "code",
        "colab": {
          "base_uri": "https://localhost:8080/",
          "height": 279
        },
        "outputId": "e6d83906-9e88-437c-fe2d-841b8484e789"
      },
      "source": [
        "df = pd.read_csv('/content/drive/My Drive/result.csv')\n",
        "df.head()"
      ],
      "execution_count": 3,
      "outputs": [
        {
          "output_type": "execute_result",
          "data": {
            "text/html": [
              "<div>\n",
              "<style scoped>\n",
              "    .dataframe tbody tr th:only-of-type {\n",
              "        vertical-align: middle;\n",
              "    }\n",
              "\n",
              "    .dataframe tbody tr th {\n",
              "        vertical-align: top;\n",
              "    }\n",
              "\n",
              "    .dataframe thead th {\n",
              "        text-align: right;\n",
              "    }\n",
              "</style>\n",
              "<table border=\"1\" class=\"dataframe\">\n",
              "  <thead>\n",
              "    <tr style=\"text-align: right;\">\n",
              "      <th></th>\n",
              "      <th>_id</th>\n",
              "      <th>topic</th>\n",
              "      <th>heading</th>\n",
              "      <th>summary</th>\n",
              "      <th>date_published</th>\n",
              "      <th>content</th>\n",
              "      <th>tags</th>\n",
              "    </tr>\n",
              "  </thead>\n",
              "  <tbody>\n",
              "    <tr>\n",
              "      <th>0</th>\n",
              "      <td>5ef0d2b4d83b3587cb500ec9</td>\n",
              "      <td>[\"analysis\"]</td>\n",
              "      <td>[\"Don’t discriminate against non-resident migr...</td>\n",
              "      <td>[\"Create a legal regime that allows them to ac...</td>\n",
              "      <td>[\"Updated: Jun 22, 2020 19:30 IST\"]</td>\n",
              "      <td>[\"Prime Minister (PM) Narendra Modi recently a...</td>\n",
              "      <td>[\"India\",\"Narendra Modi\",\"BIHAR\",\"Haryana\",\"Mi...</td>\n",
              "    </tr>\n",
              "    <tr>\n",
              "      <th>1</th>\n",
              "      <td>5ef0d2b6d83b3587cb500eca</td>\n",
              "      <td>NaN</td>\n",
              "      <td>[\"‘Sino-India ties will deteriorate further’: ...</td>\n",
              "      <td>[\"Other Videos\"]</td>\n",
              "      <td>NaN</td>\n",
              "      <td>NaN</td>\n",
              "      <td>NaN</td>\n",
              "    </tr>\n",
              "    <tr>\n",
              "      <th>2</th>\n",
              "      <td>5ef0d2b8d83b3587cb500ecb</td>\n",
              "      <td>[\"opinion\"]</td>\n",
              "      <td>[\"India has closed military gap with China alo...</td>\n",
              "      <td>[\"Over the past dozen years India has not only...</td>\n",
              "      <td>[\"Updated: Jun 22, 2020 16:01 IST\"]</td>\n",
              "      <td>[\"India has the \",\", says a recent Harvard Uni...</td>\n",
              "      <td>[\"Indian Army\",\"Galwan Valley\",\"India China bo...</td>\n",
              "    </tr>\n",
              "    <tr>\n",
              "      <th>3</th>\n",
              "      <td>5ef0d2bad83b3587cb500ecc</td>\n",
              "      <td>[\"opinion\"]</td>\n",
              "      <td>[\"Ladakh faceoff: Looking back for a way forwa...</td>\n",
              "      <td>[\"DRAW THE LINE Policing the borders and preve...</td>\n",
              "      <td>[\"Updated: Jun 22, 2020 18:06 IST\"]</td>\n",
              "      <td>[\"On December 11, 1917, General Edmund Allenby...</td>\n",
              "      <td>NaN</td>\n",
              "    </tr>\n",
              "    <tr>\n",
              "      <th>4</th>\n",
              "      <td>5ef0d2bdd83b3587cb500ecd</td>\n",
              "      <td>[\"editorials\"]</td>\n",
              "      <td>[\"Redesign the model village scheme | HT Edito...</td>\n",
              "      <td>[\"For MPs to take it up, expand its ambit to a...</td>\n",
              "      <td>[\"Updated: Jun 22, 2020 18:56 IST\"]</td>\n",
              "      <td>[\"A study commissioned by the Union ministry o...</td>\n",
              "      <td>NaN</td>\n",
              "    </tr>\n",
              "  </tbody>\n",
              "</table>\n",
              "</div>"
            ],
            "text/plain": [
              "                        _id  ...                                               tags\n",
              "0  5ef0d2b4d83b3587cb500ec9  ...  [\"India\",\"Narendra Modi\",\"BIHAR\",\"Haryana\",\"Mi...\n",
              "1  5ef0d2b6d83b3587cb500eca  ...                                                NaN\n",
              "2  5ef0d2b8d83b3587cb500ecb  ...  [\"Indian Army\",\"Galwan Valley\",\"India China bo...\n",
              "3  5ef0d2bad83b3587cb500ecc  ...                                                NaN\n",
              "4  5ef0d2bdd83b3587cb500ecd  ...                                                NaN\n",
              "\n",
              "[5 rows x 7 columns]"
            ]
          },
          "metadata": {
            "tags": []
          },
          "execution_count": 3
        }
      ]
    },
    {
      "cell_type": "code",
      "metadata": {
        "id": "NOdATRevPHIV",
        "colab_type": "code",
        "colab": {
          "base_uri": "https://localhost:8080/",
          "height": 35
        },
        "outputId": "43619163-9588-4b77-d5cc-e5d7a47b052f"
      },
      "source": [
        "df.heading[1]"
      ],
      "execution_count": 4,
      "outputs": [
        {
          "output_type": "execute_result",
          "data": {
            "application/vnd.google.colaboratory.intrinsic": {
              "type": "string"
            },
            "text/plain": [
              "'[\"‘Sino-India ties will deteriorate further’: Ex-envoy to China on Galwan faceoff\\xa0 \\xa0\"]'"
            ]
          },
          "metadata": {
            "tags": []
          },
          "execution_count": 4
        }
      ]
    },
    {
      "cell_type": "code",
      "metadata": {
        "id": "T9OeZabJP8AK",
        "colab_type": "code",
        "colab": {}
      },
      "source": [
        "import nltk\n",
        "#nltk.download('wordnet')\n",
        "#nltk.download('stopwords')\n",
        "import gensim\n",
        "from gensim.utils import simple_preprocess\n",
        "from gensim.models import CoherenceModel\n",
        "from gensim.parsing.preprocessing import STOPWORDS\n",
        "from nltk.stem import WordNetLemmatizer, SnowballStemmer\n",
        "from nltk.stem.porter import *\n",
        "import numpy as np\n",
        "import re"
      ],
      "execution_count": 9,
      "outputs": []
    },
    {
      "cell_type": "code",
      "metadata": {
        "id": "gB7bRz4NP77F",
        "colab_type": "code",
        "colab": {}
      },
      "source": [
        "# data preprocessing\n",
        "stemmer = SnowballStemmer(language='english',ignore_stopwords=True)\n",
        "def lemmatize_stemming(text):\n",
        "    return stemmer.stem(WordNetLemmatizer().lemmatize(text, pos='v'))\n",
        "def preprocess(text):\n",
        "    result = []\n",
        "    for token in gensim.utils.simple_preprocess(text):\n",
        "        if token not in gensim.parsing.preprocessing.STOPWORDS and len(token) > 3:\n",
        "            result.append(lemmatize_stemming(token))\n",
        "    return result"
      ],
      "execution_count": 7,
      "outputs": []
    },
    {
      "cell_type": "code",
      "metadata": {
        "id": "MB2SeQCtQ0-s",
        "colab_type": "code",
        "colab": {
          "base_uri": "https://localhost:8080/",
          "height": 118
        },
        "outputId": "69e849e7-ca19-4ba0-ed50-5345f1e73fb8"
      },
      "source": [
        "# preview after preprocessing\n",
        "doc_sample = df.heading[1]\n",
        "print('original document: ')\n",
        "words = []\n",
        "for word in doc_sample.split(' '):\n",
        "    words.append(word)\n",
        "print(words)\n",
        "print('\\n\\n tokenized and lemmatized document: ')\n",
        "print(preprocess(doc_sample))"
      ],
      "execution_count": 10,
      "outputs": [
        {
          "output_type": "stream",
          "text": [
            "original document: \n",
            "['[\"‘Sino-India', 'ties', 'will', 'deteriorate', 'further’:', 'Ex-envoy', 'to', 'China', 'on', 'Galwan', 'faceoff\\xa0', '\\xa0\"]']\n",
            "\n",
            "\n",
            " tokenized and lemmatized document: \n",
            "['sino', 'india', 'tie', 'deterior', 'envoy', 'china', 'galwan', 'faceoff']\n"
          ],
          "name": "stdout"
        }
      ]
    },
    {
      "cell_type": "code",
      "metadata": {
        "id": "28wiupn6Q070",
        "colab_type": "code",
        "colab": {
          "base_uri": "https://localhost:8080/",
          "height": 35
        },
        "outputId": "a9898216-dc6a-4380-e525-033ff6886b7a"
      },
      "source": [
        "# Preprocess the headline text, saving the results as ‘processed_docs’\n",
        "processed_docs = df['heading'].map(preprocess)\n",
        "#processed_docs.head(5)\n",
        "df['processed_heading'] = processed_docs\n",
        "#df.head()\n",
        "df['processed_heading'] = df['processed_heading'].apply(lambda x: ' '.join(x))\n",
        "\n",
        "df['processed_heading'][0]"
      ],
      "execution_count": 17,
      "outputs": [
        {
          "output_type": "execute_result",
          "data": {
            "application/vnd.google.colaboratory.intrinsic": {
              "type": "string"
            },
            "text/plain": [
              "'discrimin resid migrant opinion'"
            ]
          },
          "metadata": {
            "tags": []
          },
          "execution_count": 17
        }
      ]
    },
    {
      "cell_type": "code",
      "metadata": {
        "id": "BEDnz_oqMads",
        "colab_type": "code",
        "colab": {}
      },
      "source": [
        "#feature extraction\n",
        "vec = TfidfVectorizer(stop_words=\"english\")\n",
        "vec.fit(df.processed_heading.values)\n",
        "features = vec.transform(df.processed_heading.values)"
      ],
      "execution_count": 18,
      "outputs": []
    },
    {
      "cell_type": "code",
      "metadata": {
        "id": "DZ8Ijoc6Mach",
        "colab_type": "code",
        "colab": {
          "base_uri": "https://localhost:8080/",
          "height": 84
        },
        "outputId": "6176e959-9cbd-4a56-ccd4-e370cf4faf92"
      },
      "source": [
        "#model training\n",
        "random_state = 0\n",
        "cls = MiniBatchKMeans(n_clusters=5, random_state=random_state)\n",
        "cls.fit(features)"
      ],
      "execution_count": 20,
      "outputs": [
        {
          "output_type": "execute_result",
          "data": {
            "text/plain": [
              "MiniBatchKMeans(batch_size=100, compute_labels=True, init='k-means++',\n",
              "                init_size=None, max_iter=100, max_no_improvement=10,\n",
              "                n_clusters=5, n_init=3, random_state=0, reassignment_ratio=0.01,\n",
              "                tol=0.0, verbose=0)"
            ]
          },
          "metadata": {
            "tags": []
          },
          "execution_count": 20
        }
      ]
    },
    {
      "cell_type": "code",
      "metadata": {
        "id": "zzRA7o1WMaZZ",
        "colab_type": "code",
        "colab": {
          "base_uri": "https://localhost:8080/",
          "height": 118
        },
        "outputId": "72b91f0e-94fc-4fad-bdf7-a3917fe71e69"
      },
      "source": [
        "#predict on new data\n",
        "cls.predict(features)"
      ],
      "execution_count": 21,
      "outputs": [
        {
          "output_type": "execute_result",
          "data": {
            "text/plain": [
              "array([1, 1, 1, 1, 0, 1, 1, 1, 1, 4, 0, 1, 0, 0, 0, 1, 0, 4, 1, 0, 4, 1,\n",
              "       1, 0, 0, 1, 1, 1, 0, 1, 1, 1, 1, 0, 0, 3, 0, 0, 0, 0, 4, 4, 0, 1,\n",
              "       1, 1, 1, 0, 0, 1, 0, 1, 1, 2, 1, 0, 0, 0, 2, 1, 1, 1, 0, 0, 0, 1,\n",
              "       1, 0, 0, 0, 1, 0, 0, 0, 1, 0, 1, 0, 0, 1, 1, 1, 1, 0, 4, 0, 1, 0,\n",
              "       0, 1, 1, 0, 0, 1, 1, 0, 1, 0, 1, 1, 1, 1, 4, 0, 1, 1, 1, 1, 1, 0,\n",
              "       0, 1, 0, 1], dtype=int32)"
            ]
          },
          "metadata": {
            "tags": []
          },
          "execution_count": 21
        }
      ]
    },
    {
      "cell_type": "code",
      "metadata": {
        "id": "-jPANtwPMaXY",
        "colab_type": "code",
        "colab": {
          "base_uri": "https://localhost:8080/",
          "height": 283
        },
        "outputId": "f9e65ae3-ca2e-4e51-92d0-713f65e9f3b0"
      },
      "source": [
        "#visualization\n",
        "# reduce the features to 2D\n",
        "pca = PCA(n_components=2, random_state=random_state)\n",
        "reduced_features = pca.fit_transform(features.toarray())\n",
        "\n",
        "# reduce the cluster centers to 2D\n",
        "reduced_cluster_centers = pca.transform(cls.cluster_centers_)\n",
        "\n",
        "plt.scatter(reduced_features[:,0], reduced_features[:,1], c=cls.predict(features))\n",
        "plt.scatter(reduced_cluster_centers[:, 0], reduced_cluster_centers[:,1], marker='x', s=150, c='b')"
      ],
      "execution_count": 22,
      "outputs": [
        {
          "output_type": "execute_result",
          "data": {
            "text/plain": [
              "<matplotlib.collections.PathCollection at 0x7fd3926cfcc0>"
            ]
          },
          "metadata": {
            "tags": []
          },
          "execution_count": 22
        },
        {
          "output_type": "display_data",
          "data": {
            "image/png": "[encoded data removed]",
            "text/plain": [
              "<Figure size 432x288 with 1 Axes>"
            ]
          },
          "metadata": {
            "tags": [],
            "needs_background": "light"
          }
        }
      ]
    },
    {
      "cell_type": "code",
      "metadata": {
        "id": "ZOA58_8RMaUp",
        "colab_type": "code",
        "colab": {
          "base_uri": "https://localhost:8080/",
          "height": 34
        },
        "outputId": "b6d27361-719a-43fa-86cf-6625a2e15013"
      },
      "source": [
        "#evaluation with labelled dataset\n",
        "from sklearn.metrics import homogeneity_score\n",
        "homogeneity_score(df.heading, cls.predict(features))"
      ],
      "execution_count": 26,
      "outputs": [
        {
          "output_type": "execute_result",
          "data": {
            "text/plain": [
              "0.21296272186763776"
            ]
          },
          "metadata": {
            "tags": []
          },
          "execution_count": 26
        }
      ]
    },
    {
      "cell_type": "code",
      "metadata": {
        "id": "ZbA76dkdTjbR",
        "colab_type": "code",
        "colab": {
          "base_uri": "https://localhost:8080/",
          "height": 34
        },
        "outputId": "cb16c15d-afb5-4373-91b6-b55cbe521369"
      },
      "source": [
        "\n",
        "#evaluation with unlabelled dataset\n",
        "from sklearn.metrics import silhouette_score\n",
        "silhouette_score(features, labels=cls.predict(features))"
      ],
      "execution_count": 24,
      "outputs": [
        {
          "output_type": "execute_result",
          "data": {
            "text/plain": [
              "0.020007920235676806"
            ]
          },
          "metadata": {
            "tags": []
          },
          "execution_count": 24
        }
      ]
    },
    {
      "cell_type": "code",
      "metadata": {
        "id": "uGwvOlNWMaSk",
        "colab_type": "code",
        "colab": {
          "base_uri": "https://localhost:8080/",
          "height": 363
        },
        "outputId": "78670877-b6d6-4081-cc94-5451cc09f6ca"
      },
      "source": [
        "#topic modelling\n",
        "import spacy\n",
        "nlp = spacy.load(\"en_core_web_sm\", disable=['parser', 'ner'])\n",
        "\n",
        "random_state = 0\n",
        "\n",
        "def only_nouns(texts):\n",
        "    output = []\n",
        "    for doc in nlp.pipe(texts):\n",
        "        noun_text = \" \".join(token.lemma_ for token in doc if token.pos_ == 'NOUN')\n",
        "        output.append(noun_text)\n",
        "    return output\n",
        "\n",
        "\n",
        "df['noun_heading'] = only_nouns(df['heading'])\n",
        "\n",
        "df.head()"
      ],
      "execution_count": 27,
      "outputs": [
        {
          "output_type": "execute_result",
          "data": {
            "text/html": [
              "<div>\n",
              "<style scoped>\n",
              "    .dataframe tbody tr th:only-of-type {\n",
              "        vertical-align: middle;\n",
              "    }\n",
              "\n",
              "    .dataframe tbody tr th {\n",
              "        vertical-align: top;\n",
              "    }\n",
              "\n",
              "    .dataframe thead th {\n",
              "        text-align: right;\n",
              "    }\n",
              "</style>\n",
              "<table border=\"1\" class=\"dataframe\">\n",
              "  <thead>\n",
              "    <tr style=\"text-align: right;\">\n",
              "      <th></th>\n",
              "      <th>_id</th>\n",
              "      <th>topic</th>\n",
              "      <th>heading</th>\n",
              "      <th>summary</th>\n",
              "      <th>date_published</th>\n",
              "      <th>content</th>\n",
              "      <th>tags</th>\n",
              "      <th>processed_heading</th>\n",
              "      <th>noun_heading</th>\n",
              "    </tr>\n",
              "  </thead>\n",
              "  <tbody>\n",
              "    <tr>\n",
              "      <th>0</th>\n",
              "      <td>5ef0d2b4d83b3587cb500ec9</td>\n",
              "      <td>[\"analysis\"]</td>\n",
              "      <td>[\"Don’t discriminate against non-resident migr...</td>\n",
              "      <td>[\"Create a legal regime that allows them to ac...</td>\n",
              "      <td>[\"Updated: Jun 22, 2020 19:30 IST\"]</td>\n",
              "      <td>[\"Prime Minister (PM) Narendra Modi recently a...</td>\n",
              "      <td>[\"India\",\"Narendra Modi\",\"BIHAR\",\"Haryana\",\"Mi...</td>\n",
              "      <td>discrimin resid migrant opinion</td>\n",
              "      <td>migrant</td>\n",
              "    </tr>\n",
              "    <tr>\n",
              "      <th>1</th>\n",
              "      <td>5ef0d2b6d83b3587cb500eca</td>\n",
              "      <td>NaN</td>\n",
              "      <td>[\"‘Sino-India ties will deteriorate further’: ...</td>\n",
              "      <td>[\"Other Videos\"]</td>\n",
              "      <td>NaN</td>\n",
              "      <td>NaN</td>\n",
              "      <td>NaN</td>\n",
              "      <td>sino india tie deterior envoy china galwan fac...</td>\n",
              "      <td>tie ex envoy faceoff</td>\n",
              "    </tr>\n",
              "    <tr>\n",
              "      <th>2</th>\n",
              "      <td>5ef0d2b8d83b3587cb500ecb</td>\n",
              "      <td>[\"opinion\"]</td>\n",
              "      <td>[\"India has closed military gap with China alo...</td>\n",
              "      <td>[\"Over the past dozen years India has not only...</td>\n",
              "      <td>[\"Updated: Jun 22, 2020 16:01 IST\"]</td>\n",
              "      <td>[\"India has the \",\", says a recent Harvard Uni...</td>\n",
              "      <td>[\"Indian Army\",\"Galwan Valley\",\"India China bo...</td>\n",
              "      <td>india close militari china border</td>\n",
              "      <td>gap border</td>\n",
              "    </tr>\n",
              "    <tr>\n",
              "      <th>3</th>\n",
              "      <td>5ef0d2bad83b3587cb500ecc</td>\n",
              "      <td>[\"opinion\"]</td>\n",
              "      <td>[\"Ladakh faceoff: Looking back for a way forwa...</td>\n",
              "      <td>[\"DRAW THE LINE Policing the borders and preve...</td>\n",
              "      <td>[\"Updated: Jun 22, 2020 18:06 IST\"]</td>\n",
              "      <td>[\"On December 11, 1917, General Edmund Allenby...</td>\n",
              "      <td>NaN</td>\n",
              "      <td>ladakh faceoff look forward</td>\n",
              "      <td>faceoff way</td>\n",
              "    </tr>\n",
              "    <tr>\n",
              "      <th>4</th>\n",
              "      <td>5ef0d2bdd83b3587cb500ecd</td>\n",
              "      <td>[\"editorials\"]</td>\n",
              "      <td>[\"Redesign the model village scheme | HT Edito...</td>\n",
              "      <td>[\"For MPs to take it up, expand its ambit to a...</td>\n",
              "      <td>[\"Updated: Jun 22, 2020 18:56 IST\"]</td>\n",
              "      <td>[\"A study commissioned by the Union ministry o...</td>\n",
              "      <td>NaN</td>\n",
              "      <td>redesign model villag scheme editori</td>\n",
              "      <td>model village scheme editorial</td>\n",
              "    </tr>\n",
              "  </tbody>\n",
              "</table>\n",
              "</div>"
            ],
            "text/plain": [
              "                        _id  ...                    noun_heading\n",
              "0  5ef0d2b4d83b3587cb500ec9  ...                         migrant\n",
              "1  5ef0d2b6d83b3587cb500eca  ...            tie ex envoy faceoff\n",
              "2  5ef0d2b8d83b3587cb500ecb  ...                      gap border\n",
              "3  5ef0d2bad83b3587cb500ecc  ...                     faceoff way\n",
              "4  5ef0d2bdd83b3587cb500ecd  ...  model village scheme editorial\n",
              "\n",
              "[5 rows x 9 columns]"
            ]
          },
          "metadata": {
            "tags": []
          },
          "execution_count": 27
        }
      ]
    },
    {
      "cell_type": "code",
      "metadata": {
        "id": "Dx42Hcw1TAwj",
        "colab_type": "code",
        "colab": {
          "base_uri": "https://localhost:8080/",
          "height": 67
        },
        "outputId": "c69211a6-74e3-47a1-b0dd-f5781b0f88c4"
      },
      "source": [
        "# change this to see different results using the components_ attribute\n",
        "n_topics = 5\n",
        "\n",
        "#for extracting features\n",
        "from sklearn.feature_extraction.text import CountVectorizer, TfidfVectorizer\n",
        "vec = TfidfVectorizer(max_features=5000, stop_words=\"english\", max_df=0.95, min_df=2)\n",
        "features = vec.fit_transform(df.noun_heading)\n",
        "\n",
        "#for topic modelling\n",
        "\n",
        "from sklearn.decomposition import NMF\n",
        "cls = NMF(n_components=n_topics, random_state=random_state)\n",
        "cls.fit(features)"
      ],
      "execution_count": 28,
      "outputs": [
        {
          "output_type": "execute_result",
          "data": {
            "text/plain": [
              "NMF(alpha=0.0, beta_loss='frobenius', init=None, l1_ratio=0.0, max_iter=200,\n",
              "    n_components=5, random_state=0, shuffle=False, solver='cd', tol=0.0001,\n",
              "    verbose=0)"
            ]
          },
          "metadata": {
            "tags": []
          },
          "execution_count": 28
        }
      ]
    },
    {
      "cell_type": "code",
      "metadata": {
        "id": "Z_TnbdVuTAtg",
        "colab_type": "code",
        "colab": {
          "base_uri": "https://localhost:8080/",
          "height": 101
        },
        "outputId": "27d281b0-0681-4a51-beaa-c432e38617cb"
      },
      "source": [
        "# list of unique words found by the vectorizer\n",
        "feature_names = vec.get_feature_names()\n",
        "\n",
        "# number of most influencing words to display per topic\n",
        "n_top_words = 15\n",
        "\n",
        "for i, topic_vec in enumerate(cls.components_):\n",
        "    print(i, end=' ')\n",
        "    # topic_vec.argsort() produces a new array\n",
        "    # in which word_index with the least score is the\n",
        "    # first array element and word_index with highest\n",
        "    # score is the last array element. Then using a\n",
        "    # fancy indexing [-1: -n_top_words-1:-1], we are\n",
        "    # slicing the array from its end in such a way that\n",
        "    # top `n_top_words` word_index with highest scores\n",
        "    # are returned in desceding order\n",
        "    for fid in topic_vec.argsort()[-1:-n_top_words-1:-1]:\n",
        "        print(feature_names[fid], end=' ')\n",
        "    print()"
      ],
      "execution_count": 29,
      "outputs": [
        {
          "output_type": "stream",
          "text": [
            "0 case tally record death doggo medium nepotism woman faceoff ex editorial economy discourse debate date \n",
            "1 coach head test team app revenge economy people hold job centre discourse debate border plan \n",
            "2 photo woman respect autonomy wife ex situation support faceoff people debate hold man cop norm \n",
            "3 time class date app revenge economy woman respect autonomy wife ex faceoff situation video hold \n",
            "4 lockdown school fee woman respect autonomy wife ex faceoff hold plan action editorial stage return \n"
          ],
          "name": "stdout"
        }
      ]
    },
    {
      "cell_type": "code",
      "metadata": {
        "id": "GITww_5GTAqe",
        "colab_type": "code",
        "colab": {
          "base_uri": "https://localhost:8080/",
          "height": 34
        },
        "outputId": "282eb0fd-a2f1-4771-c16b-37e1e40e2767"
      },
      "source": [
        "# to identify topic of a new document\n",
        "new_articles = [\n",
        "    \"Playstation network was down so many people were angry\",\n",
        "    \"Germany scored 7 goals against Brazil in worldcup semi-finals\"\n",
        "]\n",
        "# first transform the text into features using vec\n",
        "# then pass it to transform of cls\n",
        "# the result will be a matrix of shape [2, 10]\n",
        "# then we sort the topic id based on the score using argsort\n",
        "# and take the last one (with the highest score) for each row using `[:,-1]` indexing\n",
        "cls.transform(vec.transform(new_articles)).argsort(axis=1)[:,-1]"
      ],
      "execution_count": 30,
      "outputs": [
        {
          "output_type": "execute_result",
          "data": {
            "text/plain": [
              "array([3, 4])"
            ]
          },
          "metadata": {
            "tags": []
          },
          "execution_count": 30
        }
      ]
    },
    {
      "cell_type": "code",
      "metadata": {
        "id": "dm7KlwnGTApC",
        "colab_type": "code",
        "colab": {}
      },
      "source": [
        ""
      ],
      "execution_count": null,
      "outputs": []
    }
  ]
}