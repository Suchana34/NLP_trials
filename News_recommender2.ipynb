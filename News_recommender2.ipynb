{
  "nbformat": 4,
  "nbformat_minor": 0,
  "metadata": {
    "colab": {
      "name": "News_recommender2.ipynb",
      "provenance": []
    },
    "kernelspec": {
      "name": "python3",
      "display_name": "Python 3"
    }
  },
  "cells": [
    {
      "cell_type": "code",
      "metadata": {
        "id": "vpbl37JxvWC2",
        "colab_type": "code",
        "colab": {}
      },
      "source": [
        "import numpy as np\n",
        "import pandas as pd\n",
        "import pickle\n",
        "from sklearn.utils import shuffle\n",
        "from sklearn.metrics.pairwise import cosine_similarity\n",
        "from sklearn.feature_extraction.text import TfidfVectorizer\n",
        "from collections import Counter"
      ],
      "execution_count": 1,
      "outputs": []
    },
    {
      "cell_type": "code",
      "metadata": {
        "id": "hSsnR_uIvlME",
        "colab_type": "code",
        "colab": {}
      },
      "source": [
        "#from google.colab import drive\n",
        "#drive.mount('/content/drive')"
      ],
      "execution_count": 3,
      "outputs": []
    },
    {
      "cell_type": "code",
      "metadata": {
        "id": "lo3MQ0dPv1MO",
        "colab_type": "code",
        "colab": {
          "base_uri": "https://localhost:8080/",
          "height": 629
        },
        "outputId": "490a4a4f-f845-4f8b-8609-6b0aabacb9bb"
      },
      "source": [
        "df = pd.read_csv('/content/drive/My Drive/result1.csv')\n",
        "df[144:154] "
      ],
      "execution_count": 30,
      "outputs": [
        {
          "output_type": "execute_result",
          "data": {
            "text/html": [
              "<div>\n",
              "<style scoped>\n",
              "    .dataframe tbody tr th:only-of-type {\n",
              "        vertical-align: middle;\n",
              "    }\n",
              "\n",
              "    .dataframe tbody tr th {\n",
              "        vertical-align: top;\n",
              "    }\n",
              "\n",
              "    .dataframe thead th {\n",
              "        text-align: right;\n",
              "    }\n",
              "</style>\n",
              "<table border=\"1\" class=\"dataframe\">\n",
              "  <thead>\n",
              "    <tr style=\"text-align: right;\">\n",
              "      <th></th>\n",
              "      <th>_id</th>\n",
              "      <th>topic</th>\n",
              "      <th>heading</th>\n",
              "      <th>summary</th>\n",
              "      <th>date_published</th>\n",
              "      <th>author</th>\n",
              "      <th>content</th>\n",
              "      <th>tags</th>\n",
              "    </tr>\n",
              "  </thead>\n",
              "  <tbody>\n",
              "    <tr>\n",
              "      <th>144</th>\n",
              "      <td>5efff12b86936ae10d2be3b9</td>\n",
              "      <td>NaN</td>\n",
              "      <td>[\"\\n                  Chill, Focus, Energy, or...</td>\n",
              "      <td>[\"\\n                  Although YouTube has not...</td>\n",
              "      <td>NaN</td>\n",
              "      <td>NaN</td>\n",
              "      <td>[\"YouTube Music is saving you time to search f...</td>\n",
              "      <td>NaN</td>\n",
              "    </tr>\n",
              "    <tr>\n",
              "      <th>145</th>\n",
              "      <td>5efff12d86936ae10d2be3ba</td>\n",
              "      <td>[\"delhi\"]</td>\n",
              "      <td>[\"Centre first opposed, then copied Delhi’s is...</td>\n",
              "      <td>[\"AAP’s national spokesperson and MLA Raghav C...</td>\n",
              "      <td>[\"Updated: Jul 04, 2020 02:35 IST\"]</td>\n",
              "      <td>[\"HT Correspondent\"]</td>\n",
              "      <td>[\"The Aam Aadmi Party (AAP) on Friday alleged ...</td>\n",
              "      <td>[\"BJP\",\"Aam Aadmi Party\",\"Delhi government\",\"A...</td>\n",
              "    </tr>\n",
              "    <tr>\n",
              "      <th>146</th>\n",
              "      <td>5efff12d86936ae10d2be3bb</td>\n",
              "      <td>NaN</td>\n",
              "      <td>[\"\\n                  Tech Wrap: Jio Platforms...</td>\n",
              "      <td>[\"\\n                  More tech news include L...</td>\n",
              "      <td>NaN</td>\n",
              "      <td>NaN</td>\n",
              "      <td>[\"The day started with Jio Platforms bagging y...</td>\n",
              "      <td>NaN</td>\n",
              "    </tr>\n",
              "    <tr>\n",
              "      <th>147</th>\n",
              "      <td>5efff13086936ae10d2be3bc</td>\n",
              "      <td>[\"delhi\"]</td>\n",
              "      <td>[\"Delhi cop dies after being hit by speeding c...</td>\n",
              "      <td>[\"Assistant sub inspector Lal Man Singh Sisodi...</td>\n",
              "      <td>[\"Updated: Jul 04, 2020 00:57 IST\"]</td>\n",
              "      <td>[\"Anvit Srivastava\"]</td>\n",
              "      <td>[\"A 51-year-old assistant sub-inspector(ASI) o...</td>\n",
              "      <td>[\"United States embassy\",\"Delhi\",\"Delhi Police\"]</td>\n",
              "    </tr>\n",
              "    <tr>\n",
              "      <th>148</th>\n",
              "      <td>5efff13286936ae10d2be3bd</td>\n",
              "      <td>[\"education\"]</td>\n",
              "      <td>[\"MP Board MPBSE 10th Result 2020 to be declar...</td>\n",
              "      <td>[\"MP Board 10th Result 2020: Madhya Pradesh Bo...</td>\n",
              "      <td>[\"Updated: Jul 04, 2020 07:16 IST\"]</td>\n",
              "      <td>[\"hindustantimes.com| Edited by Nandini\"]</td>\n",
              "      <td>[\"MP Board 10th Result 2020: Madhya Pradesh Bo...</td>\n",
              "      <td>NaN</td>\n",
              "    </tr>\n",
              "    <tr>\n",
              "      <th>149</th>\n",
              "      <td>5efff13486936ae10d2be3be</td>\n",
              "      <td>NaN</td>\n",
              "      <td>[\"MP Board 10th Result 2020 Live Updates: Madh...</td>\n",
              "      <td>[\"MP Board 10th Result 2020: Passing marks\"]</td>\n",
              "      <td>NaN</td>\n",
              "      <td>NaN</td>\n",
              "      <td>NaN</td>\n",
              "      <td>NaN</td>\n",
              "    </tr>\n",
              "    <tr>\n",
              "      <th>150</th>\n",
              "      <td>5efff13786936ae10d2be3bf</td>\n",
              "      <td>[\"education\"]</td>\n",
              "      <td>[\"MP Board 10th result 2020 soon: Check MPBSE ...</td>\n",
              "      <td>[\"MP 10th result 2020: Students who have appea...</td>\n",
              "      <td>[\"Updated: Jul 04, 2020 07:26 IST\"]</td>\n",
              "      <td>[\"hindustantimes.com | Edited by Akhilesh Naga...</td>\n",
              "      <td>[\"MP 10th result 2020:\",\" Madhya Pradesh Board...</td>\n",
              "      <td>[\"Madhya Pradesh\",\"Board exam\",\"Result\"]</td>\n",
              "    </tr>\n",
              "    <tr>\n",
              "      <th>151</th>\n",
              "      <td>5efff13a86936ae10d2be3c0</td>\n",
              "      <td>[\"business\"]</td>\n",
              "      <td>[\"76 taxpayers per minute: Rs 62K crore I-T re...</td>\n",
              "      <td>[\"I-T refunds amounting to Rs 23,453.57 crore ...</td>\n",
              "      <td>[\"Updated: Jul 03, 2020 23:27 IST\"]</td>\n",
              "      <td>[\"HT Correspondent | Edited by Arpan Rai\"]</td>\n",
              "      <td>[\"The Income Tax (I-T) department has issued t...</td>\n",
              "      <td>[\"Tax refund\",\"CBDT\",\"Finance Ministry\"]</td>\n",
              "    </tr>\n",
              "    <tr>\n",
              "      <th>152</th>\n",
              "      <td>5efff13c86936ae10d2be3c1</td>\n",
              "      <td>[\"india\"]</td>\n",
              "      <td>[\"GST regime may undergo  2 major reforms this...</td>\n",
              "      <td>[\"GST was launched in 2017 as India’s biggest-...</td>\n",
              "      <td>[\"Updated: Jul 04, 2020 07:27 IST\"]</td>\n",
              "      <td>[\"Rajeev Jayaswal\"]</td>\n",
              "      <td>[\"The Goods and Services Tax (GST) regime is e...</td>\n",
              "      <td>[\"GST\",\"finance ministry\"]</td>\n",
              "    </tr>\n",
              "    <tr>\n",
              "      <th>153</th>\n",
              "      <td>5efff13f86936ae10d2be3c2</td>\n",
              "      <td>[\"business\"]</td>\n",
              "      <td>[\"Services sector’s PMI shows slight uptick in...</td>\n",
              "      <td>[\"According to data released by IHS Markit, se...</td>\n",
              "      <td>[\"Updated: Jul 04, 2020 08:06 IST\"]</td>\n",
              "      <td>[\"Asit Ranjan Mishra\"]</td>\n",
              "      <td>[\"Services sector activity, which makes up mor...</td>\n",
              "      <td>[\"Services sector\",\"India\",\"coronavirus\",\"COVI...</td>\n",
              "    </tr>\n",
              "  </tbody>\n",
              "</table>\n",
              "</div>"
            ],
            "text/plain": [
              "                          _id  ...                                               tags\n",
              "144  5efff12b86936ae10d2be3b9  ...                                                NaN\n",
              "145  5efff12d86936ae10d2be3ba  ...  [\"BJP\",\"Aam Aadmi Party\",\"Delhi government\",\"A...\n",
              "146  5efff12d86936ae10d2be3bb  ...                                                NaN\n",
              "147  5efff13086936ae10d2be3bc  ...   [\"United States embassy\",\"Delhi\",\"Delhi Police\"]\n",
              "148  5efff13286936ae10d2be3bd  ...                                                NaN\n",
              "149  5efff13486936ae10d2be3be  ...                                                NaN\n",
              "150  5efff13786936ae10d2be3bf  ...           [\"Madhya Pradesh\",\"Board exam\",\"Result\"]\n",
              "151  5efff13a86936ae10d2be3c0  ...           [\"Tax refund\",\"CBDT\",\"Finance Ministry\"]\n",
              "152  5efff13c86936ae10d2be3c1  ...                         [\"GST\",\"finance ministry\"]\n",
              "153  5efff13f86936ae10d2be3c2  ...  [\"Services sector\",\"India\",\"coronavirus\",\"COVI...\n",
              "\n",
              "[10 rows x 8 columns]"
            ]
          },
          "metadata": {
            "tags": []
          },
          "execution_count": 30
        }
      ]
    },
    {
      "cell_type": "code",
      "metadata": {
        "id": "qUMfcaWpwBAB",
        "colab_type": "code",
        "colab": {
          "base_uri": "https://localhost:8080/",
          "height": 34
        },
        "outputId": "f54bca7a-c91b-486f-dab9-850b02347059"
      },
      "source": [
        "len(df.content.unique()),  len(df.content)"
      ],
      "execution_count": null,
      "outputs": [
        {
          "output_type": "execute_result",
          "data": {
            "text/plain": [
              "(154, 162)"
            ]
          },
          "metadata": {
            "tags": []
          },
          "execution_count": 7
        }
      ]
    },
    {
      "cell_type": "code",
      "metadata": {
        "id": "8u_b-cE3wA8i",
        "colab_type": "code",
        "colab": {
          "base_uri": "https://localhost:8080/",
          "height": 120
        },
        "outputId": "6105026e-6d3b-4c47-af05-c931f4067dcb"
      },
      "source": [
        "df.content[0]"
      ],
      "execution_count": null,
      "outputs": [
        {
          "output_type": "execute_result",
          "data": {
            "application/vnd.google.colaboratory.intrinsic": {
              "type": "string"
            },
            "text/plain": [
              "'[\"Prime Minister (PM) Narendra Modi recently announced that India must become \",\"(self-reliant). One aspect of this could be that India will remove barriers within its internal markets to truly become a single market. It will remove the hurdles to efficiency improvements and become more competitive. The Goods and Services Tax (GST) was a step in this direction. Recent decisions to remove hurdles in inter-state agricultural trade are also similar. For agricultural and industrial products, as well as capital, India is increasingly becoming a single market. The creation of a barrier-free domestic market is also an intent reflected in Article 301 of the Constitution.\",\"However, there is one market where frictions are being added rather than reduced. This is the labour market. For different reasons, leaders from out-migration and in-migration states have made statements suggesting that there may be more impediments to the inter-state migration of workers. Some states have announced preferential treatment for workers from within the state. Others have spoken of instituting an approval system before allowing their workers to move to other states, in the backdrop of how they were treated.\",\"There are compelling reasons for internal migration in India.\",\"First, India has much higher economic differences across states than comparable countries — with the per capita income of the richest large state (Haryana) being more than six times that of the poorest state (Bihar). The wage gap between states is as high as 100% for regular workers and 250% for casual workers. It is, therefore, no wonder that workers from the poorer states migrate to richer states for work. As of now, the best option for many poor people looking to escape poverty is to leave the states they live in, because of economic opportunities in richer states. This movement is difficult since the cost of living is also higher in richer states. However, millions still migrate and brave squalid conditions in in-migration states because they need livelihoods.\",\"Second, some of the poorer states such as Uttar Pradesh and Bihar have younger and larger populations, with many more workers than work opportunities. While these states must develop their economies, in the short-term, migration is an essential component of development for them.\",\"Third, India’s growth has been largely services-led. For most services, the availability of physical labour is essential. For services such as cooking, driving, hairdressing and security, there is a need for workers to be physically present to provide the service.\",\"While beneficial for migrants, migration also has negative implications. Migration can put downward pressure on wages in richer states, with the increase in the supply of workers. This creates an incentive for regional and local leaders to generate anti-migrant sentiments, and to promote policies that favour local workers. This dynamic is not very different from the one seen in international migration — after a point, a political economy develops to oppose migration.\",\"Throughout India’s history, states have enacted laws and measures that are discriminatory vis-à-vis non-resident migrants. Many state laws discourage or prevent non-residents from applying for government jobs or other professions that require government licensing (auto, taxi licences), or deny them the benefits of educational reservations. Other laws, prevalent in some states of the Northeast, regulate the entry of non-residents within the state. Yet another category of laws prevents non-residents from owning property (such as in Himachal Pradesh, Uttarakhand and others). The Union government has recently announced “One Nation One Ration Card” because non-resident migrants are currently ineligible for many state welfare schemes.\",\"Even though Article 19(1)(d) of the Constitution guarantees free movement and residence, states have enacted “reasonable restrictions” to disfavour non-resident migrants. Article 16 outlaws discrimination in employment on the grounds of residence, but the criteria for determining reservations is usually linked to local demographic characteristics. The courts have also largely upheld positive discrimination in employment and education that nonetheless discriminates against non-residents. They have upheld not just residency as a ground for eligibility for jobs and educational seats, but also the charging of differential capitation fees based on residency. In doing so, courts have generally privileged the equality interests in the Constitution at the cost of free movement and residence.\",\"While such measures ostensibly serve to protect local constituents, they inhibit migration and thus the law of comparative advantage from operating to the benefit of in-migration states. Bengaluru could not have become a hub for information technology if it had imposed restrictions on the movement of skilled professional migrants who eventually settled in the city. Contrary to nativist sentiments, Karnataka’s population has been a net beneficiary of this in-migration because of the increased contribution of Bengaluru to Karnataka’s Gross Domestic Product (GDP) besides the value of diversity.\",\"This benefit is not limited to skilled or high-end services. To the extent that Bengaluru’s economy powers Karnataka’s growth, a migrant hairdresser working in Bangalore is also important for the state’s economy. This was evident recently when the Karnataka government wanted to prevent migrants from leaving for their home states because of their importance to the construction industry. It is, therefore, time to seriously re-examine the legal framework that inhibits the movement of migrants across the country, and prevents them from accessing safety, shelter and welfare services on equal terms as residents.\"]'"
            ]
          },
          "metadata": {
            "tags": []
          },
          "execution_count": 8
        }
      ]
    },
    {
      "cell_type": "code",
      "metadata": {
        "id": "Ka_Q5FUuwA57",
        "colab_type": "code",
        "colab": {}
      },
      "source": [
        "# time range for which these articles are published\n",
        "#min(df.date_published).split(\"T\")[0], max(df.date_published).split(\"T\")[0]"
      ],
      "execution_count": null,
      "outputs": []
    },
    {
      "cell_type": "code",
      "metadata": {
        "id": "rdi2d3PEwA4C",
        "colab_type": "code",
        "colab": {
          "base_uri": "https://localhost:8080/",
          "height": 487
        },
        "outputId": "eab98846-db22-437f-f62a-779717df12d9"
      },
      "source": [
        "# the number of articles in each section\n",
        "Counter(df.topic)"
      ],
      "execution_count": null,
      "outputs": [
        {
          "output_type": "execute_result",
          "data": {
            "text/plain": [
              "Counter({'[\"analysis\"]': 11,\n",
              "         '[\"art-and-culture\"]': 1,\n",
              "         '[\"bollywood\"]': 7,\n",
              "         '[\"business\"]': 9,\n",
              "         '[\"cities\"]': 1,\n",
              "         '[\"columns\"]': 4,\n",
              "         '[\"cricket\"]': 4,\n",
              "         '[\"delhi\"]': 8,\n",
              "         '[\"editorials\"]': 9,\n",
              "         '[\"education\"]': 13,\n",
              "         '[\"fashion-and-trends\"]': 4,\n",
              "         '[\"fitness\"]': 1,\n",
              "         '[\"football\"]': 3,\n",
              "         '[\"health\"]': 1,\n",
              "         '[\"hollywood\"]': 1,\n",
              "         '[\"india\"]': 17,\n",
              "         '[\"it-s-viral\"]': 12,\n",
              "         '[\"more-lifestyle\"]': 4,\n",
              "         '[\"mumbai\"]': 10,\n",
              "         '[\"music\"]': 1,\n",
              "         '[\"opinion\"]': 2,\n",
              "         '[\"other-sports\"]': 4,\n",
              "         '[\"regional-movies\"]': 1,\n",
              "         '[\"tennis\"]': 1,\n",
              "         '[\"travel\"]': 1,\n",
              "         '[\"tv\"]': 12,\n",
              "         '[\"world\"]': 11,\n",
              "         nan: 9})"
            ]
          },
          "metadata": {
            "tags": []
          },
          "execution_count": 17
        }
      ]
    },
    {
      "cell_type": "code",
      "metadata": {
        "id": "HZO_yoVk56_O",
        "colab_type": "code",
        "colab": {
          "base_uri": "https://localhost:8080/",
          "height": 185
        },
        "outputId": "a36efd24-48f5-4698-953e-5c26b6623571"
      },
      "source": [
        "df.isnull().sum()"
      ],
      "execution_count": null,
      "outputs": [
        {
          "output_type": "execute_result",
          "data": {
            "text/plain": [
              "_id                   0\n",
              "topic                 9\n",
              "heading               0\n",
              "summary               0\n",
              "date_published        9\n",
              "author               20\n",
              "content               7\n",
              "tags                 27\n",
              "processed_heading     0\n",
              "dtype: int64"
            ]
          },
          "metadata": {
            "tags": []
          },
          "execution_count": 25
        }
      ]
    },
    {
      "cell_type": "code",
      "metadata": {
        "id": "480VWPHB568Z",
        "colab_type": "code",
        "colab": {}
      },
      "source": [
        "df.dropna(subset=['content'], inplace = True)\n",
        "df.dropna(subset = ['topic'], inplace = True)"
      ],
      "execution_count": 5,
      "outputs": []
    },
    {
      "cell_type": "code",
      "metadata": {
        "id": "DBvtc8fU6DMW",
        "colab_type": "code",
        "colab": {
          "base_uri": "https://localhost:8080/",
          "height": 34
        },
        "outputId": "b10a39f8-c89d-4a8f-9c64-56e4d13cf86e"
      },
      "source": [
        "df.shape"
      ],
      "execution_count": 6,
      "outputs": [
        {
          "output_type": "execute_result",
          "data": {
            "text/plain": [
              "(148, 8)"
            ]
          },
          "metadata": {
            "tags": []
          },
          "execution_count": 6
        }
      ]
    },
    {
      "cell_type": "code",
      "metadata": {
        "id": "Wql3tP33yzg3",
        "colab_type": "code",
        "colab": {
          "base_uri": "https://localhost:8080/",
          "height": 578
        },
        "outputId": "5579cd7c-8d58-47fb-e6e1-d9e3340c09eb"
      },
      "source": [
        "df[-10:]"
      ],
      "execution_count": 31,
      "outputs": [
        {
          "output_type": "execute_result",
          "data": {
            "text/html": [
              "<div>\n",
              "<style scoped>\n",
              "    .dataframe tbody tr th:only-of-type {\n",
              "        vertical-align: middle;\n",
              "    }\n",
              "\n",
              "    .dataframe tbody tr th {\n",
              "        vertical-align: top;\n",
              "    }\n",
              "\n",
              "    .dataframe thead th {\n",
              "        text-align: right;\n",
              "    }\n",
              "</style>\n",
              "<table border=\"1\" class=\"dataframe\">\n",
              "  <thead>\n",
              "    <tr style=\"text-align: right;\">\n",
              "      <th></th>\n",
              "      <th>_id</th>\n",
              "      <th>topic</th>\n",
              "      <th>heading</th>\n",
              "      <th>summary</th>\n",
              "      <th>date_published</th>\n",
              "      <th>author</th>\n",
              "      <th>content</th>\n",
              "      <th>tags</th>\n",
              "    </tr>\n",
              "  </thead>\n",
              "  <tbody>\n",
              "    <tr>\n",
              "      <th>152</th>\n",
              "      <td>5efff13c86936ae10d2be3c1</td>\n",
              "      <td>[\"india\"]</td>\n",
              "      <td>[\"GST regime may undergo  2 major reforms this...</td>\n",
              "      <td>[\"GST was launched in 2017 as India’s biggest-...</td>\n",
              "      <td>[\"Updated: Jul 04, 2020 07:27 IST\"]</td>\n",
              "      <td>[\"Rajeev Jayaswal\"]</td>\n",
              "      <td>[\"The Goods and Services Tax (GST) regime is e...</td>\n",
              "      <td>[\"GST\",\"finance ministry\"]</td>\n",
              "    </tr>\n",
              "    <tr>\n",
              "      <th>153</th>\n",
              "      <td>5efff13f86936ae10d2be3c2</td>\n",
              "      <td>[\"business\"]</td>\n",
              "      <td>[\"Services sector’s PMI shows slight uptick in...</td>\n",
              "      <td>[\"According to data released by IHS Markit, se...</td>\n",
              "      <td>[\"Updated: Jul 04, 2020 08:06 IST\"]</td>\n",
              "      <td>[\"Asit Ranjan Mishra\"]</td>\n",
              "      <td>[\"Services sector activity, which makes up mor...</td>\n",
              "      <td>[\"Services sector\",\"India\",\"coronavirus\",\"COVI...</td>\n",
              "    </tr>\n",
              "    <tr>\n",
              "      <th>154</th>\n",
              "      <td>5efff14286936ae10d2be3c3</td>\n",
              "      <td>[\"hollywood\"]</td>\n",
              "      <td>[\"When Amrish Puri refused to audition for Ste...</td>\n",
              "      <td>[\"Did you know that Steven Spielberg once desc...</td>\n",
              "      <td>[\"Updated: Jul 03, 2020 17:13 IST\"]</td>\n",
              "      <td>[\"HT Entertainment Desk\"]</td>\n",
              "      <td>[\"Several Indian actors have made their mark i...</td>\n",
              "      <td>[\"Steven Spielberg\",\"Amrish Puri\",\"Temple of D...</td>\n",
              "    </tr>\n",
              "    <tr>\n",
              "      <th>155</th>\n",
              "      <td>5efff14586936ae10d2be3c4</td>\n",
              "      <td>[\"bollywood\"]</td>\n",
              "      <td>[\"‘Good roles, good films reserved for people ...</td>\n",
              "      <td>[\"Celina Jaitly says most of the meaty parts a...</td>\n",
              "      <td>[\"Updated: Jul 04, 2020 07:08 IST\"]</td>\n",
              "      <td>[\"Ruchi Kaushal\"]</td>\n",
              "      <td>[\"Celina Jaitly\",\" has said she had earlier di...</td>\n",
              "      <td>[\"Celina Jaitly\",\"Rituporno Ghosh\",\"Seasons Gr...</td>\n",
              "    </tr>\n",
              "    <tr>\n",
              "      <th>156</th>\n",
              "      <td>5efff14786936ae10d2be3c5</td>\n",
              "      <td>[\"tv\"]</td>\n",
              "      <td>[\"Smriti Irani gets nostalgic as Kyunki Saas B...</td>\n",
              "      <td>[\"Actor and minister Smriti Irani went back in...</td>\n",
              "      <td>[\"Updated: Jul 04, 2020 08:05 IST\"]</td>\n",
              "      <td>[\"HT Entertainment Desk\"]</td>\n",
              "      <td>[\"Actor and minister \",\"Smriti Irani\",\" went b...</td>\n",
              "      <td>[\"Smriti Irani\",\"Ekta Kapoor\",\"Kyunki Saas Bhi...</td>\n",
              "    </tr>\n",
              "    <tr>\n",
              "      <th>157</th>\n",
              "      <td>5efff14986936ae10d2be3c6</td>\n",
              "      <td>[\"other-sports\"]</td>\n",
              "      <td>[\"Can F1’s young guns dethrone King Lewis?\"]</td>\n",
              "      <td>[\"OPENER: Leclerc-Verstappen duels could signa...</td>\n",
              "      <td>[\"Updated: Jul 04, 2020 06:53 IST\"]</td>\n",
              "      <td>[\"Rajesh Pansare\"]</td>\n",
              "      <td>[\"Last year’s Austrian Grand Prix may have giv...</td>\n",
              "      <td>[\"Lewis Hamilton\",\"Max Verstappen\",\"Charles Le...</td>\n",
              "    </tr>\n",
              "    <tr>\n",
              "      <th>158</th>\n",
              "      <td>5efff14c86936ae10d2be3c7</td>\n",
              "      <td>[\"other-sports\"]</td>\n",
              "      <td>[\"Hamilton makes a statement as F1 gets back o...</td>\n",
              "      <td>[\"Hamilton, wearing a ‘Black Lives Matter’ hel...</td>\n",
              "      <td>[\"Updated: Jul 04, 2020 07:02 IST\"]</td>\n",
              "      <td>[\"Reuters\"]</td>\n",
              "      <td>[\"Formula One got back on track in changed cir...</td>\n",
              "      <td>[\"Lewis Hamilton\",\"Mercedes\",\"Valtteri Bottas\"...</td>\n",
              "    </tr>\n",
              "    <tr>\n",
              "      <th>159</th>\n",
              "      <td>5efff14f86936ae10d2be3c8</td>\n",
              "      <td>[\"football\"]</td>\n",
              "      <td>[\"Morata double leads Atletico to 3-0 win over...</td>\n",
              "      <td>[\"Morata earned a penalty when he was pulled d...</td>\n",
              "      <td>[\"Updated: Jul 04, 2020 07:12 IST\"]</td>\n",
              "      <td>[\"Associated Press\"]</td>\n",
              "      <td>[\"Alvaro Morata scored twice to lead Atletico ...</td>\n",
              "      <td>[\"Alvaro Morata\",\"Mallorca\",\"Diego Simeone\",\"R...</td>\n",
              "    </tr>\n",
              "    <tr>\n",
              "      <th>160</th>\n",
              "      <td>5efff15286936ae10d2be3c9</td>\n",
              "      <td>[\"it-s-viral\"]</td>\n",
              "      <td>[\"Twitter can’t decide if this puzzle related ...</td>\n",
              "      <td>[\"Shared on Twitter, the puzzle related video ...</td>\n",
              "      <td>[\"Updated: Jul 03, 2020 18:15 IST\"]</td>\n",
              "      <td>[\"Trisha Sengupta\"]</td>\n",
              "      <td>[\"Have you ever solved a picture puzzle? For m...</td>\n",
              "      <td>[\"Video\",\"Twitter\"]</td>\n",
              "    </tr>\n",
              "    <tr>\n",
              "      <th>161</th>\n",
              "      <td>5efff15386936ae10d2be3ca</td>\n",
              "      <td>[\"it-s-viral\"]</td>\n",
              "      <td>[\"Mum records sweet interaction between daught...</td>\n",
              "      <td>[\"Eight-year-old, Tallulah drew a thank you no...</td>\n",
              "      <td>[\"Updated: Jul 03, 2020 18:17 IST\"]</td>\n",
              "      <td>[\"Sanya Budhiraja\"]</td>\n",
              "      <td>[\"The beautiful bond of friendship can genuine...</td>\n",
              "      <td>[\"friendship\",\"viral video\"]</td>\n",
              "    </tr>\n",
              "  </tbody>\n",
              "</table>\n",
              "</div>"
            ],
            "text/plain": [
              "                          _id  ...                                               tags\n",
              "152  5efff13c86936ae10d2be3c1  ...                         [\"GST\",\"finance ministry\"]\n",
              "153  5efff13f86936ae10d2be3c2  ...  [\"Services sector\",\"India\",\"coronavirus\",\"COVI...\n",
              "154  5efff14286936ae10d2be3c3  ...  [\"Steven Spielberg\",\"Amrish Puri\",\"Temple of D...\n",
              "155  5efff14586936ae10d2be3c4  ...  [\"Celina Jaitly\",\"Rituporno Ghosh\",\"Seasons Gr...\n",
              "156  5efff14786936ae10d2be3c5  ...  [\"Smriti Irani\",\"Ekta Kapoor\",\"Kyunki Saas Bhi...\n",
              "157  5efff14986936ae10d2be3c6  ...  [\"Lewis Hamilton\",\"Max Verstappen\",\"Charles Le...\n",
              "158  5efff14c86936ae10d2be3c7  ...  [\"Lewis Hamilton\",\"Mercedes\",\"Valtteri Bottas\"...\n",
              "159  5efff14f86936ae10d2be3c8  ...  [\"Alvaro Morata\",\"Mallorca\",\"Diego Simeone\",\"R...\n",
              "160  5efff15286936ae10d2be3c9  ...                                [\"Video\",\"Twitter\"]\n",
              "161  5efff15386936ae10d2be3ca  ...                       [\"friendship\",\"viral video\"]\n",
              "\n",
              "[10 rows x 8 columns]"
            ]
          },
          "metadata": {
            "tags": []
          },
          "execution_count": 31
        }
      ]
    },
    {
      "cell_type": "code",
      "metadata": {
        "id": "IvmtKjIk3KVo",
        "colab_type": "code",
        "colab": {
          "base_uri": "https://localhost:8080/",
          "height": 101
        },
        "outputId": "41a4ff44-12d7-4e65-cb6c-f04765b7ef79"
      },
      "source": [
        "import pandas as pd\n",
        "import numpy as np\n",
        "import re\n",
        "\n",
        "import gensim\n",
        "from gensim import corpora,models\n",
        "from gensim.utils import simple_preprocess\n",
        "from gensim.models import CoherenceModel\n",
        "from gensim.parsing.preprocessing import STOPWORDS\n",
        "from nltk.stem import WordNetLemmatizer, SnowballStemmer\n",
        "from nltk.stem.porter import *\n",
        "import numpy as np\n",
        "np.random.seed(2018)\n",
        "\n",
        "import nltk\n",
        "#nltk.download('wordnet')\n",
        "#nltk.download('stopwords')"
      ],
      "execution_count": 7,
      "outputs": [
        {
          "output_type": "stream",
          "text": [
            "[nltk_data] Downloading package wordnet to /root/nltk_data...\n",
            "[nltk_data]   Unzipping corpora/wordnet.zip.\n",
            "[nltk_data] Downloading package stopwords to /root/nltk_data...\n",
            "[nltk_data]   Unzipping corpora/stopwords.zip.\n"
          ],
          "name": "stdout"
        },
        {
          "output_type": "execute_result",
          "data": {
            "text/plain": [
              "True"
            ]
          },
          "metadata": {
            "tags": []
          },
          "execution_count": 7
        }
      ]
    },
    {
      "cell_type": "code",
      "metadata": {
        "id": "9DhJedHN3KHO",
        "colab_type": "code",
        "colab": {}
      },
      "source": [
        "# data preprocessing\n",
        "stemmer = SnowballStemmer(language='english',ignore_stopwords=True)\n",
        "def lemmatize_stemming(text):\n",
        "    return stemmer.stem(WordNetLemmatizer().lemmatize(text, pos='v'))\n",
        "def preprocess(text):\n",
        "    result = []\n",
        "    for token in gensim.utils.simple_preprocess(text):\n",
        "        if token not in gensim.parsing.preprocessing.STOPWORDS and len(token) > 3:\n",
        "            result.append(lemmatize_stemming(token))\n",
        "    return result"
      ],
      "execution_count": 8,
      "outputs": []
    },
    {
      "cell_type": "code",
      "metadata": {
        "id": "a6V-hvgJ3J8h",
        "colab_type": "code",
        "colab": {
          "base_uri": "https://localhost:8080/",
          "height": 138
        },
        "outputId": "48bc0035-3dba-4ed1-e801-d74e14102e1c"
      },
      "source": [
        "# preview after preprocessing\n",
        "doc_sample = df['content'][0]\n",
        "print('original document: ')\n",
        "words = []\n",
        "for word in doc_sample.split(' '):\n",
        "    words.append(word)\n",
        "print(words)\n",
        "print('\\n\\n tokenized and lemmatized document: ')\n",
        "print(preprocess(doc_sample))"
      ],
      "execution_count": 9,
      "outputs": [
        {
          "output_type": "stream",
          "text": [
            "original document: \n",
            "['[\"Prime', 'Minister', '(PM)', 'Narendra', 'Modi', 'recently', 'announced', 'that', 'India', 'must', 'become', '\",\"(self-reliant).', 'One', 'aspect', 'of', 'this', 'could', 'be', 'that', 'India', 'will', 'remove', 'barriers', 'within', 'its', 'internal', 'markets', 'to', 'truly', 'become', 'a', 'single', 'market.', 'It', 'will', 'remove', 'the', 'hurdles', 'to', 'efficiency', 'improvements', 'and', 'become', 'more', 'competitive.', 'The', 'Goods', 'and', 'Services', 'Tax', '(GST)', 'was', 'a', 'step', 'in', 'this', 'direction.', 'Recent', 'decisions', 'to', 'remove', 'hurdles', 'in', 'inter-state', 'agricultural', 'trade', 'are', 'also', 'similar.', 'For', 'agricultural', 'and', 'industrial', 'products,', 'as', 'well', 'as', 'capital,', 'India', 'is', 'increasingly', 'becoming', 'a', 'single', 'market.', 'The', 'creation', 'of', 'a', 'barrier-free', 'domestic', 'market', 'is', 'also', 'an', 'intent', 'reflected', 'in', 'Article', '301', 'of', 'the', 'Constitution.\",\"However,', 'there', 'is', 'one', 'market', 'where', 'frictions', 'are', 'being', 'added', 'rather', 'than', 'reduced.', 'This', 'is', 'the', 'labour', 'market.', 'For', 'different', 'reasons,', 'leaders', 'from', 'out-migration', 'and', 'in-migration', 'states', 'have', 'made', 'statements', 'suggesting', 'that', 'there', 'may', 'be', 'more', 'impediments', 'to', 'the', 'inter-state', 'migration', 'of', 'workers.', 'Some', 'states', 'have', 'announced', 'preferential', 'treatment', 'for', 'workers', 'from', 'within', 'the', 'state.', 'Others', 'have', 'spoken', 'of', 'instituting', 'an', 'approval', 'system', 'before', 'allowing', 'their', 'workers', 'to', 'move', 'to', 'other', 'states,', 'in', 'the', 'backdrop', 'of', 'how', 'they', 'were', 'treated.\",\"There', 'are', 'compelling', 'reasons', 'for', 'internal', 'migration', 'in', 'India.\",\"First,', 'India', 'has', 'much', 'higher', 'economic', 'differences', 'across', 'states', 'than', 'comparable', 'countries', '—', 'with', 'the', 'per', 'capita', 'income', 'of', 'the', 'richest', 'large', 'state', '(Haryana)', 'being', 'more', 'than', 'six', 'times', 'that', 'of', 'the', 'poorest', 'state', '(Bihar).', 'The', 'wage', 'gap', 'between', 'states', 'is', 'as', 'high', 'as', '100%', 'for', 'regular', 'workers', 'and', '250%', 'for', 'casual', 'workers.', 'It', 'is,', 'therefore,', 'no', 'wonder', 'that', 'workers', 'from', 'the', 'poorer', 'states', 'migrate', 'to', 'richer', 'states', 'for', 'work.', 'As', 'of', 'now,', 'the', 'best', 'option', 'for', 'many', 'poor', 'people', 'looking', 'to', 'escape', 'poverty', 'is', 'to', 'leave', 'the', 'states', 'they', 'live', 'in,', 'because', 'of', 'economic', 'opportunities', 'in', 'richer', 'states.', 'This', 'movement', 'is', 'difficult', 'since', 'the', 'cost', 'of', 'living', 'is', 'also', 'higher', 'in', 'richer', 'states.', 'However,', 'millions', 'still', 'migrate', 'and', 'brave', 'squalid', 'conditions', 'in', 'in-migration', 'states', 'because', 'they', 'need', 'livelihoods.\",\"Second,', 'some', 'of', 'the', 'poorer', 'states', 'such', 'as', 'Uttar', 'Pradesh', 'and', 'Bihar', 'have', 'younger', 'and', 'larger', 'populations,', 'with', 'many', 'more', 'workers', 'than', 'work', 'opportunities.', 'While', 'these', 'states', 'must', 'develop', 'their', 'economies,', 'in', 'the', 'short-term,', 'migration', 'is', 'an', 'essential', 'component', 'of', 'development', 'for', 'them.\",\"Third,', 'India’s', 'growth', 'has', 'been', 'largely', 'services-led.', 'For', 'most', 'services,', 'the', 'availability', 'of', 'physical', 'labour', 'is', 'essential.', 'For', 'services', 'such', 'as', 'cooking,', 'driving,', 'hairdressing', 'and', 'security,', 'there', 'is', 'a', 'need', 'for', 'workers', 'to', 'be', 'physically', 'present', 'to', 'provide', 'the', 'service.\",\"While', 'beneficial', 'for', 'migrants,', 'migration', 'also', 'has', 'negative', 'implications.', 'Migration', 'can', 'put', 'downward', 'pressure', 'on', 'wages', 'in', 'richer', 'states,', 'with', 'the', 'increase', 'in', 'the', 'supply', 'of', 'workers.', 'This', 'creates', 'an', 'incentive', 'for', 'regional', 'and', 'local', 'leaders', 'to', 'generate', 'anti-migrant', 'sentiments,', 'and', 'to', 'promote', 'policies', 'that', 'favour', 'local', 'workers.', 'This', 'dynamic', 'is', 'not', 'very', 'different', 'from', 'the', 'one', 'seen', 'in', 'international', 'migration', '—', 'after', 'a', 'point,', 'a', 'political', 'economy', 'develops', 'to', 'oppose', 'migration.\",\"Throughout', 'India’s', 'history,', 'states', 'have', 'enacted', 'laws', 'and', 'measures', 'that', 'are', 'discriminatory', 'vis-à-vis', 'non-resident', 'migrants.', 'Many', 'state', 'laws', 'discourage', 'or', 'prevent', 'non-residents', 'from', 'applying', 'for', 'government', 'jobs', 'or', 'other', 'professions', 'that', 'require', 'government', 'licensing', '(auto,', 'taxi', 'licences),', 'or', 'deny', 'them', 'the', 'benefits', 'of', 'educational', 'reservations.', 'Other', 'laws,', 'prevalent', 'in', 'some', 'states', 'of', 'the', 'Northeast,', 'regulate', 'the', 'entry', 'of', 'non-residents', 'within', 'the', 'state.', 'Yet', 'another', 'category', 'of', 'laws', 'prevents', 'non-residents', 'from', 'owning', 'property', '(such', 'as', 'in', 'Himachal', 'Pradesh,', 'Uttarakhand', 'and', 'others).', 'The', 'Union', 'government', 'has', 'recently', 'announced', '“One', 'Nation', 'One', 'Ration', 'Card”', 'because', 'non-resident', 'migrants', 'are', 'currently', 'ineligible', 'for', 'many', 'state', 'welfare', 'schemes.\",\"Even', 'though', 'Article', '19(1)(d)', 'of', 'the', 'Constitution', 'guarantees', 'free', 'movement', 'and', 'residence,', 'states', 'have', 'enacted', '“reasonable', 'restrictions”', 'to', 'disfavour', 'non-resident', 'migrants.', 'Article', '16', 'outlaws', 'discrimination', 'in', 'employment', 'on', 'the', 'grounds', 'of', 'residence,', 'but', 'the', 'criteria', 'for', 'determining', 'reservations', 'is', 'usually', 'linked', 'to', 'local', 'demographic', 'characteristics.', 'The', 'courts', 'have', 'also', 'largely', 'upheld', 'positive', 'discrimination', 'in', 'employment', 'and', 'education', 'that', 'nonetheless', 'discriminates', 'against', 'non-residents.', 'They', 'have', 'upheld', 'not', 'just', 'residency', 'as', 'a', 'ground', 'for', 'eligibility', 'for', 'jobs', 'and', 'educational', 'seats,', 'but', 'also', 'the', 'charging', 'of', 'differential', 'capitation', 'fees', 'based', 'on', 'residency.', 'In', 'doing', 'so,', 'courts', 'have', 'generally', 'privileged', 'the', 'equality', 'interests', 'in', 'the', 'Constitution', 'at', 'the', 'cost', 'of', 'free', 'movement', 'and', 'residence.\",\"While', 'such', 'measures', 'ostensibly', 'serve', 'to', 'protect', 'local', 'constituents,', 'they', 'inhibit', 'migration', 'and', 'thus', 'the', 'law', 'of', 'comparative', 'advantage', 'from', 'operating', 'to', 'the', 'benefit', 'of', 'in-migration', 'states.', 'Bengaluru', 'could', 'not', 'have', 'become', 'a', 'hub', 'for', 'information', 'technology', 'if', 'it', 'had', 'imposed', 'restrictions', 'on', 'the', 'movement', 'of', 'skilled', 'professional', 'migrants', 'who', 'eventually', 'settled', 'in', 'the', 'city.', 'Contrary', 'to', 'nativist', 'sentiments,', 'Karnataka’s', 'population', 'has', 'been', 'a', 'net', 'beneficiary', 'of', 'this', 'in-migration', 'because', 'of', 'the', 'increased', 'contribution', 'of', 'Bengaluru', 'to', 'Karnataka’s', 'Gross', 'Domestic', 'Product', '(GDP)', 'besides', 'the', 'value', 'of', 'diversity.\",\"This', 'benefit', 'is', 'not', 'limited', 'to', 'skilled', 'or', 'high-end', 'services.', 'To', 'the', 'extent', 'that', 'Bengaluru’s', 'economy', 'powers', 'Karnataka’s', 'growth,', 'a', 'migrant', 'hairdresser', 'working', 'in', 'Bangalore', 'is', 'also', 'important', 'for', 'the', 'state’s', 'economy.', 'This', 'was', 'evident', 'recently', 'when', 'the', 'Karnataka', 'government', 'wanted', 'to', 'prevent', 'migrants', 'from', 'leaving', 'for', 'their', 'home', 'states', 'because', 'of', 'their', 'importance', 'to', 'the', 'construction', 'industry.', 'It', 'is,', 'therefore,', 'time', 'to', 'seriously', 're-examine', 'the', 'legal', 'framework', 'that', 'inhibits', 'the', 'movement', 'of', 'migrants', 'across', 'the', 'country,', 'and', 'prevents', 'them', 'from', 'accessing', 'safety,', 'shelter', 'and', 'welfare', 'services', 'on', 'equal', 'terms', 'as', 'residents.\"]']\n",
            "\n",
            "\n",
            " tokenized and lemmatized document: \n",
            "['prime', 'minist', 'narendra', 'modi', 'recent', 'announc', 'india', 'self', 'reliant', 'aspect', 'india', 'remov', 'barrier', 'intern', 'market', 'truli', 'singl', 'market', 'remov', 'hurdl', 'effici', 'improv', 'competit', 'good', 'servic', 'step', 'direct', 'recent', 'decis', 'remov', 'hurdl', 'inter', 'state', 'agricultur', 'trade', 'similar', 'agricultur', 'industri', 'product', 'capit', 'india', 'increas', 'singl', 'market', 'creation', 'barrier', 'free', 'domest', 'market', 'intent', 'reflect', 'articl', 'constitut', 'market', 'friction', 'add', 'reduc', 'labour', 'market', 'differ', 'reason', 'leader', 'migrat', 'migrat', 'state', 'statement', 'suggest', 'impedi', 'inter', 'state', 'migrat', 'worker', 'state', 'announc', 'preferenti', 'treatment', 'worker', 'state', 'speak', 'institut', 'approv', 'allow', 'worker', 'state', 'backdrop', 'treat', 'compel', 'reason', 'intern', 'migrat', 'india', 'india', 'higher', 'econom', 'differ', 'state', 'compar', 'countri', 'capita', 'incom', 'richest', 'larg', 'state', 'haryana', 'time', 'poorest', 'state', 'bihar', 'wage', 'state', 'high', 'regular', 'worker', 'casual', 'worker', 'wonder', 'worker', 'poorer', 'state', 'migrat', 'richer', 'state', 'work', 'best', 'option', 'poor', 'peopl', 'look', 'escap', 'poverti', 'leav', 'state', 'live', 'econom', 'opportun', 'richer', 'state', 'movement', 'difficult', 'cost', 'live', 'higher', 'richer', 'state', 'million', 'migrat', 'brave', 'squalid', 'condit', 'migrat', 'state', 'need', 'livelihood', 'second', 'poorer', 'state', 'uttar', 'pradesh', 'bihar', 'younger', 'larger', 'popul', 'worker', 'work', 'opportun', 'state', 'develop', 'economi', 'short', 'term', 'migrat', 'essenti', 'compon', 'develop', 'india', 'growth', 'larg', 'servic', 'servic', 'avail', 'physic', 'labour', 'essenti', 'servic', 'cook', 'drive', 'hairdress', 'secur', 'need', 'worker', 'physic', 'present', 'provid', 'servic', 'benefici', 'migrant', 'migrat', 'negat', 'implic', 'migrat', 'downward', 'pressur', 'wag', 'richer', 'state', 'increas', 'suppli', 'worker', 'creat', 'incent', 'region', 'local', 'leader', 'generat', 'anti', 'migrant', 'sentiment', 'promot', 'polici', 'favour', 'local', 'worker', 'dynam', 'differ', 'see', 'intern', 'migrat', 'point', 'polit', 'economi', 'develop', 'oppos', 'migrat', 'india', 'histori', 'state', 'enact', 'law', 'measur', 'discriminatori', 'resid', 'migrant', 'state', 'law', 'discourag', 'prevent', 'resid', 'appli', 'govern', 'job', 'profess', 'requir', 'govern', 'licens', 'auto', 'taxi', 'licenc', 'deni', 'benefit', 'educ', 'reserv', 'law', 'preval', 'state', 'northeast', 'regul', 'entri', 'resid', 'state', 'categori', 'law', 'prevent', 'resid', 'own', 'properti', 'himach', 'pradesh', 'uttarakhand', 'union', 'govern', 'recent', 'announc', 'nation', 'ration', 'card', 'resid', 'migrant', 'current', 'inelig', 'state', 'welfar', 'scheme', 'articl', 'constitut', 'guarante', 'free', 'movement', 'resid', 'state', 'enact', 'reason', 'restrict', 'disfavour', 'resid', 'migrant', 'articl', 'outlaw', 'discrimin', 'employ', 'ground', 'resid', 'criteria', 'determin', 'reserv', 'usual', 'link', 'local', 'demograph', 'characterist', 'court', 'larg', 'uphold', 'posit', 'discrimin', 'employ', 'educ', 'nonetheless', 'discrimin', 'resid', 'uphold', 'resid', 'grind', 'elig', 'job', 'educ', 'seat', 'charg', 'differenti', 'capit', 'fee', 'base', 'resid', 'court', 'general', 'privileg', 'equal', 'interest', 'constitut', 'cost', 'free', 'movement', 'resid', 'measur', 'ostens', 'serv', 'protect', 'local', 'constitu', 'inhibit', 'migrat', 'compar', 'advantag', 'oper', 'benefit', 'migrat', 'state', 'bengaluru', 'inform', 'technolog', 'impos', 'restrict', 'movement', 'skill', 'profession', 'migrant', 'eventu', 'settl', 'citi', 'contrari', 'nativist', 'sentiment', 'karnataka', 'popul', 'beneficiari', 'migrat', 'increas', 'contribut', 'bengaluru', 'karnataka', 'gross', 'domest', 'product', 'valu', 'divers', 'benefit', 'limit', 'skill', 'high', 'servic', 'extent', 'bengaluru', 'economi', 'power', 'karnataka', 'growth', 'migrant', 'hairdress', 'work', 'bangalor', 'import', 'state', 'economi', 'evid', 'recent', 'karnataka', 'govern', 'want', 'prevent', 'migrant', 'leav', 'home', 'state', 'import', 'construct', 'industri', 'time', 'serious', 'examin', 'legal', 'framework', 'inhibit', 'movement', 'migrant', 'countri', 'prevent', 'access', 'safeti', 'shelter', 'welfar', 'servic', 'equal', 'term', 'resid']\n"
          ],
          "name": "stdout"
        }
      ]
    },
    {
      "cell_type": "code",
      "metadata": {
        "id": "rYARocMH3kNy",
        "colab_type": "code",
        "colab": {
          "base_uri": "https://localhost:8080/",
          "height": 568
        },
        "outputId": "21618ec5-f8eb-4819-b8c6-8e19ec9b9d07"
      },
      "source": [
        "# Preprocess the headline text, saving the results as ‘processed_docs’\n",
        "df['processed_heading'] = df['heading'].map(preprocess)\n",
        "df['processed_content'] = df['content'].map(preprocess)\n",
        "df['processed_topic'] = df['topic'].map(preprocess)\n",
        "df['processed_heading'] = df['processed_heading'].apply(lambda x: ' '.join(x))\n",
        "df['processed_content'] = df['processed_content'].apply(lambda x: ' '.join(x))\n",
        "df['processed_topic'] = df['processed_topic'].apply(lambda x: ' '.join(x))\n",
        "df.head() "
      ],
      "execution_count": 10,
      "outputs": [
        {
          "output_type": "execute_result",
          "data": {
            "text/html": [
              "<div>\n",
              "<style scoped>\n",
              "    .dataframe tbody tr th:only-of-type {\n",
              "        vertical-align: middle;\n",
              "    }\n",
              "\n",
              "    .dataframe tbody tr th {\n",
              "        vertical-align: top;\n",
              "    }\n",
              "\n",
              "    .dataframe thead th {\n",
              "        text-align: right;\n",
              "    }\n",
              "</style>\n",
              "<table border=\"1\" class=\"dataframe\">\n",
              "  <thead>\n",
              "    <tr style=\"text-align: right;\">\n",
              "      <th></th>\n",
              "      <th>_id</th>\n",
              "      <th>topic</th>\n",
              "      <th>heading</th>\n",
              "      <th>summary</th>\n",
              "      <th>date_published</th>\n",
              "      <th>author</th>\n",
              "      <th>content</th>\n",
              "      <th>tags</th>\n",
              "      <th>processed_heading</th>\n",
              "      <th>processed_content</th>\n",
              "      <th>processed_topic</th>\n",
              "    </tr>\n",
              "  </thead>\n",
              "  <tbody>\n",
              "    <tr>\n",
              "      <th>0</th>\n",
              "      <td>5ef0d2b4d83b3587cb500ec9</td>\n",
              "      <td>[\"analysis\"]</td>\n",
              "      <td>[\"Don’t discriminate against non-resident migr...</td>\n",
              "      <td>[\"Create a legal regime that allows them to ac...</td>\n",
              "      <td>[\"Updated: Jun 22, 2020 19:30 IST\"]</td>\n",
              "      <td>[\"KP Krishnan and Anirudh Burman\"]</td>\n",
              "      <td>[\"Prime Minister (PM) Narendra Modi recently a...</td>\n",
              "      <td>[\"India\",\"Narendra Modi\",\"BIHAR\",\"Haryana\",\"Mi...</td>\n",
              "      <td>discrimin resid migrant opinion</td>\n",
              "      <td>prime minist narendra modi recent announc indi...</td>\n",
              "      <td>analysi</td>\n",
              "    </tr>\n",
              "    <tr>\n",
              "      <th>1</th>\n",
              "      <td>5ef0d2b8d83b3587cb500ecb</td>\n",
              "      <td>[\"opinion\"]</td>\n",
              "      <td>[\"India has closed military gap with China alo...</td>\n",
              "      <td>[\"Over the past dozen years India has not only...</td>\n",
              "      <td>[\"Updated: Jun 22, 2020 16:01 IST\"]</td>\n",
              "      <td>[\"Pramit Pal Chaudhuri\"]</td>\n",
              "      <td>[\"India has the \",\", says a recent Harvard Uni...</td>\n",
              "      <td>[\"Indian Army\",\"Galwan Valley\",\"India China bo...</td>\n",
              "      <td>india close militari china border</td>\n",
              "      <td>india say recent harvard univers assess chines...</td>\n",
              "      <td>opinion</td>\n",
              "    </tr>\n",
              "    <tr>\n",
              "      <th>2</th>\n",
              "      <td>5ef0d2bad83b3587cb500ecc</td>\n",
              "      <td>[\"opinion\"]</td>\n",
              "      <td>[\"Ladakh faceoff: Looking back for a way forwa...</td>\n",
              "      <td>[\"DRAW THE LINE Policing the borders and preve...</td>\n",
              "      <td>[\"Updated: Jun 22, 2020 18:06 IST\"]</td>\n",
              "      <td>[\"Lt Gen GS Sihota (retd)\"]</td>\n",
              "      <td>[\"On December 11, 1917, General Edmund Allenby...</td>\n",
              "      <td>NaN</td>\n",
              "      <td>ladakh faceoff look forward</td>\n",
              "      <td>decemb general edmund allenbi enter holi citi ...</td>\n",
              "      <td>opinion</td>\n",
              "    </tr>\n",
              "    <tr>\n",
              "      <th>3</th>\n",
              "      <td>5ef0d2bdd83b3587cb500ecd</td>\n",
              "      <td>[\"editorials\"]</td>\n",
              "      <td>[\"Redesign the model village scheme | HT Edito...</td>\n",
              "      <td>[\"For MPs to take it up, expand its ambit to a...</td>\n",
              "      <td>[\"Updated: Jun 22, 2020 18:56 IST\"]</td>\n",
              "      <td>NaN</td>\n",
              "      <td>[\"A study commissioned by the Union ministry o...</td>\n",
              "      <td>NaN</td>\n",
              "      <td>redesign model villag scheme editori</td>\n",
              "      <td>studi commiss union ministri rural develop saa...</td>\n",
              "      <td>editori</td>\n",
              "    </tr>\n",
              "    <tr>\n",
              "      <th>4</th>\n",
              "      <td>5ef0d2bed83b3587cb500ece</td>\n",
              "      <td>[\"columns\"]</td>\n",
              "      <td>[\"How China has overplayed its hand, writes Ba...</td>\n",
              "      <td>[\"Beijing’s belligerence reflects a familiar h...</td>\n",
              "      <td>[\"Updated: Jun 22, 2020 19:31 IST\"]</td>\n",
              "      <td>[\"Baijayant “Jay” Panda\"]</td>\n",
              "      <td>[\"Almost 2,500 years ago, Greek historian, Thu...</td>\n",
              "      <td>[\"CHINA\",\"India\"]</td>\n",
              "      <td>china overplay hand write baijay panda</td>\n",
              "      <td>year greek historian thucydid write devast pel...</td>\n",
              "      <td>column</td>\n",
              "    </tr>\n",
              "  </tbody>\n",
              "</table>\n",
              "</div>"
            ],
            "text/plain": [
              "                        _id  ... processed_topic\n",
              "0  5ef0d2b4d83b3587cb500ec9  ...         analysi\n",
              "1  5ef0d2b8d83b3587cb500ecb  ...         opinion\n",
              "2  5ef0d2bad83b3587cb500ecc  ...         opinion\n",
              "3  5ef0d2bdd83b3587cb500ecd  ...         editori\n",
              "4  5ef0d2bed83b3587cb500ece  ...          column\n",
              "\n",
              "[5 rows x 11 columns]"
            ]
          },
          "metadata": {
            "tags": []
          },
          "execution_count": 10
        }
      ]
    },
    {
      "cell_type": "code",
      "metadata": {
        "id": "yfjZ-CMvwA0x",
        "colab_type": "code",
        "colab": {}
      },
      "source": [
        "#Split the data into a \"train\" and \"test\". As well as select a metric in which to measure the similarity between articles. Think of the \"train\" set as the corpus.\n",
        "# Think of the \"test\" set as the NYT articles that users are currently reading.\n",
        "\n",
        "# move articles to an array\n",
        "articles = df.processed_content.values\n",
        "\n",
        "# move article section names to an array\n",
        "sections = df.processed_topic.values\n",
        "\n",
        "# move article web_urls to an array\n",
        "headings = df.processed_heading.values\n",
        "\n",
        "# shuffle these three arrays \n",
        "articles, sections, headings = shuffle(articles, sections, headings, random_state=4)"
      ],
      "execution_count": 11,
      "outputs": []
    },
    {
      "cell_type": "code",
      "metadata": {
        "id": "Pd_rSrrXwAzR",
        "colab_type": "code",
        "colab": {}
      },
      "source": [
        "# split the shuffled articles into two arrays\n",
        "n = 10\n",
        "\n",
        "# one will have all but the last 10 articles -- think of this as your training set/corpus \n",
        "X_train = articles[:-n]\n",
        "X_train_headings = headings[:-n]\n",
        "X_train_sections = sections[:-n]\n",
        "\n",
        "# the other will have those last 10 articles -- think of this as your test set/corpus \n",
        "X_test = articles[-n:]\n",
        "X_test_headings = headings[-n:]\n",
        "X_test_sections = sections[-n:]"
      ],
      "execution_count": 12,
      "outputs": []
    },
    {
      "cell_type": "code",
      "metadata": {
        "id": "GDhVVqeW008F",
        "colab_type": "code",
        "colab": {}
      },
      "source": [
        "# instantiate your vectorizor \n",
        "tfidf_vectorizer = TfidfVectorizer(stop_words='english')"
      ],
      "execution_count": 13,
      "outputs": []
    },
    {
      "cell_type": "code",
      "metadata": {
        "id": "_ippJiLX1Eev",
        "colab_type": "code",
        "colab": {
          "base_uri": "https://localhost:8080/",
          "height": 134
        },
        "outputId": "5924ad42-080a-4040-818a-82825000832f"
      },
      "source": [
        "# fit the vectorizer \n",
        "tfidf_vectorizer.fit(X_train)"
      ],
      "execution_count": 14,
      "outputs": [
        {
          "output_type": "execute_result",
          "data": {
            "text/plain": [
              "TfidfVectorizer(analyzer='word', binary=False, decode_error='strict',\n",
              "                dtype=<class 'numpy.float64'>, encoding='utf-8',\n",
              "                input='content', lowercase=True, max_df=1.0, max_features=None,\n",
              "                min_df=1, ngram_range=(1, 1), norm='l2', preprocessor=None,\n",
              "                smooth_idf=True, stop_words='english', strip_accents=None,\n",
              "                sublinear_tf=False, token_pattern='(?u)\\\\b\\\\w\\\\w+\\\\b',\n",
              "                tokenizer=None, use_idf=True, vocabulary=None)"
            ]
          },
          "metadata": {
            "tags": []
          },
          "execution_count": 14
        }
      ]
    },
    {
      "cell_type": "code",
      "metadata": {
        "id": "zKlIVRJA1Eb3",
        "colab_type": "code",
        "colab": {}
      },
      "source": [
        "# transform both article splits \n",
        "X_train_tfidf = tfidf_vectorizer.transform(X_train)\n",
        "X_test_tfidf = tfidf_vectorizer.transform(X_test)"
      ],
      "execution_count": 15,
      "outputs": []
    },
    {
      "cell_type": "code",
      "metadata": {
        "id": "xjxV0RfF1IUv",
        "colab_type": "code",
        "colab": {}
      },
      "source": [
        "#Builidng a Content Based Recommender\n",
        "def get_top_n_rec_articles(X_train_tfidf, X_train, test_article, X_train_sections, X_train_headings, n = 5):\n",
        "    '''This function calculates similarity scores bewteen a document and a corpus\n",
        "    \n",
        "       INPUT: vectorized document corpus, 2D array\n",
        "              text document corpus, 1D array\n",
        "              user article, 1D array\n",
        "              article section names, 1D array\n",
        "              article URLs, 1D array\n",
        "              number of articles to recommend, int\n",
        "              \n",
        "       OUTPUT: top n recommendations, 1D array\n",
        "               top n corresponding section names, 1D array\n",
        "               top n corresponding URLs, 1D array\n",
        "               similarity scores bewteen user article and entire corpus, 1D array\n",
        "              '''\n",
        "    # calculate similarity between the corpus (i.e. the \"test\" data) and the user's article\n",
        "    similarity_scores = X_train_tfidf.dot(test_article.toarray().T)\n",
        "\n",
        "    # get sorted similairty score indicies \n",
        "    sorted_indicies = np.argsort(similarity_scores, axis = 0)[::-1]\n",
        "\n",
        "    # get sorted similarity socres\n",
        "    sorted_sim_scores = similarity_scores[sorted_indicies]\n",
        "\n",
        "    # get top n most similar documents\n",
        "    top_n_recs = X_train[sorted_indicies[:n]]\n",
        "\n",
        "    # get top n corresponding document section names\n",
        "    rec_sections = X_train_sections[sorted_indicies[:n]]\n",
        "\n",
        "    # get top n corresponding urls\n",
        "    rec_headings = X_train_headings[sorted_indicies[:n]]\n",
        "    \n",
        "    # return recommendations and corresponding article meta-data\n",
        "    return top_n_recs, rec_sections, rec_headings, sorted_sim_scores"
      ],
      "execution_count": 16,
      "outputs": []
    },
    {
      "cell_type": "code",
      "metadata": {
        "id": "tWIG7sQn1IR3",
        "colab_type": "code",
        "colab": {}
      },
      "source": [
        "# pick an article from the \"test\" set\n",
        "# treat this as the article that the user is currently reading\n",
        "k = 6\n",
        "test_article = X_test_tfidf[k]"
      ],
      "execution_count": 50,
      "outputs": []
    },
    {
      "cell_type": "code",
      "metadata": {
        "id": "nJSQcU6NzY_z",
        "colab_type": "code",
        "colab": {
          "base_uri": "https://localhost:8080/",
          "height": 35
        },
        "outputId": "7a74bf4b-c513-4a1c-a11b-7727756ba67a"
      },
      "source": [
        "# user's article's section name\n",
        "X_test_sections[6]"
      ],
      "execution_count": 49,
      "outputs": [
        {
          "output_type": "execute_result",
          "data": {
            "application/vnd.google.colaboratory.intrinsic": {
              "type": "string"
            },
            "text/plain": [
              "'educ'"
            ]
          },
          "metadata": {
            "tags": []
          },
          "execution_count": 49
        }
      ]
    },
    {
      "cell_type": "code",
      "metadata": {
        "id": "l9YNhXwhzY5s",
        "colab_type": "code",
        "colab": {
          "base_uri": "https://localhost:8080/",
          "height": 120
        },
        "outputId": "57373025-bd51-44ad-c0b1-90d2d6dca14c"
      },
      "source": [
        "# user's article\n",
        "X_test[k]"
      ],
      "execution_count": 51,
      "outputs": [
        {
          "output_type": "execute_result",
          "data": {
            "application/vnd.google.colaboratory.intrinsic": {
              "type": "string"
            },
            "text/plain": [
              "'awar curv covid pandem flatten soon state govern ask higher secondari school degre colleg start onlin class juli ask prepar onlin content student director higher secondari educ ask princip higher secondari school state explor onlin method instead chalk talk method break rule advisori covid guidelin author undergradu colleg ask whatsapp mail group student exceed student teach order onlin coach come state govern extend closur school colleg univers till august view rise covid case state june total number case death jump time rise case council higher secondari educ wednesday cancel pend paper higher secondari examin govern say teacher provid soft copi note text book ppts recommend lectur whatsapp mail studi home teacher conduct onlin class student hour day week googl meet zoom skype digit platform onlin class conduct colleg premis teacher maintain attend regist student attend onlin class prepar time tabl class order higher educ depart say offici say govern univers colleg carri offici work teach physic classroom mode run hostel employe strength juli august'"
            ]
          },
          "metadata": {
            "tags": []
          },
          "execution_count": 51
        }
      ]
    },
    {
      "cell_type": "code",
      "metadata": {
        "id": "Y0qwFRV_1a-M",
        "colab_type": "code",
        "colab": {}
      },
      "source": [
        "# return the top n most similar articles as recommendations \n",
        "top_n_recs, rec_sections, rec_headings, sorted_sim_scores = \\\n",
        "get_top_n_rec_articles(X_train_tfidf, X_train,  test_article,X_train_sections, X_train_headings, n = 5 )"
      ],
      "execution_count": 52,
      "outputs": []
    },
    {
      "cell_type": "code",
      "metadata": {
        "id": "yyWqT59o1a6p",
        "colab_type": "code",
        "colab": {
          "base_uri": "https://localhost:8080/",
          "height": 168
        },
        "outputId": "259174cc-8687-4dd0-ad55-31585ed229e9"
      },
      "source": [
        "#validate the results\n",
        "#Compare the user's article and corresponding section name with the recommended articles and corresponding section names\n",
        "\n",
        "# similarity scores\n",
        "sorted_sim_scores[:5]"
      ],
      "execution_count": 53,
      "outputs": [
        {
          "output_type": "execute_result",
          "data": {
            "text/plain": [
              "array([[[0.37007318]],\n",
              "\n",
              "       [[0.32363991]],\n",
              "\n",
              "       [[0.30611753]],\n",
              "\n",
              "       [[0.30222279]],\n",
              "\n",
              "       [[0.28436095]]])"
            ]
          },
          "metadata": {
            "tags": []
          },
          "execution_count": 53
        }
      ]
    },
    {
      "cell_type": "code",
      "metadata": {
        "id": "NJKLpViF1a5G",
        "colab_type": "code",
        "colab": {
          "base_uri": "https://localhost:8080/",
          "height": 102
        },
        "outputId": "b39c3a4e-1e69-43a4-857f-4fb4aa12d186"
      },
      "source": [
        "# user's article\n",
        "X_test[k]"
      ],
      "execution_count": 36,
      "outputs": [
        {
          "output_type": "execute_result",
          "data": {
            "application/vnd.google.colaboratory.intrinsic": {
              "type": "string"
            },
            "text/plain": [
              "'extend provis free ration million citizen newspap welcom prime minist narendra modi refer festiv season mention chhath festiv bihar fact elect bihar year scheme get extend till novemb prompt suggest polit motiv drive decis west bengal chief minist mamata banerje say govern provid free ration till june coincid elect west bengal year democraci poor marginalis leverag power vote forc govern elit come welfar scheme address distress poor scheme mahatma gandhi nation rural employ guarante scheme case congress provis cylind hous toilet incom transfer farmer case bharatiya janata parti help parti elect deliv poor reward welfar laudabl essenti indian polit discours move challeng current time employ creation pandem exacerb crisi employ particular urban area time polit parti compet basi provid better welfar scheme creat job leader invest sound econom manag realis lead advers elector outcom'"
            ]
          },
          "metadata": {
            "tags": []
          },
          "execution_count": 36
        }
      ]
    },
    {
      "cell_type": "code",
      "metadata": {
        "id": "oovuyl_G1xP8",
        "colab_type": "code",
        "colab": {
          "base_uri": "https://localhost:8080/",
          "height": 35
        },
        "outputId": "d9a72734-be19-410b-81a5-ca7f3fbfb607"
      },
      "source": [
        "# user's article's section name\n",
        "X_test_sections[k]"
      ],
      "execution_count": 37,
      "outputs": [
        {
          "output_type": "execute_result",
          "data": {
            "application/vnd.google.colaboratory.intrinsic": {
              "type": "string"
            },
            "text/plain": [
              "'editori'"
            ]
          },
          "metadata": {
            "tags": []
          },
          "execution_count": 37
        }
      ]
    },
    {
      "cell_type": "code",
      "metadata": {
        "id": "b1jq5NUj1xMM",
        "colab_type": "code",
        "colab": {
          "base_uri": "https://localhost:8080/",
          "height": 101
        },
        "outputId": "94a7d7d8-e768-46eb-8ed7-b0819dccd8d9"
      },
      "source": [
        "# corresponding section names for top n recs \n",
        "rec_sections"
      ],
      "execution_count": 54,
      "outputs": [
        {
          "output_type": "execute_result",
          "data": {
            "text/plain": [
              "array([['educ'],\n",
              "       ['india'],\n",
              "       ['analysi'],\n",
              "       ['educ'],\n",
              "       ['educ']], dtype=object)"
            ]
          },
          "metadata": {
            "tags": []
          },
          "execution_count": 54
        }
      ]
    },
    {
      "cell_type": "code",
      "metadata": {
        "id": "JrPQHd291xKv",
        "colab_type": "code",
        "colab": {
          "base_uri": "https://localhost:8080/",
          "height": 138
        },
        "outputId": "224ec095-1730-4de4-d49b-35f2475d9011"
      },
      "source": [
        "# top n article recs\n",
        "top_n_recs"
      ],
      "execution_count": 55,
      "outputs": [
        {
          "output_type": "execute_result",
          "data": {
            "text/plain": [
              "array([['govern postpon juli decis reopen school state instead encourag teacher hold class onlin student order engag chief minist pramod sawant announc sawant insist onlin class compulsori syllabus mandatorili cover face face class say govern later decid curtail holiday ensur syllabus complet school reopen state train school teacher give class onlin expect come week await reopen school connect parent children smartphon say compulsori onlin educ student miss connect smartphon parent deliber smartphon sawant say say onlin class commenc teacher student engag meet offici educ depart chief minist educ minist repres headmast associ hold monday govern decid mandatori teacher attend school govern servant begin attend offic teacher compulsorili attend school govern servant attend offic teacher sawant say govern decid automat promot student class initi schedul answer supplementari examin need promot class central govern take decis allow reopen school countri case mount guidelin issu unlock clear reopen school allow activ'],\n",
              "       ['delhi govern thursday announc plan bridg possibl digit divid result continu onlin class summer vacat state school restrict impos wake coronavirus pandem outbreak plan stress learn human feel teacher interact individu student facil attend onlin class broad outlin concept announc deputi chief minist manish sisodia say programm attempt minimis loss educ experi classroom learn tough replic onlin learn environ watch learn human feel manish sisodia plan bridg digit divid coronavirus live updat stress learn human feel simpli conduct onlin class constitut proper learn attempt retain human feel general go miss onlin class sisodia say add biggest fear onlin class relat possibl digit divid have not mean attend digit class lead learn divid creat social learn hard bridg delhi school order remain shut till juli educ implement scheme juli onward say sisodia guid coronavirus covid programm focus reach student digit facil connect student individu level conduct onlin class imper teacher connect student say sisodia add onlin class follow detach routin deliv lectur mass student play audio video modul take away experi learn experi go school peer learn practic class visit librari learn connect teacher substitut digit learn add elabor need programm aim address issu accord broad outlin provid deputi teacher class standard viii stay connect student assign work whatsapp group individu interact individu add accord assess delhi govern student whatsapp facil parent children contact teacher share teach materi maintain connect children phone'],\n",
              "       ['daughter sit laptop school uniform attend class zoom extracurricular activ music competit debat organis video conferenc sport person interact littl miss coach institut move onlin platform lucki hous children rag cloth wander aimless crowd custom hop coin municip school close littl engag attent extrem elit privat govern school cost privat public school suffer vari level defici educ technolog pedagogi unesco estim million children india impact school closur covid govern succeed get children school near enrol fourth drop class half class drop rat girl marginalis section higher learn outcom measur nation achiev survey annual status educ report haven show improv lower middl class parent take children govern school put cost privat school kendriya vidyalaya navodaya vidyalaya asid govern school system suffer poor inform technolog infrastructur train teacher school educ qualiti index seqi report niti aayog indic state kerala half elementari school aid learn best perform state tamil nadu secondari school lab survey includ privat school usual explan poor student citi rural area have comput smart mobil devic high speed broadband cite inabl govern school blend onlin learn bandwagon person smartphon rural india million activ internet user clear lead urban india year push govern technolog enabl learn self learn onlin portal swayam pathshala diksha come school book avail onlin doordarshan start special educ broadcast avail youtub govern school teacher whatsapp send small video exercis sheet effect intervent enhanc learn outcom remain uncertain research say academ content deliv passiv communic engag student curious mind hand activ learn lead improv cognit outcom addit factor unavail separ room children noisi surround home mention give extraordinari time physic presenc possibl blend onlin deliveri school lectur teacher remain effect result educ technolog evid review studi role technolog educ indic blend learn combin onlin person instruct deliv good outcom person class experi requir teacher train technolog enabl activ learn pedagogi state compon tech enabl learn sarva shiksha abhiyan rashtriya madhyamik shiksha abhiyan infrastructur devic teach learn materi teacher train engag qualiti teacher district get measur get niti aayog ministri human resourc develop increas weightag aid learn lab seqi alloc near grade point give technolog tool possibl collect data work nation univers educ plan administr ask undertak evalu help policymak administr better decis invest educ technolog solut india avail qualiti teacher away capit district headquart especi subject math scienc remain challeng blend onlin learn distinct advantag remov physic barrier place teacher avail need help educ girl marginalis section remot area solv problem school educ requir incent school teacher autonomi princip function school manag committe teacher account manag system includ transpar transfer polici address india persist challeng ensur qualiti educ govern school closer sustain develop goal ensur inclus equit qualiti educ alok mishra director develop monitor evalu offic niti aayog view express person'],\n",
              "       ['plea file suprem court seek direct centr state decis waiver provid uniform maximum relief school period covid induc nationwid lockdown countri plea alleg privat school administr demand charg render servic author take action illeg demand despit protest parent student india nationwid lockdown india commenc march amid covid pandem petit file advoc reepak kansal claim order justifi collect school start onlin class lockdown period present excus provid educ student educ institut introduc onlin class fall scope run educ institut parent charg expens say onlin class proport student give prior consent attend onlin class plea claim alleg claus admiss form case epidem nationwid lockdown school administr provid onlin class charg expens effect demerit onlin class total differ concept school student lot problem understand onlin medium say plea claim author illeg forc student parent school get servic respect school violat fundament right plea say pandem absenc forc majeur claus admiss form author decis regard waiver provid uniform maximum relief period lockdown'],\n",
              "       ['assam higher secondari educ council ahsec declar assam board class exam result june pankaj borthakur assam higher secondari exam control tell hindustan time council send result form higher secondari institut assam hard copi mark sheet certif send school week say class student appear assam hsslc examin check result onlin ahsec announc student login enter credenti check seba hsslc result council conduct assam board class examin februari march exam centr lakh student appear human scienc commerc vocat studi stream year lakh candid appear ahsec class exam']],\n",
              "      dtype=object)"
            ]
          },
          "metadata": {
            "tags": []
          },
          "execution_count": 55
        }
      ]
    },
    {
      "cell_type": "code",
      "metadata": {
        "id": "ZviLHaV01-Hx",
        "colab_type": "code",
        "colab": {
          "base_uri": "https://localhost:8080/",
          "height": 118
        },
        "outputId": "f287834f-029a-491b-926e-168f6a8b2b7f"
      },
      "source": [
        "# corresonding URLs for top n recs \n",
        "rec_headings"
      ],
      "execution_count": 56,
      "outputs": [
        {
          "output_type": "execute_result",
          "data": {
            "text/plain": [
              "array([['onlin class begin compulsori say pramod sawant'],\n",
              "       ['delhi announc learn human feel bridg digit divid covid crisi'],\n",
              "       ['covid tech ensur equiti educ'],\n",
              "       ['plea seek waiver maximum relief school period covid lockdown'],\n",
              "       ['assam result date time ahsec announc class result june time']],\n",
              "      dtype=object)"
            ]
          },
          "metadata": {
            "tags": []
          },
          "execution_count": 56
        }
      ]
    },
    {
      "cell_type": "code",
      "metadata": {
        "id": "HFmQaxXc7lYC",
        "colab_type": "code",
        "colab": {}
      },
      "source": [
        ""
      ],
      "execution_count": null,
      "outputs": []
    }
  ]
}