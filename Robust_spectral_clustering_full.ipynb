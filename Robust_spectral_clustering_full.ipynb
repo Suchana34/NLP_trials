{
  "nbformat": 4,
  "nbformat_minor": 0,
  "metadata": {
    "colab": {
      "name": "Robust_spectral_clustering_full.ipynb",
      "provenance": []
    },
    "kernelspec": {
      "name": "python3",
      "display_name": "Python 3"
    }
  },
  "cells": [
    {
      "cell_type": "code",
      "metadata": {
        "id": "5FIcHkz40HFV",
        "colab_type": "code",
        "colab": {}
      },
      "source": [
        "#clustering\n",
        "\n",
        "\n",
        "import numpy as np\n",
        "import scipy.sparse as sp\n",
        "from scipy.sparse.linalg import eigsh\n",
        "from sklearn.neighbors import kneighbors_graph\n",
        "from sklearn.cluster import k_means\n",
        "\n",
        "\n",
        "class RSC:\n",
        "    \"\"\"\n",
        "    Implementation of the method proposed in the paper:\n",
        "    'Robust Spectral Clustering for Noisy Data: Modeling Sparse Corruptions Improves Latent Embeddings'\n",
        "    If you publish material based on algorithms or evaluation measures obtained from this code,\n",
        "    then please note this in your acknowledgments and please cite the following paper:\n",
        "        Aleksandar Bojchevski, Yves Matkovic, and Stephan Günnemann.\n",
        "        2017. Robust Spectral Clustering for Noisy Data.\n",
        "        In Proceedings of KDD’17, August 13–17, 2017, Halifax, NS, Canada.\n",
        "    Copyright (C) 2017\n",
        "    Aleksandar Bojchevski\n",
        "    Yves Matkovic\n",
        "    Stephan Günnemann\n",
        "    Technical University of Munich, Germany\n",
        "    \"\"\"\n",
        "\n",
        "    def __init__(self, k, nn=15, theta=20, m=0.5, laplacian=1, n_iter=15, normalize=False, verbose=False):\n",
        "        \"\"\"\n",
        "        :param k: number of clusters\n",
        "        :param nn: number of neighbours to consider for constructing the KNN graph (excluding the node itself)\n",
        "        :param theta: number of corrupted edges to remove\n",
        "        :param m: minimum percentage of neighbours to keep per node (omega_i constraints)\n",
        "        :param n_iter: number of iterations of the alternating optimization procedure\n",
        "        :param laplacian: which graph Laplacian to use: 0: L, 1: L_rw, 2: L_sym\n",
        "        :param normalize: whether to row normalize the eigen vectors before performing k-means\n",
        "        :param verbose: verbosity\n",
        "        \"\"\"\n",
        "\n",
        "        self.k = k\n",
        "        self.nn = nn\n",
        "        self.theta = theta\n",
        "        self.m = m\n",
        "        self.n_iter = n_iter\n",
        "        self.normalize = normalize\n",
        "        self.verbose = verbose\n",
        "        self.laplacian = laplacian\n",
        "\n",
        "        if laplacian == 0:\n",
        "            if self.verbose:\n",
        "                print('Using unnormalized Laplacian L')\n",
        "        elif laplacian == 1:\n",
        "            if self.verbose:\n",
        "                print('Using random walk based normalized Laplacian L_rw')\n",
        "        elif laplacian == 2:\n",
        "            raise NotImplementedError('The symmetric normalized Laplacian L_sym is not implemented yet.')\n",
        "        else:\n",
        "            raise ValueError('Choice of graph Laplacian not valid. Please use 0, 1 or 2.')\n",
        "\n",
        "    def __latent_decomposition(self, X):\n",
        "        # compute the KNN graph\n",
        "        A = kneighbors_graph(X=X, n_neighbors=self.nn, metric='euclidean', include_self=False, mode='connectivity')\n",
        "        A = A.maximum(A.T)  # make the graph undirected\n",
        "\n",
        "        N = A.shape[0]  # number of nodes\n",
        "        deg = A.sum(0).A1  # node degrees\n",
        "\n",
        "        prev_trace = np.inf  # keep track of the trace for convergence\n",
        "        Ag = A.copy()\n",
        "\n",
        "        for it in range(self.n_iter):\n",
        "\n",
        "            # form the unnormalized Laplacian\n",
        "            D = sp.diags(Ag.sum(0).A1).tocsc()\n",
        "            L = D - Ag\n",
        "\n",
        "            # solve the normal eigenvalue problem\n",
        "            if self.laplacian == 0:\n",
        "                h, H = eigsh(L, self.k, which='SM')\n",
        "            # solve the generalized eigenvalue problem\n",
        "            elif self.laplacian == 1:\n",
        "                h, H = eigsh(L, self.k, D, which='SM')\n",
        "\n",
        "            trace = h.sum()\n",
        "\n",
        "            if self.verbose:\n",
        "                print('Iter: {} Trace: {:.4f}'.format(it, trace))\n",
        "\n",
        "            if self.theta == 0:\n",
        "                # no edges are removed\n",
        "                Ac = sp.coo_matrix((N, N), [np.int])\n",
        "                break\n",
        "\n",
        "            if prev_trace - trace < 1e-10:\n",
        "                # we have converged\n",
        "                break\n",
        "\n",
        "            allowed_to_remove_per_node = (deg * self.m).astype(np.int)\n",
        "            prev_trace = trace\n",
        "\n",
        "            # consider only the edges on the lower triangular part since we are symmetric\n",
        "            edges = sp.tril(A).nonzero()\n",
        "            removed_edges = []\n",
        "\n",
        "            if self.laplacian == 1:\n",
        "                # fix for potential numerical instability of the eigenvalues computation\n",
        "                h[np.isclose(h, 0)] = 0\n",
        "\n",
        "                # equation (5) in the paper\n",
        "                p = np.linalg.norm(H[edges[0]] - H[edges[1]], axis=1) ** 2 \\\n",
        "                    - np.linalg.norm(H[edges[0]] * np.sqrt(h), axis=1) ** 2 \\\n",
        "                    - np.linalg.norm(H[edges[1]] * np.sqrt(h), axis=1) ** 2\n",
        "            else:\n",
        "                # equation (4) in the paper\n",
        "                p = np.linalg.norm(H[edges[0]] - H[edges[1]], axis=1) ** 2\n",
        "\n",
        "            # greedly remove the worst edges\n",
        "            for ind in p.argsort()[::-1]:\n",
        "                e_i, e_j, p_e = edges[0][ind], edges[1][ind], p[ind]\n",
        "\n",
        "                # remove the edge if it satisfies the constraints\n",
        "                if allowed_to_remove_per_node[e_i] > 0 and allowed_to_remove_per_node[e_j] > 0 and p_e > 0:\n",
        "                    allowed_to_remove_per_node[e_i] -= 1\n",
        "                    allowed_to_remove_per_node[e_j] -= 1\n",
        "                    removed_edges.append((e_i, e_j))\n",
        "                    if len(removed_edges) == self.theta:\n",
        "                        break\n",
        "\n",
        "            removed_edges = np.array(removed_edges)\n",
        "            Ac = sp.coo_matrix((np.ones(len(removed_edges)), (removed_edges[:, 0], removed_edges[:, 1])), shape=(N, N))\n",
        "            Ac = Ac.maximum(Ac.T)\n",
        "            Ag = A - Ac\n",
        "\n",
        "        return Ag, Ac, H\n",
        "\n",
        "    def fit_predict(self, X):\n",
        "        \"\"\"\n",
        "        :param X: array-like or sparse matrix, shape (n_samples, n_features)\n",
        "        :return: cluster labels ndarray, shape (n_samples,)\n",
        "        \"\"\"\n",
        "\n",
        "        Ag, Ac, H = self.__latent_decomposition(X)\n",
        "        self.Ag = Ag\n",
        "        self.Ac = Ac\n",
        "\n",
        "        if self.normalize:\n",
        "            self.H = H / np.linalg.norm(H, axis=1)[:, None]\n",
        "        else:\n",
        "            self.H = H\n",
        "\n",
        "        centroids, labels, *_ = k_means(X=self.H, n_clusters=self.k)\n",
        "\n",
        "        self.centroids = centroids\n",
        "        self.labels = labels\n",
        "\n",
        "        return labels"
      ],
      "execution_count": 1,
      "outputs": []
    },
    {
      "cell_type": "code",
      "metadata": {
        "id": "E1kwWN2KA_fo",
        "colab_type": "code",
        "colab": {}
      },
      "source": [
        ""
      ],
      "execution_count": 1,
      "outputs": []
    },
    {
      "cell_type": "code",
      "metadata": {
        "id": "c2VKGHnvA97D",
        "colab_type": "code",
        "colab": {}
      },
      "source": [
        "#evaluation\n",
        "\n",
        "import numpy as np\n",
        "from scipy.spatial.distance import pdist, squareform\n",
        "from sklearn.neighbors import kneighbors_graph\n",
        "\n",
        "\n",
        "def __local_purity(H, y, nn):\n",
        "    \"\"\"\n",
        "    :param H: embedding to evaluate\n",
        "    :param y: ground-truth classes\n",
        "    :param nn: number of neighbours to consider\n",
        "    \"\"\"\n",
        "    A = kneighbors_graph(H, nn + 1, include_self=True)\n",
        "    neigbourhoods = A.dot(np.eye(y.max() + 1)[y])\n",
        "    frequencies = neigbourhoods / neigbourhoods.sum(1)[:, None]\n",
        "    purity = frequencies.max(axis=1)\n",
        "    return purity.mean()\n",
        "\n",
        "\n",
        "def local_purity(H, y, nn=None, num_samples=10):\n",
        "    \"\"\"\n",
        "    :param H: embedding to evaluate\n",
        "    :param y: ground-truth classes\n",
        "    :param nn: number of neighbours to consider, if nn=None evaluate for nn=[1...size of max cluster]\n",
        "    :param num_samples: number of samples in the range (1, size of max cluster)\n",
        "    \"\"\"\n",
        "    if nn is None:\n",
        "        max_size_cluster = np.unique(y, return_counts=True)[1].max()\n",
        "        return np.fromiter((__local_purity(H, y, nn)\n",
        "                            for nn in np.linspace(0, max_size_cluster, num_samples).astype(np.int32)), np.float32)\n",
        "    else:\n",
        "        return __local_purity(H, y, nn)\n",
        "\n",
        "\n",
        "def __P_c_cp(distances, y, c, cp, tr):\n",
        "    pcc = distances[y == c][:, y == cp].flatten()\n",
        "\n",
        "    if tr < 1.0:\n",
        "        k_smallest = int(len(pcc) * tr)\n",
        "        idx = np.argpartition(pcc, k_smallest)\n",
        "        return pcc[idx[:k_smallest]].mean()\n",
        "    else:\n",
        "        pcc.sort()\n",
        "        return pcc[:int(len(pcc) * tr)].mean()\n",
        "\n",
        "\n",
        "def __GS_c(distances, y, c, tr):\n",
        "    all_c = np.arange(y.max() + 1)\n",
        "    other_c = np.setdiff1d(all_c, c)\n",
        "\n",
        "    pcc = np.fromiter((__P_c_cp(distances, y, c, cp, tr) for cp in all_c), np.float32)\n",
        "    pcc_min = pcc[other_c].min()\n",
        "\n",
        "    return (pcc_min - pcc[c]) / np.maximum(pcc_min, pcc[c])\n",
        "\n",
        "\n",
        "def global_separation(H, y, k=None, num_samples=10):\n",
        "    \"\"\"\n",
        "    :param H: embedding to evaluate\n",
        "    :param y: ground-truth classes\n",
        "    :param k: if None evaluate all classes else only class k\n",
        "    :param num_samples: number of samples in the range (0, 100)%\n",
        "    :return:\n",
        "    \"\"\"\n",
        "    distances = squareform(pdist(H))\n",
        "    if k is None:\n",
        "        ranged = range(y.max() + 1)\n",
        "    else:\n",
        "        ranged = [k]\n",
        "\n",
        "    return np.fromiter((__GS_c(distances, y, c, tr)\n",
        "                        for c in ranged\n",
        "                        for tr in np.linspace(0.2, 1, num_samples)), np.float32).reshape((-1, num_samples))"
      ],
      "execution_count": 2,
      "outputs": []
    },
    {
      "cell_type": "code",
      "metadata": {
        "id": "QT2TJYtZA996",
        "colab_type": "code",
        "colab": {}
      },
      "source": [
        ""
      ],
      "execution_count": 2,
      "outputs": []
    },
    {
      "cell_type": "code",
      "metadata": {
        "id": "GZGg-28nA93f",
        "colab_type": "code",
        "colab": {}
      },
      "source": [
        "from sklearn.cluster import SpectralClustering\n",
        "#from sklearn import datasets\n",
        "from sklearn.metrics import normalized_mutual_info_score as nmi\n",
        "\n",
        "#from rsc.clustering import RSC\n",
        "\n",
        "import matplotlib.pyplot as plt\n",
        "%matplotlib inline\n",
        "\n"
      ],
      "execution_count": 3,
      "outputs": []
    },
    {
      "cell_type": "code",
      "metadata": {
        "id": "sMoMdUP8DcGC",
        "colab_type": "code",
        "colab": {}
      },
      "source": [
        "from google.colab import drive\n",
        "#drive.mount('/content/drive')"
      ],
      "execution_count": 7,
      "outputs": []
    },
    {
      "cell_type": "code",
      "metadata": {
        "id": "dHzLVwa-EHFv",
        "colab_type": "code",
        "colab": {}
      },
      "source": [
        "import pandas as pd\n",
        "df = pd.read_csv('/content/drive/My Drive/edited_topics_set2.csv')"
      ],
      "execution_count": 8,
      "outputs": []
    },
    {
      "cell_type": "code",
      "metadata": {
        "id": "znmH8_wIGnyH",
        "colab_type": "code",
        "colab": {}
      },
      "source": [
        "X = df.processed_content"
      ],
      "execution_count": 9,
      "outputs": []
    },
    {
      "cell_type": "code",
      "metadata": {
        "id": "gAniAS8yGlvZ",
        "colab_type": "code",
        "colab": {}
      },
      "source": [
        "from sklearn.feature_extraction.text import TfidfVectorizer\n",
        "vec = TfidfVectorizer(stop_words=\"english\")\n",
        "vec.fit(df.processed_content.values)\n",
        "X = vec.transform(df.processed_content.values)"
      ],
      "execution_count": 10,
      "outputs": []
    },
    {
      "cell_type": "code",
      "metadata": {
        "id": "Ajw_oHWMIlrZ",
        "colab_type": "code",
        "colab": {
          "base_uri": "https://localhost:8080/",
          "height": 34
        },
        "outputId": "e28f8585-4856-42a5-a126-ec15b148d02f"
      },
      "source": [
        "y = pd.factorize(df.topic)[0]\n",
        "y"
      ],
      "execution_count": 11,
      "outputs": [
        {
          "output_type": "execute_result",
          "data": {
            "text/plain": [
              "array([ 0,  1,  0, ..., 59,  1,  1])"
            ]
          },
          "metadata": {
            "tags": []
          },
          "execution_count": 11
        }
      ]
    },
    {
      "cell_type": "code",
      "metadata": {
        "id": "YvLXRZN5BSn7",
        "colab_type": "code",
        "colab": {}
      },
      "source": [
        "#X, y = datasets.make_moons(600, shuffle=False, random_state=4, noise=0.1)\n",
        "import matplotlib.pyplot as plt\n",
        "\n",
        "\n",
        "k = 20\n",
        "nn = 15\n",
        "\n",
        "\n",
        "#plt.scatter(X[:, 0], X[:, 1], cmap='Accent', linewidths=0)\n",
        "#plt.title('Ground truth clusters');"
      ],
      "execution_count": 12,
      "outputs": []
    },
    {
      "cell_type": "code",
      "metadata": {
        "id": "SRLc09qmA92b",
        "colab_type": "code",
        "colab": {
          "base_uri": "https://localhost:8080/",
          "height": 134
        },
        "outputId": "9e8ce9cd-0ea1-44b8-f4fa-8f4c5d58903c"
      },
      "source": [
        "rsc = RSC(k=k, nn=nn, theta=10, verbose=True)\n",
        "y_rsc = rsc.fit_predict(X)\n",
        "\n",
        "sc = SpectralClustering(n_clusters=k, n_neighbors=nn+1, affinity='nearest_neighbors')  # nn+1 since they include self\n",
        "y_sc = sc.fit_predict(X)\n",
        "\n",
        "print('Vanilla Spectral Clustering NMI: {:.4f}\\n Robust Spectral Clustering NMI: {:.4f}'.format(nmi(y, y_sc), nmi(y, y_rsc)))"
      ],
      "execution_count": 13,
      "outputs": [
        {
          "output_type": "stream",
          "text": [
            "Using random walk based normalized Laplacian L_rw\n",
            "Iter: 0 Trace: 2.8161\n",
            "Iter: 1 Trace: 2.7841\n",
            "Iter: 2 Trace: 2.7831\n",
            "Iter: 3 Trace: 2.7831\n",
            "Vanilla Spectral Clustering NMI: 0.3433\n",
            " Robust Spectral Clustering NMI: 0.3408\n"
          ],
          "name": "stdout"
        }
      ]
    },
    {
      "cell_type": "code",
      "metadata": {
        "id": "WHNOVkhlBTEr",
        "colab_type": "code",
        "colab": {
          "base_uri": "https://localhost:8080/",
          "height": 536
        },
        "outputId": "d30104ef-a97c-4ac2-e7fb-732ea29227f9"
      },
      "source": [
        "fig, ax = plt.subplots(1, 2, figsize=[15, 5])\n",
        "ax[0].scatter(y_sc[:,0], y_sc[:, 1],  cmap='Accent', linewidths=0)\n",
        "ax[0].set_title('Clusters obtained by Vanilla Spectral Clustering')\n",
        "\n",
        "ax[1].scatter(y_rsc[0], y_rsc[0],  cmap='Accent', linewidths=0)\n",
        "ax[1].set_title('Clusters obtained by Robust Spectral Clustering');"
      ],
      "execution_count": 18,
      "outputs": [
        {
          "output_type": "error",
          "ename": "IndexError",
          "evalue": "ignored",
          "traceback": [
            "\u001b[0;31m---------------------------------------------------------------------------\u001b[0m",
            "\u001b[0;31mIndexError\u001b[0m                                Traceback (most recent call last)",
            "\u001b[0;32m<ipython-input-18-a7cd247e4ea9>\u001b[0m in \u001b[0;36m<module>\u001b[0;34m()\u001b[0m\n\u001b[1;32m      1\u001b[0m \u001b[0mfig\u001b[0m\u001b[0;34m,\u001b[0m \u001b[0max\u001b[0m \u001b[0;34m=\u001b[0m \u001b[0mplt\u001b[0m\u001b[0;34m.\u001b[0m\u001b[0msubplots\u001b[0m\u001b[0;34m(\u001b[0m\u001b[0;36m1\u001b[0m\u001b[0;34m,\u001b[0m \u001b[0;36m2\u001b[0m\u001b[0;34m,\u001b[0m \u001b[0mfigsize\u001b[0m\u001b[0;34m=\u001b[0m\u001b[0;34m[\u001b[0m\u001b[0;36m15\u001b[0m\u001b[0;34m,\u001b[0m \u001b[0;36m5\u001b[0m\u001b[0;34m]\u001b[0m\u001b[0;34m)\u001b[0m\u001b[0;34m\u001b[0m\u001b[0;34m\u001b[0m\u001b[0m\n\u001b[0;32m----> 2\u001b[0;31m \u001b[0max\u001b[0m\u001b[0;34m[\u001b[0m\u001b[0;36m0\u001b[0m\u001b[0;34m]\u001b[0m\u001b[0;34m.\u001b[0m\u001b[0mscatter\u001b[0m\u001b[0;34m(\u001b[0m\u001b[0my_sc\u001b[0m\u001b[0;34m[\u001b[0m\u001b[0;34m:\u001b[0m\u001b[0;34m,\u001b[0m\u001b[0;36m0\u001b[0m\u001b[0;34m]\u001b[0m\u001b[0;34m,\u001b[0m \u001b[0my_sc\u001b[0m\u001b[0;34m[\u001b[0m\u001b[0;34m:\u001b[0m\u001b[0;34m,\u001b[0m \u001b[0;36m1\u001b[0m\u001b[0;34m]\u001b[0m\u001b[0;34m,\u001b[0m  \u001b[0mcmap\u001b[0m\u001b[0;34m=\u001b[0m\u001b[0;34m'Accent'\u001b[0m\u001b[0;34m,\u001b[0m \u001b[0mlinewidths\u001b[0m\u001b[0;34m=\u001b[0m\u001b[0;36m0\u001b[0m\u001b[0;34m)\u001b[0m\u001b[0;34m\u001b[0m\u001b[0;34m\u001b[0m\u001b[0m\n\u001b[0m\u001b[1;32m      3\u001b[0m \u001b[0max\u001b[0m\u001b[0;34m[\u001b[0m\u001b[0;36m0\u001b[0m\u001b[0;34m]\u001b[0m\u001b[0;34m.\u001b[0m\u001b[0mset_title\u001b[0m\u001b[0;34m(\u001b[0m\u001b[0;34m'Clusters obtained by Vanilla Spectral Clustering'\u001b[0m\u001b[0;34m)\u001b[0m\u001b[0;34m\u001b[0m\u001b[0;34m\u001b[0m\u001b[0m\n\u001b[1;32m      4\u001b[0m \u001b[0;34m\u001b[0m\u001b[0m\n\u001b[1;32m      5\u001b[0m \u001b[0max\u001b[0m\u001b[0;34m[\u001b[0m\u001b[0;36m1\u001b[0m\u001b[0;34m]\u001b[0m\u001b[0;34m.\u001b[0m\u001b[0mscatter\u001b[0m\u001b[0;34m(\u001b[0m\u001b[0my_rsc\u001b[0m\u001b[0;34m[\u001b[0m\u001b[0;36m0\u001b[0m\u001b[0;34m]\u001b[0m\u001b[0;34m,\u001b[0m \u001b[0my_rsc\u001b[0m\u001b[0;34m[\u001b[0m\u001b[0;36m0\u001b[0m\u001b[0;34m]\u001b[0m\u001b[0;34m,\u001b[0m  \u001b[0mcmap\u001b[0m\u001b[0;34m=\u001b[0m\u001b[0;34m'Accent'\u001b[0m\u001b[0;34m,\u001b[0m \u001b[0mlinewidths\u001b[0m\u001b[0;34m=\u001b[0m\u001b[0;36m0\u001b[0m\u001b[0;34m)\u001b[0m\u001b[0;34m\u001b[0m\u001b[0;34m\u001b[0m\u001b[0m\n",
            "\u001b[0;31mIndexError\u001b[0m: too many indices for array"
          ]
        },
        {
          "output_type": "display_data",
          "data": {
            "image/png": "[encoded data removed]",
            "text/plain": [
              "<Figure size 1080x360 with 2 Axes>"
            ]
          },
          "metadata": {
            "tags": [],
            "needs_background": "light"
          }
        }
      ]
    },
    {
      "cell_type": "code",
      "metadata": {
        "id": "AboEhoiWBVj3",
        "colab_type": "code",
        "colab": {
          "base_uri": "https://localhost:8080/",
          "height": 294
        },
        "outputId": "0ffb0843-4e29-4aa3-8264-32c0821af687"
      },
      "source": [
        "plt.scatter(rsc.H[:, 0], rsc.H[:, 1], c=y_rsc,  cmap='Accent', linewidths=0)\n",
        "plt.title('Embedding obtained by Robust Spectral Clustering');"
      ],
      "execution_count": 15,
      "outputs": [
        {
          "output_type": "display_data",
          "data": {
            "image/png": "[encoded data removed]",
            "text/plain": [
              "<Figure size 432x288 with 1 Axes>"
            ]
          },
          "metadata": {
            "tags": [],
            "needs_background": "light"
          }
        }
      ]
    },
    {
      "cell_type": "code",
      "metadata": {
        "id": "uUao-F2lKXHZ",
        "colab_type": "code",
        "colab": {
          "base_uri": "https://localhost:8080/",
          "height": 67
        },
        "outputId": "5f446ade-b479-4419-d8f0-1d8c34b71d9e"
      },
      "source": [
        "# function to print out classification model report\n",
        "def classification_report(model_name, test, pred):\n",
        "    from sklearn.metrics import precision_score, recall_score\n",
        "    from sklearn.metrics import accuracy_score\n",
        "    from sklearn.metrics import f1_score\n",
        "    \n",
        "    print(model_name, \":\\n\")\n",
        "    print(\"Accuracy Score: \", '{:,.3f}'.format(float(accuracy_score(test, pred)) * 100), \"%\")\n",
        "    print(\"     Precision: \", '{:,.3f}'.format(float(precision_score(test, pred, average='macro')) * 100), \"%\")\n",
        "    print(\"        Recall: \", '{:,.3f}'.format(float(recall_score(test, pred, average='macro')) * 100), \"%\")\n",
        "    print(\"      F1 score: \", '{:,.3f}'.format(float(f1_score(test, pred, average='macro')) * 100), \"%\")\n",
        "    \n",
        "#Let's split the data into train/test sets\n",
        "\n",
        "from sklearn.model_selection import train_test_split\n",
        "\n",
        "# test set size of 20% of the data and the random seed 42 <3\n",
        "X_train, X_test, y_train, y_test = train_test_split(X.toarray(),y_sc, test_size=0.2, random_state=42)\n",
        "\n",
        "print(\"X_train size:\", len(X_train))\n",
        "print(\"X_test size:\", len(X_test), \"\\n\")"
      ],
      "execution_count": 19,
      "outputs": [
        {
          "output_type": "stream",
          "text": [
            "X_train size: 1724\n",
            "X_test size: 431 \n",
            "\n"
          ],
          "name": "stdout"
        }
      ]
    },
    {
      "cell_type": "code",
      "metadata": {
        "id": "QK_96icC7Ojw",
        "colab_type": "code",
        "colab": {
          "base_uri": "https://localhost:8080/",
          "height": 118
        },
        "outputId": "438ccd91-c275-4628-c213-613d43309265"
      },
      "source": [
        "from sklearn.model_selection import cross_val_score\n",
        "from sklearn.model_selection import cross_val_predict\n",
        "from sklearn.linear_model import SGDClassifier\n",
        "\n",
        "# SGD instance\n",
        "sgd_clf = SGDClassifier(max_iter=10000, tol=1e-3, random_state=42, n_jobs=4)\n",
        "# train SGD\n",
        "sgd_clf.fit(X_train, y_train)\n",
        "\n",
        "# cross validation predictions\n",
        "sgd_pred = cross_val_predict(sgd_clf, X_train, y_train, cv=3, n_jobs=4)\n",
        "\n",
        "# print out the classification report\n",
        "classification_report(\"Stochastic Gradient Descent Report (Training Set)\", y_train, sgd_pred)"
      ],
      "execution_count": 20,
      "outputs": [
        {
          "output_type": "stream",
          "text": [
            "Stochastic Gradient Descent Report (Training Set) :\n",
            "\n",
            "Accuracy Score:  86.659 %\n",
            "     Precision:  95.659 %\n",
            "        Recall:  79.017 %\n",
            "      F1 score:  86.094 %\n"
          ],
          "name": "stdout"
        }
      ]
    },
    {
      "cell_type": "code",
      "metadata": {
        "id": "fmpfKuYt7ZOV",
        "colab_type": "code",
        "colab": {
          "base_uri": "https://localhost:8080/",
          "height": 67
        },
        "outputId": "d816b8ee-3523-47de-cc23-224aa427c609"
      },
      "source": [
        "# function to print out classification model report\n",
        "def classification_report(model_name, test, pred):\n",
        "    from sklearn.metrics import precision_score, recall_score\n",
        "    from sklearn.metrics import accuracy_score\n",
        "    from sklearn.metrics import f1_score\n",
        "    \n",
        "    print(model_name, \":\\n\")\n",
        "    print(\"Accuracy Score: \", '{:,.3f}'.format(float(accuracy_score(test, pred)) * 100), \"%\")\n",
        "    print(\"     Precision: \", '{:,.3f}'.format(float(precision_score(test, pred, average='macro')) * 100), \"%\")\n",
        "    print(\"        Recall: \", '{:,.3f}'.format(float(recall_score(test, pred, average='macro')) * 100), \"%\")\n",
        "    print(\"      F1 score: \", '{:,.3f}'.format(float(f1_score(test, pred, average='macro')) * 100), \"%\")\n",
        "    \n",
        "#Let's split the data into train/test sets\n",
        "\n",
        "from sklearn.model_selection import train_test_split\n",
        "\n",
        "# test set size of 20% of the data and the random seed 42 <3\n",
        "X_train, X_test, y_train, y_test = train_test_split(X.toarray(),y_rsc, test_size=0.2, random_state=42)\n",
        "\n",
        "print(\"X_train size:\", len(X_train))\n",
        "print(\"X_test size:\", len(X_test), \"\\n\")"
      ],
      "execution_count": 22,
      "outputs": [
        {
          "output_type": "stream",
          "text": [
            "X_train size: 1724\n",
            "X_test size: 431 \n",
            "\n"
          ],
          "name": "stdout"
        }
      ]
    },
    {
      "cell_type": "code",
      "metadata": {
        "id": "MB0esQGc7dSC",
        "colab_type": "code",
        "colab": {
          "base_uri": "https://localhost:8080/",
          "height": 118
        },
        "outputId": "a59e5808-fdce-47ef-b093-1cc4c49505f2"
      },
      "source": [
        "from sklearn.model_selection import cross_val_score\n",
        "from sklearn.model_selection import cross_val_predict\n",
        "from sklearn.linear_model import SGDClassifier\n",
        "\n",
        "# SGD instance\n",
        "sgd_clf = SGDClassifier(max_iter=10000, tol=1e-3, random_state=42, n_jobs=4)\n",
        "# train SGD\n",
        "sgd_clf.fit(X_train, y_train)\n",
        "\n",
        "# cross validation predictions\n",
        "sgd_pred = cross_val_predict(sgd_clf, X_train, y_train, cv=3, n_jobs=4)\n",
        "\n",
        "# print out the classification report\n",
        "classification_report(\"Stochastic Gradient Descent Report (Training Set)\", y_train, sgd_pred)"
      ],
      "execution_count": 23,
      "outputs": [
        {
          "output_type": "stream",
          "text": [
            "Stochastic Gradient Descent Report (Training Set) :\n",
            "\n",
            "Accuracy Score:  87.297 %\n",
            "     Precision:  94.562 %\n",
            "        Recall:  81.181 %\n",
            "      F1 score:  86.866 %\n"
          ],
          "name": "stdout"
        }
      ]
    },
    {
      "cell_type": "code",
      "metadata": {
        "id": "kwPbiwzG7mey",
        "colab_type": "code",
        "colab": {
          "base_uri": "https://localhost:8080/",
          "height": 195
        },
        "outputId": "acb1749b-a9f3-4e61-abbf-dbfcdef66069"
      },
      "source": [
        "from sklearn.metrics import silhouette_score\n",
        "\n",
        "# centers = kmeans.cluster_centers_\n",
        "score = silhouette_score (X, y_sc, metric='euclidean')\n",
        "print (\"For n_clusters = {}, Kmeans silhouette score is {})\".format(n_clusters, score))"
      ],
      "execution_count": 24,
      "outputs": [
        {
          "output_type": "error",
          "ename": "NameError",
          "evalue": "ignored",
          "traceback": [
            "\u001b[0;31m---------------------------------------------------------------------------\u001b[0m",
            "\u001b[0;31mNameError\u001b[0m                                 Traceback (most recent call last)",
            "\u001b[0;32m<ipython-input-24-7938f9e323a4>\u001b[0m in \u001b[0;36m<module>\u001b[0;34m()\u001b[0m\n\u001b[1;32m      3\u001b[0m \u001b[0;31m# centers = kmeans.cluster_centers_\u001b[0m\u001b[0;34m\u001b[0m\u001b[0;34m\u001b[0m\u001b[0;34m\u001b[0m\u001b[0m\n\u001b[1;32m      4\u001b[0m \u001b[0mscore\u001b[0m \u001b[0;34m=\u001b[0m \u001b[0msilhouette_score\u001b[0m \u001b[0;34m(\u001b[0m\u001b[0mX\u001b[0m\u001b[0;34m,\u001b[0m \u001b[0my_sc\u001b[0m\u001b[0;34m,\u001b[0m \u001b[0mmetric\u001b[0m\u001b[0;34m=\u001b[0m\u001b[0;34m'euclidean'\u001b[0m\u001b[0;34m)\u001b[0m\u001b[0;34m\u001b[0m\u001b[0;34m\u001b[0m\u001b[0m\n\u001b[0;32m----> 5\u001b[0;31m \u001b[0mprint\u001b[0m \u001b[0;34m(\u001b[0m\u001b[0;34m\"For n_clusters = {}, Kmeans silhouette score is {})\"\u001b[0m\u001b[0;34m.\u001b[0m\u001b[0mformat\u001b[0m\u001b[0;34m(\u001b[0m\u001b[0mn_clusters\u001b[0m\u001b[0;34m,\u001b[0m \u001b[0mscore\u001b[0m\u001b[0;34m)\u001b[0m\u001b[0;34m)\u001b[0m\u001b[0;34m\u001b[0m\u001b[0;34m\u001b[0m\u001b[0m\n\u001b[0m",
            "\u001b[0;31mNameError\u001b[0m: name 'n_clusters' is not defined"
          ]
        }
      ]
    },
    {
      "cell_type": "code",
      "metadata": {
        "id": "9PR7JmfE-gqV",
        "colab_type": "code",
        "colab": {
          "base_uri": "https://localhost:8080/",
          "height": 212
        },
        "outputId": "208c8d12-8357-4631-d42f-410ab17af82d"
      },
      "source": [
        "data_all = df.copy()\n",
        "\n",
        "data_all['cluster_sc'] = y_sc\n",
        "data_all.head()"
      ],
      "execution_count": 29,
      "outputs": [
        {
          "output_type": "execute_result",
          "data": {
            "text/html": [
              "<div>\n",
              "<style scoped>\n",
              "    .dataframe tbody tr th:only-of-type {\n",
              "        vertical-align: middle;\n",
              "    }\n",
              "\n",
              "    .dataframe tbody tr th {\n",
              "        vertical-align: top;\n",
              "    }\n",
              "\n",
              "    .dataframe thead th {\n",
              "        text-align: right;\n",
              "    }\n",
              "</style>\n",
              "<table border=\"1\" class=\"dataframe\">\n",
              "  <thead>\n",
              "    <tr style=\"text-align: right;\">\n",
              "      <th></th>\n",
              "      <th>Unnamed: 0</th>\n",
              "      <th>Unnamed: 0.1</th>\n",
              "      <th>_id</th>\n",
              "      <th>topic</th>\n",
              "      <th>content</th>\n",
              "      <th>processed_content</th>\n",
              "      <th>processed_topic</th>\n",
              "      <th>cluster_sc</th>\n",
              "    </tr>\n",
              "  </thead>\n",
              "  <tbody>\n",
              "    <tr>\n",
              "      <th>0</th>\n",
              "      <td>0</td>\n",
              "      <td>0</td>\n",
              "      <td>5f04e496ef217aae6a201f71</td>\n",
              "      <td>[\"National\"]</td>\n",
              "      <td>[\"The West Bengal government on Tuesday decide...</td>\n",
              "      <td>west bengal govern tuesday decid impos complet...</td>\n",
              "      <td>nation</td>\n",
              "      <td>2</td>\n",
              "    </tr>\n",
              "    <tr>\n",
              "      <th>1</th>\n",
              "      <td>1</td>\n",
              "      <td>1</td>\n",
              "      <td>5f04e498ef217aae6a201f72</td>\n",
              "      <td>[\"Business\"]</td>\n",
              "      <td>[\"The government is weighing the pros and cons...</td>\n",
              "      <td>govern weigh pros con halt import includ china...</td>\n",
              "      <td>busi</td>\n",
              "      <td>7</td>\n",
              "    </tr>\n",
              "    <tr>\n",
              "      <th>2</th>\n",
              "      <td>2</td>\n",
              "      <td>2</td>\n",
              "      <td>5f04e49aef217aae6a201f73</td>\n",
              "      <td>[\"National\"]</td>\n",
              "      <td>[\"The Central Board of Secondary Education (CB...</td>\n",
              "      <td>central board secondari educ cbse slash syllab...</td>\n",
              "      <td>nation</td>\n",
              "      <td>12</td>\n",
              "    </tr>\n",
              "    <tr>\n",
              "      <th>3</th>\n",
              "      <td>3</td>\n",
              "      <td>3</td>\n",
              "      <td>5f04e49def217aae6a201f74</td>\n",
              "      <td>[\"International\"]</td>\n",
              "      <td>[\"The World Health Organization on Tuesday ack...</td>\n",
              "      <td>world health organ tuesday acknowledg emerg ev...</td>\n",
              "      <td>intern</td>\n",
              "      <td>2</td>\n",
              "    </tr>\n",
              "    <tr>\n",
              "      <th>4</th>\n",
              "      <td>4</td>\n",
              "      <td>4</td>\n",
              "      <td>5f04e49fef217aae6a201f75</td>\n",
              "      <td>[\"International\"]</td>\n",
              "      <td>[\"President Donald Trump on Tuesday formally s...</td>\n",
              "      <td>presid donald trump tuesday formal start withd...</td>\n",
              "      <td>intern</td>\n",
              "      <td>7</td>\n",
              "    </tr>\n",
              "  </tbody>\n",
              "</table>\n",
              "</div>"
            ],
            "text/plain": [
              "   Unnamed: 0  Unnamed: 0.1  ... processed_topic cluster_sc\n",
              "0           0             0  ...          nation          2\n",
              "1           1             1  ...            busi          7\n",
              "2           2             2  ...          nation         12\n",
              "3           3             3  ...          intern          2\n",
              "4           4             4  ...          intern          7\n",
              "\n",
              "[5 rows x 8 columns]"
            ]
          },
          "metadata": {
            "tags": []
          },
          "execution_count": 29
        }
      ]
    },
    {
      "cell_type": "code",
      "metadata": {
        "id": "02RiBf6H-qBV",
        "colab_type": "code",
        "colab": {
          "base_uri": "https://localhost:8080/",
          "height": 296
        },
        "outputId": "5c8c3e8c-f710-44be-a386-d4c8bbcb2d64"
      },
      "source": [
        "data_all = data_all.copy()\n",
        "\n",
        "data_all['cluster_rsc'] = y_rsc\n",
        "data_all.head()"
      ],
      "execution_count": 30,
      "outputs": [
        {
          "output_type": "execute_result",
          "data": {
            "text/html": [
              "<div>\n",
              "<style scoped>\n",
              "    .dataframe tbody tr th:only-of-type {\n",
              "        vertical-align: middle;\n",
              "    }\n",
              "\n",
              "    .dataframe tbody tr th {\n",
              "        vertical-align: top;\n",
              "    }\n",
              "\n",
              "    .dataframe thead th {\n",
              "        text-align: right;\n",
              "    }\n",
              "</style>\n",
              "<table border=\"1\" class=\"dataframe\">\n",
              "  <thead>\n",
              "    <tr style=\"text-align: right;\">\n",
              "      <th></th>\n",
              "      <th>Unnamed: 0</th>\n",
              "      <th>Unnamed: 0.1</th>\n",
              "      <th>_id</th>\n",
              "      <th>topic</th>\n",
              "      <th>content</th>\n",
              "      <th>processed_content</th>\n",
              "      <th>processed_topic</th>\n",
              "      <th>cluster_sc</th>\n",
              "      <th>cluster_rsc</th>\n",
              "    </tr>\n",
              "  </thead>\n",
              "  <tbody>\n",
              "    <tr>\n",
              "      <th>0</th>\n",
              "      <td>0</td>\n",
              "      <td>0</td>\n",
              "      <td>5f04e496ef217aae6a201f71</td>\n",
              "      <td>[\"National\"]</td>\n",
              "      <td>[\"The West Bengal government on Tuesday decide...</td>\n",
              "      <td>west bengal govern tuesday decid impos complet...</td>\n",
              "      <td>nation</td>\n",
              "      <td>2</td>\n",
              "      <td>7</td>\n",
              "    </tr>\n",
              "    <tr>\n",
              "      <th>1</th>\n",
              "      <td>1</td>\n",
              "      <td>1</td>\n",
              "      <td>5f04e498ef217aae6a201f72</td>\n",
              "      <td>[\"Business\"]</td>\n",
              "      <td>[\"The government is weighing the pros and cons...</td>\n",
              "      <td>govern weigh pros con halt import includ china...</td>\n",
              "      <td>busi</td>\n",
              "      <td>7</td>\n",
              "      <td>17</td>\n",
              "    </tr>\n",
              "    <tr>\n",
              "      <th>2</th>\n",
              "      <td>2</td>\n",
              "      <td>2</td>\n",
              "      <td>5f04e49aef217aae6a201f73</td>\n",
              "      <td>[\"National\"]</td>\n",
              "      <td>[\"The Central Board of Secondary Education (CB...</td>\n",
              "      <td>central board secondari educ cbse slash syllab...</td>\n",
              "      <td>nation</td>\n",
              "      <td>12</td>\n",
              "      <td>4</td>\n",
              "    </tr>\n",
              "    <tr>\n",
              "      <th>3</th>\n",
              "      <td>3</td>\n",
              "      <td>3</td>\n",
              "      <td>5f04e49def217aae6a201f74</td>\n",
              "      <td>[\"International\"]</td>\n",
              "      <td>[\"The World Health Organization on Tuesday ack...</td>\n",
              "      <td>world health organ tuesday acknowledg emerg ev...</td>\n",
              "      <td>intern</td>\n",
              "      <td>2</td>\n",
              "      <td>7</td>\n",
              "    </tr>\n",
              "    <tr>\n",
              "      <th>4</th>\n",
              "      <td>4</td>\n",
              "      <td>4</td>\n",
              "      <td>5f04e49fef217aae6a201f75</td>\n",
              "      <td>[\"International\"]</td>\n",
              "      <td>[\"President Donald Trump on Tuesday formally s...</td>\n",
              "      <td>presid donald trump tuesday formal start withd...</td>\n",
              "      <td>intern</td>\n",
              "      <td>7</td>\n",
              "      <td>17</td>\n",
              "    </tr>\n",
              "  </tbody>\n",
              "</table>\n",
              "</div>"
            ],
            "text/plain": [
              "   Unnamed: 0  Unnamed: 0.1  ... cluster_sc cluster_rsc\n",
              "0           0             0  ...          2           7\n",
              "1           1             1  ...          7          17\n",
              "2           2             2  ...         12           4\n",
              "3           3             3  ...          2           7\n",
              "4           4             4  ...          7          17\n",
              "\n",
              "[5 rows x 9 columns]"
            ]
          },
          "metadata": {
            "tags": []
          },
          "execution_count": 30
        }
      ]
    },
    {
      "cell_type": "code",
      "metadata": {
        "id": "3nh8CVZA-wtP",
        "colab_type": "code",
        "colab": {}
      },
      "source": [
        ""
      ],
      "execution_count": null,
      "outputs": []
    },
    {
      "cell_type": "code",
      "metadata": {
        "id": "fgo8NsLN-yQT",
        "colab_type": "code",
        "colab": {
          "base_uri": "https://localhost:8080/",
          "height": 370
        },
        "outputId": "5f891a42-8fb6-4ad7-a9da-c4e8b16b2d9f"
      },
      "source": [
        "data_all['cluster_sc'].value_counts()"
      ],
      "execution_count": 31,
      "outputs": [
        {
          "output_type": "execute_result",
          "data": {
            "text/plain": [
              "2     796\n",
              "1     215\n",
              "7     171\n",
              "5     146\n",
              "12    133\n",
              "15    102\n",
              "16     98\n",
              "4      76\n",
              "18     61\n",
              "8      51\n",
              "11     49\n",
              "19     40\n",
              "10     38\n",
              "14     33\n",
              "9      33\n",
              "0      31\n",
              "3      24\n",
              "17     23\n",
              "13     19\n",
              "6      16\n",
              "Name: cluster_sc, dtype: int64"
            ]
          },
          "metadata": {
            "tags": []
          },
          "execution_count": 31
        }
      ]
    },
    {
      "cell_type": "code",
      "metadata": {
        "id": "2ezZt1Qq-3Nq",
        "colab_type": "code",
        "colab": {
          "base_uri": "https://localhost:8080/",
          "height": 370
        },
        "outputId": "0a338cc1-bc18-4007-a6bd-8319791a411d"
      },
      "source": [
        "data_all['cluster_rsc'].value_counts()"
      ],
      "execution_count": 32,
      "outputs": [
        {
          "output_type": "execute_result",
          "data": {
            "text/plain": [
              "7     787\n",
              "18    207\n",
              "17    171\n",
              "13    143\n",
              "4     135\n",
              "1     118\n",
              "8     103\n",
              "5      78\n",
              "19     58\n",
              "12     50\n",
              "2      46\n",
              "16     42\n",
              "14     35\n",
              "9      34\n",
              "15     34\n",
              "11     31\n",
              "6      24\n",
              "0      22\n",
              "10     21\n",
              "3      16\n",
              "Name: cluster_rsc, dtype: int64"
            ]
          },
          "metadata": {
            "tags": []
          },
          "execution_count": 32
        }
      ]
    },
    {
      "cell_type": "code",
      "metadata": {
        "id": "8kEVdhyW_ASp",
        "colab_type": "code",
        "colab": {
          "base_uri": "https://localhost:8080/",
          "height": 791
        },
        "outputId": "9700b9ef-046a-4b97-b021-4e6cc2bf5ca4"
      },
      "source": [
        "import seaborn as sns\n",
        "#No. of contents in each category\n",
        "count_df = pd.DataFrame(df['processed_topic'].value_counts()).reset_index()\n",
        "print('There are', len(count_df), 'news categories')\n",
        "\n",
        "sns.set_style('darkgrid')\n",
        "plt.figure(figsize=(10, 12))\n",
        "sns.barplot(data=count_df, y='index', x='processed_topic', palette='Dark2')\n",
        "plt.title('No. news in each category', loc='left', fontsize=20)\n",
        "plt.xlabel(\"\")\n",
        "plt.ylabel(\"\")\n",
        "plt.show()"
      ],
      "execution_count": 34,
      "outputs": [
        {
          "output_type": "stream",
          "text": [
            "/usr/local/lib/python3.6/dist-packages/statsmodels/tools/_testing.py:19: FutureWarning: pandas.util.testing is deprecated. Use the functions in the public API at pandas.testing instead.\n",
            "  import pandas.util.testing as tm\n"
          ],
          "name": "stderr"
        },
        {
          "output_type": "stream",
          "text": [
            "There are 52 news categories\n"
          ],
          "name": "stdout"
        },
        {
          "output_type": "display_data",
          "data": {
            "image/png": "[encoded data removed]",
            "text/plain": [
              "<Figure size 720x864 with 1 Axes>"
            ]
          },
          "metadata": {
            "tags": []
          }
        }
      ]
    },
    {
      "cell_type": "code",
      "metadata": {
        "id": "mkLU71Gj_TtS",
        "colab_type": "code",
        "colab": {
          "base_uri": "https://localhost:8080/",
          "height": 738
        },
        "outputId": "949bbb58-cac3-495a-cead-f21bd6553a06"
      },
      "source": [
        "#No. of contents in each category\n",
        "count_df = pd.DataFrame(data_all['cluster_sc'].value_counts()).reset_index()\n",
        "print('There are', len(count_df), 'news categories')\n",
        "\n",
        "sns.set_style('darkgrid')\n",
        "plt.figure(figsize=(10, 12))\n",
        "sns.barplot(data=count_df, y='cluster_sc', x='index', palette='Dark2')\n",
        "plt.title('No. news in each category', loc='left', fontsize=20)\n",
        "plt.xlabel(\"\")\n",
        "plt.ylabel(\"\")\n",
        "plt.show()"
      ],
      "execution_count": 36,
      "outputs": [
        {
          "output_type": "stream",
          "text": [
            "There are 20 news categories\n"
          ],
          "name": "stdout"
        },
        {
          "output_type": "display_data",
          "data": {
            "image/png": "[encoded data removed]",
            "text/plain": [
              "<Figure size 720x864 with 1 Axes>"
            ]
          },
          "metadata": {
            "tags": []
          }
        }
      ]
    },
    {
      "cell_type": "code",
      "metadata": {
        "id": "zzL24HDx_uCL",
        "colab_type": "code",
        "colab": {
          "base_uri": "https://localhost:8080/",
          "height": 586
        },
        "outputId": "357bcc87-707a-4c6a-d148-571a2c7560c9"
      },
      "source": [
        "data_all[data_all.processed_topic == 'nation']"
      ],
      "execution_count": 43,
      "outputs": [
        {
          "output_type": "execute_result",
          "data": {
            "text/html": [
              "<div>\n",
              "<style scoped>\n",
              "    .dataframe tbody tr th:only-of-type {\n",
              "        vertical-align: middle;\n",
              "    }\n",
              "\n",
              "    .dataframe tbody tr th {\n",
              "        vertical-align: top;\n",
              "    }\n",
              "\n",
              "    .dataframe thead th {\n",
              "        text-align: right;\n",
              "    }\n",
              "</style>\n",
              "<table border=\"1\" class=\"dataframe\">\n",
              "  <thead>\n",
              "    <tr style=\"text-align: right;\">\n",
              "      <th></th>\n",
              "      <th>Unnamed: 0</th>\n",
              "      <th>Unnamed: 0.1</th>\n",
              "      <th>_id</th>\n",
              "      <th>topic</th>\n",
              "      <th>content</th>\n",
              "      <th>processed_content</th>\n",
              "      <th>processed_topic</th>\n",
              "      <th>cluster_sc</th>\n",
              "      <th>cluster_rsc</th>\n",
              "    </tr>\n",
              "  </thead>\n",
              "  <tbody>\n",
              "    <tr>\n",
              "      <th>0</th>\n",
              "      <td>0</td>\n",
              "      <td>0</td>\n",
              "      <td>5f04e496ef217aae6a201f71</td>\n",
              "      <td>[\"National\"]</td>\n",
              "      <td>[\"The West Bengal government on Tuesday decide...</td>\n",
              "      <td>west bengal govern tuesday decid impos complet...</td>\n",
              "      <td>nation</td>\n",
              "      <td>2</td>\n",
              "      <td>7</td>\n",
              "    </tr>\n",
              "    <tr>\n",
              "      <th>2</th>\n",
              "      <td>2</td>\n",
              "      <td>2</td>\n",
              "      <td>5f04e49aef217aae6a201f73</td>\n",
              "      <td>[\"National\"]</td>\n",
              "      <td>[\"The Central Board of Secondary Education (CB...</td>\n",
              "      <td>central board secondari educ cbse slash syllab...</td>\n",
              "      <td>nation</td>\n",
              "      <td>12</td>\n",
              "      <td>4</td>\n",
              "    </tr>\n",
              "    <tr>\n",
              "      <th>5</th>\n",
              "      <td>5</td>\n",
              "      <td>5</td>\n",
              "      <td>5f04e4a1ef217aae6a201f76</td>\n",
              "      <td>[\"National\"]</td>\n",
              "      <td>[\"Andhra Pradesh police arrested 12 employees ...</td>\n",
              "      <td>andhra pradesh polic arrest employe polym incl...</td>\n",
              "      <td>nation</td>\n",
              "      <td>2</td>\n",
              "      <td>7</td>\n",
              "    </tr>\n",
              "    <tr>\n",
              "      <th>6</th>\n",
              "      <td>6</td>\n",
              "      <td>6</td>\n",
              "      <td>5f04e4a3ef217aae6a201f77</td>\n",
              "      <td>[\"National\"]</td>\n",
              "      <td>[\"Vaccine maker Serum Institute of India (SII)...</td>\n",
              "      <td>vaccin maker serum institut india hop develop ...</td>\n",
              "      <td>nation</td>\n",
              "      <td>8</td>\n",
              "      <td>12</td>\n",
              "    </tr>\n",
              "    <tr>\n",
              "      <th>8</th>\n",
              "      <td>8</td>\n",
              "      <td>8</td>\n",
              "      <td>5f04e4a8ef217aae6a201f79</td>\n",
              "      <td>[\"National\"]</td>\n",
              "      <td>[\"India remains cautious as China has not yet ...</td>\n",
              "      <td>india remain cautious china show sign thin lar...</td>\n",
              "      <td>nation</td>\n",
              "      <td>9</td>\n",
              "      <td>15</td>\n",
              "    </tr>\n",
              "    <tr>\n",
              "      <th>...</th>\n",
              "      <td>...</td>\n",
              "      <td>...</td>\n",
              "      <td>...</td>\n",
              "      <td>...</td>\n",
              "      <td>...</td>\n",
              "      <td>...</td>\n",
              "      <td>...</td>\n",
              "      <td>...</td>\n",
              "      <td>...</td>\n",
              "    </tr>\n",
              "    <tr>\n",
              "      <th>1182</th>\n",
              "      <td>1182</td>\n",
              "      <td>1259</td>\n",
              "      <td>5f230beffefd329f4a3d0d7a</td>\n",
              "      <td>[\"Nation\"]</td>\n",
              "      <td>[\"The Ministry of Home Affairs on Wednesday ex...</td>\n",
              "      <td>ministri home affair wednesday extend lockdown...</td>\n",
              "      <td>nation</td>\n",
              "      <td>2</td>\n",
              "      <td>7</td>\n",
              "    </tr>\n",
              "    <tr>\n",
              "      <th>1183</th>\n",
              "      <td>1183</td>\n",
              "      <td>1260</td>\n",
              "      <td>5f230bf2fefd329f4a3d0d7b</td>\n",
              "      <td>[\"Nation\"]</td>\n",
              "      <td>[\"New Delhi:\",\" Sushant Singh Rajput's father ...</td>\n",
              "      <td>delhi sushant singh rajput father thursday fil...</td>\n",
              "      <td>nation</td>\n",
              "      <td>1</td>\n",
              "      <td>18</td>\n",
              "    </tr>\n",
              "    <tr>\n",
              "      <th>1185</th>\n",
              "      <td>1185</td>\n",
              "      <td>1262</td>\n",
              "      <td>5f230bf6fefd329f4a3d0d7d</td>\n",
              "      <td>[\"Nation\"]</td>\n",
              "      <td>[\"New Delhi: \",\"The CBI has booked four Navy o...</td>\n",
              "      <td>delhi book navi offic alleg generat fake bill ...</td>\n",
              "      <td>nation</td>\n",
              "      <td>2</td>\n",
              "      <td>7</td>\n",
              "    </tr>\n",
              "    <tr>\n",
              "      <th>1186</th>\n",
              "      <td>1186</td>\n",
              "      <td>1263</td>\n",
              "      <td>5f230bf9fefd329f4a3d0d7e</td>\n",
              "      <td>[\"Nation\"]</td>\n",
              "      <td>[\"The Centre on Wednesday took a huge step tow...</td>\n",
              "      <td>centr wednesday take huge step wean india away...</td>\n",
              "      <td>nation</td>\n",
              "      <td>12</td>\n",
              "      <td>4</td>\n",
              "    </tr>\n",
              "    <tr>\n",
              "      <th>1187</th>\n",
              "      <td>1187</td>\n",
              "      <td>1264</td>\n",
              "      <td>5f230bfcfefd329f4a3d0d7f</td>\n",
              "      <td>[\"Nation\"]</td>\n",
              "      <td>[\"Jaipur:\",\" The deadlock over convening the R...</td>\n",
              "      <td>jaipur deadlock conven rajasthan assembl end w...</td>\n",
              "      <td>nation</td>\n",
              "      <td>16</td>\n",
              "      <td>8</td>\n",
              "    </tr>\n",
              "  </tbody>\n",
              "</table>\n",
              "<p>328 rows × 9 columns</p>\n",
              "</div>"
            ],
            "text/plain": [
              "      Unnamed: 0  Unnamed: 0.1  ... cluster_sc cluster_rsc\n",
              "0              0             0  ...          2           7\n",
              "2              2             2  ...         12           4\n",
              "5              5             5  ...          2           7\n",
              "6              6             6  ...          8          12\n",
              "8              8             8  ...          9          15\n",
              "...          ...           ...  ...        ...         ...\n",
              "1182        1182          1259  ...          2           7\n",
              "1183        1183          1260  ...          1          18\n",
              "1185        1185          1262  ...          2           7\n",
              "1186        1186          1263  ...         12           4\n",
              "1187        1187          1264  ...         16           8\n",
              "\n",
              "[328 rows x 9 columns]"
            ]
          },
          "metadata": {
            "tags": []
          },
          "execution_count": 43
        }
      ]
    },
    {
      "cell_type": "code",
      "metadata": {
        "id": "5F2N0zmV_iVo",
        "colab_type": "code",
        "colab": {
          "base_uri": "https://localhost:8080/",
          "height": 738
        },
        "outputId": "68b96318-7873-42f8-8930-feaf8b2724e5"
      },
      "source": [
        "#No. of contents in each category\n",
        "count_df = pd.DataFrame(data_all['cluster_rsc'].value_counts()).reset_index()\n",
        "print('There are', len(count_df), 'news categories')\n",
        "\n",
        "sns.set_style('darkgrid')\n",
        "plt.figure(figsize=(10, 12))\n",
        "sns.barplot(data=count_df, y='cluster_rsc', x='index', palette='Dark2')\n",
        "plt.title('No. news in each category', loc='left', fontsize=20)\n",
        "plt.xlabel(\"\")\n",
        "plt.ylabel(\"\")\n",
        "plt.show()"
      ],
      "execution_count": 37,
      "outputs": [
        {
          "output_type": "stream",
          "text": [
            "There are 20 news categories\n"
          ],
          "name": "stdout"
        },
        {
          "output_type": "display_data",
          "data": {
            "image/png": "[encoded data removed]",
            "text/plain": [
              "<Figure size 720x864 with 1 Axes>"
            ]
          },
          "metadata": {
            "tags": []
          }
        }
      ]
    },
    {
      "cell_type": "code",
      "metadata": {
        "id": "2qsCOQHCAyKX",
        "colab_type": "code",
        "colab": {
          "base_uri": "https://localhost:8080/",
          "height": 586
        },
        "outputId": "5021e7a5-851f-4464-e26f-5836006d3370"
      },
      "source": [
        "data_all[data_all.cluster_rsc == 7]"
      ],
      "execution_count": 41,
      "outputs": [
        {
          "output_type": "execute_result",
          "data": {
            "text/html": [
              "<div>\n",
              "<style scoped>\n",
              "    .dataframe tbody tr th:only-of-type {\n",
              "        vertical-align: middle;\n",
              "    }\n",
              "\n",
              "    .dataframe tbody tr th {\n",
              "        vertical-align: top;\n",
              "    }\n",
              "\n",
              "    .dataframe thead th {\n",
              "        text-align: right;\n",
              "    }\n",
              "</style>\n",
              "<table border=\"1\" class=\"dataframe\">\n",
              "  <thead>\n",
              "    <tr style=\"text-align: right;\">\n",
              "      <th></th>\n",
              "      <th>Unnamed: 0</th>\n",
              "      <th>Unnamed: 0.1</th>\n",
              "      <th>_id</th>\n",
              "      <th>topic</th>\n",
              "      <th>content</th>\n",
              "      <th>processed_content</th>\n",
              "      <th>processed_topic</th>\n",
              "      <th>cluster_sc</th>\n",
              "      <th>cluster_rsc</th>\n",
              "    </tr>\n",
              "  </thead>\n",
              "  <tbody>\n",
              "    <tr>\n",
              "      <th>0</th>\n",
              "      <td>0</td>\n",
              "      <td>0</td>\n",
              "      <td>5f04e496ef217aae6a201f71</td>\n",
              "      <td>[\"National\"]</td>\n",
              "      <td>[\"The West Bengal government on Tuesday decide...</td>\n",
              "      <td>west bengal govern tuesday decid impos complet...</td>\n",
              "      <td>nation</td>\n",
              "      <td>2</td>\n",
              "      <td>7</td>\n",
              "    </tr>\n",
              "    <tr>\n",
              "      <th>3</th>\n",
              "      <td>3</td>\n",
              "      <td>3</td>\n",
              "      <td>5f04e49def217aae6a201f74</td>\n",
              "      <td>[\"International\"]</td>\n",
              "      <td>[\"The World Health Organization on Tuesday ack...</td>\n",
              "      <td>world health organ tuesday acknowledg emerg ev...</td>\n",
              "      <td>intern</td>\n",
              "      <td>2</td>\n",
              "      <td>7</td>\n",
              "    </tr>\n",
              "    <tr>\n",
              "      <th>5</th>\n",
              "      <td>5</td>\n",
              "      <td>5</td>\n",
              "      <td>5f04e4a1ef217aae6a201f76</td>\n",
              "      <td>[\"National\"]</td>\n",
              "      <td>[\"Andhra Pradesh police arrested 12 employees ...</td>\n",
              "      <td>andhra pradesh polic arrest employe polym incl...</td>\n",
              "      <td>nation</td>\n",
              "      <td>2</td>\n",
              "      <td>7</td>\n",
              "    </tr>\n",
              "    <tr>\n",
              "      <th>7</th>\n",
              "      <td>7</td>\n",
              "      <td>7</td>\n",
              "      <td>5f04e4a5ef217aae6a201f78</td>\n",
              "      <td>[\"International\"]</td>\n",
              "      <td>[\"Brazil's President Jair Bolsonaro says he ha...</td>\n",
              "      <td>brazil presid jair bolsonaro say test posit co...</td>\n",
              "      <td>intern</td>\n",
              "      <td>2</td>\n",
              "      <td>7</td>\n",
              "    </tr>\n",
              "    <tr>\n",
              "      <th>9</th>\n",
              "      <td>9</td>\n",
              "      <td>9</td>\n",
              "      <td>5f04e4abef217aae6a201f7a</td>\n",
              "      <td>[\"National\"]</td>\n",
              "      <td>[\"In a trend that compounds concern, the total...</td>\n",
              "      <td>trend compound concern total number covid case...</td>\n",
              "      <td>nation</td>\n",
              "      <td>2</td>\n",
              "      <td>7</td>\n",
              "    </tr>\n",
              "    <tr>\n",
              "      <th>...</th>\n",
              "      <td>...</td>\n",
              "      <td>...</td>\n",
              "      <td>...</td>\n",
              "      <td>...</td>\n",
              "      <td>...</td>\n",
              "      <td>...</td>\n",
              "      <td>...</td>\n",
              "      <td>...</td>\n",
              "      <td>...</td>\n",
              "    </tr>\n",
              "    <tr>\n",
              "      <th>2144</th>\n",
              "      <td>2186</td>\n",
              "      <td>2852</td>\n",
              "      <td>5f04c5af2ba198f21c82c4ac</td>\n",
              "      <td>[\"world\"]</td>\n",
              "      <td>[\"The United States passed another grim corona...</td>\n",
              "      <td>unit state pass grim coronavirus mileston mond...</td>\n",
              "      <td>world</td>\n",
              "      <td>2</td>\n",
              "      <td>7</td>\n",
              "    </tr>\n",
              "    <tr>\n",
              "      <th>2145</th>\n",
              "      <td>2187</td>\n",
              "      <td>2853</td>\n",
              "      <td>5f04c5b12ba198f21c82c4ad</td>\n",
              "      <td>[\"world\"]</td>\n",
              "      <td>[\"The death toll due to the torrential rain in...</td>\n",
              "      <td>death toll torrenti rain japan kyushu region c...</td>\n",
              "      <td>world</td>\n",
              "      <td>2</td>\n",
              "      <td>7</td>\n",
              "    </tr>\n",
              "    <tr>\n",
              "      <th>2146</th>\n",
              "      <td>2188</td>\n",
              "      <td>2854</td>\n",
              "      <td>5f04c5b42ba198f21c82c4ae</td>\n",
              "      <td>[\"Cities\"]</td>\n",
              "      <td>[\"Hoteliers in Himachal Pradesh are divided ov...</td>\n",
              "      <td>hoteli himach pradesh divid open border touris...</td>\n",
              "      <td>citi</td>\n",
              "      <td>2</td>\n",
              "      <td>7</td>\n",
              "    </tr>\n",
              "    <tr>\n",
              "      <th>2147</th>\n",
              "      <td>2189</td>\n",
              "      <td>2855</td>\n",
              "      <td>5f04c5b62ba198f21c82c4af</td>\n",
              "      <td>[\"Cities\"]</td>\n",
              "      <td>[\"Himachal Pradesh State level Single Window M...</td>\n",
              "      <td>himach pradesh state level singl window monito...</td>\n",
              "      <td>citi</td>\n",
              "      <td>2</td>\n",
              "      <td>7</td>\n",
              "    </tr>\n",
              "    <tr>\n",
              "      <th>2151</th>\n",
              "      <td>2193</td>\n",
              "      <td>2859</td>\n",
              "      <td>5f04c5c02ba198f21c82c4b3</td>\n",
              "      <td>[\"Coronavirus\"]</td>\n",
              "      <td>[\"Delhi Chief Minister Arvind Kejriwal on Mond...</td>\n",
              "      <td>delhi chief minist arvind kejriw monday appeal...</td>\n",
              "      <td>coronavirus</td>\n",
              "      <td>2</td>\n",
              "      <td>7</td>\n",
              "    </tr>\n",
              "  </tbody>\n",
              "</table>\n",
              "<p>787 rows × 9 columns</p>\n",
              "</div>"
            ],
            "text/plain": [
              "      Unnamed: 0  Unnamed: 0.1  ... cluster_sc cluster_rsc\n",
              "0              0             0  ...          2           7\n",
              "3              3             3  ...          2           7\n",
              "5              5             5  ...          2           7\n",
              "7              7             7  ...          2           7\n",
              "9              9             9  ...          2           7\n",
              "...          ...           ...  ...        ...         ...\n",
              "2144        2186          2852  ...          2           7\n",
              "2145        2187          2853  ...          2           7\n",
              "2146        2188          2854  ...          2           7\n",
              "2147        2189          2855  ...          2           7\n",
              "2151        2193          2859  ...          2           7\n",
              "\n",
              "[787 rows x 9 columns]"
            ]
          },
          "metadata": {
            "tags": []
          },
          "execution_count": 41
        }
      ]
    },
    {
      "cell_type": "code",
      "metadata": {
        "id": "kjInAY-XBEtf",
        "colab_type": "code",
        "colab": {}
      },
      "source": [
        ""
      ],
      "execution_count": null,
      "outputs": []
    }
  ]
}