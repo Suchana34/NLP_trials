{
  "nbformat": 4,
  "nbformat_minor": 0,
  "metadata": {
    "colab": {
      "name": "Data_preprocessing_gcjc.ipynb",
      "provenance": []
    },
    "kernelspec": {
      "name": "python3",
      "display_name": "Python 3"
    }
  },
  "cells": [
    {
      "cell_type": "code",
      "metadata": {
        "id": "KiqQ49Hglyyv",
        "colab_type": "code",
        "colab": {}
      },
      "source": [
        "#text clustering\n",
        "import pandas as pd\n",
        "import numpy as np\n",
        "from sklearn.cluster import MiniBatchKMeans\n",
        "from sklearn.feature_extraction.text import TfidfVectorizer\n",
        "from sklearn.decomposition import PCA\n",
        "import matplotlib.pyplot as plt"
      ],
      "execution_count": 1,
      "outputs": []
    },
    {
      "cell_type": "code",
      "metadata": {
        "id": "0Vsb2cG5OZKd",
        "colab_type": "code",
        "colab": {}
      },
      "source": [
        "from google.colab import drive\n",
        "drive.mount('/content/drive')"
      ],
      "execution_count": null,
      "outputs": []
    },
    {
      "cell_type": "code",
      "metadata": {
        "id": "463XZ48mMahK",
        "colab_type": "code",
        "colab": {
          "base_uri": "https://localhost:8080/",
          "height": 195
        },
        "outputId": "f68b8735-78c1-45b4-c233-ba718300133c"
      },
      "source": [
        "df = pd.read_csv('/content/drive/My Drive/all_news_Set2.csv')\n",
        "df.head()"
      ],
      "execution_count": 3,
      "outputs": [
        {
          "output_type": "execute_result",
          "data": {
            "text/html": [
              "<div>\n",
              "<style scoped>\n",
              "    .dataframe tbody tr th:only-of-type {\n",
              "        vertical-align: middle;\n",
              "    }\n",
              "\n",
              "    .dataframe tbody tr th {\n",
              "        vertical-align: top;\n",
              "    }\n",
              "\n",
              "    .dataframe thead th {\n",
              "        text-align: right;\n",
              "    }\n",
              "</style>\n",
              "<table border=\"1\" class=\"dataframe\">\n",
              "  <thead>\n",
              "    <tr style=\"text-align: right;\">\n",
              "      <th></th>\n",
              "      <th>_id</th>\n",
              "      <th>topic</th>\n",
              "      <th>content</th>\n",
              "    </tr>\n",
              "  </thead>\n",
              "  <tbody>\n",
              "    <tr>\n",
              "      <th>0</th>\n",
              "      <td>5f04e496ef217aae6a201f71</td>\n",
              "      <td>[\"National\"]</td>\n",
              "      <td>[\"The West Bengal government on Tuesday decide...</td>\n",
              "    </tr>\n",
              "    <tr>\n",
              "      <th>1</th>\n",
              "      <td>5f04e498ef217aae6a201f72</td>\n",
              "      <td>[\"Business\"]</td>\n",
              "      <td>[\"The government is weighing the pros and cons...</td>\n",
              "    </tr>\n",
              "    <tr>\n",
              "      <th>2</th>\n",
              "      <td>5f04e49aef217aae6a201f73</td>\n",
              "      <td>[\"National\"]</td>\n",
              "      <td>[\"The Central Board of Secondary Education (CB...</td>\n",
              "    </tr>\n",
              "    <tr>\n",
              "      <th>3</th>\n",
              "      <td>5f04e49def217aae6a201f74</td>\n",
              "      <td>[\"International\"]</td>\n",
              "      <td>[\"The World Health Organization on Tuesday ack...</td>\n",
              "    </tr>\n",
              "    <tr>\n",
              "      <th>4</th>\n",
              "      <td>5f04e49fef217aae6a201f75</td>\n",
              "      <td>[\"International\"]</td>\n",
              "      <td>[\"President Donald Trump on Tuesday formally s...</td>\n",
              "    </tr>\n",
              "  </tbody>\n",
              "</table>\n",
              "</div>"
            ],
            "text/plain": [
              "                        _id  ...                                            content\n",
              "0  5f04e496ef217aae6a201f71  ...  [\"The West Bengal government on Tuesday decide...\n",
              "1  5f04e498ef217aae6a201f72  ...  [\"The government is weighing the pros and cons...\n",
              "2  5f04e49aef217aae6a201f73  ...  [\"The Central Board of Secondary Education (CB...\n",
              "3  5f04e49def217aae6a201f74  ...  [\"The World Health Organization on Tuesday ack...\n",
              "4  5f04e49fef217aae6a201f75  ...  [\"President Donald Trump on Tuesday formally s...\n",
              "\n",
              "[5 rows x 3 columns]"
            ]
          },
          "metadata": {
            "tags": []
          },
          "execution_count": 3
        }
      ]
    },
    {
      "cell_type": "code",
      "metadata": {
        "id": "NOdATRevPHIV",
        "colab_type": "code",
        "colab": {
          "base_uri": "https://localhost:8080/",
          "height": 34
        },
        "outputId": "7e601aa8-e6df-45e7-eac5-f894147192b3"
      },
      "source": [
        "df.shape"
      ],
      "execution_count": 4,
      "outputs": [
        {
          "output_type": "execute_result",
          "data": {
            "text/plain": [
              "(3336, 3)"
            ]
          },
          "metadata": {
            "tags": []
          },
          "execution_count": 4
        }
      ]
    },
    {
      "cell_type": "code",
      "metadata": {
        "id": "uYyUCin1iS3R",
        "colab_type": "code",
        "colab": {
          "base_uri": "https://localhost:8080/",
          "height": 34
        },
        "outputId": "8838a78b-56b0-4fa3-fb8c-cc7acfebf682"
      },
      "source": [
        "df.topic.nunique()"
      ],
      "execution_count": 5,
      "outputs": [
        {
          "output_type": "execute_result",
          "data": {
            "text/plain": [
              "68"
            ]
          },
          "metadata": {
            "tags": []
          },
          "execution_count": 5
        }
      ]
    },
    {
      "cell_type": "code",
      "metadata": {
        "id": "u_YxFrHBgvH7",
        "colab_type": "code",
        "colab": {
          "base_uri": "https://localhost:8080/",
          "height": 34
        },
        "outputId": "dcc4c673-7053-4050-f4c3-749ced2ee511"
      },
      "source": [
        "df.topic.isnull().sum()"
      ],
      "execution_count": 6,
      "outputs": [
        {
          "output_type": "execute_result",
          "data": {
            "text/plain": [
              "1096"
            ]
          },
          "metadata": {
            "tags": []
          },
          "execution_count": 6
        }
      ]
    },
    {
      "cell_type": "code",
      "metadata": {
        "id": "CT8818XEhTSO",
        "colab_type": "code",
        "colab": {}
      },
      "source": [
        "df = df[df['content'].notna()]\n",
        "df = df[df['topic'].notna()]"
      ],
      "execution_count": 8,
      "outputs": []
    },
    {
      "cell_type": "code",
      "metadata": {
        "id": "T9OeZabJP8AK",
        "colab_type": "code",
        "colab": {
          "base_uri": "https://localhost:8080/",
          "height": 84
        },
        "outputId": "932a0e3c-b6d2-440f-c96b-3aad27d59bda"
      },
      "source": [
        "import nltk\n",
        "nltk.download('wordnet')\n",
        "nltk.download('stopwords')\n",
        "import gensim\n",
        "from gensim.utils import simple_preprocess\n",
        "from gensim.models import CoherenceModel\n",
        "from gensim.parsing.preprocessing import STOPWORDS\n",
        "from nltk.stem import WordNetLemmatizer, SnowballStemmer\n",
        "from nltk.stem.porter import *\n",
        "import numpy as np\n",
        "import re"
      ],
      "execution_count": 9,
      "outputs": [
        {
          "output_type": "stream",
          "text": [
            "[nltk_data] Downloading package wordnet to /root/nltk_data...\n",
            "[nltk_data]   Unzipping corpora/wordnet.zip.\n",
            "[nltk_data] Downloading package stopwords to /root/nltk_data...\n",
            "[nltk_data]   Unzipping corpora/stopwords.zip.\n"
          ],
          "name": "stdout"
        }
      ]
    },
    {
      "cell_type": "code",
      "metadata": {
        "id": "gB7bRz4NP77F",
        "colab_type": "code",
        "colab": {}
      },
      "source": [
        "# data preprocessing\n",
        "stemmer = SnowballStemmer(language='english',ignore_stopwords=True)\n",
        "def lemmatize_stemming(text):\n",
        "    return stemmer.stem(WordNetLemmatizer().lemmatize(text, pos='v'))\n",
        "def preprocess(text):\n",
        "    result = []\n",
        "    for token in gensim.utils.simple_preprocess(text):\n",
        "        if token not in gensim.parsing.preprocessing.STOPWORDS and len(token) > 3:\n",
        "            result.append(lemmatize_stemming(token))\n",
        "    return result"
      ],
      "execution_count": 10,
      "outputs": []
    },
    {
      "cell_type": "code",
      "metadata": {
        "id": "MB2SeQCtQ0-s",
        "colab_type": "code",
        "colab": {
          "base_uri": "https://localhost:8080/",
          "height": 138
        },
        "outputId": "348183af-df7d-44de-e67d-ab13caab0c8c"
      },
      "source": [
        "# preview after preprocessing\n",
        "doc_sample = df.content[1]\n",
        "print('original document: ')\n",
        "words = []\n",
        "for word in doc_sample.split(' '):\n",
        "    words.append(word)\n",
        "print(words)\n",
        "print('\\n\\n tokenized and lemmatized document: ')\n",
        "print(preprocess(doc_sample))"
      ],
      "execution_count": 11,
      "outputs": [
        {
          "output_type": "stream",
          "text": [
            "original document: \n",
            "['[\"The', 'government', 'is', 'weighing', 'the', 'pros', 'and', 'cons', 'of', 'halting', 'imports,', 'including', 'that', 'from', 'China,', 'on', 'India’s', 'manufacturing', 'sector', 'and', 'the', 'commerce', 'ministry', 'will', 'soon', 'submit', 'to', 'the', 'prime', 'minister’s', 'office', 'a', 'list', 'of', 'items', 'of', 'inward', 'shipments', 'that', 'can', 'be', 'restricted', 'in', 'the', 'near', 'future', 'without', 'impacting', 'domestic', 'manufacturing.\",\"The', 'government', 'has', 'held', 'various', 'meetings', 'in', 'the', 'past', 'two', 'weeks', 'with', 'sectoral', 'experts', 'and', 'businesses', 'and', 'is', 'now', 'preparing', 'an', 'official', 'list', 'of', 'commodities', 'that', 'can', 'be', 'locally', 'manufactured,', 'an', 'official', 'said,', 'adding', 'that', 'ample', 'caution', 'will', 'be', 'maintained', 'before', 'taking', 'any', 'decision', 'even', 'as', 'voices', 'against', 'Chinese', 'goods', 'have', 'been', 'gaining', 'momentum.\",\"The', 'Confederation', 'of', 'All', 'India', 'Traders', '(CAIT),', 'the', 'apex', 'body', 'of', 'approximately', 'of', 'over', 'six', 'crore', 'traders', 'has', 'been', 'vociferously', 'campaigning', 'against', 'Chinese', 'products', 'and', 'in', 'its', 'latest', 'call', 'announced', 'that', 'it', 'will', 'not', 'use', 'Zoom', 'video', 'conferencing', 'application', 'as', 'part', 'of', 'its', 'broader', 'boycott', 'of', 'Chinese', 'goods.\",\"Meanwhile,', 'the', 'government', 'is', 'preparing', 'for', 'a', 'transformational', 'shift', 'in', 'six', 'big', 'areas', 'of', 'ease', 'of', 'doing', 'business,', 'logistics,', 'land', 'bank,', 'Special', 'Economic', 'Zones', 'and', 'power', 'sector', 'to', 'give', 'a', 'tough', 'competition', 'to', 'China,', 'the', 'official', 'said.\",\"A', 'new', 'foreign', 'direct', 'investment', '(FDI)', 'policy', 'is', 'expected', 'to', 'be', 'released', 'soon', 'aiming', 'to', 'curb', 'low', 'grade', 'imports.', 'India', 'had', 'tightened', 'its', 'FDI', 'policy', 'in', 'April', 'to', 'curb', 'opportunistic', 'takeovers', 'of', 'Indian', 'companies,', 'by', 'stipulating', 'that', 'all', 'such', 'proposals', 'from', 'bordering', 'nations', 'would', 'require', 'government', 'clearance.\",\"The', 'share', 'of', 'manufacturing', 'in', 'India’s', 'GDP', 'will', 'be', 'increased', 'to', '$1', 'trillion', 'or', 'more', 'than', 'double', 'from', 'the', 'existing', '$0.39', 'trillion.\",\"“The', 'trade', 'and', 'economic', 'fundamentals', 'will', 'be', 'made', 'stronger', 'before', 'a', 'clamp', 'down', 'on', 'imports,”', 'the', 'official', 'said.\"]']\n",
            "\n",
            "\n",
            " tokenized and lemmatized document: \n",
            "['govern', 'weigh', 'pros', 'con', 'halt', 'import', 'includ', 'china', 'india', 'manufactur', 'sector', 'commerc', 'ministri', 'soon', 'submit', 'prime', 'minist', 'offic', 'list', 'item', 'inward', 'shipment', 'restrict', 'near', 'futur', 'impact', 'domest', 'manufactur', 'govern', 'hold', 'meet', 'past', 'week', 'sector', 'expert', 'busi', 'prepar', 'offici', 'list', 'commod', 'local', 'manufactur', 'offici', 'say', 'add', 'ampl', 'caution', 'maintain', 'take', 'decis', 'voic', 'chines', 'good', 'gain', 'momentum', 'confeder', 'india', 'trader', 'cait', 'apex', 'bodi', 'approxim', 'crore', 'trader', 'vocifer', 'campaign', 'chines', 'product', 'latest', 'announc', 'zoom', 'video', 'conferenc', 'applic', 'broader', 'boycott', 'chines', 'good', 'govern', 'prepar', 'shift', 'area', 'eas', 'busi', 'logist', 'land', 'bank', 'special', 'econom', 'zone', 'power', 'sector', 'tough', 'competit', 'china', 'offici', 'say', 'foreign', 'direct', 'invest', 'polici', 'expect', 'releas', 'soon', 'aim', 'curb', 'grade', 'import', 'india', 'tighten', 'polici', 'april', 'curb', 'opportunist', 'takeov', 'indian', 'compani', 'stipul', 'propos', 'border', 'nation', 'requir', 'govern', 'clearanc', 'share', 'manufactur', 'india', 'increas', 'trillion', 'doubl', 'exist', 'trillion', 'trade', 'econom', 'fundament', 'stronger', 'clamp', 'import', 'offici', 'say']\n"
          ],
          "name": "stdout"
        }
      ]
    },
    {
      "cell_type": "code",
      "metadata": {
        "id": "28wiupn6Q070",
        "colab_type": "code",
        "colab": {
          "base_uri": "https://localhost:8080/",
          "height": 195
        },
        "outputId": "5566a020-ebea-450d-d8a1-2ac24ee23af4"
      },
      "source": [
        "\n",
        "df['processed_topic'] = df1['topic'].map(preprocess)\n",
        "df['processed_content'] = df['content'].map(preprocess)\n",
        "\n",
        "df['processed_topic'] = df['processed_topic'].apply(lambda x: ' '.join(x))\n",
        "df['processed_content'] = df['processed_content'].apply(lambda x: ' '.join(x))\n",
        "df.head()"
      ],
      "execution_count": 13,
      "outputs": [
        {
          "output_type": "execute_result",
          "data": {
            "text/html": [
              "<div>\n",
              "<style scoped>\n",
              "    .dataframe tbody tr th:only-of-type {\n",
              "        vertical-align: middle;\n",
              "    }\n",
              "\n",
              "    .dataframe tbody tr th {\n",
              "        vertical-align: top;\n",
              "    }\n",
              "\n",
              "    .dataframe thead th {\n",
              "        text-align: right;\n",
              "    }\n",
              "</style>\n",
              "<table border=\"1\" class=\"dataframe\">\n",
              "  <thead>\n",
              "    <tr style=\"text-align: right;\">\n",
              "      <th></th>\n",
              "      <th>_id</th>\n",
              "      <th>topic</th>\n",
              "      <th>content</th>\n",
              "      <th>processed_topic</th>\n",
              "      <th>processed_content</th>\n",
              "    </tr>\n",
              "  </thead>\n",
              "  <tbody>\n",
              "    <tr>\n",
              "      <th>0</th>\n",
              "      <td>5f04e496ef217aae6a201f71</td>\n",
              "      <td>[\"National\"]</td>\n",
              "      <td>[\"The West Bengal government on Tuesday decide...</td>\n",
              "      <td>nation</td>\n",
              "      <td>west bengal govern tuesday decid impos complet...</td>\n",
              "    </tr>\n",
              "    <tr>\n",
              "      <th>1</th>\n",
              "      <td>5f04e498ef217aae6a201f72</td>\n",
              "      <td>[\"Business\"]</td>\n",
              "      <td>[\"The government is weighing the pros and cons...</td>\n",
              "      <td>busi</td>\n",
              "      <td>govern weigh pros con halt import includ china...</td>\n",
              "    </tr>\n",
              "    <tr>\n",
              "      <th>2</th>\n",
              "      <td>5f04e49aef217aae6a201f73</td>\n",
              "      <td>[\"National\"]</td>\n",
              "      <td>[\"The Central Board of Secondary Education (CB...</td>\n",
              "      <td>nation</td>\n",
              "      <td>central board secondari educ cbse slash syllab...</td>\n",
              "    </tr>\n",
              "    <tr>\n",
              "      <th>3</th>\n",
              "      <td>5f04e49def217aae6a201f74</td>\n",
              "      <td>[\"International\"]</td>\n",
              "      <td>[\"The World Health Organization on Tuesday ack...</td>\n",
              "      <td>intern</td>\n",
              "      <td>world health organ tuesday acknowledg emerg ev...</td>\n",
              "    </tr>\n",
              "    <tr>\n",
              "      <th>4</th>\n",
              "      <td>5f04e49fef217aae6a201f75</td>\n",
              "      <td>[\"International\"]</td>\n",
              "      <td>[\"President Donald Trump on Tuesday formally s...</td>\n",
              "      <td>intern</td>\n",
              "      <td>presid donald trump tuesday formal start withd...</td>\n",
              "    </tr>\n",
              "  </tbody>\n",
              "</table>\n",
              "</div>"
            ],
            "text/plain": [
              "                        _id  ...                                  processed_content\n",
              "0  5f04e496ef217aae6a201f71  ...  west bengal govern tuesday decid impos complet...\n",
              "1  5f04e498ef217aae6a201f72  ...  govern weigh pros con halt import includ china...\n",
              "2  5f04e49aef217aae6a201f73  ...  central board secondari educ cbse slash syllab...\n",
              "3  5f04e49def217aae6a201f74  ...  world health organ tuesday acknowledg emerg ev...\n",
              "4  5f04e49fef217aae6a201f75  ...  presid donald trump tuesday formal start withd...\n",
              "\n",
              "[5 rows x 5 columns]"
            ]
          },
          "metadata": {
            "tags": []
          },
          "execution_count": 13
        }
      ]
    },
    {
      "cell_type": "code",
      "metadata": {
        "id": "rmNpHdxLQMss",
        "colab_type": "code",
        "colab": {}
      },
      "source": [
        ""
      ],
      "execution_count": null,
      "outputs": []
    },
    {
      "cell_type": "markdown",
      "metadata": {
        "id": "eo6Hwvn4QP89",
        "colab_type": "text"
      },
      "source": [
        "End of data preprocessing"
      ]
    },
    {
      "cell_type": "code",
      "metadata": {
        "id": "aXym9K2vQMpZ",
        "colab_type": "code",
        "colab": {}
      },
      "source": [
        ""
      ],
      "execution_count": null,
      "outputs": []
    },
    {
      "cell_type": "code",
      "metadata": {
        "id": "QKaELbjF1tsE",
        "colab_type": "code",
        "colab": {}
      },
      "source": [
        "#df.to_csv('/content/drive/My Drive/edited_topics_all_news_set2.csv')"
      ],
      "execution_count": null,
      "outputs": []
    },
    {
      "cell_type": "markdown",
      "metadata": {
        "id": "39waPSEFQA_J",
        "colab_type": "text"
      },
      "source": [
        "The Nouns from content for topic Modeling and storing in separate column"
      ]
    },
    {
      "cell_type": "code",
      "metadata": {
        "id": "uGwvOlNWMaSk",
        "colab_type": "code",
        "colab": {
          "base_uri": "https://localhost:8080/",
          "height": 279
        },
        "outputId": "f8b394de-588e-4c5f-a7d1-8b57e81302a6"
      },
      "source": [
        "#topic modelling\n",
        "import spacy\n",
        "nlp = spacy.load(\"en_core_web_sm\", disable=['parser', 'ner'])\n",
        "\n",
        "random_state = 0\n",
        "\n",
        "def only_nouns(texts):\n",
        "    output = []\n",
        "    for doc in nlp.pipe(texts):\n",
        "        noun_text = \" \".join(token.lemma_ for token in doc if token.pos_ == 'NOUN')\n",
        "        output.append(noun_text)\n",
        "    return output\n",
        "\n",
        "\n",
        "df['noun_content'] = only_nouns(df['content'])\n",
        "\n",
        "df.head()"
      ],
      "execution_count": 14,
      "outputs": [
        {
          "output_type": "execute_result",
          "data": {
            "text/html": [
              "<div>\n",
              "<style scoped>\n",
              "    .dataframe tbody tr th:only-of-type {\n",
              "        vertical-align: middle;\n",
              "    }\n",
              "\n",
              "    .dataframe tbody tr th {\n",
              "        vertical-align: top;\n",
              "    }\n",
              "\n",
              "    .dataframe thead th {\n",
              "        text-align: right;\n",
              "    }\n",
              "</style>\n",
              "<table border=\"1\" class=\"dataframe\">\n",
              "  <thead>\n",
              "    <tr style=\"text-align: right;\">\n",
              "      <th></th>\n",
              "      <th>_id</th>\n",
              "      <th>topic</th>\n",
              "      <th>content</th>\n",
              "      <th>processed_topic</th>\n",
              "      <th>processed_content</th>\n",
              "      <th>noun_content</th>\n",
              "    </tr>\n",
              "  </thead>\n",
              "  <tbody>\n",
              "    <tr>\n",
              "      <th>0</th>\n",
              "      <td>5f04e496ef217aae6a201f71</td>\n",
              "      <td>[\"National\"]</td>\n",
              "      <td>[\"The West Bengal government on Tuesday decide...</td>\n",
              "      <td>nation</td>\n",
              "      <td>west bengal govern tuesday decid impos complet...</td>\n",
              "      <td>government lockdown containment zone case casu...</td>\n",
              "    </tr>\n",
              "    <tr>\n",
              "      <th>1</th>\n",
              "      <td>5f04e498ef217aae6a201f72</td>\n",
              "      <td>[\"Business\"]</td>\n",
              "      <td>[\"The government is weighing the pros and cons...</td>\n",
              "      <td>busi</td>\n",
              "      <td>govern weigh pros con halt import includ china...</td>\n",
              "      <td>government pro con import manufacturing sector...</td>\n",
              "    </tr>\n",
              "    <tr>\n",
              "      <th>2</th>\n",
              "      <td>5f04e49aef217aae6a201f73</td>\n",
              "      <td>[\"National\"]</td>\n",
              "      <td>[\"The Central Board of Secondary Education (CB...</td>\n",
              "      <td>nation</td>\n",
              "      <td>central board secondari educ cbse slash syllab...</td>\n",
              "      <td>syllabus class third year country pandemic imp...</td>\n",
              "    </tr>\n",
              "    <tr>\n",
              "      <th>3</th>\n",
              "      <td>5f04e49def217aae6a201f74</td>\n",
              "      <td>[\"International\"]</td>\n",
              "      <td>[\"The World Health Organization on Tuesday ack...</td>\n",
              "      <td>intern</td>\n",
              "      <td>world health organ tuesday acknowledg emerg ev...</td>\n",
              "      <td>\\\"emerging evidence\\ spread group scientist bo...</td>\n",
              "    </tr>\n",
              "    <tr>\n",
              "      <th>4</th>\n",
              "      <td>5f04e49fef217aae6a201f75</td>\n",
              "      <td>[\"International\"]</td>\n",
              "      <td>[\"President Donald Trump on Tuesday formally s...</td>\n",
              "      <td>intern</td>\n",
              "      <td>presid donald trump tuesday formal start withd...</td>\n",
              "      <td>withdrawal threat body funding source response...</td>\n",
              "    </tr>\n",
              "  </tbody>\n",
              "</table>\n",
              "</div>"
            ],
            "text/plain": [
              "                        _id  ...                                       noun_content\n",
              "0  5f04e496ef217aae6a201f71  ...  government lockdown containment zone case casu...\n",
              "1  5f04e498ef217aae6a201f72  ...  government pro con import manufacturing sector...\n",
              "2  5f04e49aef217aae6a201f73  ...  syllabus class third year country pandemic imp...\n",
              "3  5f04e49def217aae6a201f74  ...  \\\"emerging evidence\\ spread group scientist bo...\n",
              "4  5f04e49fef217aae6a201f75  ...  withdrawal threat body funding source response...\n",
              "\n",
              "[5 rows x 6 columns]"
            ]
          },
          "metadata": {
            "tags": []
          },
          "execution_count": 14
        }
      ]
    },
    {
      "cell_type": "code",
      "metadata": {
        "id": "dm7KlwnGTApC",
        "colab_type": "code",
        "colab": {}
      },
      "source": [
        "# df.to_csv('/content/drive/My Drive/edited_topics_set2_with_noun_content.csv')"
      ],
      "execution_count": 15,
      "outputs": []
    },
    {
      "cell_type": "markdown",
      "metadata": {
        "id": "h5ZEiwSiP9ny",
        "colab_type": "text"
      },
      "source": [
        "To count total words in content\n"
      ]
    },
    {
      "cell_type": "code",
      "metadata": {
        "id": "DyrgcscsOq3O",
        "colab_type": "code",
        "colab": {
          "base_uri": "https://localhost:8080/",
          "height": 975
        },
        "outputId": "771f02ec-1294-4779-d5a5-e4617156d514"
      },
      "source": [
        "# to count words\n",
        "df['body_word_count'] = df['processed_content'].apply(lambda x: len(x.strip().split()))  # word count in abstract\n",
        "\n",
        "df['body_unique_words']=df['processed_content'].apply(lambda x:len(set(str(x).split())))  # number of unique words in body\n",
        "df.head(20)"
      ],
      "execution_count": 18,
      "outputs": [
        {
          "output_type": "execute_result",
          "data": {
            "text/html": [
              "<div>\n",
              "<style scoped>\n",
              "    .dataframe tbody tr th:only-of-type {\n",
              "        vertical-align: middle;\n",
              "    }\n",
              "\n",
              "    .dataframe tbody tr th {\n",
              "        vertical-align: top;\n",
              "    }\n",
              "\n",
              "    .dataframe thead th {\n",
              "        text-align: right;\n",
              "    }\n",
              "</style>\n",
              "<table border=\"1\" class=\"dataframe\">\n",
              "  <thead>\n",
              "    <tr style=\"text-align: right;\">\n",
              "      <th></th>\n",
              "      <th>_id</th>\n",
              "      <th>topic</th>\n",
              "      <th>content</th>\n",
              "      <th>processed_topic</th>\n",
              "      <th>processed_content</th>\n",
              "      <th>noun_content</th>\n",
              "      <th>body_word_count</th>\n",
              "      <th>body_unique_words</th>\n",
              "    </tr>\n",
              "  </thead>\n",
              "  <tbody>\n",
              "    <tr>\n",
              "      <th>0</th>\n",
              "      <td>5f04e496ef217aae6a201f71</td>\n",
              "      <td>[\"National\"]</td>\n",
              "      <td>[\"The West Bengal government on Tuesday decide...</td>\n",
              "      <td>nation</td>\n",
              "      <td>west bengal govern tuesday decid impos complet...</td>\n",
              "      <td>government lockdown containment zone case casu...</td>\n",
              "      <td>215</td>\n",
              "      <td>110</td>\n",
              "    </tr>\n",
              "    <tr>\n",
              "      <th>1</th>\n",
              "      <td>5f04e498ef217aae6a201f72</td>\n",
              "      <td>[\"Business\"]</td>\n",
              "      <td>[\"The government is weighing the pros and cons...</td>\n",
              "      <td>busi</td>\n",
              "      <td>govern weigh pros con halt import includ china...</td>\n",
              "      <td>government pro con import manufacturing sector...</td>\n",
              "      <td>140</td>\n",
              "      <td>109</td>\n",
              "    </tr>\n",
              "    <tr>\n",
              "      <th>2</th>\n",
              "      <td>5f04e49aef217aae6a201f73</td>\n",
              "      <td>[\"National\"]</td>\n",
              "      <td>[\"The Central Board of Secondary Education (CB...</td>\n",
              "      <td>nation</td>\n",
              "      <td>central board secondari educ cbse slash syllab...</td>\n",
              "      <td>syllabus class third year country pandemic imp...</td>\n",
              "      <td>143</td>\n",
              "      <td>110</td>\n",
              "    </tr>\n",
              "    <tr>\n",
              "      <th>3</th>\n",
              "      <td>5f04e49def217aae6a201f74</td>\n",
              "      <td>[\"International\"]</td>\n",
              "      <td>[\"The World Health Organization on Tuesday ack...</td>\n",
              "      <td>intern</td>\n",
              "      <td>world health organ tuesday acknowledg emerg ev...</td>\n",
              "      <td>\\\"emerging evidence\\ spread group scientist bo...</td>\n",
              "      <td>35</td>\n",
              "      <td>32</td>\n",
              "    </tr>\n",
              "    <tr>\n",
              "      <th>4</th>\n",
              "      <td>5f04e49fef217aae6a201f75</td>\n",
              "      <td>[\"International\"]</td>\n",
              "      <td>[\"President Donald Trump on Tuesday formally s...</td>\n",
              "      <td>intern</td>\n",
              "      <td>presid donald trump tuesday formal start withd...</td>\n",
              "      <td>withdrawal threat body funding source response...</td>\n",
              "      <td>320</td>\n",
              "      <td>203</td>\n",
              "    </tr>\n",
              "    <tr>\n",
              "      <th>5</th>\n",
              "      <td>5f04e4a1ef217aae6a201f76</td>\n",
              "      <td>[\"National\"]</td>\n",
              "      <td>[\"Andhra Pradesh police arrested 12 employees ...</td>\n",
              "      <td>nation</td>\n",
              "      <td>andhra pradesh polic arrest employe polym incl...</td>\n",
              "      <td>police employee director connection gas leak m...</td>\n",
              "      <td>166</td>\n",
              "      <td>126</td>\n",
              "    </tr>\n",
              "    <tr>\n",
              "      <th>6</th>\n",
              "      <td>5f04e4a3ef217aae6a201f77</td>\n",
              "      <td>[\"National\"]</td>\n",
              "      <td>[\"Vaccine maker Serum Institute of India (SII)...</td>\n",
              "      <td>nation</td>\n",
              "      <td>vaccin maker serum institut india hop develop ...</td>\n",
              "      <td>vaccine maker vaccine year end \\\"good safe\\ pr...</td>\n",
              "      <td>163</td>\n",
              "      <td>103</td>\n",
              "    </tr>\n",
              "    <tr>\n",
              "      <th>7</th>\n",
              "      <td>5f04e4a5ef217aae6a201f78</td>\n",
              "      <td>[\"International\"]</td>\n",
              "      <td>[\"Brazil's President Jair Bolsonaro says he ha...</td>\n",
              "      <td>intern</td>\n",
              "      <td>brazil presid jair bolsonaro say test posit co...</td>\n",
              "      <td>Covid-19 month virus severity test result mask...</td>\n",
              "      <td>187</td>\n",
              "      <td>136</td>\n",
              "    </tr>\n",
              "    <tr>\n",
              "      <th>8</th>\n",
              "      <td>5f04e4a8ef217aae6a201f79</td>\n",
              "      <td>[\"National\"]</td>\n",
              "      <td>[\"India remains cautious as China has not yet ...</td>\n",
              "      <td>nation</td>\n",
              "      <td>india remain cautious china show sign thin lar...</td>\n",
              "      <td>sign number troop area side boundary side line...</td>\n",
              "      <td>275</td>\n",
              "      <td>147</td>\n",
              "    </tr>\n",
              "    <tr>\n",
              "      <th>9</th>\n",
              "      <td>5f04e4abef217aae6a201f7a</td>\n",
              "      <td>[\"National\"]</td>\n",
              "      <td>[\"In a trend that compounds concern, the total...</td>\n",
              "      <td>nation</td>\n",
              "      <td>trend compound concern total number covid case...</td>\n",
              "      <td>trend concern number case virus province pande...</td>\n",
              "      <td>90</td>\n",
              "      <td>59</td>\n",
              "    </tr>\n",
              "    <tr>\n",
              "      <th>10</th>\n",
              "      <td>5f04e4acef217aae6a201f7b</td>\n",
              "      <td>[\"National\"]</td>\n",
              "      <td>[\"Prime Minister Narendra Modi will make a maj...</td>\n",
              "      <td>nation</td>\n",
              "      <td>prime minist narendra modi major worldwid addr...</td>\n",
              "      <td>address trade investment prospect event event ...</td>\n",
              "      <td>281</td>\n",
              "      <td>196</td>\n",
              "    </tr>\n",
              "    <tr>\n",
              "      <th>11</th>\n",
              "      <td>5f04e4aeef217aae6a201f7c</td>\n",
              "      <td>[\"National\"]</td>\n",
              "      <td>[\"A staggering 1.2 million Indians died from s...</td>\n",
              "      <td>nation</td>\n",
              "      <td>stagger million indian die snakebit year say s...</td>\n",
              "      <td>snakebite study snakebite death % death altitu...</td>\n",
              "      <td>207</td>\n",
              "      <td>145</td>\n",
              "    </tr>\n",
              "    <tr>\n",
              "      <th>12</th>\n",
              "      <td>5f04e4b1ef217aae6a201f7d</td>\n",
              "      <td>[\"National\"]</td>\n",
              "      <td>[\"The spread of the novel coronavirus in India...</td>\n",
              "      <td>nation</td>\n",
              "      <td>spread novel coronavirus india quicken day cas...</td>\n",
              "      <td>spread coronavirus day case Covid-19 death day...</td>\n",
              "      <td>104</td>\n",
              "      <td>68</td>\n",
              "    </tr>\n",
              "    <tr>\n",
              "      <th>13</th>\n",
              "      <td>5f04e4b4ef217aae6a201f7e</td>\n",
              "      <td>[\"Specials\"]</td>\n",
              "      <td>[\"World's leading smartphone-maker Samsung unv...</td>\n",
              "      <td>special</td>\n",
              "      <td>world lead smartphon maker samsung unveil gadg...</td>\n",
              "      <td>smartphone maker age gadget juice premium phon...</td>\n",
              "      <td>114</td>\n",
              "      <td>91</td>\n",
              "    </tr>\n",
              "    <tr>\n",
              "      <th>14</th>\n",
              "      <td>5f04e4b6ef217aae6a201f7f</td>\n",
              "      <td>[\"National\"]</td>\n",
              "      <td>[\"The Centre has urged states and Union Territ...</td>\n",
              "      <td>nation</td>\n",
              "      <td>centr urg state union territori place strength...</td>\n",
              "      <td>state place mechanism awareness concern people...</td>\n",
              "      <td>307</td>\n",
              "      <td>177</td>\n",
              "    </tr>\n",
              "    <tr>\n",
              "      <th>15</th>\n",
              "      <td>5f04e4b9ef217aae6a201f80</td>\n",
              "      <td>[\"Science and Environment\"]</td>\n",
              "      <td>[\"Pune-based Mylab Discovery Solutions on Tues...</td>\n",
              "      <td>scienc environ</td>\n",
              "      <td>pune base mylab discoveri solut tuesday launch...</td>\n",
              "      <td>machine process test test bench machine lab pr...</td>\n",
              "      <td>288</td>\n",
              "      <td>175</td>\n",
              "    </tr>\n",
              "    <tr>\n",
              "      <th>16</th>\n",
              "      <td>5f04e4bbef217aae6a201f81</td>\n",
              "      <td>[\"Specials\"]</td>\n",
              "      <td>[\"Pertaining to the Aatmanirbhar Bharat crusad...</td>\n",
              "      <td>special</td>\n",
              "      <td>pertain aatmanirbhar bharat crusad indian gove...</td>\n",
              "      <td>crusade government other app elyment app brain...</td>\n",
              "      <td>154</td>\n",
              "      <td>126</td>\n",
              "    </tr>\n",
              "    <tr>\n",
              "      <th>17</th>\n",
              "      <td>5f04e4beef217aae6a201f82</td>\n",
              "      <td>[\"Specials\"]</td>\n",
              "      <td>[\"After launching the affordable OnePlus U1, Y...</td>\n",
              "      <td>special</td>\n",
              "      <td>launch afford oneplus seri smart chines compan...</td>\n",
              "      <td>series tv company phone series week company la...</td>\n",
              "      <td>145</td>\n",
              "      <td>105</td>\n",
              "    </tr>\n",
              "    <tr>\n",
              "      <th>18</th>\n",
              "      <td>5f04e4c0ef217aae6a201f83</td>\n",
              "      <td>[\"Specials\"]</td>\n",
              "      <td>[\"After launching the feature-rich X2 series m...</td>\n",
              "      <td>special</td>\n",
              "      <td>launch featur rich seri mobil poco unveil rang...</td>\n",
              "      <td>feature series mobile range tone colorway shel...</td>\n",
              "      <td>138</td>\n",
              "      <td>113</td>\n",
              "    </tr>\n",
              "    <tr>\n",
              "      <th>19</th>\n",
              "      <td>5f04e4c2ef217aae6a201f84</td>\n",
              "      <td>[\"Specials\"]</td>\n",
              "      <td>[\"In the times of Covid-19, modern lifestyle h...</td>\n",
              "      <td>special</td>\n",
              "      <td>time covid modern lifestyl see drastic transfo...</td>\n",
              "      <td>time lifestyle transformation form class meeti...</td>\n",
              "      <td>334</td>\n",
              "      <td>201</td>\n",
              "    </tr>\n",
              "  </tbody>\n",
              "</table>\n",
              "</div>"
            ],
            "text/plain": [
              "                         _id  ... body_unique_words\n",
              "0   5f04e496ef217aae6a201f71  ...               110\n",
              "1   5f04e498ef217aae6a201f72  ...               109\n",
              "2   5f04e49aef217aae6a201f73  ...               110\n",
              "3   5f04e49def217aae6a201f74  ...                32\n",
              "4   5f04e49fef217aae6a201f75  ...               203\n",
              "5   5f04e4a1ef217aae6a201f76  ...               126\n",
              "6   5f04e4a3ef217aae6a201f77  ...               103\n",
              "7   5f04e4a5ef217aae6a201f78  ...               136\n",
              "8   5f04e4a8ef217aae6a201f79  ...               147\n",
              "9   5f04e4abef217aae6a201f7a  ...                59\n",
              "10  5f04e4acef217aae6a201f7b  ...               196\n",
              "11  5f04e4aeef217aae6a201f7c  ...               145\n",
              "12  5f04e4b1ef217aae6a201f7d  ...                68\n",
              "13  5f04e4b4ef217aae6a201f7e  ...                91\n",
              "14  5f04e4b6ef217aae6a201f7f  ...               177\n",
              "15  5f04e4b9ef217aae6a201f80  ...               175\n",
              "16  5f04e4bbef217aae6a201f81  ...               126\n",
              "17  5f04e4beef217aae6a201f82  ...               105\n",
              "18  5f04e4c0ef217aae6a201f83  ...               113\n",
              "19  5f04e4c2ef217aae6a201f84  ...               201\n",
              "\n",
              "[20 rows x 8 columns]"
            ]
          },
          "metadata": {
            "tags": []
          },
          "execution_count": 18
        }
      ]
    },
    {
      "cell_type": "code",
      "metadata": {
        "id": "2qky37xTQVmb",
        "colab_type": "code",
        "colab": {}
      },
      "source": [
        ""
      ],
      "execution_count": null,
      "outputs": []
    },
    {
      "cell_type": "markdown",
      "metadata": {
        "id": "VyxjcGRQQWHa",
        "colab_type": "text"
      },
      "source": [
        "Total no of topics analysis"
      ]
    },
    {
      "cell_type": "code",
      "metadata": {
        "id": "r90MlmMWQVji",
        "colab_type": "code",
        "colab": {}
      },
      "source": [
        "%matplotlib inline\n",
        "from matplotlib import pyplot as plt\n",
        "import seaborn as sns"
      ],
      "execution_count": 22,
      "outputs": []
    },
    {
      "cell_type": "code",
      "metadata": {
        "id": "_skvHBlBPl6R",
        "colab_type": "code",
        "colab": {
          "base_uri": "https://localhost:8080/",
          "height": 738
        },
        "outputId": "1da38359-64dc-45e8-d2d4-c750efd302ce"
      },
      "source": [
        "#No. of contents in each category\n",
        "count_df = pd.DataFrame(df['processed_topic'].value_counts()).reset_index()\n",
        "print('There are', len(count_df), 'news categories')\n",
        "\n",
        "sns.set_style('darkgrid')\n",
        "plt.figure(figsize=(10, 12))\n",
        "sns.barplot(data=count_df, y='index', x='processed_topic', palette='Dark2')\n",
        "plt.title('No. news in each category', loc='left', fontsize=20)\n",
        "plt.xlabel(\"\")\n",
        "plt.ylabel(\"\")\n",
        "plt.show()"
      ],
      "execution_count": 21,
      "outputs": [
        {
          "output_type": "stream",
          "text": [
            "There are 53 news categories\n"
          ],
          "name": "stdout"
        },
        {
          "output_type": "display_data",
          "data": {
            "image/png": "[encoded data removed]",
            "text/plain": [
              "<Figure size 720x864 with 1 Axes>"
            ]
          },
          "metadata": {
            "tags": []
          }
        }
      ]
    },
    {
      "cell_type": "code",
      "metadata": {
        "id": "LuUyJ8TXQalj",
        "colab_type": "code",
        "colab": {}
      },
      "source": [
        ""
      ],
      "execution_count": null,
      "outputs": []
    }
  ]
}