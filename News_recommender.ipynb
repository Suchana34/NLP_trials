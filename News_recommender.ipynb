{
  "nbformat": 4,
  "nbformat_minor": 0,
  "metadata": {
    "colab": {
      "name": "News_recommender.ipynb",
      "provenance": []
    },
    "kernelspec": {
      "name": "python3",
      "display_name": "Python 3"
    }
  },
  "cells": [
    {
      "cell_type": "code",
      "metadata": {
        "id": "vpbl37JxvWC2",
        "colab_type": "code",
        "colab": {}
      },
      "source": [
        "import numpy as np\n",
        "import pandas as pd\n",
        "import pickle\n",
        "from sklearn.utils import shuffle\n",
        "from sklearn.metrics.pairwise import cosine_similarity\n",
        "from sklearn.feature_extraction.text import TfidfVectorizer\n",
        "from collections import Counter"
      ],
      "execution_count": 1,
      "outputs": []
    },
    {
      "cell_type": "code",
      "metadata": {
        "id": "hSsnR_uIvlME",
        "colab_type": "code",
        "colab": {
          "base_uri": "https://localhost:8080/",
          "height": 121
        },
        "outputId": "9ce7f078-2950-4e5c-cff5-971432b55e55"
      },
      "source": [
        "from google.colab import drive\n",
        "drive.mount('/content/drive')"
      ],
      "execution_count": 2,
      "outputs": [
        {
          "output_type": "stream",
          "text": [
            "Go to this URL in a browser: https://accounts.google.com/o/oauth2/auth?client_id=947318989803-6bn6qk8qdgf4n4g3pfee6491hc0brc4i.apps.googleusercontent.com&redirect_uri=urn%3aietf%3awg%3aoauth%3a2.0%3aoob&response_type=code&scope=email%20https%3a%2f%2fwww.googleapis.com%2fauth%2fdocs.test%20https%3a%2f%2fwww.googleapis.com%2fauth%2fdrive%20https%3a%2f%2fwww.googleapis.com%2fauth%2fdrive.photos.readonly%20https%3a%2f%2fwww.googleapis.com%2fauth%2fpeopleapi.readonly\n",
            "\n",
            "Enter your authorization code:\n",
            "··········\n",
            "Mounted at /content/drive\n"
          ],
          "name": "stdout"
        }
      ]
    },
    {
      "cell_type": "code",
      "metadata": {
        "id": "lo3MQ0dPv1MO",
        "colab_type": "code",
        "colab": {
          "base_uri": "https://localhost:8080/",
          "height": 279
        },
        "outputId": "23db96c2-6bc3-41a3-cffb-6b0fe50a93d0"
      },
      "source": [
        "df = pd.read_csv('/content/drive/My Drive/result1.csv')\n",
        "df.head()"
      ],
      "execution_count": 4,
      "outputs": [
        {
          "output_type": "execute_result",
          "data": {
            "text/html": [
              "<div>\n",
              "<style scoped>\n",
              "    .dataframe tbody tr th:only-of-type {\n",
              "        vertical-align: middle;\n",
              "    }\n",
              "\n",
              "    .dataframe tbody tr th {\n",
              "        vertical-align: top;\n",
              "    }\n",
              "\n",
              "    .dataframe thead th {\n",
              "        text-align: right;\n",
              "    }\n",
              "</style>\n",
              "<table border=\"1\" class=\"dataframe\">\n",
              "  <thead>\n",
              "    <tr style=\"text-align: right;\">\n",
              "      <th></th>\n",
              "      <th>_id</th>\n",
              "      <th>topic</th>\n",
              "      <th>heading</th>\n",
              "      <th>summary</th>\n",
              "      <th>date_published</th>\n",
              "      <th>author</th>\n",
              "      <th>content</th>\n",
              "      <th>tags</th>\n",
              "    </tr>\n",
              "  </thead>\n",
              "  <tbody>\n",
              "    <tr>\n",
              "      <th>0</th>\n",
              "      <td>5ef0d2b4d83b3587cb500ec9</td>\n",
              "      <td>[\"analysis\"]</td>\n",
              "      <td>[\"Don’t discriminate against non-resident migr...</td>\n",
              "      <td>[\"Create a legal regime that allows them to ac...</td>\n",
              "      <td>[\"Updated: Jun 22, 2020 19:30 IST\"]</td>\n",
              "      <td>[\"KP Krishnan and Anirudh Burman\"]</td>\n",
              "      <td>[\"Prime Minister (PM) Narendra Modi recently a...</td>\n",
              "      <td>[\"India\",\"Narendra Modi\",\"BIHAR\",\"Haryana\",\"Mi...</td>\n",
              "    </tr>\n",
              "    <tr>\n",
              "      <th>1</th>\n",
              "      <td>5ef0d2b8d83b3587cb500ecb</td>\n",
              "      <td>[\"opinion\"]</td>\n",
              "      <td>[\"India has closed military gap with China alo...</td>\n",
              "      <td>[\"Over the past dozen years India has not only...</td>\n",
              "      <td>[\"Updated: Jun 22, 2020 16:01 IST\"]</td>\n",
              "      <td>[\"Pramit Pal Chaudhuri\"]</td>\n",
              "      <td>[\"India has the \",\", says a recent Harvard Uni...</td>\n",
              "      <td>[\"Indian Army\",\"Galwan Valley\",\"India China bo...</td>\n",
              "    </tr>\n",
              "    <tr>\n",
              "      <th>2</th>\n",
              "      <td>5ef0d2bad83b3587cb500ecc</td>\n",
              "      <td>[\"opinion\"]</td>\n",
              "      <td>[\"Ladakh faceoff: Looking back for a way forwa...</td>\n",
              "      <td>[\"DRAW THE LINE Policing the borders and preve...</td>\n",
              "      <td>[\"Updated: Jun 22, 2020 18:06 IST\"]</td>\n",
              "      <td>[\"Lt Gen GS Sihota (retd)\"]</td>\n",
              "      <td>[\"On December 11, 1917, General Edmund Allenby...</td>\n",
              "      <td>NaN</td>\n",
              "    </tr>\n",
              "    <tr>\n",
              "      <th>3</th>\n",
              "      <td>5ef0d2bdd83b3587cb500ecd</td>\n",
              "      <td>[\"editorials\"]</td>\n",
              "      <td>[\"Redesign the model village scheme | HT Edito...</td>\n",
              "      <td>[\"For MPs to take it up, expand its ambit to a...</td>\n",
              "      <td>[\"Updated: Jun 22, 2020 18:56 IST\"]</td>\n",
              "      <td>NaN</td>\n",
              "      <td>[\"A study commissioned by the Union ministry o...</td>\n",
              "      <td>NaN</td>\n",
              "    </tr>\n",
              "    <tr>\n",
              "      <th>4</th>\n",
              "      <td>5ef0d2bed83b3587cb500ece</td>\n",
              "      <td>[\"columns\"]</td>\n",
              "      <td>[\"How China has overplayed its hand, writes Ba...</td>\n",
              "      <td>[\"Beijing’s belligerence reflects a familiar h...</td>\n",
              "      <td>[\"Updated: Jun 22, 2020 19:31 IST\"]</td>\n",
              "      <td>[\"Baijayant “Jay” Panda\"]</td>\n",
              "      <td>[\"Almost 2,500 years ago, Greek historian, Thu...</td>\n",
              "      <td>[\"CHINA\",\"India\"]</td>\n",
              "    </tr>\n",
              "  </tbody>\n",
              "</table>\n",
              "</div>"
            ],
            "text/plain": [
              "                        _id  ...                                               tags\n",
              "0  5ef0d2b4d83b3587cb500ec9  ...  [\"India\",\"Narendra Modi\",\"BIHAR\",\"Haryana\",\"Mi...\n",
              "1  5ef0d2b8d83b3587cb500ecb  ...  [\"Indian Army\",\"Galwan Valley\",\"India China bo...\n",
              "2  5ef0d2bad83b3587cb500ecc  ...                                                NaN\n",
              "3  5ef0d2bdd83b3587cb500ecd  ...                                                NaN\n",
              "4  5ef0d2bed83b3587cb500ece  ...                                  [\"CHINA\",\"India\"]\n",
              "\n",
              "[5 rows x 8 columns]"
            ]
          },
          "metadata": {
            "tags": []
          },
          "execution_count": 4
        }
      ]
    },
    {
      "cell_type": "code",
      "metadata": {
        "id": "qUMfcaWpwBAB",
        "colab_type": "code",
        "colab": {
          "base_uri": "https://localhost:8080/",
          "height": 34
        },
        "outputId": "f54bca7a-c91b-486f-dab9-850b02347059"
      },
      "source": [
        "len(df.content.unique()),  len(df.content)"
      ],
      "execution_count": 7,
      "outputs": [
        {
          "output_type": "execute_result",
          "data": {
            "text/plain": [
              "(154, 162)"
            ]
          },
          "metadata": {
            "tags": []
          },
          "execution_count": 7
        }
      ]
    },
    {
      "cell_type": "code",
      "metadata": {
        "id": "8u_b-cE3wA8i",
        "colab_type": "code",
        "colab": {
          "base_uri": "https://localhost:8080/",
          "height": 120
        },
        "outputId": "6105026e-6d3b-4c47-af05-c931f4067dcb"
      },
      "source": [
        "df.content[0]"
      ],
      "execution_count": 8,
      "outputs": [
        {
          "output_type": "execute_result",
          "data": {
            "application/vnd.google.colaboratory.intrinsic": {
              "type": "string"
            },
            "text/plain": [
              "'[\"Prime Minister (PM) Narendra Modi recently announced that India must become \",\"(self-reliant). One aspect of this could be that India will remove barriers within its internal markets to truly become a single market. It will remove the hurdles to efficiency improvements and become more competitive. The Goods and Services Tax (GST) was a step in this direction. Recent decisions to remove hurdles in inter-state agricultural trade are also similar. For agricultural and industrial products, as well as capital, India is increasingly becoming a single market. The creation of a barrier-free domestic market is also an intent reflected in Article 301 of the Constitution.\",\"However, there is one market where frictions are being added rather than reduced. This is the labour market. For different reasons, leaders from out-migration and in-migration states have made statements suggesting that there may be more impediments to the inter-state migration of workers. Some states have announced preferential treatment for workers from within the state. Others have spoken of instituting an approval system before allowing their workers to move to other states, in the backdrop of how they were treated.\",\"There are compelling reasons for internal migration in India.\",\"First, India has much higher economic differences across states than comparable countries — with the per capita income of the richest large state (Haryana) being more than six times that of the poorest state (Bihar). The wage gap between states is as high as 100% for regular workers and 250% for casual workers. It is, therefore, no wonder that workers from the poorer states migrate to richer states for work. As of now, the best option for many poor people looking to escape poverty is to leave the states they live in, because of economic opportunities in richer states. This movement is difficult since the cost of living is also higher in richer states. However, millions still migrate and brave squalid conditions in in-migration states because they need livelihoods.\",\"Second, some of the poorer states such as Uttar Pradesh and Bihar have younger and larger populations, with many more workers than work opportunities. While these states must develop their economies, in the short-term, migration is an essential component of development for them.\",\"Third, India’s growth has been largely services-led. For most services, the availability of physical labour is essential. For services such as cooking, driving, hairdressing and security, there is a need for workers to be physically present to provide the service.\",\"While beneficial for migrants, migration also has negative implications. Migration can put downward pressure on wages in richer states, with the increase in the supply of workers. This creates an incentive for regional and local leaders to generate anti-migrant sentiments, and to promote policies that favour local workers. This dynamic is not very different from the one seen in international migration — after a point, a political economy develops to oppose migration.\",\"Throughout India’s history, states have enacted laws and measures that are discriminatory vis-à-vis non-resident migrants. Many state laws discourage or prevent non-residents from applying for government jobs or other professions that require government licensing (auto, taxi licences), or deny them the benefits of educational reservations. Other laws, prevalent in some states of the Northeast, regulate the entry of non-residents within the state. Yet another category of laws prevents non-residents from owning property (such as in Himachal Pradesh, Uttarakhand and others). The Union government has recently announced “One Nation One Ration Card” because non-resident migrants are currently ineligible for many state welfare schemes.\",\"Even though Article 19(1)(d) of the Constitution guarantees free movement and residence, states have enacted “reasonable restrictions” to disfavour non-resident migrants. Article 16 outlaws discrimination in employment on the grounds of residence, but the criteria for determining reservations is usually linked to local demographic characteristics. The courts have also largely upheld positive discrimination in employment and education that nonetheless discriminates against non-residents. They have upheld not just residency as a ground for eligibility for jobs and educational seats, but also the charging of differential capitation fees based on residency. In doing so, courts have generally privileged the equality interests in the Constitution at the cost of free movement and residence.\",\"While such measures ostensibly serve to protect local constituents, they inhibit migration and thus the law of comparative advantage from operating to the benefit of in-migration states. Bengaluru could not have become a hub for information technology if it had imposed restrictions on the movement of skilled professional migrants who eventually settled in the city. Contrary to nativist sentiments, Karnataka’s population has been a net beneficiary of this in-migration because of the increased contribution of Bengaluru to Karnataka’s Gross Domestic Product (GDP) besides the value of diversity.\",\"This benefit is not limited to skilled or high-end services. To the extent that Bengaluru’s economy powers Karnataka’s growth, a migrant hairdresser working in Bangalore is also important for the state’s economy. This was evident recently when the Karnataka government wanted to prevent migrants from leaving for their home states because of their importance to the construction industry. It is, therefore, time to seriously re-examine the legal framework that inhibits the movement of migrants across the country, and prevents them from accessing safety, shelter and welfare services on equal terms as residents.\"]'"
            ]
          },
          "metadata": {
            "tags": []
          },
          "execution_count": 8
        }
      ]
    },
    {
      "cell_type": "code",
      "metadata": {
        "id": "Ka_Q5FUuwA57",
        "colab_type": "code",
        "colab": {}
      },
      "source": [
        "# time range for which these articles are published\n",
        "#min(df.date_published).split(\"T\")[0], max(df.date_published).split(\"T\")[0]"
      ],
      "execution_count": 14,
      "outputs": []
    },
    {
      "cell_type": "code",
      "metadata": {
        "id": "rdi2d3PEwA4C",
        "colab_type": "code",
        "colab": {
          "base_uri": "https://localhost:8080/",
          "height": 487
        },
        "outputId": "eab98846-db22-437f-f62a-779717df12d9"
      },
      "source": [
        "# the number of articles in each section\n",
        "Counter(df.topic)"
      ],
      "execution_count": 17,
      "outputs": [
        {
          "output_type": "execute_result",
          "data": {
            "text/plain": [
              "Counter({'[\"analysis\"]': 11,\n",
              "         '[\"art-and-culture\"]': 1,\n",
              "         '[\"bollywood\"]': 7,\n",
              "         '[\"business\"]': 9,\n",
              "         '[\"cities\"]': 1,\n",
              "         '[\"columns\"]': 4,\n",
              "         '[\"cricket\"]': 4,\n",
              "         '[\"delhi\"]': 8,\n",
              "         '[\"editorials\"]': 9,\n",
              "         '[\"education\"]': 13,\n",
              "         '[\"fashion-and-trends\"]': 4,\n",
              "         '[\"fitness\"]': 1,\n",
              "         '[\"football\"]': 3,\n",
              "         '[\"health\"]': 1,\n",
              "         '[\"hollywood\"]': 1,\n",
              "         '[\"india\"]': 17,\n",
              "         '[\"it-s-viral\"]': 12,\n",
              "         '[\"more-lifestyle\"]': 4,\n",
              "         '[\"mumbai\"]': 10,\n",
              "         '[\"music\"]': 1,\n",
              "         '[\"opinion\"]': 2,\n",
              "         '[\"other-sports\"]': 4,\n",
              "         '[\"regional-movies\"]': 1,\n",
              "         '[\"tennis\"]': 1,\n",
              "         '[\"travel\"]': 1,\n",
              "         '[\"tv\"]': 12,\n",
              "         '[\"world\"]': 11,\n",
              "         nan: 9})"
            ]
          },
          "metadata": {
            "tags": []
          },
          "execution_count": 17
        }
      ]
    },
    {
      "cell_type": "code",
      "metadata": {
        "id": "HZO_yoVk56_O",
        "colab_type": "code",
        "colab": {
          "base_uri": "https://localhost:8080/",
          "height": 185
        },
        "outputId": "a36efd24-48f5-4698-953e-5c26b6623571"
      },
      "source": [
        "df.isnull().sum()"
      ],
      "execution_count": 25,
      "outputs": [
        {
          "output_type": "execute_result",
          "data": {
            "text/plain": [
              "_id                   0\n",
              "topic                 9\n",
              "heading               0\n",
              "summary               0\n",
              "date_published        9\n",
              "author               20\n",
              "content               7\n",
              "tags                 27\n",
              "processed_heading     0\n",
              "dtype: int64"
            ]
          },
          "metadata": {
            "tags": []
          },
          "execution_count": 25
        }
      ]
    },
    {
      "cell_type": "code",
      "metadata": {
        "id": "480VWPHB568Z",
        "colab_type": "code",
        "colab": {}
      },
      "source": [
        "df.dropna(subset=['content'], inplace = True)\n",
        "df.dropna(subset = ['topic'], inplace = True)"
      ],
      "execution_count": 29,
      "outputs": []
    },
    {
      "cell_type": "code",
      "metadata": {
        "id": "DBvtc8fU6DMW",
        "colab_type": "code",
        "colab": {
          "base_uri": "https://localhost:8080/",
          "height": 34
        },
        "outputId": "7a76ef0c-9272-46b5-a934-5c39b5c22c24"
      },
      "source": [
        "df.shape"
      ],
      "execution_count": 30,
      "outputs": [
        {
          "output_type": "execute_result",
          "data": {
            "text/plain": [
              "(148, 10)"
            ]
          },
          "metadata": {
            "tags": []
          },
          "execution_count": 30
        }
      ]
    },
    {
      "cell_type": "code",
      "metadata": {
        "id": "IvmtKjIk3KVo",
        "colab_type": "code",
        "colab": {
          "base_uri": "https://localhost:8080/",
          "height": 101
        },
        "outputId": "f40f6517-68a2-4ba7-a9ce-c633994ba290"
      },
      "source": [
        "import pandas as pd\n",
        "import numpy as np\n",
        "import re\n",
        "\n",
        "import gensim\n",
        "from gensim import corpora,models\n",
        "from gensim.utils import simple_preprocess\n",
        "from gensim.models import CoherenceModel\n",
        "from gensim.parsing.preprocessing import STOPWORDS\n",
        "from nltk.stem import WordNetLemmatizer, SnowballStemmer\n",
        "from nltk.stem.porter import *\n",
        "import numpy as np\n",
        "np.random.seed(2018)\n",
        "\n",
        "import nltk\n",
        "#nltk.download('wordnet')\n",
        "#nltk.download('stopwords')"
      ],
      "execution_count": 20,
      "outputs": [
        {
          "output_type": "stream",
          "text": [
            "[nltk_data] Downloading package wordnet to /root/nltk_data...\n",
            "[nltk_data]   Unzipping corpora/wordnet.zip.\n",
            "[nltk_data] Downloading package stopwords to /root/nltk_data...\n",
            "[nltk_data]   Unzipping corpora/stopwords.zip.\n"
          ],
          "name": "stdout"
        },
        {
          "output_type": "execute_result",
          "data": {
            "text/plain": [
              "True"
            ]
          },
          "metadata": {
            "tags": []
          },
          "execution_count": 20
        }
      ]
    },
    {
      "cell_type": "code",
      "metadata": {
        "id": "9DhJedHN3KHO",
        "colab_type": "code",
        "colab": {}
      },
      "source": [
        "# data preprocessing\n",
        "stemmer = SnowballStemmer(language='english',ignore_stopwords=True)\n",
        "def lemmatize_stemming(text):\n",
        "    return stemmer.stem(WordNetLemmatizer().lemmatize(text, pos='v'))\n",
        "def preprocess(text):\n",
        "    result = []\n",
        "    for token in gensim.utils.simple_preprocess(text):\n",
        "        if token not in gensim.parsing.preprocessing.STOPWORDS and len(token) > 3:\n",
        "            result.append(lemmatize_stemming(token))\n",
        "    return result"
      ],
      "execution_count": 21,
      "outputs": []
    },
    {
      "cell_type": "code",
      "metadata": {
        "id": "a6V-hvgJ3J8h",
        "colab_type": "code",
        "colab": {
          "base_uri": "https://localhost:8080/",
          "height": 138
        },
        "outputId": "bae1e10d-428a-4e4d-b988-28e769625f1a"
      },
      "source": [
        "# preview after preprocessing\n",
        "doc_sample = df['content'][0]\n",
        "print('original document: ')\n",
        "words = []\n",
        "for word in doc_sample.split(' '):\n",
        "    words.append(word)\n",
        "print(words)\n",
        "print('\\n\\n tokenized and lemmatized document: ')\n",
        "print(preprocess(doc_sample))"
      ],
      "execution_count": 24,
      "outputs": [
        {
          "output_type": "stream",
          "text": [
            "original document: \n",
            "['[\"Prime', 'Minister', '(PM)', 'Narendra', 'Modi', 'recently', 'announced', 'that', 'India', 'must', 'become', '\",\"(self-reliant).', 'One', 'aspect', 'of', 'this', 'could', 'be', 'that', 'India', 'will', 'remove', 'barriers', 'within', 'its', 'internal', 'markets', 'to', 'truly', 'become', 'a', 'single', 'market.', 'It', 'will', 'remove', 'the', 'hurdles', 'to', 'efficiency', 'improvements', 'and', 'become', 'more', 'competitive.', 'The', 'Goods', 'and', 'Services', 'Tax', '(GST)', 'was', 'a', 'step', 'in', 'this', 'direction.', 'Recent', 'decisions', 'to', 'remove', 'hurdles', 'in', 'inter-state', 'agricultural', 'trade', 'are', 'also', 'similar.', 'For', 'agricultural', 'and', 'industrial', 'products,', 'as', 'well', 'as', 'capital,', 'India', 'is', 'increasingly', 'becoming', 'a', 'single', 'market.', 'The', 'creation', 'of', 'a', 'barrier-free', 'domestic', 'market', 'is', 'also', 'an', 'intent', 'reflected', 'in', 'Article', '301', 'of', 'the', 'Constitution.\",\"However,', 'there', 'is', 'one', 'market', 'where', 'frictions', 'are', 'being', 'added', 'rather', 'than', 'reduced.', 'This', 'is', 'the', 'labour', 'market.', 'For', 'different', 'reasons,', 'leaders', 'from', 'out-migration', 'and', 'in-migration', 'states', 'have', 'made', 'statements', 'suggesting', 'that', 'there', 'may', 'be', 'more', 'impediments', 'to', 'the', 'inter-state', 'migration', 'of', 'workers.', 'Some', 'states', 'have', 'announced', 'preferential', 'treatment', 'for', 'workers', 'from', 'within', 'the', 'state.', 'Others', 'have', 'spoken', 'of', 'instituting', 'an', 'approval', 'system', 'before', 'allowing', 'their', 'workers', 'to', 'move', 'to', 'other', 'states,', 'in', 'the', 'backdrop', 'of', 'how', 'they', 'were', 'treated.\",\"There', 'are', 'compelling', 'reasons', 'for', 'internal', 'migration', 'in', 'India.\",\"First,', 'India', 'has', 'much', 'higher', 'economic', 'differences', 'across', 'states', 'than', 'comparable', 'countries', '—', 'with', 'the', 'per', 'capita', 'income', 'of', 'the', 'richest', 'large', 'state', '(Haryana)', 'being', 'more', 'than', 'six', 'times', 'that', 'of', 'the', 'poorest', 'state', '(Bihar).', 'The', 'wage', 'gap', 'between', 'states', 'is', 'as', 'high', 'as', '100%', 'for', 'regular', 'workers', 'and', '250%', 'for', 'casual', 'workers.', 'It', 'is,', 'therefore,', 'no', 'wonder', 'that', 'workers', 'from', 'the', 'poorer', 'states', 'migrate', 'to', 'richer', 'states', 'for', 'work.', 'As', 'of', 'now,', 'the', 'best', 'option', 'for', 'many', 'poor', 'people', 'looking', 'to', 'escape', 'poverty', 'is', 'to', 'leave', 'the', 'states', 'they', 'live', 'in,', 'because', 'of', 'economic', 'opportunities', 'in', 'richer', 'states.', 'This', 'movement', 'is', 'difficult', 'since', 'the', 'cost', 'of', 'living', 'is', 'also', 'higher', 'in', 'richer', 'states.', 'However,', 'millions', 'still', 'migrate', 'and', 'brave', 'squalid', 'conditions', 'in', 'in-migration', 'states', 'because', 'they', 'need', 'livelihoods.\",\"Second,', 'some', 'of', 'the', 'poorer', 'states', 'such', 'as', 'Uttar', 'Pradesh', 'and', 'Bihar', 'have', 'younger', 'and', 'larger', 'populations,', 'with', 'many', 'more', 'workers', 'than', 'work', 'opportunities.', 'While', 'these', 'states', 'must', 'develop', 'their', 'economies,', 'in', 'the', 'short-term,', 'migration', 'is', 'an', 'essential', 'component', 'of', 'development', 'for', 'them.\",\"Third,', 'India’s', 'growth', 'has', 'been', 'largely', 'services-led.', 'For', 'most', 'services,', 'the', 'availability', 'of', 'physical', 'labour', 'is', 'essential.', 'For', 'services', 'such', 'as', 'cooking,', 'driving,', 'hairdressing', 'and', 'security,', 'there', 'is', 'a', 'need', 'for', 'workers', 'to', 'be', 'physically', 'present', 'to', 'provide', 'the', 'service.\",\"While', 'beneficial', 'for', 'migrants,', 'migration', 'also', 'has', 'negative', 'implications.', 'Migration', 'can', 'put', 'downward', 'pressure', 'on', 'wages', 'in', 'richer', 'states,', 'with', 'the', 'increase', 'in', 'the', 'supply', 'of', 'workers.', 'This', 'creates', 'an', 'incentive', 'for', 'regional', 'and', 'local', 'leaders', 'to', 'generate', 'anti-migrant', 'sentiments,', 'and', 'to', 'promote', 'policies', 'that', 'favour', 'local', 'workers.', 'This', 'dynamic', 'is', 'not', 'very', 'different', 'from', 'the', 'one', 'seen', 'in', 'international', 'migration', '—', 'after', 'a', 'point,', 'a', 'political', 'economy', 'develops', 'to', 'oppose', 'migration.\",\"Throughout', 'India’s', 'history,', 'states', 'have', 'enacted', 'laws', 'and', 'measures', 'that', 'are', 'discriminatory', 'vis-à-vis', 'non-resident', 'migrants.', 'Many', 'state', 'laws', 'discourage', 'or', 'prevent', 'non-residents', 'from', 'applying', 'for', 'government', 'jobs', 'or', 'other', 'professions', 'that', 'require', 'government', 'licensing', '(auto,', 'taxi', 'licences),', 'or', 'deny', 'them', 'the', 'benefits', 'of', 'educational', 'reservations.', 'Other', 'laws,', 'prevalent', 'in', 'some', 'states', 'of', 'the', 'Northeast,', 'regulate', 'the', 'entry', 'of', 'non-residents', 'within', 'the', 'state.', 'Yet', 'another', 'category', 'of', 'laws', 'prevents', 'non-residents', 'from', 'owning', 'property', '(such', 'as', 'in', 'Himachal', 'Pradesh,', 'Uttarakhand', 'and', 'others).', 'The', 'Union', 'government', 'has', 'recently', 'announced', '“One', 'Nation', 'One', 'Ration', 'Card”', 'because', 'non-resident', 'migrants', 'are', 'currently', 'ineligible', 'for', 'many', 'state', 'welfare', 'schemes.\",\"Even', 'though', 'Article', '19(1)(d)', 'of', 'the', 'Constitution', 'guarantees', 'free', 'movement', 'and', 'residence,', 'states', 'have', 'enacted', '“reasonable', 'restrictions”', 'to', 'disfavour', 'non-resident', 'migrants.', 'Article', '16', 'outlaws', 'discrimination', 'in', 'employment', 'on', 'the', 'grounds', 'of', 'residence,', 'but', 'the', 'criteria', 'for', 'determining', 'reservations', 'is', 'usually', 'linked', 'to', 'local', 'demographic', 'characteristics.', 'The', 'courts', 'have', 'also', 'largely', 'upheld', 'positive', 'discrimination', 'in', 'employment', 'and', 'education', 'that', 'nonetheless', 'discriminates', 'against', 'non-residents.', 'They', 'have', 'upheld', 'not', 'just', 'residency', 'as', 'a', 'ground', 'for', 'eligibility', 'for', 'jobs', 'and', 'educational', 'seats,', 'but', 'also', 'the', 'charging', 'of', 'differential', 'capitation', 'fees', 'based', 'on', 'residency.', 'In', 'doing', 'so,', 'courts', 'have', 'generally', 'privileged', 'the', 'equality', 'interests', 'in', 'the', 'Constitution', 'at', 'the', 'cost', 'of', 'free', 'movement', 'and', 'residence.\",\"While', 'such', 'measures', 'ostensibly', 'serve', 'to', 'protect', 'local', 'constituents,', 'they', 'inhibit', 'migration', 'and', 'thus', 'the', 'law', 'of', 'comparative', 'advantage', 'from', 'operating', 'to', 'the', 'benefit', 'of', 'in-migration', 'states.', 'Bengaluru', 'could', 'not', 'have', 'become', 'a', 'hub', 'for', 'information', 'technology', 'if', 'it', 'had', 'imposed', 'restrictions', 'on', 'the', 'movement', 'of', 'skilled', 'professional', 'migrants', 'who', 'eventually', 'settled', 'in', 'the', 'city.', 'Contrary', 'to', 'nativist', 'sentiments,', 'Karnataka’s', 'population', 'has', 'been', 'a', 'net', 'beneficiary', 'of', 'this', 'in-migration', 'because', 'of', 'the', 'increased', 'contribution', 'of', 'Bengaluru', 'to', 'Karnataka’s', 'Gross', 'Domestic', 'Product', '(GDP)', 'besides', 'the', 'value', 'of', 'diversity.\",\"This', 'benefit', 'is', 'not', 'limited', 'to', 'skilled', 'or', 'high-end', 'services.', 'To', 'the', 'extent', 'that', 'Bengaluru’s', 'economy', 'powers', 'Karnataka’s', 'growth,', 'a', 'migrant', 'hairdresser', 'working', 'in', 'Bangalore', 'is', 'also', 'important', 'for', 'the', 'state’s', 'economy.', 'This', 'was', 'evident', 'recently', 'when', 'the', 'Karnataka', 'government', 'wanted', 'to', 'prevent', 'migrants', 'from', 'leaving', 'for', 'their', 'home', 'states', 'because', 'of', 'their', 'importance', 'to', 'the', 'construction', 'industry.', 'It', 'is,', 'therefore,', 'time', 'to', 'seriously', 're-examine', 'the', 'legal', 'framework', 'that', 'inhibits', 'the', 'movement', 'of', 'migrants', 'across', 'the', 'country,', 'and', 'prevents', 'them', 'from', 'accessing', 'safety,', 'shelter', 'and', 'welfare', 'services', 'on', 'equal', 'terms', 'as', 'residents.\"]']\n",
            "\n",
            "\n",
            " tokenized and lemmatized document: \n",
            "['prime', 'minist', 'narendra', 'modi', 'recent', 'announc', 'india', 'self', 'reliant', 'aspect', 'india', 'remov', 'barrier', 'intern', 'market', 'truli', 'singl', 'market', 'remov', 'hurdl', 'effici', 'improv', 'competit', 'good', 'servic', 'step', 'direct', 'recent', 'decis', 'remov', 'hurdl', 'inter', 'state', 'agricultur', 'trade', 'similar', 'agricultur', 'industri', 'product', 'capit', 'india', 'increas', 'singl', 'market', 'creation', 'barrier', 'free', 'domest', 'market', 'intent', 'reflect', 'articl', 'constitut', 'market', 'friction', 'add', 'reduc', 'labour', 'market', 'differ', 'reason', 'leader', 'migrat', 'migrat', 'state', 'statement', 'suggest', 'impedi', 'inter', 'state', 'migrat', 'worker', 'state', 'announc', 'preferenti', 'treatment', 'worker', 'state', 'speak', 'institut', 'approv', 'allow', 'worker', 'state', 'backdrop', 'treat', 'compel', 'reason', 'intern', 'migrat', 'india', 'india', 'higher', 'econom', 'differ', 'state', 'compar', 'countri', 'capita', 'incom', 'richest', 'larg', 'state', 'haryana', 'time', 'poorest', 'state', 'bihar', 'wage', 'state', 'high', 'regular', 'worker', 'casual', 'worker', 'wonder', 'worker', 'poorer', 'state', 'migrat', 'richer', 'state', 'work', 'best', 'option', 'poor', 'peopl', 'look', 'escap', 'poverti', 'leav', 'state', 'live', 'econom', 'opportun', 'richer', 'state', 'movement', 'difficult', 'cost', 'live', 'higher', 'richer', 'state', 'million', 'migrat', 'brave', 'squalid', 'condit', 'migrat', 'state', 'need', 'livelihood', 'second', 'poorer', 'state', 'uttar', 'pradesh', 'bihar', 'younger', 'larger', 'popul', 'worker', 'work', 'opportun', 'state', 'develop', 'economi', 'short', 'term', 'migrat', 'essenti', 'compon', 'develop', 'india', 'growth', 'larg', 'servic', 'servic', 'avail', 'physic', 'labour', 'essenti', 'servic', 'cook', 'drive', 'hairdress', 'secur', 'need', 'worker', 'physic', 'present', 'provid', 'servic', 'benefici', 'migrant', 'migrat', 'negat', 'implic', 'migrat', 'downward', 'pressur', 'wag', 'richer', 'state', 'increas', 'suppli', 'worker', 'creat', 'incent', 'region', 'local', 'leader', 'generat', 'anti', 'migrant', 'sentiment', 'promot', 'polici', 'favour', 'local', 'worker', 'dynam', 'differ', 'see', 'intern', 'migrat', 'point', 'polit', 'economi', 'develop', 'oppos', 'migrat', 'india', 'histori', 'state', 'enact', 'law', 'measur', 'discriminatori', 'resid', 'migrant', 'state', 'law', 'discourag', 'prevent', 'resid', 'appli', 'govern', 'job', 'profess', 'requir', 'govern', 'licens', 'auto', 'taxi', 'licenc', 'deni', 'benefit', 'educ', 'reserv', 'law', 'preval', 'state', 'northeast', 'regul', 'entri', 'resid', 'state', 'categori', 'law', 'prevent', 'resid', 'own', 'properti', 'himach', 'pradesh', 'uttarakhand', 'union', 'govern', 'recent', 'announc', 'nation', 'ration', 'card', 'resid', 'migrant', 'current', 'inelig', 'state', 'welfar', 'scheme', 'articl', 'constitut', 'guarante', 'free', 'movement', 'resid', 'state', 'enact', 'reason', 'restrict', 'disfavour', 'resid', 'migrant', 'articl', 'outlaw', 'discrimin', 'employ', 'ground', 'resid', 'criteria', 'determin', 'reserv', 'usual', 'link', 'local', 'demograph', 'characterist', 'court', 'larg', 'uphold', 'posit', 'discrimin', 'employ', 'educ', 'nonetheless', 'discrimin', 'resid', 'uphold', 'resid', 'grind', 'elig', 'job', 'educ', 'seat', 'charg', 'differenti', 'capit', 'fee', 'base', 'resid', 'court', 'general', 'privileg', 'equal', 'interest', 'constitut', 'cost', 'free', 'movement', 'resid', 'measur', 'ostens', 'serv', 'protect', 'local', 'constitu', 'inhibit', 'migrat', 'compar', 'advantag', 'oper', 'benefit', 'migrat', 'state', 'bengaluru', 'inform', 'technolog', 'impos', 'restrict', 'movement', 'skill', 'profession', 'migrant', 'eventu', 'settl', 'citi', 'contrari', 'nativist', 'sentiment', 'karnataka', 'popul', 'beneficiari', 'migrat', 'increas', 'contribut', 'bengaluru', 'karnataka', 'gross', 'domest', 'product', 'valu', 'divers', 'benefit', 'limit', 'skill', 'high', 'servic', 'extent', 'bengaluru', 'economi', 'power', 'karnataka', 'growth', 'migrant', 'hairdress', 'work', 'bangalor', 'import', 'state', 'economi', 'evid', 'recent', 'karnataka', 'govern', 'want', 'prevent', 'migrant', 'leav', 'home', 'state', 'import', 'construct', 'industri', 'time', 'serious', 'examin', 'legal', 'framework', 'inhibit', 'movement', 'migrant', 'countri', 'prevent', 'access', 'safeti', 'shelter', 'welfar', 'servic', 'equal', 'term', 'resid']\n"
          ],
          "name": "stdout"
        }
      ]
    },
    {
      "cell_type": "code",
      "metadata": {
        "id": "rYARocMH3kNy",
        "colab_type": "code",
        "colab": {
          "base_uri": "https://localhost:8080/",
          "height": 568
        },
        "outputId": "197ba535-c47d-4a68-e025-078b326c329d"
      },
      "source": [
        "# Preprocess the headline text, saving the results as ‘processed_docs’\n",
        "df['processed_heading'] = df['heading'].map(preprocess)\n",
        "df['processed_content'] = df['content'].map(preprocess)\n",
        "df['processed_topic'] = df['topic'].map(preprocess)\n",
        "df['processed_heading'] = df['processed_heading'].apply(lambda x: ' '.join(x))\n",
        "df['processed_content'] = df['processed_content'].apply(lambda x: ' '.join(x))\n",
        "df['processed_topic'] = df['processed_topic'].apply(lambda x: ' '.join(x))\n",
        "df.head() "
      ],
      "execution_count": 36,
      "outputs": [
        {
          "output_type": "execute_result",
          "data": {
            "text/html": [
              "<div>\n",
              "<style scoped>\n",
              "    .dataframe tbody tr th:only-of-type {\n",
              "        vertical-align: middle;\n",
              "    }\n",
              "\n",
              "    .dataframe tbody tr th {\n",
              "        vertical-align: top;\n",
              "    }\n",
              "\n",
              "    .dataframe thead th {\n",
              "        text-align: right;\n",
              "    }\n",
              "</style>\n",
              "<table border=\"1\" class=\"dataframe\">\n",
              "  <thead>\n",
              "    <tr style=\"text-align: right;\">\n",
              "      <th></th>\n",
              "      <th>_id</th>\n",
              "      <th>topic</th>\n",
              "      <th>heading</th>\n",
              "      <th>summary</th>\n",
              "      <th>date_published</th>\n",
              "      <th>author</th>\n",
              "      <th>content</th>\n",
              "      <th>tags</th>\n",
              "      <th>processed_heading</th>\n",
              "      <th>processed_content</th>\n",
              "      <th>processed_topic</th>\n",
              "    </tr>\n",
              "  </thead>\n",
              "  <tbody>\n",
              "    <tr>\n",
              "      <th>0</th>\n",
              "      <td>5ef0d2b4d83b3587cb500ec9</td>\n",
              "      <td>[\"analysis\"]</td>\n",
              "      <td>[\"Don’t discriminate against non-resident migr...</td>\n",
              "      <td>[\"Create a legal regime that allows them to ac...</td>\n",
              "      <td>[\"Updated: Jun 22, 2020 19:30 IST\"]</td>\n",
              "      <td>[\"KP Krishnan and Anirudh Burman\"]</td>\n",
              "      <td>[\"Prime Minister (PM) Narendra Modi recently a...</td>\n",
              "      <td>[\"India\",\"Narendra Modi\",\"BIHAR\",\"Haryana\",\"Mi...</td>\n",
              "      <td>discrimin resid migrant opinion</td>\n",
              "      <td>prime minist narendra modi recent announc indi...</td>\n",
              "      <td>analysi</td>\n",
              "    </tr>\n",
              "    <tr>\n",
              "      <th>1</th>\n",
              "      <td>5ef0d2b8d83b3587cb500ecb</td>\n",
              "      <td>[\"opinion\"]</td>\n",
              "      <td>[\"India has closed military gap with China alo...</td>\n",
              "      <td>[\"Over the past dozen years India has not only...</td>\n",
              "      <td>[\"Updated: Jun 22, 2020 16:01 IST\"]</td>\n",
              "      <td>[\"Pramit Pal Chaudhuri\"]</td>\n",
              "      <td>[\"India has the \",\", says a recent Harvard Uni...</td>\n",
              "      <td>[\"Indian Army\",\"Galwan Valley\",\"India China bo...</td>\n",
              "      <td>india close militari china border</td>\n",
              "      <td>india say recent harvard univers assess chines...</td>\n",
              "      <td>opinion</td>\n",
              "    </tr>\n",
              "    <tr>\n",
              "      <th>2</th>\n",
              "      <td>5ef0d2bad83b3587cb500ecc</td>\n",
              "      <td>[\"opinion\"]</td>\n",
              "      <td>[\"Ladakh faceoff: Looking back for a way forwa...</td>\n",
              "      <td>[\"DRAW THE LINE Policing the borders and preve...</td>\n",
              "      <td>[\"Updated: Jun 22, 2020 18:06 IST\"]</td>\n",
              "      <td>[\"Lt Gen GS Sihota (retd)\"]</td>\n",
              "      <td>[\"On December 11, 1917, General Edmund Allenby...</td>\n",
              "      <td>NaN</td>\n",
              "      <td>ladakh faceoff look forward</td>\n",
              "      <td>decemb general edmund allenbi enter holi citi ...</td>\n",
              "      <td>opinion</td>\n",
              "    </tr>\n",
              "    <tr>\n",
              "      <th>3</th>\n",
              "      <td>5ef0d2bdd83b3587cb500ecd</td>\n",
              "      <td>[\"editorials\"]</td>\n",
              "      <td>[\"Redesign the model village scheme | HT Edito...</td>\n",
              "      <td>[\"For MPs to take it up, expand its ambit to a...</td>\n",
              "      <td>[\"Updated: Jun 22, 2020 18:56 IST\"]</td>\n",
              "      <td>NaN</td>\n",
              "      <td>[\"A study commissioned by the Union ministry o...</td>\n",
              "      <td>NaN</td>\n",
              "      <td>redesign model villag scheme editori</td>\n",
              "      <td>studi commiss union ministri rural develop saa...</td>\n",
              "      <td>editori</td>\n",
              "    </tr>\n",
              "    <tr>\n",
              "      <th>4</th>\n",
              "      <td>5ef0d2bed83b3587cb500ece</td>\n",
              "      <td>[\"columns\"]</td>\n",
              "      <td>[\"How China has overplayed its hand, writes Ba...</td>\n",
              "      <td>[\"Beijing’s belligerence reflects a familiar h...</td>\n",
              "      <td>[\"Updated: Jun 22, 2020 19:31 IST\"]</td>\n",
              "      <td>[\"Baijayant “Jay” Panda\"]</td>\n",
              "      <td>[\"Almost 2,500 years ago, Greek historian, Thu...</td>\n",
              "      <td>[\"CHINA\",\"India\"]</td>\n",
              "      <td>china overplay hand write baijay panda</td>\n",
              "      <td>year greek historian thucydid write devast pel...</td>\n",
              "      <td>column</td>\n",
              "    </tr>\n",
              "  </tbody>\n",
              "</table>\n",
              "</div>"
            ],
            "text/plain": [
              "                        _id  ... processed_topic\n",
              "0  5ef0d2b4d83b3587cb500ec9  ...         analysi\n",
              "1  5ef0d2b8d83b3587cb500ecb  ...         opinion\n",
              "2  5ef0d2bad83b3587cb500ecc  ...         opinion\n",
              "3  5ef0d2bdd83b3587cb500ecd  ...         editori\n",
              "4  5ef0d2bed83b3587cb500ece  ...          column\n",
              "\n",
              "[5 rows x 11 columns]"
            ]
          },
          "metadata": {
            "tags": []
          },
          "execution_count": 36
        }
      ]
    },
    {
      "cell_type": "code",
      "metadata": {
        "id": "yfjZ-CMvwA0x",
        "colab_type": "code",
        "colab": {}
      },
      "source": [
        "#Split the data into a \"train\" and \"test\". As well as select a metric in which to measure the similarity between articles. Think of the \"train\" set as the corpus.\n",
        "# Think of the \"test\" set as the NYT articles that users are currently reading.\n",
        "\n",
        "# move articles to an array\n",
        "articles = df.processed_content.values\n",
        "\n",
        "# move article section names to an array\n",
        "sections = df.processed_topic.values\n",
        "\n",
        "# move article web_urls to an array\n",
        "headings = df.processed_heading.values\n",
        "\n",
        "# shuffle these three arrays \n",
        "articles, sections, headings = shuffle(articles, sections, headings, random_state=4)"
      ],
      "execution_count": 37,
      "outputs": []
    },
    {
      "cell_type": "code",
      "metadata": {
        "id": "Pd_rSrrXwAzR",
        "colab_type": "code",
        "colab": {}
      },
      "source": [
        "# split the shuffled articles into two arrays\n",
        "n = 10\n",
        "\n",
        "# one will have all but the last 10 articles -- think of this as your training set/corpus \n",
        "X_train = articles[:-n]\n",
        "X_train_headings = headings[:-n]\n",
        "X_train_sections = sections[:-n]\n",
        "\n",
        "# the other will have those last 10 articles -- think of this as your test set/corpus \n",
        "X_test = articles[-n:]\n",
        "X_test_headings = headings[-n:]\n",
        "X_test_sections = sections[-n:]"
      ],
      "execution_count": 38,
      "outputs": []
    },
    {
      "cell_type": "code",
      "metadata": {
        "id": "GDhVVqeW008F",
        "colab_type": "code",
        "colab": {}
      },
      "source": [
        "# instantiate your vectorizor \n",
        "tfidf_vectorizer = TfidfVectorizer(stop_words='english')"
      ],
      "execution_count": 39,
      "outputs": []
    },
    {
      "cell_type": "code",
      "metadata": {
        "id": "_ippJiLX1Eev",
        "colab_type": "code",
        "colab": {
          "base_uri": "https://localhost:8080/",
          "height": 134
        },
        "outputId": "c2e9af43-605c-482e-d2bb-2e6ee235d17d"
      },
      "source": [
        "# fit the vectorizer \n",
        "tfidf_vectorizer.fit(X_train)"
      ],
      "execution_count": 40,
      "outputs": [
        {
          "output_type": "execute_result",
          "data": {
            "text/plain": [
              "TfidfVectorizer(analyzer='word', binary=False, decode_error='strict',\n",
              "                dtype=<class 'numpy.float64'>, encoding='utf-8',\n",
              "                input='content', lowercase=True, max_df=1.0, max_features=None,\n",
              "                min_df=1, ngram_range=(1, 1), norm='l2', preprocessor=None,\n",
              "                smooth_idf=True, stop_words='english', strip_accents=None,\n",
              "                sublinear_tf=False, token_pattern='(?u)\\\\b\\\\w\\\\w+\\\\b',\n",
              "                tokenizer=None, use_idf=True, vocabulary=None)"
            ]
          },
          "metadata": {
            "tags": []
          },
          "execution_count": 40
        }
      ]
    },
    {
      "cell_type": "code",
      "metadata": {
        "id": "zKlIVRJA1Eb3",
        "colab_type": "code",
        "colab": {}
      },
      "source": [
        "# transform both article splits \n",
        "X_train_tfidf = tfidf_vectorizer.transform(X_train)\n",
        "X_test_tfidf = tfidf_vectorizer.transform(X_test)"
      ],
      "execution_count": 41,
      "outputs": []
    },
    {
      "cell_type": "code",
      "metadata": {
        "id": "xjxV0RfF1IUv",
        "colab_type": "code",
        "colab": {}
      },
      "source": [
        "#Builidng a Content Based Recommender\n",
        "def get_top_n_rec_articles(X_train_tfidf, X_train, test_article, X_train_sections, X_train_urls, n = 5):\n",
        "    '''This function calculates similarity scores bewteen a document and a corpus\n",
        "    \n",
        "       INPUT: vectorized document corpus, 2D array\n",
        "              text document corpus, 1D array\n",
        "              user article, 1D array\n",
        "              article section names, 1D array\n",
        "              article URLs, 1D array\n",
        "              number of articles to recommend, int\n",
        "              \n",
        "       OUTPUT: top n recommendations, 1D array\n",
        "               top n corresponding section names, 1D array\n",
        "               top n corresponding URLs, 1D array\n",
        "               similarity scores bewteen user article and entire corpus, 1D array\n",
        "              '''\n",
        "    # calculate similarity between the corpus (i.e. the \"test\" data) and the user's article\n",
        "    similarity_scores = X_train_tfidf.dot(test_article.toarray().T)\n",
        "\n",
        "    # get sorted similairty score indicies \n",
        "    sorted_indicies = np.argsort(similarity_scores, axis = 0)[::-1]\n",
        "\n",
        "    # get sorted similarity socres\n",
        "    sorted_sim_scores = similarity_scores[sorted_indicies]\n",
        "\n",
        "    # get top n most similar documents\n",
        "    top_n_recs = X_train[sorted_indicies[:n]]\n",
        "\n",
        "    # get top n corresponding document section names\n",
        "    rec_sections = X_train_sections[sorted_indicies[:n]]\n",
        "\n",
        "    # get top n corresponding urls\n",
        "    rec_urls = X_train_urls[sorted_indicies[:n]]\n",
        "    \n",
        "    # return recommendations and corresponding article meta-data\n",
        "    return top_n_recs, rec_sections, rec_urls, sorted_sim_scores"
      ],
      "execution_count": 42,
      "outputs": []
    },
    {
      "cell_type": "code",
      "metadata": {
        "id": "tWIG7sQn1IR3",
        "colab_type": "code",
        "colab": {}
      },
      "source": [
        "# pick an article from the \"test\" set\n",
        "# treat this as the article that the user is currently reading\n",
        "k = 0\n",
        "test_article = X_test_tfidf[k]"
      ],
      "execution_count": 43,
      "outputs": []
    },
    {
      "cell_type": "code",
      "metadata": {
        "id": "Y0qwFRV_1a-M",
        "colab_type": "code",
        "colab": {}
      },
      "source": [
        "# return the top n most similar articles as recommendations \n",
        "top_n_recs, rec_sections, rec_headings, sorted_sim_scores = \\\n",
        "get_top_n_rec_articles(X_train_tfidf, X_train,  test_article,X_train_sections, X_train_headings, n = 5 )"
      ],
      "execution_count": 51,
      "outputs": []
    },
    {
      "cell_type": "code",
      "metadata": {
        "id": "yyWqT59o1a6p",
        "colab_type": "code",
        "colab": {
          "base_uri": "https://localhost:8080/",
          "height": 168
        },
        "outputId": "4573c97e-d695-4a96-8647-1236da099f8e"
      },
      "source": [
        "#validate the results\n",
        "#Compare the user's article and corresponding section name with the recommended articles and corresponding section names\n",
        "\n",
        "# similarity scores\n",
        "sorted_sim_scores[:5]"
      ],
      "execution_count": 46,
      "outputs": [
        {
          "output_type": "execute_result",
          "data": {
            "text/plain": [
              "array([[[0.17905536]],\n",
              "\n",
              "       [[0.14565555]],\n",
              "\n",
              "       [[0.10732024]],\n",
              "\n",
              "       [[0.0866299 ]],\n",
              "\n",
              "       [[0.08533849]]])"
            ]
          },
          "metadata": {
            "tags": []
          },
          "execution_count": 46
        }
      ]
    },
    {
      "cell_type": "code",
      "metadata": {
        "id": "NJKLpViF1a5G",
        "colab_type": "code",
        "colab": {
          "base_uri": "https://localhost:8080/",
          "height": 102
        },
        "outputId": "8d401061-2994-4742-b9c5-e911a05c07fa"
      },
      "source": [
        "# user's article\n",
        "X_test[k]"
      ],
      "execution_count": 47,
      "outputs": [
        {
          "output_type": "execute_result",
          "data": {
            "application/vnd.google.colaboratory.intrinsic": {
              "type": "string"
            },
            "text/plain": [
              "'govern constitut nation complianc platform dope sport chairmanship sport secretari line intern convent adopt unesco general confer panel indian olymp associ presid nation anti dope agenc director general member nada member secretari member panel member includ repres ministri home affair financ extern affair human resourc develop health justic offic memorandum date june sport ministri request ministri depart nomin repres india signatori intern convent dope sport adopt unanim unesco general confer purpos convent promot prevent fight dope sport view elimin order code compliant intern convent decid approv compet author constitut nation complianc platform dope sport chairmanship secretari sport compris senior offic ministri depart offic memorandum say'"
            ]
          },
          "metadata": {
            "tags": []
          },
          "execution_count": 47
        }
      ]
    },
    {
      "cell_type": "code",
      "metadata": {
        "id": "oovuyl_G1xP8",
        "colab_type": "code",
        "colab": {
          "base_uri": "https://localhost:8080/",
          "height": 35
        },
        "outputId": "7017a6f0-904a-492b-a3e0-0b28b6786096"
      },
      "source": [
        "# user's article's section name\n",
        "X_test_sections[k]"
      ],
      "execution_count": 48,
      "outputs": [
        {
          "output_type": "execute_result",
          "data": {
            "application/vnd.google.colaboratory.intrinsic": {
              "type": "string"
            },
            "text/plain": [
              "'sport'"
            ]
          },
          "metadata": {
            "tags": []
          },
          "execution_count": 48
        }
      ]
    },
    {
      "cell_type": "code",
      "metadata": {
        "id": "b1jq5NUj1xMM",
        "colab_type": "code",
        "colab": {
          "base_uri": "https://localhost:8080/",
          "height": 101
        },
        "outputId": "d8f68981-b385-4d3f-8bd2-23a773bd17bc"
      },
      "source": [
        "# corresponding section names for top n recs \n",
        "rec_sections"
      ],
      "execution_count": 49,
      "outputs": [
        {
          "output_type": "execute_result",
          "data": {
            "text/plain": [
              "array([['sport'],\n",
              "       ['india'],\n",
              "       ['india'],\n",
              "       ['analysi'],\n",
              "       ['fit']], dtype=object)"
            ]
          },
          "metadata": {
            "tags": []
          },
          "execution_count": 49
        }
      ]
    },
    {
      "cell_type": "code",
      "metadata": {
        "id": "JrPQHd291xKv",
        "colab_type": "code",
        "colab": {
          "base_uri": "https://localhost:8080/",
          "height": 138
        },
        "outputId": "26fa3683-ad00-456a-d078-bcafaf52d708"
      },
      "source": [
        "# top n article recs\n",
        "top_n_recs"
      ],
      "execution_count": 50,
      "outputs": [
        {
          "output_type": "execute_result",
          "data": {
            "text/plain": [
              "array([['sport ministri thursday extend contract foreign coach till septemb year say futur hire year cycl sync olymp game ensur continu year contract give coach basi recommend respect nation sport feder extens current bunch hire coach keep mind postpon olymp year covid pandem contract review annual extend basi overal perform indic achiev athlet major intern event coach backbon sport ecosystem countri ensur right coach elit athlet vital step improv india chanc major intern tournament includ olymp sport minist kiren rijiju say statement decis india long term roadmap olymp prepar confid athlet benefit add indian olymp associ presid narind batra welcom decis say help athlet especi time forc break coronavirus forc lockdown recent meet sport minist repres nsfs rais issu request longer contract period foreign coach exist coach know athlet build batra say frequent chang coach mean athlet adjust tempera coach vice versa hamper level perform batra say decis posit impact perform indian athlet asian game world championship lead olymp continu coach sure improv perform athlet ensur medal india chief say'],\n",
              "       ['staff member indian high commiss islamabad detain pakistani secur agenc week return wagah attari land border cross monday peopl familiar develop say india summon pakistan chargé affair extern affair ministri week protest abduct tortur junior staff member islamabad june hold alleg involv road accid complaint file islamabad polic accus rash drive possess fake pakistani currenc these charg deni delhi pakistani secur agenc detain staff member hold hour releas pakistani charg affair sy haider shah summon extern affair ministri lodg strong protest offici statement issu week say staff member indian mission forcibl abduct pakistani agenc keep illeg custodi hour subject interrog tortur physic assault believ withdraw islamabad indian high commiss islamabad announc facilit return indian nation pakistan wagah attari land border june total indian nation return june return follow remain indian nation repatri land border cross june accord notif post mission websit indian nation repatri ask arrang reach wagah attari border cross hundr indian student peopl visit relat strand pakistan indian govern impos travel restrict march prevent spread covid pandem absenc flight countri peopl ask allow cross land border cross'],\n",
              "       ['good servic regim expect major reform fourth year rationalis rat base prudenc polit consider eas complianc peopl awar matter say peopl say slab rat instead consid place current slab say council consid correct duti distort sector like textil furnitur fertilis tax input finish good read late month return cap till juli reduct slab correct invert duti structur lead increas decreas rat item economi recov nationwid lockdown coronavirus pandem council decis rate rationalis appropri time busi consum advers affect eas complianc ongo process continu person say condit anonym launch india biggest reform replac dozen feder state levi offici say evolv stabilis robust million return file trillion crore collect month add time come finetun effici collect increas access taxpay matter decid council person say union financ minist council apex feder bodi decid matter relat indirect state financ minist council member decis convent unanim expert busi council member say appear complic taxpay year introduc west bengal financ minist amit mitra wednesday tell cnbc difficult common businessman compli circular form relat issu year add effect return mitra comment coincid anniversari second person cite say indirect reform massiv bring uniform structur merg plethora local levi eas complianc taxpay dynam constant improv need issu circular issu direct council state member decis impos person awar council decis say request anonym read data indic econom recoveri fact pertain outcom collect decis share west bengal issu circular meet council decid state issu circular similar centr circular issu centr share financ ministri respond queri relat matter comment anniversari abhishek jain partner consult firm india say govern achiev basic object uniform elimin cascad impact tax mahesh jais partner deloitt india say start fourth year regim embark phase matur larg faceless contactless cashless indirect regim classic exampl technolog drive polici make regim effect effici say jais paramount simplifi assess audit framework emerg phase audit author expect finer relook categoris commod rate rationalis meet challeng aris econom order normal say'],\n",
              "       ['china uncomfort emerg asian power apart checkmat propos india unit nation global forum beij tri contain delhi influenc region throw cordon sanitair india china focus countri india immedi extend neighbourhood establish strateg partnership pakistan deepen diplomat econom militari engag belt road initi leverag purpos china employ induc coercion indo pacif region africa region china unabash interfer intern matter emerg great power tend aggress maximis influenc geopolit arena case china behaviour prematur china discern stride augment comprehens nation power intern extern challeng continu presid jinp sleepless night domest pertain economi peopl liber armi leadership nation moral rise anti china sentiment intern domain china shrink economi generat widespread unemploy chines communist parti drive polici empow state own enterpris impact privat sector contribut gross domest product job reloc manufactur grow debt age popul shrink workforc imping china econom stabil long term announc transform world class militari facilit journey world centr stage multifacet reform undertak enhanc combat power account person monitor reform unhappi profession standard leadership lack practic fight experi think tank assess junctur short capabl requir challeng militari nation moral crucial ingredi china nation moral gaug captiv media reportag diplomat activ unleash brand wolf warrior involv counter western indian media market chines model govern project global leader beneath surfac grow dissent owe spike unemploy choke civil liberti victimis perceiv detractor minor communiti heavi hand approach enhanc control creat danger undercurr open sourc inform dismiss imprison million offici includ senior offici bureaucrat give challeng adventur eastern ladakh appear time base flaw assumpt beij expect resolut politico militari respons india india militari build postur measur hurt economi garner intern support beij jitter india short term strategi restor status ant line actual control combin militari diplomat negoti forc consid exhaust possibl kinet option implement kinet option cater escal institut viabl measur cyber domain remain pois thwart adventur pakistan india long term strategi guid nation interest base pragmat minimis risk face chines decept end way mean align end object wish achiev china mean polit diplomat econom militari inform element nation power intern extern resourc avail govern way effici effect option applic resourc achiev object way select influenc extran parochi factor garner intern support india increment exploit econom pressur point china fast track initi enhanc combat power infrastructur develop evalu mountain strike corp creat deterr capabl strateg imper applic newli creat battl group flag issu offici visit china juli sens leadership concern anxieti rais today india militari capabl china bloodi nose polit leadership requir larg tract real estat border enabl post conflict negoti posit strength develop necessari combat power time interim prudent align like mind nation balanc region militari power equat undertak dilig effect deal china hostil design nation stand unit soldier sailor airmen help sustain highest level militari moral sine victori'],\n",
              "       ['advoc good health long trend overtak bollywood actor post content healthi live instagram twitter youtub social media profil take instagram fee fan monday motiv jolt action post pictur workout dress black leg sport actor realiti judg host healthi chef write import health time luxuri day engulf work duti travel tri best mother wife profession happen simultan leav scroung time add motiv peopl focus health tend health fit tough believ easi make best precious time focus health health wealth invest best invest reap benefit lifetim liter choos time good care swasth raho mast raho year show tone hair poni tail semi sheer pattern leg pink colour sport shoe complet look shilpa post post intern yoga conduct live session shilpa get nutritionist luke coutinho share import nutrit joint book magic immun pill lifestyl better book free shilpa write instagram midst happen world dear friend celebr nutritionist luke coutinho say want write book benefit societi larg game seal deal want free book shilpa go write import good sleep health nutrit foundat import topic hear amid pandem import qualiti sleep balanc nutrit get adequ exercis emot well pillar build healthi robust immun luke expertis life experi bring possibl remedi stay strong healthi time hope differ societi gratitud fill heart swasth raho mast raho shilpa thank kiren rijiju union minist youth affair sport agre unveil cover book book avail download juli']],\n",
              "      dtype=object)"
            ]
          },
          "metadata": {
            "tags": []
          },
          "execution_count": 50
        }
      ]
    },
    {
      "cell_type": "code",
      "metadata": {
        "id": "ZviLHaV01-Hx",
        "colab_type": "code",
        "colab": {
          "base_uri": "https://localhost:8080/",
          "height": 101
        },
        "outputId": "710a4e0d-21e8-456d-d25e-c422a983b505"
      },
      "source": [
        "# corresonding URLs for top n recs \n",
        "rec_headings"
      ],
      "execution_count": 53,
      "outputs": [
        {
          "output_type": "execute_result",
          "data": {
            "text/plain": [
              "array([['ministri extend contract exist foreign coach sept coach tenur'],\n",
              "       ['indian mission staffer detain pakistani agenc return wagah'],\n",
              "       ['regim undergo major reform year'],\n",
              "       ['mistak chines calcul analysi'],\n",
              "       ['shilpa shetti kundra share secret fit easi']], dtype=object)"
            ]
          },
          "metadata": {
            "tags": []
          },
          "execution_count": 53
        }
      ]
    },
    {
      "cell_type": "code",
      "metadata": {
        "id": "HFmQaxXc7lYC",
        "colab_type": "code",
        "colab": {}
      },
      "source": [
        ""
      ],
      "execution_count": null,
      "outputs": []
    }
  ]
}