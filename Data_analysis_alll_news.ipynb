{
  "nbformat": 4,
  "nbformat_minor": 0,
  "metadata": {
    "colab": {
      "name": "Data_analysis_alll_news.ipynb",
      "provenance": []
    },
    "kernelspec": {
      "name": "python3",
      "display_name": "Python 3"
    }
  },
  "cells": [
    {
      "cell_type": "code",
      "metadata": {
        "id": "NTAHEwn2525f",
        "colab_type": "code",
        "colab": {}
      },
      "source": [
        "#from google.colab import drive\n",
        "#drive.mount('/content/drive')"
      ],
      "execution_count": 3,
      "outputs": []
    },
    {
      "cell_type": "code",
      "metadata": {
        "id": "yq_pKBn-6DQS",
        "colab_type": "code",
        "colab": {
          "base_uri": "https://localhost:8080/",
          "height": 296
        },
        "outputId": "e5a4339f-03ea-4786-f1af-0e505da569f6"
      },
      "source": [
        "import pandas as pd\n",
        "df = pd.read_csv('/content/drive/My Drive/edited_topics_all_news.csv')\n",
        "df.head()"
      ],
      "execution_count": 8,
      "outputs": [
        {
          "output_type": "execute_result",
          "data": {
            "text/html": [
              "<div>\n",
              "<style scoped>\n",
              "    .dataframe tbody tr th:only-of-type {\n",
              "        vertical-align: middle;\n",
              "    }\n",
              "\n",
              "    .dataframe tbody tr th {\n",
              "        vertical-align: top;\n",
              "    }\n",
              "\n",
              "    .dataframe thead th {\n",
              "        text-align: right;\n",
              "    }\n",
              "</style>\n",
              "<table border=\"1\" class=\"dataframe\">\n",
              "  <thead>\n",
              "    <tr style=\"text-align: right;\">\n",
              "      <th></th>\n",
              "      <th>Unnamed: 0</th>\n",
              "      <th>Unnamed: 0.1</th>\n",
              "      <th>_id</th>\n",
              "      <th>topic</th>\n",
              "      <th>heading</th>\n",
              "      <th>content</th>\n",
              "      <th>tags</th>\n",
              "      <th>processed_content</th>\n",
              "      <th>processed_topic</th>\n",
              "    </tr>\n",
              "  </thead>\n",
              "  <tbody>\n",
              "    <tr>\n",
              "      <th>0</th>\n",
              "      <td>0</td>\n",
              "      <td>0</td>\n",
              "      <td>5f04d2481f35ed6864839349</td>\n",
              "      <td>[\"West-bengal\"]</td>\n",
              "      <td>[\"\\n                        \",\"\\n             ...</td>\n",
              "      <td>[\"Garbage-lined streets and overflowing drains...</td>\n",
              "      <td>[\"Garbage\",\"Salt-lake\",\"Bidhannagar-municipal-...</td>\n",
              "      <td>garbag line street overflow drain salt lake sp...</td>\n",
              "      <td>west bengal</td>\n",
              "    </tr>\n",
              "    <tr>\n",
              "      <th>1</th>\n",
              "      <td>1</td>\n",
              "      <td>1</td>\n",
              "      <td>5f04d24b1f35ed686483934a</td>\n",
              "      <td>[\"West-bengal\"]</td>\n",
              "      <td>[\"\\n                        \",\"\\n             ...</td>\n",
              "      <td>[\"The Bengal government will set up a plasma b...</td>\n",
              "      <td>[\"Calcutta-medical-college-and-hospital\",\"Coro...</td>\n",
              "      <td>bengal govern plasma bank calcutta medic colle...</td>\n",
              "      <td>west bengal</td>\n",
              "    </tr>\n",
              "    <tr>\n",
              "      <th>2</th>\n",
              "      <td>2</td>\n",
              "      <td>2</td>\n",
              "      <td>5f04d24d1f35ed686483934b</td>\n",
              "      <td>[\"West-bengal\"]</td>\n",
              "      <td>[\"\\n                        \",\"\\n             ...</td>\n",
              "      <td>[\"Bengal set another 24-hour record on Monday ...</td>\n",
              "      <td>[\"Lockdown\",\"Coronavirus\",\"Quarantine\"]</td>\n",
              "      <td>bengal hour record monday highest number covid...</td>\n",
              "      <td>west bengal</td>\n",
              "    </tr>\n",
              "    <tr>\n",
              "      <th>3</th>\n",
              "      <td>3</td>\n",
              "      <td>3</td>\n",
              "      <td>5f04d2501f35ed686483934c</td>\n",
              "      <td>[\"West-bengal\"]</td>\n",
              "      <td>[\"\\n                        \",\"\\n             ...</td>\n",
              "      <td>[\"Chief minister Mamata Banerjee on Monday sai...</td>\n",
              "      <td>[\"Mamata-banerjee\",\"Cyclone-amphan\"]</td>\n",
              "      <td>chief minist mamata banerje monday say problem...</td>\n",
              "      <td>west bengal</td>\n",
              "    </tr>\n",
              "    <tr>\n",
              "      <th>4</th>\n",
              "      <td>4</td>\n",
              "      <td>4</td>\n",
              "      <td>5f04d2531f35ed686483934d</td>\n",
              "      <td>[\"West-bengal\"]</td>\n",
              "      <td>[\"\\n                        \",\"\\n             ...</td>\n",
              "      <td>[\"Some senior historians have raised questions...</td>\n",
              "      <td>[\"Jagat-prakash-nadda\",\"Bharatiya-janata-party...</td>\n",
              "      <td>senior historian rais question attempt pitch b...</td>\n",
              "      <td>west bengal</td>\n",
              "    </tr>\n",
              "  </tbody>\n",
              "</table>\n",
              "</div>"
            ],
            "text/plain": [
              "   Unnamed: 0  ...  processed_topic\n",
              "0           0  ...      west bengal\n",
              "1           1  ...      west bengal\n",
              "2           2  ...      west bengal\n",
              "3           3  ...      west bengal\n",
              "4           4  ...      west bengal\n",
              "\n",
              "[5 rows x 9 columns]"
            ]
          },
          "metadata": {
            "tags": []
          },
          "execution_count": 8
        }
      ]
    },
    {
      "cell_type": "code",
      "metadata": {
        "id": "qHPLFll_65U6",
        "colab_type": "code",
        "colab": {}
      },
      "source": [
        "from sklearn.linear_model import SGDClassifier\n",
        "from sklearn.metrics import accuracy_score, confusion_matrix\n",
        "from sklearn.model_selection import train_test_split\n",
        "from sklearn.naive_bayes import MultinomialNB\n",
        "from sklearn.feature_extraction.text import CountVectorizer, TfidfTransformer\n",
        "import numpy as np\n",
        "import logging\n",
        "%matplotlib inline"
      ],
      "execution_count": 10,
      "outputs": []
    },
    {
      "cell_type": "code",
      "metadata": {
        "id": "m55gtXk59ecX",
        "colab_type": "code",
        "colab": {}
      },
      "source": [
        "#df.processed_content[0]"
      ],
      "execution_count": 13,
      "outputs": []
    },
    {
      "cell_type": "code",
      "metadata": {
        "id": "a5yrP9pA-XIm",
        "colab_type": "code",
        "colab": {}
      },
      "source": [
        "topic_names = df.processed_topic.unique()"
      ],
      "execution_count": 15,
      "outputs": []
    },
    {
      "cell_type": "code",
      "metadata": {
        "id": "eDBnlQxS_e96",
        "colab_type": "code",
        "colab": {
          "base_uri": "https://localhost:8080/",
          "height": 34
        },
        "outputId": "fe3bbeae-f0a7-4466-fd42-43c460aabdbb"
      },
      "source": [
        "num_docs = len(df.content)\n",
        "num_docs"
      ],
      "execution_count": 22,
      "outputs": [
        {
          "output_type": "execute_result",
          "data": {
            "text/plain": [
              "1274"
            ]
          },
          "metadata": {
            "tags": []
          },
          "execution_count": 22
        }
      ]
    },
    {
      "cell_type": "code",
      "metadata": {
        "id": "XRNo469j90r6",
        "colab_type": "code",
        "colab": {}
      },
      "source": [
        "texts = df.processed_content\n",
        "y = np.array(df.processed_topic)\n",
        "id2labels = {x[0]:x[1] for x in enumerate(topic_names)}"
      ],
      "execution_count": 16,
      "outputs": []
    },
    {
      "cell_type": "code",
      "metadata": {
        "id": "t_RY1Vs090u0",
        "colab_type": "code",
        "colab": {
          "base_uri": "https://localhost:8080/",
          "height": 34
        },
        "outputId": "2efffbc9-90d1-45e9-c32d-0bf0bde1573c"
      },
      "source": [
        "import collections\n",
        "import nltk\n",
        "#nltk.download('punkt')\n",
        "\n",
        "#vocabulary\n",
        "counter = collections.Counter()\n",
        "for text in df.content:\n",
        "    for sent in nltk.sent_tokenize(text):\n",
        "        sent = sent.encode(\"utf8\").decode(\"ascii\", \"ignore\").lower()\n",
        "        for word in nltk.word_tokenize(sent):\n",
        "            counter[word] += 1\n",
        "vocab_size = len([w for w, c in counter.most_common() if c >= 5])\n",
        "print(vocab_size)"
      ],
      "execution_count": 19,
      "outputs": [
        {
          "output_type": "stream",
          "text": [
            "10465\n"
          ],
          "name": "stdout"
        }
      ]
    },
    {
      "cell_type": "code",
      "metadata": {
        "id": "uf7V4f9I8GHf",
        "colab_type": "code",
        "colab": {
          "base_uri": "https://localhost:8080/",
          "height": 279
        },
        "outputId": "e58651c0-0743-4a2d-8ea1-12de3aef71f7"
      },
      "source": [
        "#Compute sentences per document\n",
        "\n",
        "import matplotlib.pyplot as plt\n",
        "num_sents = np.zeros(num_docs)\n",
        "for i, text in enumerate(df.content):\n",
        "    for sent in nltk.sent_tokenize(text):\n",
        "        num_sents[i] += 1\n",
        "\n",
        "plt.hist(num_sents, bins=10)\n",
        "plt.xlabel(\"#-sentences\")\n",
        "plt.ylabel(\"counts\")\n",
        "plt.show()"
      ],
      "execution_count": 24,
      "outputs": [
        {
          "output_type": "display_data",
          "data": {
            "image/png": "[encoded data removed]",
            "text/plain": [
              "<Figure size 432x288 with 1 Axes>"
            ]
          },
          "metadata": {
            "tags": [],
            "needs_background": "light"
          }
        }
      ]
    },
    {
      "cell_type": "code",
      "metadata": {
        "id": "fYXerfpr9ZnK",
        "colab_type": "code",
        "colab": {
          "base_uri": "https://localhost:8080/",
          "height": 185
        },
        "outputId": "548bbf09-0859-4c86-fb76-faf9032f4a93"
      },
      "source": [
        "for i in range(90, 100):\n",
        "    print(\"{:d} percentile, #-sentences: {:.0f}\".format(\n",
        "        i, np.percentile(num_sents, i)))"
      ],
      "execution_count": 25,
      "outputs": [
        {
          "output_type": "stream",
          "text": [
            "90 percentile, #-sentences: 44\n",
            "91 percentile, #-sentences: 46\n",
            "92 percentile, #-sentences: 48\n",
            "93 percentile, #-sentences: 51\n",
            "94 percentile, #-sentences: 55\n",
            "95 percentile, #-sentences: 58\n",
            "96 percentile, #-sentences: 61\n",
            "97 percentile, #-sentences: 67\n",
            "98 percentile, #-sentences: 82\n",
            "99 percentile, #-sentences: 108\n"
          ],
          "name": "stdout"
        }
      ]
    },
    {
      "cell_type": "code",
      "metadata": {
        "id": "RRpAPilq_3de",
        "colab_type": "code",
        "colab": {
          "base_uri": "https://localhost:8080/",
          "height": 280
        },
        "outputId": "e5cdeab4-03bc-4ae4-c5e0-44439e55eef6"
      },
      "source": [
        "#Compute words per sentence\n",
        "\n",
        "num_words = []\n",
        "for i, text in enumerate(df.content):\n",
        "    for sent in nltk.sent_tokenize(text):\n",
        "        num_words_in_sent = 0\n",
        "        for word in nltk.word_tokenize(sent):\n",
        "            num_words_in_sent += 1\n",
        "        num_words.append(num_words_in_sent)\n",
        "\n",
        "plt.hist(num_words, bins=10)\n",
        "plt.xlabel(\"#-words\")\n",
        "plt.ylabel(\"counts\")\n",
        "plt.show()"
      ],
      "execution_count": 26,
      "outputs": [
        {
          "output_type": "display_data",
          "data": {
            "image/png": "[encoded data removed]",
            "text/plain": [
              "<Figure size 432x288 with 1 Axes>"
            ]
          },
          "metadata": {
            "tags": [],
            "needs_background": "light"
          }
        }
      ]
    },
    {
      "cell_type": "code",
      "metadata": {
        "id": "YLrLYd0fABVD",
        "colab_type": "code",
        "colab": {
          "base_uri": "https://localhost:8080/",
          "height": 185
        },
        "outputId": "9d5e24e2-9823-4857-ca5f-aa88048ce420"
      },
      "source": [
        "num_words = np.array(num_words)\n",
        "for i in range(90, 100):\n",
        "    print(\"{:d} percentile, #-sentences: {:.0f}\".format(\n",
        "        i, np.percentile(num_words, i)))"
      ],
      "execution_count": 27,
      "outputs": [
        {
          "output_type": "stream",
          "text": [
            "90 percentile, #-sentences: 46\n",
            "91 percentile, #-sentences: 47\n",
            "92 percentile, #-sentences: 48\n",
            "93 percentile, #-sentences: 50\n",
            "94 percentile, #-sentences: 52\n",
            "95 percentile, #-sentences: 54\n",
            "96 percentile, #-sentences: 57\n",
            "97 percentile, #-sentences: 61\n",
            "98 percentile, #-sentences: 66\n",
            "99 percentile, #-sentences: 78\n"
          ],
          "name": "stdout"
        }
      ]
    },
    {
      "cell_type": "code",
      "metadata": {
        "id": "BVlsnlFJAZDq",
        "colab_type": "code",
        "colab": {}
      },
      "source": [
        ""
      ],
      "execution_count": null,
      "outputs": []
    }
  ]
}