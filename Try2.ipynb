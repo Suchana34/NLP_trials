{
  "nbformat": 4,
  "nbformat_minor": 0,
  "metadata": {
    "colab": {
      "name": "Try2.ipynb",
      "provenance": []
    },
    "kernelspec": {
      "name": "python3",
      "display_name": "Python 3"
    }
  },
  "cells": [
    {
      "cell_type": "code",
      "metadata": {
        "id": "oN440HjKkD_L",
        "colab_type": "code",
        "colab": {}
      },
      "source": [
        "import pandas as pd\n",
        "import seaborn as sns"
      ],
      "execution_count": 2,
      "outputs": []
    },
    {
      "cell_type": "code",
      "metadata": {
        "id": "mKTsK4U8Gmro",
        "colab_type": "code",
        "colab": {
          "base_uri": "https://localhost:8080/",
          "height": 34
        },
        "outputId": "b1dbbe1e-1982-43ca-dac9-0884a62752a0"
      },
      "source": [
        "from google.colab import drive\n",
        "drive.mount('/content/drive')\n",
        "df = pd.read_csv('/content/drive/My Drive/result.csv')"
      ],
      "execution_count": 4,
      "outputs": [
        {
          "output_type": "stream",
          "text": [
            "Drive already mounted at /content/drive; to attempt to forcibly remount, call drive.mount(\"/content/drive\", force_remount=True).\n"
          ],
          "name": "stdout"
        }
      ]
    },
    {
      "cell_type": "code",
      "metadata": {
        "id": "MqkID5OcHRR_",
        "colab_type": "code",
        "colab": {
          "base_uri": "https://localhost:8080/",
          "height": 279
        },
        "outputId": "53d96844-1d00-444e-dd68-e0890c4c2925"
      },
      "source": [
        "df.head()"
      ],
      "execution_count": 5,
      "outputs": [
        {
          "output_type": "execute_result",
          "data": {
            "text/html": [
              "<div>\n",
              "<style scoped>\n",
              "    .dataframe tbody tr th:only-of-type {\n",
              "        vertical-align: middle;\n",
              "    }\n",
              "\n",
              "    .dataframe tbody tr th {\n",
              "        vertical-align: top;\n",
              "    }\n",
              "\n",
              "    .dataframe thead th {\n",
              "        text-align: right;\n",
              "    }\n",
              "</style>\n",
              "<table border=\"1\" class=\"dataframe\">\n",
              "  <thead>\n",
              "    <tr style=\"text-align: right;\">\n",
              "      <th></th>\n",
              "      <th>_id</th>\n",
              "      <th>topic</th>\n",
              "      <th>heading</th>\n",
              "      <th>summary</th>\n",
              "      <th>date_published</th>\n",
              "      <th>content</th>\n",
              "      <th>tags</th>\n",
              "    </tr>\n",
              "  </thead>\n",
              "  <tbody>\n",
              "    <tr>\n",
              "      <th>0</th>\n",
              "      <td>5ef0d2b4d83b3587cb500ec9</td>\n",
              "      <td>[\"analysis\"]</td>\n",
              "      <td>[\"Don’t discriminate against non-resident migr...</td>\n",
              "      <td>[\"Create a legal regime that allows them to ac...</td>\n",
              "      <td>[\"Updated: Jun 22, 2020 19:30 IST\"]</td>\n",
              "      <td>[\"Prime Minister (PM) Narendra Modi recently a...</td>\n",
              "      <td>[\"India\",\"Narendra Modi\",\"BIHAR\",\"Haryana\",\"Mi...</td>\n",
              "    </tr>\n",
              "    <tr>\n",
              "      <th>1</th>\n",
              "      <td>5ef0d2b6d83b3587cb500eca</td>\n",
              "      <td>NaN</td>\n",
              "      <td>[\"‘Sino-India ties will deteriorate further’: ...</td>\n",
              "      <td>[\"Other Videos\"]</td>\n",
              "      <td>NaN</td>\n",
              "      <td>NaN</td>\n",
              "      <td>NaN</td>\n",
              "    </tr>\n",
              "    <tr>\n",
              "      <th>2</th>\n",
              "      <td>5ef0d2b8d83b3587cb500ecb</td>\n",
              "      <td>[\"opinion\"]</td>\n",
              "      <td>[\"India has closed military gap with China alo...</td>\n",
              "      <td>[\"Over the past dozen years India has not only...</td>\n",
              "      <td>[\"Updated: Jun 22, 2020 16:01 IST\"]</td>\n",
              "      <td>[\"India has the \",\", says a recent Harvard Uni...</td>\n",
              "      <td>[\"Indian Army\",\"Galwan Valley\",\"India China bo...</td>\n",
              "    </tr>\n",
              "    <tr>\n",
              "      <th>3</th>\n",
              "      <td>5ef0d2bad83b3587cb500ecc</td>\n",
              "      <td>[\"opinion\"]</td>\n",
              "      <td>[\"Ladakh faceoff: Looking back for a way forwa...</td>\n",
              "      <td>[\"DRAW THE LINE Policing the borders and preve...</td>\n",
              "      <td>[\"Updated: Jun 22, 2020 18:06 IST\"]</td>\n",
              "      <td>[\"On December 11, 1917, General Edmund Allenby...</td>\n",
              "      <td>NaN</td>\n",
              "    </tr>\n",
              "    <tr>\n",
              "      <th>4</th>\n",
              "      <td>5ef0d2bdd83b3587cb500ecd</td>\n",
              "      <td>[\"editorials\"]</td>\n",
              "      <td>[\"Redesign the model village scheme | HT Edito...</td>\n",
              "      <td>[\"For MPs to take it up, expand its ambit to a...</td>\n",
              "      <td>[\"Updated: Jun 22, 2020 18:56 IST\"]</td>\n",
              "      <td>[\"A study commissioned by the Union ministry o...</td>\n",
              "      <td>NaN</td>\n",
              "    </tr>\n",
              "  </tbody>\n",
              "</table>\n",
              "</div>"
            ],
            "text/plain": [
              "                        _id  ...                                               tags\n",
              "0  5ef0d2b4d83b3587cb500ec9  ...  [\"India\",\"Narendra Modi\",\"BIHAR\",\"Haryana\",\"Mi...\n",
              "1  5ef0d2b6d83b3587cb500eca  ...                                                NaN\n",
              "2  5ef0d2b8d83b3587cb500ecb  ...  [\"Indian Army\",\"Galwan Valley\",\"India China bo...\n",
              "3  5ef0d2bad83b3587cb500ecc  ...                                                NaN\n",
              "4  5ef0d2bdd83b3587cb500ecd  ...                                                NaN\n",
              "\n",
              "[5 rows x 7 columns]"
            ]
          },
          "metadata": {
            "tags": []
          },
          "execution_count": 5
        }
      ]
    },
    {
      "cell_type": "code",
      "metadata": {
        "id": "UKSoBS3yHkTg",
        "colab_type": "code",
        "colab": {
          "base_uri": "https://localhost:8080/",
          "height": 34
        },
        "outputId": "afb425d9-dd45-444b-e0ef-f3372b0a52d8"
      },
      "source": [
        "df.shape"
      ],
      "execution_count": 7,
      "outputs": [
        {
          "output_type": "execute_result",
          "data": {
            "text/plain": [
              "(114, 7)"
            ]
          },
          "metadata": {
            "tags": []
          },
          "execution_count": 7
        }
      ]
    },
    {
      "cell_type": "code",
      "metadata": {
        "id": "VFXtrT9VHpfe",
        "colab_type": "code",
        "colab": {
          "base_uri": "https://localhost:8080/",
          "height": 151
        },
        "outputId": "3c0b5312-95d5-4dab-e7b3-b771861394e2"
      },
      "source": [
        "df.isnull().sum()"
      ],
      "execution_count": 8,
      "outputs": [
        {
          "output_type": "execute_result",
          "data": {
            "text/plain": [
              "_id                0\n",
              "topic             10\n",
              "heading            0\n",
              "summary            1\n",
              "date_published    10\n",
              "content           11\n",
              "tags              20\n",
              "dtype: int64"
            ]
          },
          "metadata": {
            "tags": []
          },
          "execution_count": 8
        }
      ]
    },
    {
      "cell_type": "code",
      "metadata": {
        "id": "8EiFAHKLIDaz",
        "colab_type": "code",
        "colab": {}
      },
      "source": [
        "df.dropna(subset=['content'], inplace = True)\n",
        "df.dropna(subset=['summary'], inplace = True)"
      ],
      "execution_count": 26,
      "outputs": []
    },
    {
      "cell_type": "code",
      "metadata": {
        "id": "sL80A00cILx1",
        "colab_type": "code",
        "colab": {
          "base_uri": "https://localhost:8080/",
          "height": 34
        },
        "outputId": "1ebb0d3b-695d-4682-b5bc-a73ed3ddb425"
      },
      "source": [
        "df.shape"
      ],
      "execution_count": 27,
      "outputs": [
        {
          "output_type": "execute_result",
          "data": {
            "text/plain": [
              "(103, 8)"
            ]
          },
          "metadata": {
            "tags": []
          },
          "execution_count": 27
        }
      ]
    },
    {
      "cell_type": "code",
      "metadata": {
        "id": "KCidvA3nIPz9",
        "colab_type": "code",
        "colab": {
          "base_uri": "https://localhost:8080/",
          "height": 454
        },
        "outputId": "3f529c3e-ec1c-4379-e39f-f96cf2fa3ed2"
      },
      "source": [
        "df.groupby('topic').heading.count()"
      ],
      "execution_count": 28,
      "outputs": [
        {
          "output_type": "execute_result",
          "data": {
            "text/plain": [
              "topic\n",
              "[\"analysis\"]               6\n",
              "[\"art-and-culture\"]        1\n",
              "[\"bollywood\"]              5\n",
              "[\"business\"]               6\n",
              "[\"columns\"]                2\n",
              "[\"cricket\"]                3\n",
              "[\"delhi\"]                  4\n",
              "[\"editorials\"]             4\n",
              "[\"education\"]              9\n",
              "[\"fashion-and-trends\"]     4\n",
              "[\"fitness\"]                1\n",
              "[\"football\"]               2\n",
              "[\"india\"]                 12\n",
              "[\"it-s-viral\"]             8\n",
              "[\"more-lifestyle\"]         1\n",
              "[\"mumbai\"]                 7\n",
              "[\"music\"]                  1\n",
              "[\"opinion\"]                2\n",
              "[\"other-sports\"]           2\n",
              "[\"regional-movies\"]        1\n",
              "[\"tennis\"]                 1\n",
              "[\"travel\"]                 1\n",
              "[\"tv\"]                     8\n",
              "[\"world\"]                  8\n",
              "Name: heading, dtype: int64"
            ]
          },
          "metadata": {
            "tags": []
          },
          "execution_count": 28
        }
      ]
    },
    {
      "cell_type": "code",
      "metadata": {
        "id": "XcdD1FHnIa3_",
        "colab_type": "code",
        "colab": {
          "base_uri": "https://localhost:8080/",
          "height": 279
        },
        "outputId": "4ca09bee-917e-4b88-de1f-ceb88775ab83"
      },
      "source": [
        "df['len_article'] = df.content.str.len()\n",
        "df.head()"
      ],
      "execution_count": 16,
      "outputs": [
        {
          "output_type": "execute_result",
          "data": {
            "text/html": [
              "<div>\n",
              "<style scoped>\n",
              "    .dataframe tbody tr th:only-of-type {\n",
              "        vertical-align: middle;\n",
              "    }\n",
              "\n",
              "    .dataframe tbody tr th {\n",
              "        vertical-align: top;\n",
              "    }\n",
              "\n",
              "    .dataframe thead th {\n",
              "        text-align: right;\n",
              "    }\n",
              "</style>\n",
              "<table border=\"1\" class=\"dataframe\">\n",
              "  <thead>\n",
              "    <tr style=\"text-align: right;\">\n",
              "      <th></th>\n",
              "      <th>_id</th>\n",
              "      <th>topic</th>\n",
              "      <th>heading</th>\n",
              "      <th>summary</th>\n",
              "      <th>date_published</th>\n",
              "      <th>content</th>\n",
              "      <th>tags</th>\n",
              "      <th>len_article</th>\n",
              "    </tr>\n",
              "  </thead>\n",
              "  <tbody>\n",
              "    <tr>\n",
              "      <th>0</th>\n",
              "      <td>5ef0d2b4d83b3587cb500ec9</td>\n",
              "      <td>[\"analysis\"]</td>\n",
              "      <td>[\"Don’t discriminate against non-resident migr...</td>\n",
              "      <td>[\"Create a legal regime that allows them to ac...</td>\n",
              "      <td>[\"Updated: Jun 22, 2020 19:30 IST\"]</td>\n",
              "      <td>[\"Prime Minister (PM) Narendra Modi recently a...</td>\n",
              "      <td>[\"India\",\"Narendra Modi\",\"BIHAR\",\"Haryana\",\"Mi...</td>\n",
              "      <td>5820</td>\n",
              "    </tr>\n",
              "    <tr>\n",
              "      <th>2</th>\n",
              "      <td>5ef0d2b8d83b3587cb500ecb</td>\n",
              "      <td>[\"opinion\"]</td>\n",
              "      <td>[\"India has closed military gap with China alo...</td>\n",
              "      <td>[\"Over the past dozen years India has not only...</td>\n",
              "      <td>[\"Updated: Jun 22, 2020 16:01 IST\"]</td>\n",
              "      <td>[\"India has the \",\", says a recent Harvard Uni...</td>\n",
              "      <td>[\"Indian Army\",\"Galwan Valley\",\"India China bo...</td>\n",
              "      <td>3797</td>\n",
              "    </tr>\n",
              "    <tr>\n",
              "      <th>3</th>\n",
              "      <td>5ef0d2bad83b3587cb500ecc</td>\n",
              "      <td>[\"opinion\"]</td>\n",
              "      <td>[\"Ladakh faceoff: Looking back for a way forwa...</td>\n",
              "      <td>[\"DRAW THE LINE Policing the borders and preve...</td>\n",
              "      <td>[\"Updated: Jun 22, 2020 18:06 IST\"]</td>\n",
              "      <td>[\"On December 11, 1917, General Edmund Allenby...</td>\n",
              "      <td>NaN</td>\n",
              "      <td>5583</td>\n",
              "    </tr>\n",
              "    <tr>\n",
              "      <th>4</th>\n",
              "      <td>5ef0d2bdd83b3587cb500ecd</td>\n",
              "      <td>[\"editorials\"]</td>\n",
              "      <td>[\"Redesign the model village scheme | HT Edito...</td>\n",
              "      <td>[\"For MPs to take it up, expand its ambit to a...</td>\n",
              "      <td>[\"Updated: Jun 22, 2020 18:56 IST\"]</td>\n",
              "      <td>[\"A study commissioned by the Union ministry o...</td>\n",
              "      <td>NaN</td>\n",
              "      <td>1732</td>\n",
              "    </tr>\n",
              "    <tr>\n",
              "      <th>5</th>\n",
              "      <td>5ef0d2bed83b3587cb500ece</td>\n",
              "      <td>[\"columns\"]</td>\n",
              "      <td>[\"How China has overplayed its hand, writes Ba...</td>\n",
              "      <td>[\"Beijing’s belligerence reflects a familiar h...</td>\n",
              "      <td>[\"Updated: Jun 22, 2020 19:31 IST\"]</td>\n",
              "      <td>[\"Almost 2,500 years ago, Greek historian, Thu...</td>\n",
              "      <td>[\"CHINA\",\"India\"]</td>\n",
              "      <td>5447</td>\n",
              "    </tr>\n",
              "  </tbody>\n",
              "</table>\n",
              "</div>"
            ],
            "text/plain": [
              "                        _id  ... len_article\n",
              "0  5ef0d2b4d83b3587cb500ec9  ...        5820\n",
              "2  5ef0d2b8d83b3587cb500ecb  ...        3797\n",
              "3  5ef0d2bad83b3587cb500ecc  ...        5583\n",
              "4  5ef0d2bdd83b3587cb500ecd  ...        1732\n",
              "5  5ef0d2bed83b3587cb500ece  ...        5447\n",
              "\n",
              "[5 rows x 8 columns]"
            ]
          },
          "metadata": {
            "tags": []
          },
          "execution_count": 16
        }
      ]
    },
    {
      "cell_type": "code",
      "metadata": {
        "id": "7AZc3v7zIvJp",
        "colab_type": "code",
        "colab": {
          "base_uri": "https://localhost:8080/",
          "height": 297
        },
        "outputId": "566d4793-4699-447c-b23f-e77cf4fe1ae1"
      },
      "source": [
        "sns.distplot(df.len_article)"
      ],
      "execution_count": 17,
      "outputs": [
        {
          "output_type": "execute_result",
          "data": {
            "text/plain": [
              "<matplotlib.axes._subplots.AxesSubplot at 0x7f8c5ba03d68>"
            ]
          },
          "metadata": {
            "tags": []
          },
          "execution_count": 17
        },
        {
          "output_type": "display_data",
          "data": {
            "image/png": "[encoded data removed]",
            "text/plain": [
              "<Figure size 432x288 with 1 Axes>"
            ]
          },
          "metadata": {
            "tags": [],
            "needs_background": "light"
          }
        }
      ]
    },
    {
      "cell_type": "code",
      "metadata": {
        "id": "PRmIRCrJJJ6N",
        "colab_type": "code",
        "colab": {}
      },
      "source": [
        "import nltk\n",
        "from nltk import word_tokenize\n",
        "from nltk.corpus import stopwords\n",
        "from string import punctuation\n",
        "from nltk.stem import WordNetLemmatizer\n",
        "from nltk import sent_tokenize\n",
        "import re, spacy, gensim\n",
        "#nltk.download('punkt')"
      ],
      "execution_count": 37,
      "outputs": []
    },
    {
      "cell_type": "code",
      "metadata": {
        "id": "K4LxCEDUSE0j",
        "colab_type": "code",
        "colab": {}
      },
      "source": [
        "#sent_tokenized = [sent for sent in nltk.sent_tokenize(\"\")\n",
        "# Word Tokenize first sentence from sent_tokenized, save as words_tokenized\n",
        "#word_tokenized = [word for word in nltk.word_tokenize(sent_tokenized[0])]\n",
        "#filtered = [word for word in word_tokenized if re.search('[a-zA-Z]', word)]\n",
        "\n",
        "df.summary = df.summary.str.lower()\n",
        "df['tokenized_summary'] = df.summary.apply(lambda x: word_tokenize(x))"
      ],
      "execution_count": 43,
      "outputs": []
    },
    {
      "cell_type": "code",
      "metadata": {
        "id": "N5sscJptSG-r",
        "colab_type": "code",
        "colab": {
          "base_uri": "https://localhost:8080/",
          "height": 363
        },
        "outputId": "e6c34379-7e06-416c-ed0e-ec0213b5ee25"
      },
      "source": [
        "df.head()"
      ],
      "execution_count": 44,
      "outputs": [
        {
          "output_type": "execute_result",
          "data": {
            "text/html": [
              "<div>\n",
              "<style scoped>\n",
              "    .dataframe tbody tr th:only-of-type {\n",
              "        vertical-align: middle;\n",
              "    }\n",
              "\n",
              "    .dataframe tbody tr th {\n",
              "        vertical-align: top;\n",
              "    }\n",
              "\n",
              "    .dataframe thead th {\n",
              "        text-align: right;\n",
              "    }\n",
              "</style>\n",
              "<table border=\"1\" class=\"dataframe\">\n",
              "  <thead>\n",
              "    <tr style=\"text-align: right;\">\n",
              "      <th></th>\n",
              "      <th>_id</th>\n",
              "      <th>topic</th>\n",
              "      <th>heading</th>\n",
              "      <th>summary</th>\n",
              "      <th>date_published</th>\n",
              "      <th>content</th>\n",
              "      <th>tags</th>\n",
              "      <th>len_article</th>\n",
              "      <th>tokenized_summary</th>\n",
              "    </tr>\n",
              "  </thead>\n",
              "  <tbody>\n",
              "    <tr>\n",
              "      <th>0</th>\n",
              "      <td>5ef0d2b4d83b3587cb500ec9</td>\n",
              "      <td>[\"analysis\"]</td>\n",
              "      <td>[\"Don’t discriminate against non-resident migr...</td>\n",
              "      <td>[\"create a legal regime that allows them to ac...</td>\n",
              "      <td>[\"Updated: Jun 22, 2020 19:30 IST\"]</td>\n",
              "      <td>[\"Prime Minister (PM) Narendra Modi recently a...</td>\n",
              "      <td>[\"India\",\"Narendra Modi\",\"BIHAR\",\"Haryana\",\"Mi...</td>\n",
              "      <td>5820</td>\n",
              "      <td>[[, ``, create, a, legal, regime, that, allows...</td>\n",
              "    </tr>\n",
              "    <tr>\n",
              "      <th>2</th>\n",
              "      <td>5ef0d2b8d83b3587cb500ecb</td>\n",
              "      <td>[\"opinion\"]</td>\n",
              "      <td>[\"India has closed military gap with China alo...</td>\n",
              "      <td>[\"over the past dozen years india has not only...</td>\n",
              "      <td>[\"Updated: Jun 22, 2020 16:01 IST\"]</td>\n",
              "      <td>[\"India has the \",\", says a recent Harvard Uni...</td>\n",
              "      <td>[\"Indian Army\",\"Galwan Valley\",\"India China bo...</td>\n",
              "      <td>3797</td>\n",
              "      <td>[[, ``, over, the, past, dozen, years, india, ...</td>\n",
              "    </tr>\n",
              "    <tr>\n",
              "      <th>3</th>\n",
              "      <td>5ef0d2bad83b3587cb500ecc</td>\n",
              "      <td>[\"opinion\"]</td>\n",
              "      <td>[\"Ladakh faceoff: Looking back for a way forwa...</td>\n",
              "      <td>[\"draw the line policing the borders and preve...</td>\n",
              "      <td>[\"Updated: Jun 22, 2020 18:06 IST\"]</td>\n",
              "      <td>[\"On December 11, 1917, General Edmund Allenby...</td>\n",
              "      <td>NaN</td>\n",
              "      <td>5583</td>\n",
              "      <td>[[, ``, draw, the, line, policing, the, border...</td>\n",
              "    </tr>\n",
              "    <tr>\n",
              "      <th>4</th>\n",
              "      <td>5ef0d2bdd83b3587cb500ecd</td>\n",
              "      <td>[\"editorials\"]</td>\n",
              "      <td>[\"Redesign the model village scheme | HT Edito...</td>\n",
              "      <td>[\"for mps to take it up, expand its ambit to a...</td>\n",
              "      <td>[\"Updated: Jun 22, 2020 18:56 IST\"]</td>\n",
              "      <td>[\"A study commissioned by the Union ministry o...</td>\n",
              "      <td>NaN</td>\n",
              "      <td>1732</td>\n",
              "      <td>[[, ``, for, mps, to, take, it, up, ,, expand,...</td>\n",
              "    </tr>\n",
              "    <tr>\n",
              "      <th>5</th>\n",
              "      <td>5ef0d2bed83b3587cb500ece</td>\n",
              "      <td>[\"columns\"]</td>\n",
              "      <td>[\"How China has overplayed its hand, writes Ba...</td>\n",
              "      <td>[\"beijing’s belligerence reflects a familiar h...</td>\n",
              "      <td>[\"Updated: Jun 22, 2020 19:31 IST\"]</td>\n",
              "      <td>[\"Almost 2,500 years ago, Greek historian, Thu...</td>\n",
              "      <td>[\"CHINA\",\"India\"]</td>\n",
              "      <td>5447</td>\n",
              "      <td>[[, ``, beijing, ’, s, belligerence, reflects,...</td>\n",
              "    </tr>\n",
              "  </tbody>\n",
              "</table>\n",
              "</div>"
            ],
            "text/plain": [
              "                        _id  ...                                  tokenized_summary\n",
              "0  5ef0d2b4d83b3587cb500ec9  ...  [[, ``, create, a, legal, regime, that, allows...\n",
              "2  5ef0d2b8d83b3587cb500ecb  ...  [[, ``, over, the, past, dozen, years, india, ...\n",
              "3  5ef0d2bad83b3587cb500ecc  ...  [[, ``, draw, the, line, policing, the, border...\n",
              "4  5ef0d2bdd83b3587cb500ecd  ...  [[, ``, for, mps, to, take, it, up, ,, expand,...\n",
              "5  5ef0d2bed83b3587cb500ece  ...  [[, ``, beijing, ’, s, belligerence, reflects,...\n",
              "\n",
              "[5 rows x 9 columns]"
            ]
          },
          "metadata": {
            "tags": []
          },
          "execution_count": 44
        }
      ]
    },
    {
      "cell_type": "code",
      "metadata": {
        "id": "GvYgu6Z5Teay",
        "colab_type": "code",
        "colab": {}
      },
      "source": [
        "stops = list(set(stopwords.words())) + list(punctuation) + ['s', \"'\", 't', 'and', '\"', 'a', 'or', '/', 'in',\n",
        "                                                                    'for', '&', '-', \"''\"]"
      ],
      "execution_count": 52,
      "outputs": []
    },
    {
      "cell_type": "code",
      "metadata": {
        "id": "FxGDmbkOTxmK",
        "colab_type": "code",
        "colab": {}
      },
      "source": [
        "#nltk.download('stop_words')\n",
        "def remove_stops(text):\n",
        "    text_no_stops = []\n",
        "    for i in text:\n",
        "        if i not in stops:\n",
        "            if len(i) == 1:\n",
        "                pass\n",
        "            else:\n",
        "                text_no_stops.append(i)\n",
        "        else:\n",
        "            pass\n",
        "    return text_no_stops\n",
        "df['tokenized_summary'] = df['tokenized_summary'].apply(lambda x: remove_stops(x))"
      ],
      "execution_count": 57,
      "outputs": []
    },
    {
      "cell_type": "code",
      "metadata": {
        "id": "hN8v6aviUGQW",
        "colab_type": "code",
        "colab": {
          "base_uri": "https://localhost:8080/",
          "height": 363
        },
        "outputId": "489353a7-55cf-4b70-a477-8db08a27cb3d"
      },
      "source": [
        "df.head()\n"
      ],
      "execution_count": 58,
      "outputs": [
        {
          "output_type": "execute_result",
          "data": {
            "text/html": [
              "<div>\n",
              "<style scoped>\n",
              "    .dataframe tbody tr th:only-of-type {\n",
              "        vertical-align: middle;\n",
              "    }\n",
              "\n",
              "    .dataframe tbody tr th {\n",
              "        vertical-align: top;\n",
              "    }\n",
              "\n",
              "    .dataframe thead th {\n",
              "        text-align: right;\n",
              "    }\n",
              "</style>\n",
              "<table border=\"1\" class=\"dataframe\">\n",
              "  <thead>\n",
              "    <tr style=\"text-align: right;\">\n",
              "      <th></th>\n",
              "      <th>_id</th>\n",
              "      <th>topic</th>\n",
              "      <th>heading</th>\n",
              "      <th>summary</th>\n",
              "      <th>date_published</th>\n",
              "      <th>content</th>\n",
              "      <th>tags</th>\n",
              "      <th>len_article</th>\n",
              "      <th>tokenized_summary</th>\n",
              "    </tr>\n",
              "  </thead>\n",
              "  <tbody>\n",
              "    <tr>\n",
              "      <th>0</th>\n",
              "      <td>5ef0d2b4d83b3587cb500ec9</td>\n",
              "      <td>[\"analysis\"]</td>\n",
              "      <td>[\"Don’t discriminate against non-resident migr...</td>\n",
              "      <td>[\"create a legal regime that allows them to ac...</td>\n",
              "      <td>[\"Updated: Jun 22, 2020 19:30 IST\"]</td>\n",
              "      <td>[\"Prime Minister (PM) Narendra Modi recently a...</td>\n",
              "      <td>[\"India\",\"Narendra Modi\",\"BIHAR\",\"Haryana\",\"Mi...</td>\n",
              "      <td>5820</td>\n",
              "      <td>[``, create, legal, regime, allows, access, sa...</td>\n",
              "    </tr>\n",
              "    <tr>\n",
              "      <th>2</th>\n",
              "      <td>5ef0d2b8d83b3587cb500ecb</td>\n",
              "      <td>[\"opinion\"]</td>\n",
              "      <td>[\"India has closed military gap with China alo...</td>\n",
              "      <td>[\"over the past dozen years india has not only...</td>\n",
              "      <td>[\"Updated: Jun 22, 2020 16:01 IST\"]</td>\n",
              "      <td>[\"India has the \",\", says a recent Harvard Uni...</td>\n",
              "      <td>[\"Indian Army\",\"Galwan Valley\",\"India China bo...</td>\n",
              "      <td>3797</td>\n",
              "      <td>[``, past, dozen, years, india, closed, gap, c...</td>\n",
              "    </tr>\n",
              "    <tr>\n",
              "      <th>3</th>\n",
              "      <td>5ef0d2bad83b3587cb500ecc</td>\n",
              "      <td>[\"opinion\"]</td>\n",
              "      <td>[\"Ladakh faceoff: Looking back for a way forwa...</td>\n",
              "      <td>[\"draw the line policing the borders and preve...</td>\n",
              "      <td>[\"Updated: Jun 22, 2020 18:06 IST\"]</td>\n",
              "      <td>[\"On December 11, 1917, General Edmund Allenby...</td>\n",
              "      <td>NaN</td>\n",
              "      <td>5583</td>\n",
              "      <td>[``, draw, line, policing, borders, preventing...</td>\n",
              "    </tr>\n",
              "    <tr>\n",
              "      <th>4</th>\n",
              "      <td>5ef0d2bdd83b3587cb500ecd</td>\n",
              "      <td>[\"editorials\"]</td>\n",
              "      <td>[\"Redesign the model village scheme | HT Edito...</td>\n",
              "      <td>[\"for mps to take it up, expand its ambit to a...</td>\n",
              "      <td>[\"Updated: Jun 22, 2020 18:56 IST\"]</td>\n",
              "      <td>[\"A study commissioned by the Union ministry o...</td>\n",
              "      <td>NaN</td>\n",
              "      <td>1732</td>\n",
              "      <td>[``, mps, expand, ambit, cluster, villages, pr...</td>\n",
              "    </tr>\n",
              "    <tr>\n",
              "      <th>5</th>\n",
              "      <td>5ef0d2bed83b3587cb500ece</td>\n",
              "      <td>[\"columns\"]</td>\n",
              "      <td>[\"How China has overplayed its hand, writes Ba...</td>\n",
              "      <td>[\"beijing’s belligerence reflects a familiar h...</td>\n",
              "      <td>[\"Updated: Jun 22, 2020 19:31 IST\"]</td>\n",
              "      <td>[\"Almost 2,500 years ago, Greek historian, Thu...</td>\n",
              "      <td>[\"CHINA\",\"India\"]</td>\n",
              "      <td>5447</td>\n",
              "      <td>[``, beijing, belligerence, reflects, familiar...</td>\n",
              "    </tr>\n",
              "  </tbody>\n",
              "</table>\n",
              "</div>"
            ],
            "text/plain": [
              "                        _id  ...                                  tokenized_summary\n",
              "0  5ef0d2b4d83b3587cb500ec9  ...  [``, create, legal, regime, allows, access, sa...\n",
              "2  5ef0d2b8d83b3587cb500ecb  ...  [``, past, dozen, years, india, closed, gap, c...\n",
              "3  5ef0d2bad83b3587cb500ecc  ...  [``, draw, line, policing, borders, preventing...\n",
              "4  5ef0d2bdd83b3587cb500ecd  ...  [``, mps, expand, ambit, cluster, villages, pr...\n",
              "5  5ef0d2bed83b3587cb500ece  ...  [``, beijing, belligerence, reflects, familiar...\n",
              "\n",
              "[5 rows x 9 columns]"
            ]
          },
          "metadata": {
            "tags": []
          },
          "execution_count": 58
        }
      ]
    },
    {
      "cell_type": "code",
      "metadata": {
        "id": "ejSSLqb_VeOD",
        "colab_type": "code",
        "colab": {}
      },
      "source": [
        "lemmatizer = nltk.stem.WordNetLemmatizer()"
      ],
      "execution_count": 59,
      "outputs": []
    },
    {
      "cell_type": "code",
      "metadata": {
        "id": "aQ4wcvKTV9TU",
        "colab_type": "code",
        "colab": {
          "base_uri": "https://localhost:8080/",
          "height": 363
        },
        "outputId": "8ecff3d4-6a36-44b3-d87c-2f93451f45c4"
      },
      "source": [
        "#nltk.download('wordnet')\n",
        "def lemmatize_text(text):\n",
        "    lemmatized = []\n",
        "    for word in text:\n",
        "        lemmatized.append(lemmatizer.lemmatize(word))\n",
        "    return lemmatized\n",
        "df['tokenized_summary'] = df['tokenized_summary'].apply(lemmatize_text)\n",
        "df['tokenized_summary'] = df['tokenized_summary'].apply(lambda x: ' '.join(x))\n",
        "df.head()"
      ],
      "execution_count": 91,
      "outputs": [
        {
          "output_type": "execute_result",
          "data": {
            "text/html": [
              "<div>\n",
              "<style scoped>\n",
              "    .dataframe tbody tr th:only-of-type {\n",
              "        vertical-align: middle;\n",
              "    }\n",
              "\n",
              "    .dataframe tbody tr th {\n",
              "        vertical-align: top;\n",
              "    }\n",
              "\n",
              "    .dataframe thead th {\n",
              "        text-align: right;\n",
              "    }\n",
              "</style>\n",
              "<table border=\"1\" class=\"dataframe\">\n",
              "  <thead>\n",
              "    <tr style=\"text-align: right;\">\n",
              "      <th></th>\n",
              "      <th>_id</th>\n",
              "      <th>topic</th>\n",
              "      <th>heading</th>\n",
              "      <th>summary</th>\n",
              "      <th>date_published</th>\n",
              "      <th>content</th>\n",
              "      <th>tags</th>\n",
              "      <th>len_article</th>\n",
              "      <th>tokenized_summary</th>\n",
              "    </tr>\n",
              "  </thead>\n",
              "  <tbody>\n",
              "    <tr>\n",
              "      <th>0</th>\n",
              "      <td>5ef0d2b4d83b3587cb500ec9</td>\n",
              "      <td>[\"analysis\"]</td>\n",
              "      <td>[\"Don’t discriminate against non-resident migr...</td>\n",
              "      <td>[\"create a legal regime that allows them to ac...</td>\n",
              "      <td>[\"Updated: Jun 22, 2020 19:30 IST\"]</td>\n",
              "      <td>[\"Prime Minister (PM) Narendra Modi recently a...</td>\n",
              "      <td>[\"India\",\"Narendra Modi\",\"BIHAR\",\"Haryana\",\"Mi...</td>\n",
              "      <td>5820</td>\n",
              "      <td>`` create legal regime allows access safety sh...</td>\n",
              "    </tr>\n",
              "    <tr>\n",
              "      <th>2</th>\n",
              "      <td>5ef0d2b8d83b3587cb500ecb</td>\n",
              "      <td>[\"opinion\"]</td>\n",
              "      <td>[\"India has closed military gap with China alo...</td>\n",
              "      <td>[\"over the past dozen years india has not only...</td>\n",
              "      <td>[\"Updated: Jun 22, 2020 16:01 IST\"]</td>\n",
              "      <td>[\"India has the \",\", says a recent Harvard Uni...</td>\n",
              "      <td>[\"Indian Army\",\"Galwan Valley\",\"India China bo...</td>\n",
              "      <td>3797</td>\n",
              "      <td>`` past dozen year india closed gap china mili...</td>\n",
              "    </tr>\n",
              "    <tr>\n",
              "      <th>3</th>\n",
              "      <td>5ef0d2bad83b3587cb500ecc</td>\n",
              "      <td>[\"opinion\"]</td>\n",
              "      <td>[\"Ladakh faceoff: Looking back for a way forwa...</td>\n",
              "      <td>[\"draw the line policing the borders and preve...</td>\n",
              "      <td>[\"Updated: Jun 22, 2020 18:06 IST\"]</td>\n",
              "      <td>[\"On December 11, 1917, General Edmund Allenby...</td>\n",
              "      <td>NaN</td>\n",
              "      <td>5583</td>\n",
              "      <td>`` draw line policing border preventing intrus...</td>\n",
              "    </tr>\n",
              "    <tr>\n",
              "      <th>4</th>\n",
              "      <td>5ef0d2bdd83b3587cb500ecd</td>\n",
              "      <td>[\"editorials\"]</td>\n",
              "      <td>[\"Redesign the model village scheme | HT Edito...</td>\n",
              "      <td>[\"for mps to take it up, expand its ambit to a...</td>\n",
              "      <td>[\"Updated: Jun 22, 2020 18:56 IST\"]</td>\n",
              "      <td>[\"A study commissioned by the Union ministry o...</td>\n",
              "      <td>NaN</td>\n",
              "      <td>1732</td>\n",
              "      <td>`` mp expand ambit cluster village provide fund</td>\n",
              "    </tr>\n",
              "    <tr>\n",
              "      <th>5</th>\n",
              "      <td>5ef0d2bed83b3587cb500ece</td>\n",
              "      <td>[\"columns\"]</td>\n",
              "      <td>[\"How China has overplayed its hand, writes Ba...</td>\n",
              "      <td>[\"beijing’s belligerence reflects a familiar h...</td>\n",
              "      <td>[\"Updated: Jun 22, 2020 19:31 IST\"]</td>\n",
              "      <td>[\"Almost 2,500 years ago, Greek historian, Thu...</td>\n",
              "      <td>[\"CHINA\",\"India\"]</td>\n",
              "      <td>5447</td>\n",
              "      <td>`` beijing belligerence reflects familiar hist...</td>\n",
              "    </tr>\n",
              "  </tbody>\n",
              "</table>\n",
              "</div>"
            ],
            "text/plain": [
              "                        _id  ...                                  tokenized_summary\n",
              "0  5ef0d2b4d83b3587cb500ec9  ...  `` create legal regime allows access safety sh...\n",
              "2  5ef0d2b8d83b3587cb500ecb  ...  `` past dozen year india closed gap china mili...\n",
              "3  5ef0d2bad83b3587cb500ecc  ...  `` draw line policing border preventing intrus...\n",
              "4  5ef0d2bdd83b3587cb500ecd  ...    `` mp expand ambit cluster village provide fund\n",
              "5  5ef0d2bed83b3587cb500ece  ...  `` beijing belligerence reflects familiar hist...\n",
              "\n",
              "[5 rows x 9 columns]"
            ]
          },
          "metadata": {
            "tags": []
          },
          "execution_count": 91
        }
      ]
    },
    {
      "cell_type": "code",
      "metadata": {
        "id": "RZ6s5fppKH40",
        "colab_type": "code",
        "colab": {}
      },
      "source": [
        "from sklearn.decomposition import LatentDirichletAllocation, TruncatedSVD\n",
        "from sklearn.feature_extraction.text import CountVectorizer, TfidfVectorizer\n",
        "from sklearn.model_selection import GridSearchCV\n",
        "from pprint import pprint\n",
        "from sklearn.feature_extraction import text\n",
        "from sklearn.cluster import KMeans\n",
        "from nltk.stem import PorterStemmer\n",
        "from nltk.stem.snowball import SnowballStemmer\n",
        "from nltk.corpus import words\n",
        "from nltk.tokenize import RegexpTokenizer"
      ],
      "execution_count": 62,
      "outputs": []
    },
    {
      "cell_type": "code",
      "metadata": {
        "id": "vlHaJ6HtXYY3",
        "colab_type": "code",
        "colab": {}
      },
      "source": [
        "#stemmer = PorterStemmer()\n",
        "#def stem_list(lst):\n",
        "    #stemmed_list = []\n",
        "    #for i in lst:\n",
        "   #     stemmed_list.append(stemmer.stem(i))\n",
        "  #  stem_string = ' '.join(stemmed_list)\n",
        " #   return stem_string\n",
        "\n",
        "#import ast\n",
        "#df['stemmed'] = df[\"first_100_no_stops\"].apply(lambda x: ast.literal_eval(x))\n",
        "#df['stemmed'] = df[\"stemmed\"].apply(lambda x: stem_list(x))\n",
        "\n",
        "#drop specific duplicate rows\n",
        "#df = df[~df['stemmed'].str.contains(\"archiveteam.org contain\", case=False)]"
      ],
      "execution_count": 63,
      "outputs": []
    },
    {
      "cell_type": "code",
      "metadata": {
        "id": "qL9yo7v0Yj4g",
        "colab_type": "code",
        "colab": {}
      },
      "source": [
        "#create list of stemmed document strings\n",
        "#documents = df['stemmed'].to_list()\n",
        "documents = df['tokenized_summary'].to_list()"
      ],
      "execution_count": 93,
      "outputs": []
    },
    {
      "cell_type": "code",
      "metadata": {
        "id": "eAgIPWLQYn1O",
        "colab_type": "code",
        "colab": {}
      },
      "source": [
        "def vectorize_texts(list_of_strings):\n",
        "    print('Performing vectorization and TF/IDF transformation on texts...')\n",
        "    vectorizer = CountVectorizer()\n",
        "    X = vectorizer.fit_transform(list_of_strings)\n",
        "    transformer = TfidfTransformer(smooth_idf=False)\n",
        "    tfidf = transformer.fit_transform(X)\n",
        "    return tfidf"
      ],
      "execution_count": 66,
      "outputs": []
    },
    {
      "cell_type": "code",
      "metadata": {
        "id": "zt3Z5td7YoTM",
        "colab_type": "code",
        "colab": {}
      },
      "source": [
        "def cluster_texts(num_clusters, tfidf):\n",
        "    #perform kmeans clustering for range of clusters\n",
        "    print('Beginning KMeans Clustering, number of clusters = ', num_clusters, '\\n') \n",
        "    km = KMeans(n_clusters=num_clusters, max_iter = 100, verbose = 2, n_init = 1).fit(tfidf)\n",
        "    return km"
      ],
      "execution_count": 67,
      "outputs": []
    },
    {
      "cell_type": "code",
      "metadata": {
        "id": "qX9C6mDXYzO8",
        "colab_type": "code",
        "colab": {
          "base_uri": "https://localhost:8080/",
          "height": 34
        },
        "outputId": "3539fbaa-674d-4f61-be63-422791fb8b66"
      },
      "source": [
        "documents_vectorized = vectorize_texts(documents)"
      ],
      "execution_count": 94,
      "outputs": [
        {
          "output_type": "stream",
          "text": [
            "Performing vectorization and TF/IDF transformation on texts...\n"
          ],
          "name": "stdout"
        }
      ]
    },
    {
      "cell_type": "code",
      "metadata": {
        "id": "rN8vIEz6YznY",
        "colab_type": "code",
        "colab": {
          "base_uri": "https://localhost:8080/",
          "height": 134
        },
        "outputId": "2fa55406-e4e3-44a1-a1d2-82d1e9104131"
      },
      "source": [
        "kmeans3 = cluster_texts(3, documents_vectorized)"
      ],
      "execution_count": 95,
      "outputs": [
        {
          "output_type": "stream",
          "text": [
            "Beginning KMeans Clustering, number of clusters =  3 \n",
            "\n",
            "Initialization complete\n",
            "Iteration  0, inertia 192.589\n",
            "Iteration  1, inertia 97.020\n",
            "Iteration  2, inertia 97.013\n",
            "Converged at iteration 2: center shift 0.000000e+00 within tolerance 8.464569e-08\n"
          ],
          "name": "stdout"
        }
      ]
    },
    {
      "cell_type": "code",
      "metadata": {
        "id": "GYvKP5-TfS82",
        "colab_type": "code",
        "colab": {
          "base_uri": "https://localhost:8080/",
          "height": 118
        },
        "outputId": "753fbc92-3a97-4226-bd38-4dd60e868892"
      },
      "source": [
        "kmeans4 = cluster_texts(4, documents_vectorized)"
      ],
      "execution_count": 97,
      "outputs": [
        {
          "output_type": "stream",
          "text": [
            "Beginning KMeans Clustering, number of clusters =  4 \n",
            "\n",
            "Initialization complete\n",
            "Iteration  0, inertia 98.000\n",
            "Iteration  1, inertia 96.421\n",
            "Converged at iteration 1: center shift 0.000000e+00 within tolerance 8.464569e-08\n"
          ],
          "name": "stdout"
        }
      ]
    },
    {
      "cell_type": "code",
      "metadata": {
        "id": "Wn0JXbYsfTT0",
        "colab_type": "code",
        "colab": {
          "base_uri": "https://localhost:8080/",
          "height": 118
        },
        "outputId": "e4b44ec2-238a-4a82-9a4d-1e416b3dfbcf"
      },
      "source": [
        "kmeans5 = cluster_texts(5, documents_vectorized)"
      ],
      "execution_count": 101,
      "outputs": [
        {
          "output_type": "stream",
          "text": [
            "Beginning KMeans Clustering, number of clusters =  5 \n",
            "\n",
            "Initialization complete\n",
            "Iteration  0, inertia 97.000\n",
            "Iteration  1, inertia 95.433\n",
            "Converged at iteration 1: center shift 0.000000e+00 within tolerance 8.464569e-08\n"
          ],
          "name": "stdout"
        }
      ]
    },
    {
      "cell_type": "code",
      "metadata": {
        "id": "C33zwzxjfTqv",
        "colab_type": "code",
        "colab": {}
      },
      "source": [
        "#kmeans6 = cluster_texts(6, documents_vectorized)"
      ],
      "execution_count": null,
      "outputs": []
    },
    {
      "cell_type": "code",
      "metadata": {
        "id": "jrxXg9fAfv48",
        "colab_type": "code",
        "colab": {}
      },
      "source": [
        "#import pickle\n",
        "#save the best model for further use\n",
        "\n",
        "#pickle.dump(kmeans3, open(\"../Models/kmeans3.pkl\", \"wb\"))\n",
        "\n",
        "#load back in kmeans12 model\n",
        "#kmeans = pickle.load(open(\"kmeans12.pkl\", \"rb\"))"
      ],
      "execution_count": 99,
      "outputs": []
    },
    {
      "cell_type": "code",
      "metadata": {
        "id": "Vk9IXvlZfwPy",
        "colab_type": "code",
        "colab": {
          "base_uri": "https://localhost:8080/",
          "height": 104
        },
        "outputId": "8ef94826-b091-42c8-e974-38e2c60d1f99"
      },
      "source": [
        "kmean_df = pd.DataFrame(pd.np.empty((0, 3)))\n",
        "kmean_df.columns = ['kmeans3', 'kmeans4', 'kmeans5']\n",
        "kmean_df['kmeans3'] = kmeans3.labels_\n",
        "kmean_df['tokenized_summary'] = df['tokenized_summary']\n",
        "print(df.shape)\n",
        "print(kmean_df.shape)"
      ],
      "execution_count": 109,
      "outputs": [
        {
          "output_type": "stream",
          "text": [
            "(103, 9)\n",
            "(103, 4)\n"
          ],
          "name": "stdout"
        },
        {
          "output_type": "stream",
          "text": [
            "/usr/local/lib/python3.6/dist-packages/ipykernel_launcher.py:1: FutureWarning: The pandas.np module is deprecated and will be removed from pandas in a future version. Import numpy directly instead\n",
            "  \"\"\"Entry point for launching an IPython kernel.\n"
          ],
          "name": "stderr"
        }
      ]
    },
    {
      "cell_type": "code",
      "metadata": {
        "id": "-O29BI0Ci9cq",
        "colab_type": "code",
        "colab": {
          "base_uri": "https://localhost:8080/",
          "height": 84
        },
        "outputId": "5cd5b656-1eea-4986-e560-4e2ca76380ae"
      },
      "source": [
        "kmean_df['kmeans3'].value_counts()"
      ],
      "execution_count": 111,
      "outputs": [
        {
          "output_type": "execute_result",
          "data": {
            "text/plain": [
              "1    47\n",
              "2    31\n",
              "0    25\n",
              "Name: kmeans3, dtype: int64"
            ]
          },
          "metadata": {
            "tags": []
          },
          "execution_count": 111
        }
      ]
    },
    {
      "cell_type": "code",
      "metadata": {
        "id": "rxkU2ZFfi9MD",
        "colab_type": "code",
        "colab": {
          "base_uri": "https://localhost:8080/",
          "height": 298
        },
        "outputId": "f34dd625-ae69-43e3-d892-b0a0a2ed4763"
      },
      "source": [
        "ax = sns.countplot(x= 'kmeans3', data=kmean_df)\n",
        "ax.set_xticklabels(ax.get_xticklabels(), rotation=45)"
      ],
      "execution_count": 112,
      "outputs": [
        {
          "output_type": "execute_result",
          "data": {
            "text/plain": [
              "[Text(0, 0, '0'), Text(0, 0, '1'), Text(0, 0, '2')]"
            ]
          },
          "metadata": {
            "tags": []
          },
          "execution_count": 112
        },
        {
          "output_type": "display_data",
          "data": {
            "image/png": "[encoded data removed]",
            "text/plain": [
              "<Figure size 432x288 with 1 Axes>"
            ]
          },
          "metadata": {
            "tags": [],
            "needs_background": "light"
          }
        }
      ]
    },
    {
      "cell_type": "code",
      "metadata": {
        "id": "R3DFR07ji89P",
        "colab_type": "code",
        "colab": {}
      },
      "source": [
        "#function to find the most common words within each cluster\n",
        "#def get_most_common_words(df, df_column, num_words):\n",
        "    #common_words = []\n",
        "    #for i in range(0,12):\n",
        "        #common = Counter(\" \".join(df.loc[df_column == i]['tokenized_summary']).split()).most_common(num_words)\n",
        "        #for j in common:\n",
        "        #    dict_ = {}\n",
        "       #     dict_['cluster'] = i\n",
        "      #      dict_['word'] = j[0]\n",
        "     #       common_words.append(dict_)\n",
        "            \n",
        "    #return common_words"
      ],
      "execution_count": null,
      "outputs": []
    },
    {
      "cell_type": "code",
      "metadata": {
        "id": "sDgx3j_FjxpT",
        "colab_type": "code",
        "colab": {
          "base_uri": "https://localhost:8080/",
          "height": 402
        },
        "outputId": "dcbb689b-0104-4e33-e10a-eab8b81e99af"
      },
      "source": [
        "kmean_df"
      ],
      "execution_count": 113,
      "outputs": [
        {
          "output_type": "execute_result",
          "data": {
            "text/html": [
              "<div>\n",
              "<style scoped>\n",
              "    .dataframe tbody tr th:only-of-type {\n",
              "        vertical-align: middle;\n",
              "    }\n",
              "\n",
              "    .dataframe tbody tr th {\n",
              "        vertical-align: top;\n",
              "    }\n",
              "\n",
              "    .dataframe thead th {\n",
              "        text-align: right;\n",
              "    }\n",
              "</style>\n",
              "<table border=\"1\" class=\"dataframe\">\n",
              "  <thead>\n",
              "    <tr style=\"text-align: right;\">\n",
              "      <th></th>\n",
              "      <th>kmeans3</th>\n",
              "      <th>kmeans4</th>\n",
              "      <th>kmeans5</th>\n",
              "      <th>tokenized_summary</th>\n",
              "    </tr>\n",
              "  </thead>\n",
              "  <tbody>\n",
              "    <tr>\n",
              "      <th>0</th>\n",
              "      <td>0</td>\n",
              "      <td>NaN</td>\n",
              "      <td>NaN</td>\n",
              "      <td>`` create legal regime allows access safety sh...</td>\n",
              "    </tr>\n",
              "    <tr>\n",
              "      <th>1</th>\n",
              "      <td>1</td>\n",
              "      <td>NaN</td>\n",
              "      <td>NaN</td>\n",
              "      <td>NaN</td>\n",
              "    </tr>\n",
              "    <tr>\n",
              "      <th>2</th>\n",
              "      <td>1</td>\n",
              "      <td>NaN</td>\n",
              "      <td>NaN</td>\n",
              "      <td>`` past dozen year india closed gap china mili...</td>\n",
              "    </tr>\n",
              "    <tr>\n",
              "      <th>3</th>\n",
              "      <td>1</td>\n",
              "      <td>NaN</td>\n",
              "      <td>NaN</td>\n",
              "      <td>`` draw line policing border preventing intrus...</td>\n",
              "    </tr>\n",
              "    <tr>\n",
              "      <th>4</th>\n",
              "      <td>1</td>\n",
              "      <td>NaN</td>\n",
              "      <td>NaN</td>\n",
              "      <td>`` mp expand ambit cluster village provide fund</td>\n",
              "    </tr>\n",
              "    <tr>\n",
              "      <th>...</th>\n",
              "      <td>...</td>\n",
              "      <td>...</td>\n",
              "      <td>...</td>\n",
              "      <td>...</td>\n",
              "    </tr>\n",
              "    <tr>\n",
              "      <th>98</th>\n",
              "      <td>1</td>\n",
              "      <td>NaN</td>\n",
              "      <td>NaN</td>\n",
              "      <td>`` \\n google search trend month june searched ...</td>\n",
              "    </tr>\n",
              "    <tr>\n",
              "      <th>99</th>\n",
              "      <td>1</td>\n",
              "      <td>NaN</td>\n",
              "      <td>NaN</td>\n",
              "      <td>`` explaining method followed teaching educati...</td>\n",
              "    </tr>\n",
              "    <tr>\n",
              "      <th>100</th>\n",
              "      <td>2</td>\n",
              "      <td>NaN</td>\n",
              "      <td>NaN</td>\n",
              "      <td>`` punjab haryana high court tuesday allowed p...</td>\n",
              "    </tr>\n",
              "    <tr>\n",
              "      <th>101</th>\n",
              "      <td>2</td>\n",
              "      <td>NaN</td>\n",
              "      <td>NaN</td>\n",
              "      <td>`` according official order jagdish upasane di...</td>\n",
              "    </tr>\n",
              "    <tr>\n",
              "      <th>102</th>\n",
              "      <td>1</td>\n",
              "      <td>NaN</td>\n",
              "      <td>NaN</td>\n",
              "      <td>`` order online coaching came state government...</td>\n",
              "    </tr>\n",
              "  </tbody>\n",
              "</table>\n",
              "<p>103 rows × 4 columns</p>\n",
              "</div>"
            ],
            "text/plain": [
              "     kmeans3  ...                                  tokenized_summary\n",
              "0          0  ...  `` create legal regime allows access safety sh...\n",
              "1          1  ...                                                NaN\n",
              "2          1  ...  `` past dozen year india closed gap china mili...\n",
              "3          1  ...  `` draw line policing border preventing intrus...\n",
              "4          1  ...    `` mp expand ambit cluster village provide fund\n",
              "..       ...  ...                                                ...\n",
              "98         1  ...  `` \\n google search trend month june searched ...\n",
              "99         1  ...  `` explaining method followed teaching educati...\n",
              "100        2  ...  `` punjab haryana high court tuesday allowed p...\n",
              "101        2  ...  `` according official order jagdish upasane di...\n",
              "102        1  ...  `` order online coaching came state government...\n",
              "\n",
              "[103 rows x 4 columns]"
            ]
          },
          "metadata": {
            "tags": []
          },
          "execution_count": 113
        }
      ]
    },
    {
      "cell_type": "code",
      "metadata": {
        "id": "1TdKEYzDjxlc",
        "colab_type": "code",
        "colab": {}
      },
      "source": [
        ""
      ],
      "execution_count": null,
      "outputs": []
    },
    {
      "cell_type": "code",
      "metadata": {
        "id": "j9mB4kq6jxiU",
        "colab_type": "code",
        "colab": {}
      },
      "source": [
        ""
      ],
      "execution_count": null,
      "outputs": []
    },
    {
      "cell_type": "code",
      "metadata": {
        "id": "KQjUQjpojxg6",
        "colab_type": "code",
        "colab": {}
      },
      "source": [
        ""
      ],
      "execution_count": null,
      "outputs": []
    },
    {
      "cell_type": "code",
      "metadata": {
        "id": "KjVov0wBjxdG",
        "colab_type": "code",
        "colab": {}
      },
      "source": [
        ""
      ],
      "execution_count": null,
      "outputs": []
    },
    {
      "cell_type": "code",
      "metadata": {
        "id": "1szsHCXkjxbs",
        "colab_type": "code",
        "colab": {}
      },
      "source": [
        ""
      ],
      "execution_count": null,
      "outputs": []
    },
    {
      "cell_type": "code",
      "metadata": {
        "id": "KUduFLaAKJy4",
        "colab_type": "code",
        "colab": {}
      },
      "source": [
        "import matplotlib.pyplot as plt\n",
        "%matplotlib inline\n",
        "import seaborn as sns\n",
        "\n",
        "from sklearn.feature_extraction.text import CountVectorizer\n",
        "from sklearn.feature_extraction.text import TfidfTransformer\n",
        "from sklearn.metrics import calinski_harabaz_score\n",
        "\n",
        "from collections import Counter"
      ],
      "execution_count": 21,
      "outputs": []
    },
    {
      "cell_type": "code",
      "metadata": {
        "id": "SwC1sNLUKO4x",
        "colab_type": "code",
        "colab": {}
      },
      "source": [
        ""
      ],
      "execution_count": 35,
      "outputs": []
    },
    {
      "cell_type": "code",
      "metadata": {
        "id": "TWiVFXWkKZXG",
        "colab_type": "code",
        "colab": {}
      },
      "source": [
        ""
      ],
      "execution_count": 35,
      "outputs": []
    },
    {
      "cell_type": "code",
      "metadata": {
        "id": "Wmo3SCI5Q8D6",
        "colab_type": "code",
        "colab": {}
      },
      "source": [
        ""
      ],
      "execution_count": null,
      "outputs": []
    }
  ]
}