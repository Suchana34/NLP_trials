{
  "nbformat": 4,
  "nbformat_minor": 0,
  "metadata": {
    "colab": {
      "name": "Try3_ sanjaya_blog_doublecut.ipynb",
      "provenance": []
    },
    "kernelspec": {
      "name": "python3",
      "display_name": "Python 3"
    }
  },
  "cells": [
    {
      "cell_type": "code",
      "metadata": {
        "id": "KiqQ49Hglyyv",
        "colab_type": "code",
        "colab": {}
      },
      "source": [
        "#text clustering\n",
        "import pandas as pd\n",
        "import numpy as np\n",
        "from sklearn.cluster import MiniBatchKMeans\n",
        "from sklearn.feature_extraction.text import TfidfVectorizer\n",
        "from sklearn.decomposition import PCA\n",
        "import matplotlib.pyplot as plt"
      ],
      "execution_count": 1,
      "outputs": []
    },
    {
      "cell_type": "code",
      "metadata": {
        "id": "0Vsb2cG5OZKd",
        "colab_type": "code",
        "colab": {}
      },
      "source": [
        "#from google.colab import drive\n",
        "#drive.mount('/content/drive')\n"
      ],
      "execution_count": 13,
      "outputs": []
    },
    {
      "cell_type": "code",
      "metadata": {
        "id": "463XZ48mMahK",
        "colab_type": "code",
        "colab": {
          "base_uri": "https://localhost:8080/",
          "height": 296
        },
        "outputId": "76cd2c62-585e-44b1-9c92-bba7780b38e2"
      },
      "source": [
        "df = pd.read_csv('/content/drive/My Drive/doublecut.csv')\n",
        "df.head()"
      ],
      "execution_count": 12,
      "outputs": [
        {
          "output_type": "execute_result",
          "data": {
            "text/html": [
              "<div>\n",
              "<style scoped>\n",
              "    .dataframe tbody tr th:only-of-type {\n",
              "        vertical-align: middle;\n",
              "    }\n",
              "\n",
              "    .dataframe tbody tr th {\n",
              "        vertical-align: top;\n",
              "    }\n",
              "\n",
              "    .dataframe thead th {\n",
              "        text-align: right;\n",
              "    }\n",
              "</style>\n",
              "<table border=\"1\" class=\"dataframe\">\n",
              "  <thead>\n",
              "    <tr style=\"text-align: right;\">\n",
              "      <th></th>\n",
              "      <th>id</th>\n",
              "      <th>topic</th>\n",
              "      <th>heading</th>\n",
              "      <th>summary</th>\n",
              "      <th>date</th>\n",
              "      <th>sub</th>\n",
              "      <th>content</th>\n",
              "      <th>tags</th>\n",
              "    </tr>\n",
              "  </thead>\n",
              "  <tbody>\n",
              "    <tr>\n",
              "      <th>0</th>\n",
              "      <td>5ef0d321d83b3587cb500efc</td>\n",
              "      <td>[\"football\"]</td>\n",
              "      <td>[\"VAR not being used correctly: Barcelona coac...</td>\n",
              "      <td>[\"Barcelona had a goal ruled out by VAR for of...</td>\n",
              "      <td>[\"Updated: Jun 22, 2020 20:03 IST\"]</td>\n",
              "      <td>[\"Reuters\"]</td>\n",
              "      <td>[\"The Video Assistant Referee (VAR) system is ...</td>\n",
              "      <td>[\"Quique Setien\",\"Barcelona\"]</td>\n",
              "    </tr>\n",
              "    <tr>\n",
              "      <th>1</th>\n",
              "      <td>5ef0d324d83b3587cb500efd</td>\n",
              "      <td>[\"football\"]</td>\n",
              "      <td>[\"Mourinho hits back at Mersonâ€™s criticism o...</td>\n",
              "      <td>[\"Merson, a pundit with Sky Sports, said 26-ye...</td>\n",
              "      <td>[\"Updated: Jun 22, 2020 20:30 IST\"]</td>\n",
              "      <td>[\"Reuters\"]</td>\n",
              "      <td>[\"Jose Mourinho launched an impassioned defenc...</td>\n",
              "      <td>[\"Jose Mourinho\",\"Harry Kane\",\"Manchester unit...</td>\n",
              "    </tr>\n",
              "    <tr>\n",
              "      <th>2</th>\n",
              "      <td>5efff14f86936ae10d2be3c8</td>\n",
              "      <td>[\"football\"]</td>\n",
              "      <td>[\"Morata double leads Atletico to 3-0 win over...</td>\n",
              "      <td>[\"Morata earned a penalty when he was pulled d...</td>\n",
              "      <td>[\"Updated: Jul 04, 2020 07:12 IST\"]</td>\n",
              "      <td>[\"Associated Press\"]</td>\n",
              "      <td>[\"Alvaro Morata scored twice to lead Atletico ...</td>\n",
              "      <td>[\"Alvaro Morata\",\"Mallorca\",\"Diego Simeone\",\"R...</td>\n",
              "    </tr>\n",
              "    <tr>\n",
              "      <th>3</th>\n",
              "      <td>5efff10a86936ae10d2be3aa</td>\n",
              "      <td>[\"cricket\"]</td>\n",
              "      <td>[\"Sourav Ganguly made Sehwag open, brought in ...</td>\n",
              "      <td>[\"Former India opener Wasim Jaffer, who made h...</td>\n",
              "      <td>[\"Updated: Jul 04, 2020 08:03 IST\"]</td>\n",
              "      <td>[\"hindustantimes.com\"]</td>\n",
              "      <td>[\"Despite not being able to lead India to an I...</td>\n",
              "      <td>[\"Sourav Ganguly\",\"Wasim Jaffer\",\"India\",\"Zahe...</td>\n",
              "    </tr>\n",
              "    <tr>\n",
              "      <th>4</th>\n",
              "      <td>5ef0d2e5d83b3587cb500edf</td>\n",
              "      <td>[\"cricket\"]</td>\n",
              "      <td>[\"Jasprit Bumrah is â€˜a different beastâ€™ wh...</td>\n",
              "      <td>[\"The man in charge of the team currently is h...</td>\n",
              "      <td>[\"Updated: Jun 22, 2020 20:57 IST\"]</td>\n",
              "      <td>[\"hindustantimes.com\"]</td>\n",
              "      <td>[\"Mumbai Indians are the most successful team ...</td>\n",
              "      <td>[\"Mumbai Indians\",\"Jasprit Bumrah\",\"Mahela Jay...</td>\n",
              "    </tr>\n",
              "  </tbody>\n",
              "</table>\n",
              "</div>"
            ],
            "text/plain": [
              "                         id  ...                                               tags\n",
              "0  5ef0d321d83b3587cb500efc  ...                      [\"Quique Setien\",\"Barcelona\"]\n",
              "1  5ef0d324d83b3587cb500efd  ...  [\"Jose Mourinho\",\"Harry Kane\",\"Manchester unit...\n",
              "2  5efff14f86936ae10d2be3c8  ...  [\"Alvaro Morata\",\"Mallorca\",\"Diego Simeone\",\"R...\n",
              "3  5efff10a86936ae10d2be3aa  ...  [\"Sourav Ganguly\",\"Wasim Jaffer\",\"India\",\"Zahe...\n",
              "4  5ef0d2e5d83b3587cb500edf  ...  [\"Mumbai Indians\",\"Jasprit Bumrah\",\"Mahela Jay...\n",
              "\n",
              "[5 rows x 8 columns]"
            ]
          },
          "metadata": {
            "tags": []
          },
          "execution_count": 12
        }
      ]
    },
    {
      "cell_type": "code",
      "metadata": {
        "id": "NOdATRevPHIV",
        "colab_type": "code",
        "colab": {
          "base_uri": "https://localhost:8080/",
          "height": 34
        },
        "outputId": "dbf03f99-4930-476c-bc6a-b8eeb6e1399f"
      },
      "source": [
        "df.shape"
      ],
      "execution_count": 14,
      "outputs": [
        {
          "output_type": "execute_result",
          "data": {
            "text/plain": [
              "(7, 8)"
            ]
          },
          "metadata": {
            "tags": []
          },
          "execution_count": 14
        }
      ]
    },
    {
      "cell_type": "code",
      "metadata": {
        "id": "T9OeZabJP8AK",
        "colab_type": "code",
        "colab": {
          "base_uri": "https://localhost:8080/",
          "height": 84
        },
        "outputId": "87d232f0-043f-4430-b548-fe7f32df4c63"
      },
      "source": [
        "import nltk\n",
        "#nltk.download('wordnet')\n",
        "#nltk.download('stopwords')\n",
        "import gensim\n",
        "from gensim.utils import simple_preprocess\n",
        "from gensim.models import CoherenceModel\n",
        "from gensim.parsing.preprocessing import STOPWORDS\n",
        "from nltk.stem import WordNetLemmatizer, SnowballStemmer\n",
        "from nltk.stem.porter import *\n",
        "import numpy as np\n",
        "import re"
      ],
      "execution_count": 15,
      "outputs": [
        {
          "output_type": "stream",
          "text": [
            "[nltk_data] Downloading package wordnet to /root/nltk_data...\n",
            "[nltk_data]   Unzipping corpora/wordnet.zip.\n",
            "[nltk_data] Downloading package stopwords to /root/nltk_data...\n",
            "[nltk_data]   Unzipping corpora/stopwords.zip.\n"
          ],
          "name": "stdout"
        }
      ]
    },
    {
      "cell_type": "code",
      "metadata": {
        "id": "gB7bRz4NP77F",
        "colab_type": "code",
        "colab": {}
      },
      "source": [
        "# data preprocessing\n",
        "stemmer = SnowballStemmer(language='english',ignore_stopwords=True)\n",
        "def lemmatize_stemming(text):\n",
        "    return stemmer.stem(WordNetLemmatizer().lemmatize(text, pos='v'))\n",
        "def preprocess(text):\n",
        "    result = []\n",
        "    for token in gensim.utils.simple_preprocess(text):\n",
        "        if token not in gensim.parsing.preprocessing.STOPWORDS and len(token) > 3:\n",
        "            result.append(lemmatize_stemming(token))\n",
        "    return result"
      ],
      "execution_count": 16,
      "outputs": []
    },
    {
      "cell_type": "code",
      "metadata": {
        "id": "MB2SeQCtQ0-s",
        "colab_type": "code",
        "colab": {
          "base_uri": "https://localhost:8080/",
          "height": 138
        },
        "outputId": "43647012-947e-4321-fd6b-d8ae3d974f65"
      },
      "source": [
        "# preview after preprocessing\n",
        "doc_sample = df.content[0]\n",
        "print('original document: ')\n",
        "words = []\n",
        "for word in doc_sample.split(' '):\n",
        "    words.append(word)\n",
        "print(words)\n",
        "print('\\n\\n tokenized and lemmatized document: ')\n",
        "print(preprocess(doc_sample))"
      ],
      "execution_count": 17,
      "outputs": [
        {
          "output_type": "stream",
          "text": [
            "original document: \n",
            "['[\"The', 'Video', 'Assistant', 'Referee', '(VAR)', 'system', 'is', 'not', 'being', 'used', 'correctly', 'in', 'La', 'Liga,', 'Barcelona', 'manager', 'Quique', 'Setien', 'said', 'on', 'Monday', 'following', 'Real', 'Madridâ€™s', 'controversial', 'win', 'at', 'Real', 'Sociedad.\",\"Madrid', 'beat', 'Sociedad', '2-1', 'to', 'climb', 'above', 'Barcelona', 'at', 'the', 'top', 'of', 'La', 'Liga', 'but', 'the', 'home', 'side', 'were', 'aggrieved', 'because', 'they', 'had', 'a', 'goal', 'ruled', 'out', 'by', 'VAR', 'for', 'offside', 'and', 'Karim', 'Benzemaâ€™s', 'winner', 'stood', 'after', 'he', 'appeared', 'to', 'control', 'the', 'ball', 'with', 'his', 'arm.\",\"â€œThere', 'are', 'things', 'that', 'we', 'cannot', 'control', 'and', 'that', 'do', 'not', 'depend', 'on', 'us.', 'Everybody', 'saw', 'what', 'happened', 'in', 'Anoeta', 'and', 'everyone', 'will', 'draw', 'their', 'own', 'conclusions,â€\\x9d', 'Setien', 'told', 'reporters', 'ahead', 'of', 'Tuesdayâ€™s', 'match', 'against', 'Athletic', 'Bilbao.\",\"â€œItâ€™s', 'understandable', 'that', 'we', 'think', 'why', 'there', 'are', 'some', 'actions', 'that', 'are', 'reviewed,', 'the', 'referee', 'himself', 'reviews', 'them', 'and', 'they', 'donâ€™t', 'do', 'the', 'same', 'in', 'other', 'plays.', 'They', 'do', 'it', 'on', 'some', 'matches', 'and', 'in', 'some', 'others', '(they', 'donâ€™t).', 'So', 'you', 'could', 'really', 'think', 'that', '(VAR)', 'is', 'not', 'being', 'used', 'correctly.â€\\x9d\",\"Setien', 'said', 'controversies', 'were', 'part', 'of', 'football.', 'â€œWeâ€™ve', 'been', 'here', 'for', 'many', 'years', 'and', 'this', 'doesnâ€™t', 'change.', 'Itâ€™s', 'always', 'the', 'same,', 'the', 'controversy', 'will', 'always', 'be', 'there,â€\\x9d', 'he', 'added.', 'â€œVAR', 'is', 'a', 'tool', 'that', 'can', 'make', 'us', 'better,', 'but', 'we', 'have', 'to', 'use', 'it', 'to', 'have', 'a', 'clearer', 'view', 'of', 'reality.â€\\x9d\",\"With', '65', 'points', 'each,', 'Real', 'top', 'the', 'standings', 'due', 'to', 'a', 'superior', 'head-to-head', 'record', 'but', 'Setien', 'is', 'convinced', 'the', 'title', 'race', 'is', 'still', 'in', 'Barcelonaâ€™s', 'hands.', 'â€œNow', 'the', 'margin', 'of', 'error', 'is', 'smaller,', 'but', 'itâ€™s', 'also', 'smaller', 'for', 'them,â€\\x9d', 'he', 'said.', 'â€œMadrid', 'cannot', 'make', 'any', 'mistakes.', 'Many', 'leagues', 'are', 'decided', 'in', 'the', 'end,', 'there', 'are', 'eight', 'games', 'left.', 'Madrid', 'still', 'have', 'to', 'play', 'difficult', 'games', 'like', 'us.â€\\x9d\"]']\n",
            "\n",
            "\n",
            " tokenized and lemmatized document: \n",
            "['video', 'assist', 'refere', 'correct', 'liga', 'barcelona', 'manag', 'quiqu', 'setien', 'say', 'monday', 'follow', 'real', 'madridâ', 'controversi', 'real', 'sociedad', 'madrid', 'beat', 'sociedad', 'climb', 'barcelona', 'liga', 'home', 'aggriev', 'goal', 'rule', 'offsid', 'karim', 'benzemaâ', 'winner', 'stand', 'appear', 'control', 'ball', 'œthere', 'thing', 'control', 'depend', 'everybodi', 'happen', 'anoeta', 'draw', 'conclus', 'setien', 'tell', 'report', 'ahead', 'tuesdayâ', 'match', 'athlet', 'bilbao', 'œitâ', 'understand', 'think', 'action', 'review', 'refere', 'review', 'donâ', 'play', 'match', 'donâ', 'think', 'correct', 'setien', 'say', 'controversi', 'footbal', 'œweâ', 'year', 'doesnâ', 'chang', 'controversi', 'add', 'œvar', 'tool', 'better', 'clearer', 'view', 'realiti', 'point', 'real', 'stand', 'superior', 'head', 'head', 'record', 'setien', 'convinc', 'titl', 'race', 'barcelonaâ', 'hand', 'œnow', 'margin', 'error', 'smaller', 'smaller', 'say', 'œmadrid', 'mistak', 'leagu', 'decid', 'game', 'leav', 'madrid', 'play', 'difficult', 'game', 'like']\n"
          ],
          "name": "stdout"
        }
      ]
    },
    {
      "cell_type": "code",
      "metadata": {
        "id": "28wiupn6Q070",
        "colab_type": "code",
        "colab": {
          "base_uri": "https://localhost:8080/",
          "height": 363
        },
        "outputId": "2d3e2f5c-395e-44e4-e1a4-23f8d20d8d86"
      },
      "source": [
        "# Preprocess the headline text, saving the results as ‘processed_docs’\n",
        "processed_docs = df['content'].map(preprocess)\n",
        "#processed_docs.head(5)\n",
        "df['processed_content'] = processed_docs\n",
        "#df.head()\n",
        "df['processed_content'] = df['processed_content'].apply(lambda x: ' '.join(x))\n",
        "\n",
        "df.head()"
      ],
      "execution_count": 18,
      "outputs": [
        {
          "output_type": "execute_result",
          "data": {
            "text/html": [
              "<div>\n",
              "<style scoped>\n",
              "    .dataframe tbody tr th:only-of-type {\n",
              "        vertical-align: middle;\n",
              "    }\n",
              "\n",
              "    .dataframe tbody tr th {\n",
              "        vertical-align: top;\n",
              "    }\n",
              "\n",
              "    .dataframe thead th {\n",
              "        text-align: right;\n",
              "    }\n",
              "</style>\n",
              "<table border=\"1\" class=\"dataframe\">\n",
              "  <thead>\n",
              "    <tr style=\"text-align: right;\">\n",
              "      <th></th>\n",
              "      <th>id</th>\n",
              "      <th>topic</th>\n",
              "      <th>heading</th>\n",
              "      <th>summary</th>\n",
              "      <th>date</th>\n",
              "      <th>sub</th>\n",
              "      <th>content</th>\n",
              "      <th>tags</th>\n",
              "      <th>processed_content</th>\n",
              "    </tr>\n",
              "  </thead>\n",
              "  <tbody>\n",
              "    <tr>\n",
              "      <th>0</th>\n",
              "      <td>5ef0d321d83b3587cb500efc</td>\n",
              "      <td>[\"football\"]</td>\n",
              "      <td>[\"VAR not being used correctly: Barcelona coac...</td>\n",
              "      <td>[\"Barcelona had a goal ruled out by VAR for of...</td>\n",
              "      <td>[\"Updated: Jun 22, 2020 20:03 IST\"]</td>\n",
              "      <td>[\"Reuters\"]</td>\n",
              "      <td>[\"The Video Assistant Referee (VAR) system is ...</td>\n",
              "      <td>[\"Quique Setien\",\"Barcelona\"]</td>\n",
              "      <td>video assist refere correct liga barcelona man...</td>\n",
              "    </tr>\n",
              "    <tr>\n",
              "      <th>1</th>\n",
              "      <td>5ef0d324d83b3587cb500efd</td>\n",
              "      <td>[\"football\"]</td>\n",
              "      <td>[\"Mourinho hits back at Mersonâ€™s criticism o...</td>\n",
              "      <td>[\"Merson, a pundit with Sky Sports, said 26-ye...</td>\n",
              "      <td>[\"Updated: Jun 22, 2020 20:30 IST\"]</td>\n",
              "      <td>[\"Reuters\"]</td>\n",
              "      <td>[\"Jose Mourinho launched an impassioned defenc...</td>\n",
              "      <td>[\"Jose Mourinho\",\"Harry Kane\",\"Manchester unit...</td>\n",
              "      <td>jose mourinho launch impass defenc harri kaneâ...</td>\n",
              "    </tr>\n",
              "    <tr>\n",
              "      <th>2</th>\n",
              "      <td>5efff14f86936ae10d2be3c8</td>\n",
              "      <td>[\"football\"]</td>\n",
              "      <td>[\"Morata double leads Atletico to 3-0 win over...</td>\n",
              "      <td>[\"Morata earned a penalty when he was pulled d...</td>\n",
              "      <td>[\"Updated: Jul 04, 2020 07:12 IST\"]</td>\n",
              "      <td>[\"Associated Press\"]</td>\n",
              "      <td>[\"Alvaro Morata scored twice to lead Atletico ...</td>\n",
              "      <td>[\"Alvaro Morata\",\"Mallorca\",\"Diego Simeone\",\"R...</td>\n",
              "      <td>alvaro morata score twice lead atletico madrid...</td>\n",
              "    </tr>\n",
              "    <tr>\n",
              "      <th>3</th>\n",
              "      <td>5efff10a86936ae10d2be3aa</td>\n",
              "      <td>[\"cricket\"]</td>\n",
              "      <td>[\"Sourav Ganguly made Sehwag open, brought in ...</td>\n",
              "      <td>[\"Former India opener Wasim Jaffer, who made h...</td>\n",
              "      <td>[\"Updated: Jul 04, 2020 08:03 IST\"]</td>\n",
              "      <td>[\"hindustantimes.com\"]</td>\n",
              "      <td>[\"Despite not being able to lead India to an I...</td>\n",
              "      <td>[\"Sourav Ganguly\",\"Wasim Jaffer\",\"India\",\"Zahe...</td>\n",
              "      <td>despit abl lead india trophi sole india joint ...</td>\n",
              "    </tr>\n",
              "    <tr>\n",
              "      <th>4</th>\n",
              "      <td>5ef0d2e5d83b3587cb500edf</td>\n",
              "      <td>[\"cricket\"]</td>\n",
              "      <td>[\"Jasprit Bumrah is â€˜a different beastâ€™ wh...</td>\n",
              "      <td>[\"The man in charge of the team currently is h...</td>\n",
              "      <td>[\"Updated: Jun 22, 2020 20:57 IST\"]</td>\n",
              "      <td>[\"hindustantimes.com\"]</td>\n",
              "      <td>[\"Mumbai Indians are the most successful team ...</td>\n",
              "      <td>[\"Mumbai Indians\",\"Jasprit Bumrah\",\"Mahela Jay...</td>\n",
              "      <td>mumbai indian success team histori indian prem...</td>\n",
              "    </tr>\n",
              "  </tbody>\n",
              "</table>\n",
              "</div>"
            ],
            "text/plain": [
              "                         id  ...                                  processed_content\n",
              "0  5ef0d321d83b3587cb500efc  ...  video assist refere correct liga barcelona man...\n",
              "1  5ef0d324d83b3587cb500efd  ...  jose mourinho launch impass defenc harri kaneâ...\n",
              "2  5efff14f86936ae10d2be3c8  ...  alvaro morata score twice lead atletico madrid...\n",
              "3  5efff10a86936ae10d2be3aa  ...  despit abl lead india trophi sole india joint ...\n",
              "4  5ef0d2e5d83b3587cb500edf  ...  mumbai indian success team histori indian prem...\n",
              "\n",
              "[5 rows x 9 columns]"
            ]
          },
          "metadata": {
            "tags": []
          },
          "execution_count": 18
        }
      ]
    },
    {
      "cell_type": "code",
      "metadata": {
        "id": "BEDnz_oqMads",
        "colab_type": "code",
        "colab": {}
      },
      "source": [
        "#feature extraction\n",
        "vec = TfidfVectorizer(stop_words=\"english\")\n",
        "vec.fit(df.processed_content.values)\n",
        "features = vec.transform(df.processed_content.values)"
      ],
      "execution_count": 19,
      "outputs": []
    },
    {
      "cell_type": "code",
      "metadata": {
        "id": "DZ8Ijoc6Mach",
        "colab_type": "code",
        "colab": {
          "base_uri": "https://localhost:8080/",
          "height": 84
        },
        "outputId": "cfc130c3-6805-4a23-8d65-7feaa473fa47"
      },
      "source": [
        "#model training\n",
        "random_state = 0\n",
        "cls = MiniBatchKMeans(n_clusters=2, random_state=random_state)\n",
        "cls.fit(features)"
      ],
      "execution_count": 20,
      "outputs": [
        {
          "output_type": "execute_result",
          "data": {
            "text/plain": [
              "MiniBatchKMeans(batch_size=100, compute_labels=True, init='k-means++',\n",
              "                init_size=None, max_iter=100, max_no_improvement=10,\n",
              "                n_clusters=2, n_init=3, random_state=0, reassignment_ratio=0.01,\n",
              "                tol=0.0, verbose=0)"
            ]
          },
          "metadata": {
            "tags": []
          },
          "execution_count": 20
        }
      ]
    },
    {
      "cell_type": "code",
      "metadata": {
        "id": "zzRA7o1WMaZZ",
        "colab_type": "code",
        "colab": {
          "base_uri": "https://localhost:8080/",
          "height": 34
        },
        "outputId": "b7dcf07e-848a-4d4a-b8af-ad655ce1c9f9"
      },
      "source": [
        "#predict on new data\n",
        "cls.predict(features)"
      ],
      "execution_count": 21,
      "outputs": [
        {
          "output_type": "execute_result",
          "data": {
            "text/plain": [
              "array([1, 1, 1, 0, 0, 0, 0], dtype=int32)"
            ]
          },
          "metadata": {
            "tags": []
          },
          "execution_count": 21
        }
      ]
    },
    {
      "cell_type": "code",
      "metadata": {
        "id": "-jPANtwPMaXY",
        "colab_type": "code",
        "colab": {
          "base_uri": "https://localhost:8080/",
          "height": 282
        },
        "outputId": "f89d13d3-135d-40b3-a004-39b9b24c274c"
      },
      "source": [
        "#visualization\n",
        "# reduce the features to 2D\n",
        "pca = PCA(n_components=2, random_state=random_state)\n",
        "reduced_features = pca.fit_transform(features.toarray())\n",
        "\n",
        "# reduce the cluster centers to 2D\n",
        "reduced_cluster_centers = pca.transform(cls.cluster_centers_)\n",
        "\n",
        "plt.scatter(reduced_features[:,0], reduced_features[:,1], c=cls.predict(features))\n",
        "plt.scatter(reduced_cluster_centers[:, 0], reduced_cluster_centers[:,1], marker='x', s=150, c='b')"
      ],
      "execution_count": 22,
      "outputs": [
        {
          "output_type": "execute_result",
          "data": {
            "text/plain": [
              "<matplotlib.collections.PathCollection at 0x7f049ae9f278>"
            ]
          },
          "metadata": {
            "tags": []
          },
          "execution_count": 22
        },
        {
          "output_type": "display_data",
          "data": {
            "image/png": "[encoded data removed]",
            "text/plain": [
              "<Figure size 432x288 with 1 Axes>"
            ]
          },
          "metadata": {
            "tags": [],
            "needs_background": "light"
          }
        }
      ]
    },
    {
      "cell_type": "code",
      "metadata": {
        "id": "ZOA58_8RMaUp",
        "colab_type": "code",
        "colab": {
          "base_uri": "https://localhost:8080/",
          "height": 34
        },
        "outputId": "01db8c36-f6ae-4085-fa74-c5c99cacf61e"
      },
      "source": [
        "#evaluation with labelled dataset\n",
        "from sklearn.metrics import homogeneity_score\n",
        "homogeneity_score(df.processed_content, cls.predict(features))"
      ],
      "execution_count": 23,
      "outputs": [
        {
          "output_type": "execute_result",
          "data": {
            "text/plain": [
              "0.3509453429964406"
            ]
          },
          "metadata": {
            "tags": []
          },
          "execution_count": 23
        }
      ]
    },
    {
      "cell_type": "code",
      "metadata": {
        "id": "ZbA76dkdTjbR",
        "colab_type": "code",
        "colab": {
          "base_uri": "https://localhost:8080/",
          "height": 34
        },
        "outputId": "502efbe1-4936-4d4b-ecf0-fc42bf5625fe"
      },
      "source": [
        "\n",
        "#evaluation with unlabelled dataset\n",
        "from sklearn.metrics import silhouette_score\n",
        "silhouette_score(features, labels=cls.predict(features))"
      ],
      "execution_count": 24,
      "outputs": [
        {
          "output_type": "execute_result",
          "data": {
            "text/plain": [
              "0.03278074470371301"
            ]
          },
          "metadata": {
            "tags": []
          },
          "execution_count": 24
        }
      ]
    },
    {
      "cell_type": "code",
      "metadata": {
        "id": "uGwvOlNWMaSk",
        "colab_type": "code",
        "colab": {
          "base_uri": "https://localhost:8080/",
          "height": 464
        },
        "outputId": "b6a22b4c-2b2a-4a74-ffb8-177adc1b8ab7"
      },
      "source": [
        "#topic modelling\n",
        "import spacy\n",
        "nlp = spacy.load(\"en_core_web_sm\", disable=['parser', 'ner'])\n",
        "\n",
        "random_state = 0\n",
        "\n",
        "def only_nouns(texts):\n",
        "    output = []\n",
        "    for doc in nlp.pipe(texts):\n",
        "        noun_text = \" \".join(token.lemma_ for token in doc if token.pos_ == 'NOUN')\n",
        "        output.append(noun_text)\n",
        "    return output\n",
        "\n",
        "\n",
        "df['noun_content'] = only_nouns(df['content'])\n",
        "\n",
        "df.head()"
      ],
      "execution_count": 25,
      "outputs": [
        {
          "output_type": "execute_result",
          "data": {
            "text/html": [
              "<div>\n",
              "<style scoped>\n",
              "    .dataframe tbody tr th:only-of-type {\n",
              "        vertical-align: middle;\n",
              "    }\n",
              "\n",
              "    .dataframe tbody tr th {\n",
              "        vertical-align: top;\n",
              "    }\n",
              "\n",
              "    .dataframe thead th {\n",
              "        text-align: right;\n",
              "    }\n",
              "</style>\n",
              "<table border=\"1\" class=\"dataframe\">\n",
              "  <thead>\n",
              "    <tr style=\"text-align: right;\">\n",
              "      <th></th>\n",
              "      <th>id</th>\n",
              "      <th>topic</th>\n",
              "      <th>heading</th>\n",
              "      <th>summary</th>\n",
              "      <th>date</th>\n",
              "      <th>sub</th>\n",
              "      <th>content</th>\n",
              "      <th>tags</th>\n",
              "      <th>processed_content</th>\n",
              "      <th>noun_content</th>\n",
              "    </tr>\n",
              "  </thead>\n",
              "  <tbody>\n",
              "    <tr>\n",
              "      <th>0</th>\n",
              "      <td>5ef0d321d83b3587cb500efc</td>\n",
              "      <td>[\"football\"]</td>\n",
              "      <td>[\"VAR not being used correctly: Barcelona coac...</td>\n",
              "      <td>[\"Barcelona had a goal ruled out by VAR for of...</td>\n",
              "      <td>[\"Updated: Jun 22, 2020 20:03 IST\"]</td>\n",
              "      <td>[\"Reuters\"]</td>\n",
              "      <td>[\"The Video Assistant Referee (VAR) system is ...</td>\n",
              "      <td>[\"Quique Setien\",\"Barcelona\"]</td>\n",
              "      <td>video assist refere correct liga barcelona man...</td>\n",
              "      <td>var system manager win \",\"madrid top home side...</td>\n",
              "    </tr>\n",
              "    <tr>\n",
              "      <th>1</th>\n",
              "      <td>5ef0d324d83b3587cb500efd</td>\n",
              "      <td>[\"football\"]</td>\n",
              "      <td>[\"Mourinho hits back at Mersonâ€™s criticism o...</td>\n",
              "      <td>[\"Merson, a pundit with Sky Sports, said 26-ye...</td>\n",
              "      <td>[\"Updated: Jun 22, 2020 20:30 IST\"]</td>\n",
              "      <td>[\"Reuters\"]</td>\n",
              "      <td>[\"Jose Mourinho launched an impassioned defenc...</td>\n",
              "      <td>[\"Jose Mourinho\",\"Harry Kane\",\"Manchester unit...</td>\n",
              "      <td>jose mourinho launch impass defenc harri kaneâ...</td>\n",
              "      <td>defence form playing style television pundit s...</td>\n",
              "    </tr>\n",
              "    <tr>\n",
              "      <th>2</th>\n",
              "      <td>5efff14f86936ae10d2be3c8</td>\n",
              "      <td>[\"football\"]</td>\n",
              "      <td>[\"Morata double leads Atletico to 3-0 win over...</td>\n",
              "      <td>[\"Morata earned a penalty when he was pulled d...</td>\n",
              "      <td>[\"Updated: Jul 04, 2020 07:12 IST\"]</td>\n",
              "      <td>[\"Associated Press\"]</td>\n",
              "      <td>[\"Alvaro Morata scored twice to lead Atletico ...</td>\n",
              "      <td>[\"Alvaro Morata\",\"Mallorca\",\"Diego Simeone\",\"R...</td>\n",
              "      <td>alvaro morata score twice lead atletico madrid...</td>\n",
              "      <td>win finish league team title race leader point...</td>\n",
              "    </tr>\n",
              "    <tr>\n",
              "      <th>3</th>\n",
              "      <td>5efff10a86936ae10d2be3aa</td>\n",
              "      <td>[\"cricket\"]</td>\n",
              "      <td>[\"Sourav Ganguly made Sehwag open, brought in ...</td>\n",
              "      <td>[\"Former India opener Wasim Jaffer, who made h...</td>\n",
              "      <td>[\"Updated: Jul 04, 2020 08:03 IST\"]</td>\n",
              "      <td>[\"hindustantimes.com\"]</td>\n",
              "      <td>[\"Despite not being able to lead India to an I...</td>\n",
              "      <td>[\"Sourav Ganguly\",\"Wasim Jaffer\",\"India\",\"Zahe...</td>\n",
              "      <td>despit abl lead india trophi sole india joint ...</td>\n",
              "      <td>trophy winner captain number captain test cric...</td>\n",
              "    </tr>\n",
              "    <tr>\n",
              "      <th>4</th>\n",
              "      <td>5ef0d2e5d83b3587cb500edf</td>\n",
              "      <td>[\"cricket\"]</td>\n",
              "      <td>[\"Jasprit Bumrah is â€˜a different beastâ€™ wh...</td>\n",
              "      <td>[\"The man in charge of the team currently is h...</td>\n",
              "      <td>[\"Updated: Jun 22, 2020 20:57 IST\"]</td>\n",
              "      <td>[\"hindustantimes.com\"]</td>\n",
              "      <td>[\"Mumbai Indians are the most successful team ...</td>\n",
              "      <td>[\"Mumbai Indians\",\"Jasprit Bumrah\",\"Mahela Jay...</td>\n",
              "      <td>mumbai indian success team histori indian prem...</td>\n",
              "      <td>team history team title cliffhanger season vic...</td>\n",
              "    </tr>\n",
              "  </tbody>\n",
              "</table>\n",
              "</div>"
            ],
            "text/plain": [
              "                         id  ...                                       noun_content\n",
              "0  5ef0d321d83b3587cb500efc  ...  var system manager win \",\"madrid top home side...\n",
              "1  5ef0d324d83b3587cb500efd  ...  defence form playing style television pundit s...\n",
              "2  5efff14f86936ae10d2be3c8  ...  win finish league team title race leader point...\n",
              "3  5efff10a86936ae10d2be3aa  ...  trophy winner captain number captain test cric...\n",
              "4  5ef0d2e5d83b3587cb500edf  ...  team history team title cliffhanger season vic...\n",
              "\n",
              "[5 rows x 10 columns]"
            ]
          },
          "metadata": {
            "tags": []
          },
          "execution_count": 25
        }
      ]
    },
    {
      "cell_type": "code",
      "metadata": {
        "id": "Dx42Hcw1TAwj",
        "colab_type": "code",
        "colab": {
          "base_uri": "https://localhost:8080/",
          "height": 67
        },
        "outputId": "9d720ade-dcd3-4ad5-ddd2-fafecfeb434b"
      },
      "source": [
        "# change this to see different results using the components_ attribute\n",
        "n_topics = 2\n",
        "\n",
        "#for extracting features\n",
        "from sklearn.feature_extraction.text import CountVectorizer, TfidfVectorizer\n",
        "vec = TfidfVectorizer(max_features=5000, stop_words=\"english\", max_df=0.95, min_df=2)\n",
        "features = vec.fit_transform(df.noun_content)\n",
        "\n",
        "#for topic modelling\n",
        "\n",
        "from sklearn.decomposition import NMF\n",
        "cls = NMF(n_components=n_topics, random_state=random_state)\n",
        "cls.fit(features)"
      ],
      "execution_count": 27,
      "outputs": [
        {
          "output_type": "execute_result",
          "data": {
            "text/plain": [
              "NMF(alpha=0.0, beta_loss='frobenius', init=None, l1_ratio=0.0, max_iter=200,\n",
              "    n_components=2, random_state=0, shuffle=False, solver='cd', tol=0.0001,\n",
              "    verbose=0)"
            ]
          },
          "metadata": {
            "tags": []
          },
          "execution_count": 27
        }
      ]
    },
    {
      "cell_type": "code",
      "metadata": {
        "id": "Z_TnbdVuTAtg",
        "colab_type": "code",
        "colab": {
          "base_uri": "https://localhost:8080/",
          "height": 50
        },
        "outputId": "eb2402a0-ad3f-4409-c201-7c0ed0041464"
      },
      "source": [
        "# list of unique words found by the vectorizer\n",
        "feature_names = vec.get_feature_names()\n",
        "\n",
        "# number of most influencing words to display per topic\n",
        "n_top_words = 15\n",
        "\n",
        "for i, topic_vec in enumerate(cls.components_):\n",
        "    print(i, end=' ')\n",
        "    # topic_vec.argsort() produces a new array\n",
        "    # in which word_index with the least score is the\n",
        "    # first array element and word_index with highest\n",
        "    # score is the last array element. Then using a\n",
        "    # fancy indexing [-1: -n_top_words-1:-1], we are\n",
        "    # slicing the array from its end in such a way that\n",
        "    # top `n_top_words` word_index with highest scores\n",
        "    # are returned in desceding order\n",
        "    for fid in topic_vec.argsort()[-1:-n_top_words-1:-1]:\n",
        "        print(feature_names[fid], end=' ')\n",
        "    print()"
      ],
      "execution_count": 28,
      "outputs": [
        {
          "output_type": "stream",
          "text": [
            "0 test captain player people coach team series cricket field head tournament squad president backing job \n",
            "1 league goal game match point ball injury striker controversy title referee end play race football \n"
          ],
          "name": "stdout"
        }
      ]
    },
    {
      "cell_type": "code",
      "metadata": {
        "id": "GITww_5GTAqe",
        "colab_type": "code",
        "colab": {
          "base_uri": "https://localhost:8080/",
          "height": 34
        },
        "outputId": "ea96984a-0988-44b3-b4fe-c071c5fac439"
      },
      "source": [
        "# to identify topic of a new document\n",
        "new_articles = [\n",
        "  '''On papers, India’s 2003 World Cup squad looks equally strong as compared to India’s 2019 World Cup squad. The side led by Sourav Ganguly in 2003 had experienced top-order batsmen such as Virender Sehwag, Sachin Tendulkar, Rahul Dravid, and Ganguly. Virat Kohli’s team in 2019 also had a strong top-order with Shikhar Dhawan, Rohit Sharma and Kohli himself. Ganguly’s pace bowling department looked strong with four top-class seamers in Zaheer Khan, Ashish Nehra, Ajit Agarkar and veteran Javagal Srinath. Kohli had Jasprit Bumrah, Bhuvneshwar Kumar and Mohammed Shami - all at top of their game. Ganguly’s spin department was sorted with veterans Harbhajan Singh and Anil Kumble, while Kohli’s spin bowling options were Yuzvendra Chahal, Kuldeep Yadav and Ravindra Jadeja. ''',\n",
        "  ''' West Ham twice squandered a lead against Newcastle and had to settle for a 2-2 draw that moved the team four points clear of the Premier League’s relegation zone on Sunday.With five games remaining, West Ham is inching closer to survival but could yet live to regret switching off to allow Jonjo Shelvey to score Newcastle’s second equalizer in the 67th minute — just 92 seconds after Tomas Soucek reclaimed the lead for the visitors.West Ham manager David Moyes threw his hands out in disgust after Shelvey dribbled his way through a gap in the defense and exchanged a one-two with Dwight Gayle before slotting home a low finish.In-form forward Michail Antonio gave West Ham the lead for the first time at St. James’ Park in the fourth minute, only for Miguel Almiron to make it 1-1 in the 17th by sliding in at the near post to turn in a low cross'''\n",
        "]\n",
        "# first transform the text into features using vec\n",
        "# then pass it to transform of cls\n",
        "# the result will be a matrix of shape [2, 10]\n",
        "# then we sort the topic id based on the score using argsort\n",
        "# and take the last one (with the highest score) for each row using `[:,-1]` indexing\n",
        "cls.transform(vec.transform(new_articles)).argsort(axis=1)[:,-1]"
      ],
      "execution_count": 29,
      "outputs": [
        {
          "output_type": "execute_result",
          "data": {
            "text/plain": [
              "array([0, 1])"
            ]
          },
          "metadata": {
            "tags": []
          },
          "execution_count": 29
        }
      ]
    },
    {
      "cell_type": "code",
      "metadata": {
        "id": "dm7KlwnGTApC",
        "colab_type": "code",
        "colab": {}
      },
      "source": [
        ""
      ],
      "execution_count": null,
      "outputs": []
    }
  ]
}