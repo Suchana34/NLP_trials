{
  "nbformat": 4,
  "nbformat_minor": 0,
  "metadata": {
    "colab": {
      "name": "Try3_ sanjaya_blog_cut.ipynb",
      "provenance": []
    },
    "kernelspec": {
      "name": "python3",
      "display_name": "Python 3"
    }
  },
  "cells": [
    {
      "cell_type": "code",
      "metadata": {
        "id": "KiqQ49Hglyyv",
        "colab_type": "code",
        "colab": {}
      },
      "source": [
        "#text clustering\n",
        "import pandas as pd\n",
        "import numpy as np\n",
        "from sklearn.cluster import MiniBatchKMeans\n",
        "from sklearn.feature_extraction.text import TfidfVectorizer\n",
        "from sklearn.decomposition import PCA\n",
        "import matplotlib.pyplot as plt"
      ],
      "execution_count": 1,
      "outputs": []
    },
    {
      "cell_type": "code",
      "metadata": {
        "id": "0Vsb2cG5OZKd",
        "colab_type": "code",
        "colab": {}
      },
      "source": [
        "#from google.colab import drive\n",
        "#drive.mount('/content/drive')\n"
      ],
      "execution_count": 3,
      "outputs": []
    },
    {
      "cell_type": "code",
      "metadata": {
        "id": "463XZ48mMahK",
        "colab_type": "code",
        "colab": {
          "base_uri": "https://localhost:8080/",
          "height": 296
        },
        "outputId": "4b0fc45c-f503-4fcc-8a60-586514f64866"
      },
      "source": [
        "df = pd.read_csv('/content/drive/My Drive/cut.csv')\n",
        "df.head()"
      ],
      "execution_count": 2,
      "outputs": [
        {
          "output_type": "execute_result",
          "data": {
            "text/html": [
              "<div>\n",
              "<style scoped>\n",
              "    .dataframe tbody tr th:only-of-type {\n",
              "        vertical-align: middle;\n",
              "    }\n",
              "\n",
              "    .dataframe tbody tr th {\n",
              "        vertical-align: top;\n",
              "    }\n",
              "\n",
              "    .dataframe thead th {\n",
              "        text-align: right;\n",
              "    }\n",
              "</style>\n",
              "<table border=\"1\" class=\"dataframe\">\n",
              "  <thead>\n",
              "    <tr style=\"text-align: right;\">\n",
              "      <th></th>\n",
              "      <th>id</th>\n",
              "      <th>topic</th>\n",
              "      <th>heading</th>\n",
              "      <th>summary</th>\n",
              "      <th>date</th>\n",
              "      <th>sub-heading</th>\n",
              "      <th>content</th>\n",
              "      <th>tags</th>\n",
              "    </tr>\n",
              "  </thead>\n",
              "  <tbody>\n",
              "    <tr>\n",
              "      <th>0</th>\n",
              "      <td>5ef0d321d83b3587cb500efc</td>\n",
              "      <td>[\"football\"]</td>\n",
              "      <td>[\"VAR not being used correctly: Barcelona coac...</td>\n",
              "      <td>[\"Barcelona had a goal ruled out by VAR for of...</td>\n",
              "      <td>[\"Updated: Jun 22, 2020 20:03 IST\"]</td>\n",
              "      <td>[\"Reuters\"]</td>\n",
              "      <td>[\"The Video Assistant Referee (VAR) system is ...</td>\n",
              "      <td>[\"Quique Setien\",\"Barcelona\"]</td>\n",
              "    </tr>\n",
              "    <tr>\n",
              "      <th>1</th>\n",
              "      <td>5ef0d324d83b3587cb500efd</td>\n",
              "      <td>[\"football\"]</td>\n",
              "      <td>[\"Mourinho hits back at Merson’s criticism of ...</td>\n",
              "      <td>[\"Merson, a pundit with Sky Sports, said 26-ye...</td>\n",
              "      <td>[\"Updated: Jun 22, 2020 20:30 IST\"]</td>\n",
              "      <td>[\"Reuters\"]</td>\n",
              "      <td>[\"Jose Mourinho launched an impassioned defenc...</td>\n",
              "      <td>[\"Jose Mourinho\",\"Harry Kane\",\"Manchester unit...</td>\n",
              "    </tr>\n",
              "    <tr>\n",
              "      <th>2</th>\n",
              "      <td>5efff14f86936ae10d2be3c8</td>\n",
              "      <td>[\"football\"]</td>\n",
              "      <td>[\"Morata double leads Atletico to 3-0 win over...</td>\n",
              "      <td>[\"Morata earned a penalty when he was pulled d...</td>\n",
              "      <td>[\"Updated: Jul 04, 2020 07:12 IST\"]</td>\n",
              "      <td>[\"Associated Press\"]</td>\n",
              "      <td>[\"Alvaro Morata scored twice to lead Atletico ...</td>\n",
              "      <td>[\"Alvaro Morata\",\"Mallorca\",\"Diego Simeone\",\"R...</td>\n",
              "    </tr>\n",
              "    <tr>\n",
              "      <th>3</th>\n",
              "      <td>5efff10a86936ae10d2be3aa</td>\n",
              "      <td>[\"cricket\"]</td>\n",
              "      <td>[\"Sourav Ganguly made Sehwag open, brought in ...</td>\n",
              "      <td>[\"Former India opener Wasim Jaffer, who made h...</td>\n",
              "      <td>[\"Updated: Jul 04, 2020 08:03 IST\"]</td>\n",
              "      <td>[\"hindustantimes.com\"]</td>\n",
              "      <td>[\"Despite not being able to lead India to an I...</td>\n",
              "      <td>[\"Sourav Ganguly\",\"Wasim Jaffer\",\"India\",\"Zahe...</td>\n",
              "    </tr>\n",
              "    <tr>\n",
              "      <th>4</th>\n",
              "      <td>5ef0d2e5d83b3587cb500edf</td>\n",
              "      <td>[\"cricket\"]</td>\n",
              "      <td>[\"Jasprit Bumrah is ‘a different beast’ when h...</td>\n",
              "      <td>[\"The man in charge of the team currently is h...</td>\n",
              "      <td>[\"Updated: Jun 22, 2020 20:57 IST\"]</td>\n",
              "      <td>[\"hindustantimes.com\"]</td>\n",
              "      <td>[\"Mumbai Indians are the most successful team ...</td>\n",
              "      <td>[\"Mumbai Indians\",\"Jasprit Bumrah\",\"Mahela Jay...</td>\n",
              "    </tr>\n",
              "  </tbody>\n",
              "</table>\n",
              "</div>"
            ],
            "text/plain": [
              "                         id  ...                                               tags\n",
              "0  5ef0d321d83b3587cb500efc  ...                      [\"Quique Setien\",\"Barcelona\"]\n",
              "1  5ef0d324d83b3587cb500efd  ...  [\"Jose Mourinho\",\"Harry Kane\",\"Manchester unit...\n",
              "2  5efff14f86936ae10d2be3c8  ...  [\"Alvaro Morata\",\"Mallorca\",\"Diego Simeone\",\"R...\n",
              "3  5efff10a86936ae10d2be3aa  ...  [\"Sourav Ganguly\",\"Wasim Jaffer\",\"India\",\"Zahe...\n",
              "4  5ef0d2e5d83b3587cb500edf  ...  [\"Mumbai Indians\",\"Jasprit Bumrah\",\"Mahela Jay...\n",
              "\n",
              "[5 rows x 8 columns]"
            ]
          },
          "metadata": {
            "tags": []
          },
          "execution_count": 2
        }
      ]
    },
    {
      "cell_type": "code",
      "metadata": {
        "id": "NOdATRevPHIV",
        "colab_type": "code",
        "colab": {
          "base_uri": "https://localhost:8080/",
          "height": 35
        },
        "outputId": "43619163-9588-4b77-d5cc-e5d7a47b052f"
      },
      "source": [
        "df.heading[1]"
      ],
      "execution_count": null,
      "outputs": [
        {
          "output_type": "execute_result",
          "data": {
            "application/vnd.google.colaboratory.intrinsic": {
              "type": "string"
            },
            "text/plain": [
              "'[\"‘Sino-India ties will deteriorate further’: Ex-envoy to China on Galwan faceoff\\xa0 \\xa0\"]'"
            ]
          },
          "metadata": {
            "tags": []
          },
          "execution_count": 4
        }
      ]
    },
    {
      "cell_type": "code",
      "metadata": {
        "id": "T9OeZabJP8AK",
        "colab_type": "code",
        "colab": {}
      },
      "source": [
        "import nltk\n",
        "#nltk.download('wordnet')\n",
        "#nltk.download('stopwords')\n",
        "import gensim\n",
        "from gensim.utils import simple_preprocess\n",
        "from gensim.models import CoherenceModel\n",
        "from gensim.parsing.preprocessing import STOPWORDS\n",
        "from nltk.stem import WordNetLemmatizer, SnowballStemmer\n",
        "from nltk.stem.porter import *\n",
        "import numpy as np\n",
        "import re"
      ],
      "execution_count": 3,
      "outputs": []
    },
    {
      "cell_type": "code",
      "metadata": {
        "id": "gB7bRz4NP77F",
        "colab_type": "code",
        "colab": {}
      },
      "source": [
        "# data preprocessing\n",
        "stemmer = SnowballStemmer(language='english',ignore_stopwords=True)\n",
        "def lemmatize_stemming(text):\n",
        "    return stemmer.stem(WordNetLemmatizer().lemmatize(text, pos='v'))\n",
        "def preprocess(text):\n",
        "    result = []\n",
        "    for token in gensim.utils.simple_preprocess(text):\n",
        "        if token not in gensim.parsing.preprocessing.STOPWORDS and len(token) > 3:\n",
        "            result.append(lemmatize_stemming(token))\n",
        "    return result"
      ],
      "execution_count": 4,
      "outputs": []
    },
    {
      "cell_type": "code",
      "metadata": {
        "id": "MB2SeQCtQ0-s",
        "colab_type": "code",
        "colab": {
          "base_uri": "https://localhost:8080/",
          "height": 118
        },
        "outputId": "efe6e16d-16a2-4f42-b7d3-480977c1bfe5"
      },
      "source": [
        "# preview after preprocessing\n",
        "doc_sample = df.heading[1]\n",
        "print('original document: ')\n",
        "words = []\n",
        "for word in doc_sample.split(' '):\n",
        "    words.append(word)\n",
        "print(words)\n",
        "print('\\n\\n tokenized and lemmatized document: ')\n",
        "print(preprocess(doc_sample))"
      ],
      "execution_count": 5,
      "outputs": [
        {
          "output_type": "stream",
          "text": [
            "original document: \n",
            "['[\"Mourinho', 'hits', 'back', 'at', 'Merson’s', 'criticism', 'of', 'playing', 'style,', 'Kane’s', 'record\"]']\n",
            "\n",
            "\n",
            " tokenized and lemmatized document: \n",
            "['mourinho', 'hit', 'merson', 'critic', 'play', 'style', 'kane', 'record']\n"
          ],
          "name": "stdout"
        }
      ]
    },
    {
      "cell_type": "code",
      "metadata": {
        "id": "28wiupn6Q070",
        "colab_type": "code",
        "colab": {
          "base_uri": "https://localhost:8080/",
          "height": 86
        },
        "outputId": "1afd4def-5aec-4bd6-eead-7f04658524c6"
      },
      "source": [
        "# Preprocess the headline text, saving the results as ‘processed_docs’\n",
        "#df['processed_heading'] = df['heading'].map(preprocess)\n",
        "df['processed_content'] = df['content'].map(preprocess)\n",
        "#processed_docs.head(5)\n",
        "#df.head()\n",
        "#df['processed_heading'] = df['processed_heading'].apply(lambda x: ' '.join(x))\n",
        "df['processed_content'] = df['processed_content'].apply(lambda x: ' '.join(x))\n",
        "df['processed_content'][0]"
      ],
      "execution_count": 6,
      "outputs": [
        {
          "output_type": "execute_result",
          "data": {
            "application/vnd.google.colaboratory.intrinsic": {
              "type": "string"
            },
            "text/plain": [
              "'video assist refere correct liga barcelona manag quiqu setien say monday follow real madrid controversi real sociedad madrid beat sociedad climb barcelona liga home aggriev goal rule offsid karim benzema winner stand appear control ball thing control depend everybodi happen anoeta draw conclus setien tell report ahead tuesday match athlet bilbao understand think action review refere review play match think correct setien say controversi footbal year chang controversi add tool better clearer view realiti point real stand superior head head record setien convinc titl race barcelona hand margin error smaller smaller say madrid mistak leagu decid game leav madrid play difficult game like'"
            ]
          },
          "metadata": {
            "tags": []
          },
          "execution_count": 6
        }
      ]
    },
    {
      "cell_type": "code",
      "metadata": {
        "id": "BEDnz_oqMads",
        "colab_type": "code",
        "colab": {}
      },
      "source": [
        "#feature extraction\n",
        "vec = TfidfVectorizer(stop_words=\"english\")\n",
        "vec.fit(df.processed_content.values)\n",
        "features = vec.transform(df.processed_content.values)"
      ],
      "execution_count": 7,
      "outputs": []
    },
    {
      "cell_type": "code",
      "metadata": {
        "id": "DZ8Ijoc6Mach",
        "colab_type": "code",
        "colab": {
          "base_uri": "https://localhost:8080/",
          "height": 84
        },
        "outputId": "5cdf54d2-1cd4-4c74-cb22-31a3d443d60d"
      },
      "source": [
        "#model training\n",
        "random_state = 0\n",
        "cls = MiniBatchKMeans(n_clusters=5, random_state=random_state)\n",
        "cls.fit(features)"
      ],
      "execution_count": 8,
      "outputs": [
        {
          "output_type": "execute_result",
          "data": {
            "text/plain": [
              "MiniBatchKMeans(batch_size=100, compute_labels=True, init='k-means++',\n",
              "                init_size=None, max_iter=100, max_no_improvement=10,\n",
              "                n_clusters=5, n_init=3, random_state=0, reassignment_ratio=0.01,\n",
              "                tol=0.0, verbose=0)"
            ]
          },
          "metadata": {
            "tags": []
          },
          "execution_count": 8
        }
      ]
    },
    {
      "cell_type": "code",
      "metadata": {
        "id": "zzRA7o1WMaZZ",
        "colab_type": "code",
        "colab": {
          "base_uri": "https://localhost:8080/",
          "height": 34
        },
        "outputId": "dcac7e0d-bdf1-4aa4-fa1f-6645b257ffd7"
      },
      "source": [
        "#predict on new data\n",
        "cls.predict(features)"
      ],
      "execution_count": 9,
      "outputs": [
        {
          "output_type": "execute_result",
          "data": {
            "text/plain": [
              "array([2, 2, 2, 2, 2, 2, 2, 4, 1, 0, 0, 0, 3, 0, 0, 0, 2, 0], dtype=int32)"
            ]
          },
          "metadata": {
            "tags": []
          },
          "execution_count": 9
        }
      ]
    },
    {
      "cell_type": "code",
      "metadata": {
        "id": "-jPANtwPMaXY",
        "colab_type": "code",
        "colab": {
          "base_uri": "https://localhost:8080/",
          "height": 282
        },
        "outputId": "fe5c4dda-6dc4-48e2-83de-82e9145cf711"
      },
      "source": [
        "#visualization\n",
        "# reduce the features to 2D\n",
        "pca = PCA(n_components=2, random_state=random_state)\n",
        "reduced_features = pca.fit_transform(features.toarray())\n",
        "\n",
        "# reduce the cluster centers to 2D\n",
        "reduced_cluster_centers = pca.transform(cls.cluster_centers_)\n",
        "\n",
        "plt.scatter(reduced_features[:,0], reduced_features[:,1], c=cls.predict(features))\n",
        "plt.scatter(reduced_cluster_centers[:, 0], reduced_cluster_centers[:,1], marker='x', s=150, c='b')"
      ],
      "execution_count": 10,
      "outputs": [
        {
          "output_type": "execute_result",
          "data": {
            "text/plain": [
              "<matplotlib.collections.PathCollection at 0x7fd3233fed30>"
            ]
          },
          "metadata": {
            "tags": []
          },
          "execution_count": 10
        },
        {
          "output_type": "display_data",
          "data": {
            "image/png": "[encoded data removed]",
            "text/plain": [
              "<Figure size 432x288 with 1 Axes>"
            ]
          },
          "metadata": {
            "tags": [],
            "needs_background": "light"
          }
        }
      ]
    },
    {
      "cell_type": "code",
      "metadata": {
        "id": "ZOA58_8RMaUp",
        "colab_type": "code",
        "colab": {
          "base_uri": "https://localhost:8080/",
          "height": 34
        },
        "outputId": "8df99c06-c578-4193-cb7e-169871498119"
      },
      "source": [
        "#evaluation with labelled dataset\n",
        "from sklearn.metrics import homogeneity_score\n",
        "homogeneity_score(df.heading, cls.predict(features))"
      ],
      "execution_count": 11,
      "outputs": [
        {
          "output_type": "execute_result",
          "data": {
            "text/plain": [
              "0.41843499131272865"
            ]
          },
          "metadata": {
            "tags": []
          },
          "execution_count": 11
        }
      ]
    },
    {
      "cell_type": "code",
      "metadata": {
        "id": "ZbA76dkdTjbR",
        "colab_type": "code",
        "colab": {
          "base_uri": "https://localhost:8080/",
          "height": 34
        },
        "outputId": "6d81544c-4707-45de-e169-6912572ff0d3"
      },
      "source": [
        "\n",
        "#evaluation with unlabelled dataset\n",
        "from sklearn.metrics import silhouette_score\n",
        "silhouette_score(features, labels=cls.predict(features))"
      ],
      "execution_count": 12,
      "outputs": [
        {
          "output_type": "execute_result",
          "data": {
            "text/plain": [
              "-0.009389445794317369"
            ]
          },
          "metadata": {
            "tags": []
          },
          "execution_count": 12
        }
      ]
    },
    {
      "cell_type": "code",
      "metadata": {
        "id": "uGwvOlNWMaSk",
        "colab_type": "code",
        "colab": {
          "base_uri": "https://localhost:8080/",
          "height": 464
        },
        "outputId": "944e54b4-5b88-49c5-b4d5-059a60321da9"
      },
      "source": [
        "#topic modelling\n",
        "import spacy\n",
        "nlp = spacy.load(\"en_core_web_sm\", disable=['parser', 'ner'])\n",
        "\n",
        "random_state = 0\n",
        "\n",
        "def only_nouns(texts):\n",
        "    output = []\n",
        "    for doc in nlp.pipe(texts):\n",
        "        noun_text = \" \".join(token.lemma_ for token in doc if token.pos_ == 'NOUN')\n",
        "        output.append(noun_text)\n",
        "    return output\n",
        "\n",
        "\n",
        "df['noun_content'] = only_nouns(df['content'])\n",
        "\n",
        "df.head()"
      ],
      "execution_count": 13,
      "outputs": [
        {
          "output_type": "execute_result",
          "data": {
            "text/html": [
              "<div>\n",
              "<style scoped>\n",
              "    .dataframe tbody tr th:only-of-type {\n",
              "        vertical-align: middle;\n",
              "    }\n",
              "\n",
              "    .dataframe tbody tr th {\n",
              "        vertical-align: top;\n",
              "    }\n",
              "\n",
              "    .dataframe thead th {\n",
              "        text-align: right;\n",
              "    }\n",
              "</style>\n",
              "<table border=\"1\" class=\"dataframe\">\n",
              "  <thead>\n",
              "    <tr style=\"text-align: right;\">\n",
              "      <th></th>\n",
              "      <th>id</th>\n",
              "      <th>topic</th>\n",
              "      <th>heading</th>\n",
              "      <th>summary</th>\n",
              "      <th>date</th>\n",
              "      <th>sub-heading</th>\n",
              "      <th>content</th>\n",
              "      <th>tags</th>\n",
              "      <th>processed_content</th>\n",
              "      <th>noun_content</th>\n",
              "    </tr>\n",
              "  </thead>\n",
              "  <tbody>\n",
              "    <tr>\n",
              "      <th>0</th>\n",
              "      <td>5ef0d321d83b3587cb500efc</td>\n",
              "      <td>[\"football\"]</td>\n",
              "      <td>[\"VAR not being used correctly: Barcelona coac...</td>\n",
              "      <td>[\"Barcelona had a goal ruled out by VAR for of...</td>\n",
              "      <td>[\"Updated: Jun 22, 2020 20:03 IST\"]</td>\n",
              "      <td>[\"Reuters\"]</td>\n",
              "      <td>[\"The Video Assistant Referee (VAR) system is ...</td>\n",
              "      <td>[\"Quique Setien\",\"Barcelona\"]</td>\n",
              "      <td>video assist refere correct liga barcelona man...</td>\n",
              "      <td>var system manager win \",\"madrid top home side...</td>\n",
              "    </tr>\n",
              "    <tr>\n",
              "      <th>1</th>\n",
              "      <td>5ef0d324d83b3587cb500efd</td>\n",
              "      <td>[\"football\"]</td>\n",
              "      <td>[\"Mourinho hits back at Merson’s criticism of ...</td>\n",
              "      <td>[\"Merson, a pundit with Sky Sports, said 26-ye...</td>\n",
              "      <td>[\"Updated: Jun 22, 2020 20:30 IST\"]</td>\n",
              "      <td>[\"Reuters\"]</td>\n",
              "      <td>[\"Jose Mourinho launched an impassioned defenc...</td>\n",
              "      <td>[\"Jose Mourinho\",\"Harry Kane\",\"Manchester unit...</td>\n",
              "      <td>jose mourinho launch impass defenc harri kane ...</td>\n",
              "      <td>defence form playing style television pundit s...</td>\n",
              "    </tr>\n",
              "    <tr>\n",
              "      <th>2</th>\n",
              "      <td>5efff14f86936ae10d2be3c8</td>\n",
              "      <td>[\"football\"]</td>\n",
              "      <td>[\"Morata double leads Atletico to 3-0 win over...</td>\n",
              "      <td>[\"Morata earned a penalty when he was pulled d...</td>\n",
              "      <td>[\"Updated: Jul 04, 2020 07:12 IST\"]</td>\n",
              "      <td>[\"Associated Press\"]</td>\n",
              "      <td>[\"Alvaro Morata scored twice to lead Atletico ...</td>\n",
              "      <td>[\"Alvaro Morata\",\"Mallorca\",\"Diego Simeone\",\"R...</td>\n",
              "      <td>alvaro morata score twice lead atletico madrid...</td>\n",
              "      <td>win finish league team title race leader point...</td>\n",
              "    </tr>\n",
              "    <tr>\n",
              "      <th>3</th>\n",
              "      <td>5efff10a86936ae10d2be3aa</td>\n",
              "      <td>[\"cricket\"]</td>\n",
              "      <td>[\"Sourav Ganguly made Sehwag open, brought in ...</td>\n",
              "      <td>[\"Former India opener Wasim Jaffer, who made h...</td>\n",
              "      <td>[\"Updated: Jul 04, 2020 08:03 IST\"]</td>\n",
              "      <td>[\"hindustantimes.com\"]</td>\n",
              "      <td>[\"Despite not being able to lead India to an I...</td>\n",
              "      <td>[\"Sourav Ganguly\",\"Wasim Jaffer\",\"India\",\"Zahe...</td>\n",
              "      <td>despit abl lead india trophi sole india joint ...</td>\n",
              "      <td>trophy winner captain number captain test cric...</td>\n",
              "    </tr>\n",
              "    <tr>\n",
              "      <th>4</th>\n",
              "      <td>5ef0d2e5d83b3587cb500edf</td>\n",
              "      <td>[\"cricket\"]</td>\n",
              "      <td>[\"Jasprit Bumrah is ‘a different beast’ when h...</td>\n",
              "      <td>[\"The man in charge of the team currently is h...</td>\n",
              "      <td>[\"Updated: Jun 22, 2020 20:57 IST\"]</td>\n",
              "      <td>[\"hindustantimes.com\"]</td>\n",
              "      <td>[\"Mumbai Indians are the most successful team ...</td>\n",
              "      <td>[\"Mumbai Indians\",\"Jasprit Bumrah\",\"Mahela Jay...</td>\n",
              "      <td>mumbai indian success team histori indian prem...</td>\n",
              "      <td>team history team title cliffhanger season vic...</td>\n",
              "    </tr>\n",
              "  </tbody>\n",
              "</table>\n",
              "</div>"
            ],
            "text/plain": [
              "                         id  ...                                       noun_content\n",
              "0  5ef0d321d83b3587cb500efc  ...  var system manager win \",\"madrid top home side...\n",
              "1  5ef0d324d83b3587cb500efd  ...  defence form playing style television pundit s...\n",
              "2  5efff14f86936ae10d2be3c8  ...  win finish league team title race leader point...\n",
              "3  5efff10a86936ae10d2be3aa  ...  trophy winner captain number captain test cric...\n",
              "4  5ef0d2e5d83b3587cb500edf  ...  team history team title cliffhanger season vic...\n",
              "\n",
              "[5 rows x 10 columns]"
            ]
          },
          "metadata": {
            "tags": []
          },
          "execution_count": 13
        }
      ]
    },
    {
      "cell_type": "code",
      "metadata": {
        "id": "Dx42Hcw1TAwj",
        "colab_type": "code",
        "colab": {
          "base_uri": "https://localhost:8080/",
          "height": 67
        },
        "outputId": "df1e193e-b8f6-4b2b-9310-7151a3db45d4"
      },
      "source": [
        "# change this to see different results using the components_ attribute\n",
        "n_topics = 5\n",
        "\n",
        "#for extracting features\n",
        "from sklearn.feature_extraction.text import CountVectorizer, TfidfVectorizer\n",
        "vec = TfidfVectorizer(max_features=5000, stop_words=\"english\", max_df=0.95, min_df=2)\n",
        "features = vec.fit_transform(df.noun_content)\n",
        "\n",
        "#for topic modelling\n",
        "\n",
        "from sklearn.decomposition import NMF\n",
        "cls = NMF(n_components=n_topics, random_state=random_state)\n",
        "cls.fit(features)"
      ],
      "execution_count": 14,
      "outputs": [
        {
          "output_type": "execute_result",
          "data": {
            "text/plain": [
              "NMF(alpha=0.0, beta_loss='frobenius', init=None, l1_ratio=0.0, max_iter=200,\n",
              "    n_components=5, random_state=0, shuffle=False, solver='cd', tol=0.0001,\n",
              "    verbose=0)"
            ]
          },
          "metadata": {
            "tags": []
          },
          "execution_count": 14
        }
      ]
    },
    {
      "cell_type": "code",
      "metadata": {
        "id": "Z_TnbdVuTAtg",
        "colab_type": "code",
        "colab": {
          "base_uri": "https://localhost:8080/",
          "height": 101
        },
        "outputId": "8872542c-646b-4103-c65d-81fc170f420e"
      },
      "source": [
        "# list of unique words found by the vectorizer\n",
        "feature_names = vec.get_feature_names()\n",
        "\n",
        "# number of most influencing words to display per topic\n",
        "n_top_words = 15\n",
        "\n",
        "for i, topic_vec in enumerate(cls.components_):\n",
        "    print(i, end=' ')\n",
        "    # topic_vec.argsort() produces a new array\n",
        "    # in which word_index with the least score is the\n",
        "    # first array element and word_index with highest\n",
        "    # score is the last array element. Then using a\n",
        "    # fancy indexing [-1: -n_top_words-1:-1], we are\n",
        "    # slicing the array from its end in such a way that\n",
        "    # top `n_top_words` word_index with highest scores\n",
        "    # are returned in desceding order\n",
        "    for fid in topic_vec.argsort()[-1:-n_top_words-1:-1]:\n",
        "        print(feature_names[fid], end=' ')\n",
        "    print()"
      ],
      "execution_count": 15,
      "outputs": [
        {
          "output_type": "stream",
          "text": [
            "0 teacher government student class school minister state college teaching child education method case need order \n",
            "1 test team captain player people coach field cricket series tournament head squad job skipper franchise \n",
            "2 result exam class student board 10th assessment subject lakh examination mark year need credential school \n",
            "3 league goal game match ball point striker playing injury controversy head title referee play race \n",
            "4 fee school lockdown parent period plea relief court class student government authority order state decision \n"
          ],
          "name": "stdout"
        }
      ]
    },
    {
      "cell_type": "code",
      "metadata": {
        "id": "GITww_5GTAqe",
        "colab_type": "code",
        "colab": {
          "base_uri": "https://localhost:8080/",
          "height": 34
        },
        "outputId": "15cf8678-e859-4716-9b50-9693a51fbf60"
      },
      "source": [
        "# to identify topic of a new document\n",
        "new_articles = [\n",
        "    \"Government declared holidays of coaching classes upto November\",\n",
        "    \"Germany scored 7 goals against Brazil in worldcup semi-finals\"\n",
        "]\n",
        "# first transform the text into features using vec\n",
        "# then pass it to transform of cls\n",
        "# the result will be a matrix of shape [2, 10]\n",
        "# then we sort the topic id based on the score using argsort\n",
        "# and take the last one (with the highest score) for each row using `[:,-1]` indexing\n",
        "cls.transform(vec.transform(new_articles)).argsort(axis=1)[:,-1]"
      ],
      "execution_count": 16,
      "outputs": [
        {
          "output_type": "execute_result",
          "data": {
            "text/plain": [
              "array([0, 4])"
            ]
          },
          "metadata": {
            "tags": []
          },
          "execution_count": 16
        }
      ]
    },
    {
      "cell_type": "code",
      "metadata": {
        "id": "dm7KlwnGTApC",
        "colab_type": "code",
        "colab": {}
      },
      "source": [
        ""
      ],
      "execution_count": null,
      "outputs": []
    }
  ]
}